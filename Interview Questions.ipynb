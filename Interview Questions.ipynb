{
 "cells": [
  {
   "cell_type": "markdown",
   "metadata": {},
   "source": [
    "### Tips :\n",
    "* Alway solve the given problem by :\n",
    "    * Patiently and worry free following step by step process\n",
    "    * Describing how you understand the question and validating with interviewer:\n",
    "        * Use the input to demo some calculations to check if you got it right\n",
    "        * Showing problem break down and scenarios to verify that you got each part of problem correctly\n",
    "        * Diagraming\n",
    "    * Defining boundries and assumptions of input data and expected output\n",
    "        * spend few min on given input and ask lots of questions to interviewer about :\n",
    "            * positive and negative values\n",
    "            * largest and smallest values\n",
    "            * nulls\n",
    "            * Will input be in memory/file\n",
    "            * duplicates and handling\n",
    "        * Note down all assumptions and boundry conditions on whiteboard/paper\n",
    "    * Psudocoding on whiteboard, paper\n",
    "        * Diagram : flow, data structures, logic, etc \n",
    "            * Reference this diagram while solving the problem and coding\n",
    "        * Define interface first if applicable (what methods are needed)\n",
    "            * e.g. for Stack : init,push,pop,peek,size,isempty\n",
    "    * Using example inputs and data and brute forcing the outputs and deriving rules from them\n",
    "    * Following a problem solving process\n",
    "    * Verbalizing problem solving steps in front of interviewer\n",
    "    * Alway tracking, verbalizing and assigning in comments the Big O of every function in solution and of overall solution\n",
    "    * In the end,always test solution against given input, boundry conditions and assumptions\n",
    "* Always test solution :\n",
    "    * If possible write the test assert code in the solution with scenarios, inputs and outputs"
   ]
  },
  {
   "cell_type": "markdown",
   "metadata": {},
   "source": [
    "You have an nxn matrix of numbers. You need to find the sum of the two diagonals and output the absolute value of the difference.For instance if you have [ [1, 2, 3], [4, 5, 6], [7, 8, 9] ] then output abs((1+5+9)-(3+5+7)) "
   ]
  },
  {
   "cell_type": "code",
   "execution_count": 5,
   "metadata": {
    "collapsed": false
   },
   "outputs": [
    {
     "name": "stdout",
     "output_type": "stream",
     "text": [
      "0\n"
     ]
    }
   ],
   "source": [
    "l = [[1,2,3],[4,5,6],[8,9,10]]\n",
    "\n",
    "def diagDiff(l):\n",
    "    majSum = 0\n",
    "    minSum = 0\n",
    "    n = len(l)\n",
    "    for index,item in enumerate(l):\n",
    "        majSum += item[index]\n",
    "        minSum += item[n-1-index]\n",
    "    return (abs(majSum - minSum))\n",
    "\n",
    "print diagDiff(l)\n",
    "        "
   ]
  },
  {
   "cell_type": "markdown",
   "metadata": {},
   "source": [
    "Write a function that finds a solid square in a grid."
   ]
  },
  {
   "cell_type": "code",
   "execution_count": null,
   "metadata": {
    "collapsed": true
   },
   "outputs": [],
   "source": [
    "def max_size(mat, ZERO=0):\n",
    "    \"\"\"Find the largest square of ZERO's in the matrix `mat`.\"\"\"\n",
    "    nrows, ncols = len(mat), (len(mat[0]) if mat else 0)\n",
    "    if not (nrows and ncols): return 0 # empty matrix or rows\n",
    "    counts = [[0]*ncols for _ in xrange(nrows)]\n",
    "    for i in reversed(xrange(nrows)):     # for each row\n",
    "        assert len(mat[i]) == ncols # matrix must be rectangular\n",
    "        for j in reversed(xrange(ncols)): # for each element in the row\n",
    "            if mat[i][j] != ZERO:\n",
    "                counts[i][j] = (1 + min(\n",
    "                    counts[i][j+1],  # east\n",
    "                    counts[i+1][j],  # south\n",
    "                    counts[i+1][j+1] # south-east\n",
    "                    )) if i < (nrows - 1) and j < (ncols - 1) else 1 # edges\n",
    "    return max(c for rows in counts for c in rows)"
   ]
  },
  {
   "cell_type": "markdown",
   "metadata": {},
   "source": [
    "Write a function that takes as input a list of SKUs and returns a grouped list"
   ]
  },
  {
   "cell_type": "code",
   "execution_count": 17,
   "metadata": {
    "collapsed": false
   },
   "outputs": [
    {
     "name": "stdout",
     "output_type": "stream",
     "text": [
      "[['AA1234'], ['AB12', 'AB12'], ['AC12'], ['AC123', 'AC123'], ['BD123'], ['CC123']]\n"
     ]
    }
   ],
   "source": [
    "sku = ['AB12','AC123','DD12','BD123','CC123','AA1234','AC12','AB12','AC123','DD12']\n",
    "\n",
    "\n",
    "def groupSKU(sku):    \n",
    "    \n",
    "    sku.sort()\n",
    "    \n",
    "    preItem = sku[0]\n",
    "    listSoFar = []\n",
    "    groupedSKU = []\n",
    "    \n",
    "    for item in sku:\n",
    "        if item == preItem:\n",
    "            listSoFar.append(item)\n",
    "        else:\n",
    "            groupedSKU.append(listSoFar)\n",
    "            listSoFar = [item]\n",
    "        preItem = item\n",
    "        \n",
    "    return groupedSKU\n",
    "\n",
    "print groupSKU(sku)\n",
    "    \n",
    "\n",
    "\n",
    " \n",
    "\n"
   ]
  },
  {
   "cell_type": "markdown",
   "metadata": {},
   "source": [
    "Take array as argument and print sum of odd numbers and even number. Use recursion"
   ]
  },
  {
   "cell_type": "code",
   "execution_count": 3,
   "metadata": {
    "collapsed": false
   },
   "outputs": [
    {
     "name": "stdout",
     "output_type": "stream",
     "text": [
      "(('odd', 9), ('even', 12))\n"
     ]
    }
   ],
   "source": [
    "def sumOddEven(arr,odd=0,even=0):\n",
    "    if len(arr)==0:\n",
    "        return (('odd',odd),('even',even))\n",
    "    pop=arr.pop()\n",
    "    if pop%2==0:\n",
    "        even+=pop\n",
    "    else:\n",
    "        odd+=pop\n",
    "    return sum_odd_even(arr,odd,even)\n",
    "\n",
    "a = [1,2,3,4,5,6]    \n",
    "\n",
    "print sumOddEven(a)\n"
   ]
  },
  {
   "cell_type": "markdown",
   "metadata": {},
   "source": [
    "Write a function that reverses an array"
   ]
  },
  {
   "cell_type": "code",
   "execution_count": 13,
   "metadata": {
    "collapsed": false
   },
   "outputs": [
    {
     "name": "stdout",
     "output_type": "stream",
     "text": [
      "[2, 5, 8, 9, 12, 19, 25, 27, 32, 60, 65, 1, 7, 24, 124, 654]\n",
      "[654, 124, 24, 7, 1, 65, 60, 32, 27, 25, 19, 12, 9, 8, 5, 2]\n",
      "0.0793931484222\n"
     ]
    }
   ],
   "source": [
    "def reverseInPlace(lst):      # Declare a function\n",
    "    size = len(lst)             # Get the length of the sequence\n",
    "    hiindex = size - 1\n",
    "    its = size/2                # Number of iterations required\n",
    "    for i in xrange(0, its):    # i is the low index pointer\n",
    "        temp = lst[hiindex]     # Perform a classic swap\n",
    "        lst[hiindex] = lst[i] \n",
    "        lst[i] = temp\n",
    "        hiindex -= 1            # Decrement the high index pointer\n",
    "\n",
    "# Now test it!!\n",
    "array = [2, 5, 8, 9, 12, 19, 25, 27, 32, 60, 65, 1, 7, 24, 124, 654]\n",
    "\n",
    "print array                    # Print the original sequence\n",
    "reverseInPlace(array)        # Call the function passing the list \n",
    "print array                    # Print reversed list\n",
    "\n",
    "import timeit\n",
    "\n",
    "print timeit.timeit(lambda: reverseInPlace(array), number=10000)\n"
   ]
  },
  {
   "cell_type": "markdown",
   "metadata": {},
   "source": [
    "Reverse a String"
   ]
  },
  {
   "cell_type": "code",
   "execution_count": 19,
   "metadata": {
    "collapsed": false
   },
   "outputs": [
    {
     "name": "stdout",
     "output_type": "stream",
     "text": [
      "skrow siht fi ees s'teL\n"
     ]
    }
   ],
   "source": [
    "def revStr(s):\n",
    "    s = list(s)\n",
    "    size = len(s)\n",
    "    hiindex = size - 1\n",
    "    its = size/2\n",
    "    for i in xrange(its):\n",
    "        temp = s[hiindex]\n",
    "        s[hiindex] = s[i]\n",
    "        s[i] = temp\n",
    "        hiindex -= 1\n",
    "    return ''.join(s)\n",
    "        \n",
    "s = \"Let's see if this works\"        \n",
    "\n",
    "print revStr(s)\n",
    "        "
   ]
  },
  {
   "cell_type": "markdown",
   "metadata": {},
   "source": [
    "Write a function that reverses a string so that e.g. \"It is hot\" returns \"hot is it”"
   ]
  },
  {
   "cell_type": "code",
   "execution_count": 28,
   "metadata": {
    "collapsed": false
   },
   "outputs": [
    {
     "data": {
      "text/plain": [
       "\"works this if see Let's\""
      ]
     },
     "execution_count": 28,
     "metadata": {},
     "output_type": "execute_result"
    }
   ],
   "source": [
    "def revSWords(s):\n",
    "    words = s.split(' ')\n",
    "    size = len(words)\n",
    "    hiindex = size - 1\n",
    "    its = size/2\n",
    "    for i in xrange(its):\n",
    "        temp = words[hiindex]\n",
    "        words[hiindex] = words[i]\n",
    "        words[i] = temp\n",
    "        hiindex -= 1\n",
    "    return ' '.join(words)\n",
    "        \n",
    "s = \"Let's see if this works\" \n",
    "\n",
    "revSWords(s)\n",
    "\n",
    "#print revStr(s)\n",
    "    "
   ]
  },
  {
   "cell_type": "markdown",
   "metadata": {},
   "source": [
    "Write an algorithm to determine if a string is a palindrome. "
   ]
  },
  {
   "cell_type": "code",
   "execution_count": 30,
   "metadata": {
    "collapsed": false
   },
   "outputs": [
    {
     "name": "stdout",
     "output_type": "stream",
     "text": [
      "True\n",
      "False\n"
     ]
    }
   ],
   "source": [
    "def isPallindrom(s):\n",
    "    for i in xrange(len(s)/2) :\n",
    "        if s[i] != s[len(s) - 1 - i]:\n",
    "            return False\n",
    "        else :\n",
    "            continue\n",
    "    return True\n",
    "\n",
    "s = \"AnnA\"\n",
    "\n",
    "s1 = \"Praful\"\n",
    "\n",
    "print isPallindrom(s)\n",
    "\n",
    "print isPallindrom(s1)"
   ]
  },
  {
   "cell_type": "markdown",
   "metadata": {},
   "source": [
    "Write algo to check if two strings are Anagram"
   ]
  },
  {
   "cell_type": "code",
   "execution_count": 101,
   "metadata": {
    "collapsed": false
   },
   "outputs": [
    {
     "name": "stdout",
     "output_type": "stream",
     "text": [
      "True\n",
      "False\n",
      "True\n",
      "False\n"
     ]
    }
   ],
   "source": [
    "# todo\n",
    "# simple python solution\n",
    "def anagram1(s1,s2):\n",
    "    if sorted(s1.lower()) == sorted(s2.lower()):\n",
    "        return True\n",
    "    else:\n",
    "        return False\n",
    "    \n",
    "# general any language solution\n",
    "def anagram2(s1,s2):\n",
    "\n",
    "    if len(s1) != len(s2):\n",
    "        return False\n",
    "    \n",
    "    count = {}\n",
    "    \n",
    "    for letter in s1.lower():\n",
    "        if letter in count:\n",
    "            count[letter] += 1\n",
    "        else:\n",
    "            count[letter] = 1 \n",
    "            \n",
    "    for letter in s2.lower():\n",
    "        if letter in count:\n",
    "            count[letter] -= 1\n",
    "        else:\n",
    "            count[letter] = letter\n",
    "     \n",
    "    for letter in count:\n",
    "        if count[letter] != 0:\n",
    "            return False\n",
    "    return True\n",
    "    \n",
    "    \n",
    "    \n",
    "s1 = \"Madam Curie\"    \n",
    "s2 = \"Radium Came\"\n",
    "s3 = \"some other string\"\n",
    "\n",
    "print anagram1(s1,s2)\n",
    "print anagram1(s1,s3)\n",
    "\n",
    "print anagram2(s1,s2)\n",
    "print anagram2(s1,s3)"
   ]
  },
  {
   "cell_type": "markdown",
   "metadata": {},
   "source": [
    "Reverse an Integer"
   ]
  },
  {
   "cell_type": "code",
   "execution_count": 48,
   "metadata": {
    "collapsed": false
   },
   "outputs": [
    {
     "name": "stdout",
     "output_type": "stream",
     "text": [
      "4321\n",
      "4321\n"
     ]
    }
   ],
   "source": [
    "# Iterative solution\n",
    "\n",
    "def revInt(i):\n",
    "    r = 0\n",
    "    while i > 0:\n",
    "        r *= 10\n",
    "        r += i%10\n",
    "        i /= 10\n",
    "    return r\n",
    "\n",
    "print revInt(1234)\n",
    "        \n",
    "        \n",
    "# Recursive Solution\n",
    "\n",
    "def revRec(x, prod=0):\n",
    "    if x < 10:\n",
    "        return prod + x\n",
    "    else:\n",
    "        prod = prod * 10 + x%10 * 10\n",
    "        return revRec(x / 10, prod)\n",
    "\n",
    "\n",
    "print revRec(1234)    \n"
   ]
  },
  {
   "cell_type": "markdown",
   "metadata": {},
   "source": [
    "Write a function that returns an array that increments every value in the array given as an argument"
   ]
  },
  {
   "cell_type": "code",
   "execution_count": 65,
   "metadata": {
    "collapsed": false
   },
   "outputs": [
    {
     "name": "stdout",
     "output_type": "stream",
     "text": [
      "[[0, 0, 0, 0, 0, 0, 0, 0], [0, 0, 0, 0, 0, 0, 0, 0], [0, 0, 0, 0, 0, 0, 0, 0], [0, 0, 0, 0, 0, 0, 0, 0], [0, 0, 0, 0, 0, 0, 0, 0]]\n",
      "[ 5.  5.  5. ...,  5.  5.  5.]\n",
      "0:00:00.021630\n",
      "0:00:00.007214\n",
      "0:00:00.000086\n",
      "[3, 4, 5]\n"
     ]
    }
   ],
   "source": [
    "\n",
    "# Creates a list containing 5 lists, each of 8 items, all set to 0\n",
    "w, h = 8, 5;\n",
    "Matrix = [[0 for x in range(w)] for y in range(h)] \n",
    "print Matrix\n",
    "\n",
    "#def arrayAdd(a,inc=0):\n",
    "    \n",
    "import numpy as np\n",
    "import array\n",
    "from datetime import datetime\n",
    "test = array.array('d', [0]*100000)\n",
    " \n",
    "inc = 5\n",
    "\n",
    "t = datetime.now()\n",
    "npArray = np.array(test)\n",
    "print npArray + inc\n",
    "print datetime.now() - t    \n",
    "\n",
    "\n",
    "# Following work for only 1D array\n",
    "t = datetime.now()\n",
    "np.fromiter(test, dtype=np.int) \n",
    "print datetime.now() - t   \n",
    "\n",
    "t = datetime.now()\n",
    "np.frombuffer(test)\n",
    "print datetime.now() - t   \n",
    "\n",
    "\n",
    "\n",
    "# map way ...works for only 1D\n",
    "\n",
    "a = [1,2,3]\n",
    "b = [[1,2,3],[4,5,6]]\n",
    "inc = 2\n",
    "\n",
    "aInc = map(lambda i: i + inc, a)\n",
    "\n",
    "print aInc\n",
    "\n"
   ]
  },
  {
   "cell_type": "markdown",
   "metadata": {},
   "source": [
    "Merge two sorted arrays"
   ]
  },
  {
   "cell_type": "code",
   "execution_count": null,
   "metadata": {
    "collapsed": true
   },
   "outputs": [],
   "source": []
  },
  {
   "cell_type": "markdown",
   "metadata": {},
   "source": [
    "Implement map function"
   ]
  },
  {
   "cell_type": "code",
   "execution_count": 73,
   "metadata": {
    "collapsed": false
   },
   "outputs": [
    {
     "name": "stdout",
     "output_type": "stream",
     "text": [
      "[1, 4, 9]\n",
      "[1, 4, 9]\n"
     ]
    }
   ],
   "source": [
    "def map1(f,l):\n",
    "    return [f(i) for i in l]\n",
    "\n",
    "def map2(f,l):\n",
    "    l1 = []\n",
    "    for i in l:\n",
    "        l1.append(f(i))\n",
    "    return l1\n",
    "        \n",
    "\n",
    "def fun1(i):\n",
    "    return i*i\n",
    "\n",
    "l = [1,2,3]\n",
    "\n",
    "print map1(fun1,l)\n",
    "\n",
    "print map2(fun1,l)"
   ]
  },
  {
   "cell_type": "markdown",
   "metadata": {},
   "source": [
    "Implement reduce function"
   ]
  },
  {
   "cell_type": "code",
   "execution_count": 79,
   "metadata": {
    "collapsed": false
   },
   "outputs": [
    {
     "name": "stdout",
     "output_type": "stream",
     "text": [
      "6\n",
      "3\n"
     ]
    }
   ],
   "source": [
    "# Note that l can be any iterable\n",
    "def myreduce1(func, l):\n",
    "    reduction = l[0]\n",
    "    for x in l[1:]:\n",
    "        reduction = func(reduction, x)\n",
    "    return reduction    \n",
    "\n",
    "l = [1,2,3]\n",
    "\n",
    "def fun1(x,y):\n",
    "    return x+y\n",
    "\n",
    "def fun2(x,y):\n",
    "    return max(x,y)\n",
    "    \n",
    "print myreduce1(fun1,l)\n",
    "print myreduce1(fun2,l)\n"
   ]
  },
  {
   "cell_type": "markdown",
   "metadata": {},
   "source": [
    "#### Need to Fix - Plot time complexity"
   ]
  },
  {
   "cell_type": "code",
   "execution_count": null,
   "metadata": {
    "collapsed": false
   },
   "outputs": [],
   "source": [
    "import numpy as np\n",
    "import matplotlib.pyplot as plt\n",
    "\n",
    "myfunc = isPallindrom\n",
    "\n",
    "n = np.linspace(1,10,1000)\n",
    "labels = ['myfunc']\n",
    "big_o = [myfunc(\"praful\")]\n",
    "\n",
    "# Plot setup\n",
    "plt.figure(figsize=(12,10))\n",
    "plt.ylim(0,50)\n",
    "\n",
    "for i in range(len(big_o)):\n",
    "    plt.plot(n,big_o[i],label = labels[i])\n",
    "\n",
    "\n",
    "plt.legend(loc=0)\n",
    "plt.ylabel('Time Complexity')\n",
    "plt.xlabel('n')"
   ]
  },
  {
   "cell_type": "markdown",
   "metadata": {},
   "source": [
    "### Merge  array"
   ]
  },
  {
   "cell_type": "code",
   "execution_count": 90,
   "metadata": {
    "collapsed": false
   },
   "outputs": [
    {
     "name": "stdout",
     "output_type": "stream",
     "text": [
      "[(1, 4), (1, 5), (1, 6), (2, 4), (2, 5), (2, 6), (3, 4), (3, 5), (3, 6)]\n",
      "[[1, 2, 3, 0.002], [4, 5, 6, 0.005], [4, 6, 7, 0.005], [5, 7, 8, 0.006], [5, 9, 1, 0.006]]\n",
      "{1: 0.002, 4: 0.005, 5: 0.006}\n",
      "[[1, 2, 3, 0.002], [4, 5, 6, 0.005], [4, 6, 7, 0.005], [5, 7, 8, 0.006], [5, 9, 1, 0.006]]\n",
      "[1, 2, 3, 4, 5, 6, 8, 11, 12, 13]\n"
     ]
    }
   ],
   "source": [
    "# Tuple style\n",
    "from itertools import product\n",
    "\n",
    "a = [1,2,3]\n",
    "b = [4,5,6]\n",
    "\n",
    "print(list(product(a, b)))\n",
    "\n",
    "\n",
    "# Lookup and merge\n",
    "A = ([[1, 2, 3],\n",
    "[4, 5, 6],\n",
    "[4, 6, 7],\n",
    "[5, 7, 8], \n",
    "[5, 9, 1]])\n",
    "\n",
    "B = ([[1, .002],\n",
    "[4, .005],\n",
    "[5, .006]])\n",
    "\n",
    "from itertools import product\n",
    "\n",
    "mergedList = [lst_a + lst_b[1:] for (lst_a, lst_b) in product(A, B) if lst_a[0] == lst_b[0]]\n",
    "\n",
    "print mergedList\n",
    "\n",
    "# Lookup and merge using dictionary\n",
    "B_dict = dict(B)\n",
    "C = [row + [B_dict[row[0]]] for row in A]\n",
    "\n",
    "print B_dict\n",
    "print C\n",
    "\n",
    "# Merge Sorted arrays\n",
    "l1 = [1,2,3,4,11,12,13]\n",
    "l2 = [5,6,8]\n",
    "\n",
    "def merge(l1, l2):\n",
    "    \"\"\"Merge the sorted lists into a new, single list.\"\"\"\n",
    "    i = j = 0\n",
    "    out = []\n",
    "    while True:\n",
    "        if i == len(l1):\n",
    "            out.extend(l2[j:])\n",
    "            break\n",
    "        elif j == len(l2):\n",
    "            out.extend(l1[i:])\n",
    "            break\n",
    "        elif l1[i] <= l2[j]:\n",
    "            out.append(l1[i])\n",
    "            i += 1\n",
    "        else:\n",
    "            out.append(l2[j])\n",
    "            j += 1\n",
    "    return out\n",
    "\n",
    "print merge(l1,l2)\n",
    "\n",
    "\n"
   ]
  },
  {
   "cell_type": "markdown",
   "metadata": {},
   "source": [
    "Arrays : Pair sum : Given an array of numbers and a target sum, find each pair of array elements that sum to target"
   ]
  },
  {
   "cell_type": "code",
   "execution_count": null,
   "metadata": {
    "collapsed": true
   },
   "outputs": [],
   "source": [
    "#todo\n",
    "def pairSum(l,sum):\n",
    "    \n",
    "l = [1,3,2,2]    \n",
    "\n",
    "print pairSum(l,4)\n"
   ]
  },
  {
   "cell_type": "markdown",
   "metadata": {},
   "source": [
    "Find missing element : If give array A and modified array B that is made using shuffling A and deleting an element, find the element that was deleted"
   ]
  },
  {
   "cell_type": "code",
   "execution_count": null,
   "metadata": {
    "collapsed": true
   },
   "outputs": [],
   "source": [
    "def findMissing(a,b):\n",
    "    \n",
    "    \n",
    "a = [1,2,3,4,5,6,7]\n",
    "b = [3,4,1,5,7,6]\n",
    "\n",
    "print findMissng(a,b)\n"
   ]
  },
  {
   "cell_type": "markdown",
   "metadata": {},
   "source": [
    "Largest continuous sum : Given an array, find largest continuos sum"
   ]
  },
  {
   "cell_type": "code",
   "execution_count": null,
   "metadata": {
    "collapsed": true
   },
   "outputs": [],
   "source": [
    "#todo"
   ]
  },
  {
   "cell_type": "markdown",
   "metadata": {},
   "source": [
    "String compression"
   ]
  },
  {
   "cell_type": "code",
   "execution_count": null,
   "metadata": {
    "collapsed": true
   },
   "outputs": [],
   "source": [
    "#todo"
   ]
  },
  {
   "cell_type": "markdown",
   "metadata": {},
   "source": [
    "Check if String is made up of all unique characters"
   ]
  },
  {
   "cell_type": "code",
   "execution_count": null,
   "metadata": {
    "collapsed": true
   },
   "outputs": [],
   "source": [
    "#todo"
   ]
  },
  {
   "cell_type": "markdown",
   "metadata": {},
   "source": [
    "Implement a function to check if the string contains balanced parentheses, can have ({["
   ]
  },
  {
   "cell_type": "code",
   "execution_count": null,
   "metadata": {
    "collapsed": true
   },
   "outputs": [],
   "source": [
    "#todo (use stack/queue/dequeue)\n",
    "def checkPar(s):\n",
    "    \n",
    "\n",
    "s1 = \"([({})])()[{}]{[()]}\"\n",
    "s2 = \"[([]]){()\"\n",
    "s3 = \"{some(words)[that also]{}include[c code](parentheses are){cool}}\"\n",
    "\n",
    "print checkPar(s1)\n",
    "print checkPar(s2)\n",
    "print checkPar(s3)"
   ]
  },
  {
   "cell_type": "code",
   "execution_count": null,
   "metadata": {
    "collapsed": true
   },
   "outputs": [],
   "source": [
    "implement a Queue using two stacks"
   ]
  },
  {
   "cell_type": "code",
   "execution_count": null,
   "metadata": {
    "collapsed": true
   },
   "outputs": [],
   "source": [
    "#todo\n",
    "\n",
    "class Stack(object):\n",
    "    def __init__():\n",
    "    def push(item):\n",
    "    def pop():\n",
    "    def peek():\n",
    "    def isEmpty():\n",
    "    def size():\n",
    "        \n",
    "        \n",
    "    \n",
    "class Queue(stack,stack):\n",
    "    def __init__():\n",
    "        s1 = Stack()\n",
    "        s2 = Stack()\n",
    "    def enqueue(item):\n",
    "    def dequeue():\n",
    "    def size():\n",
    "    def isEmpty():\n",
    "    def peek():\n",
    "    \n",
    "    \n",
    "q = Queue()\n",
    "\n",
    "q.enqueue(1)\n",
    "q.enqueue(2)\n",
    "q.enqueue(3)\n",
    "q.enqueue(4)\n",
    "\n",
    "print 1.dequeue()\n",
    "print l.dequeue()\n",
    "print l.dequeue()\n",
    "print l.dequeue()\n",
    "\n",
    "\n",
    "    \n",
    "    \n",
    "    \n",
    "\n",
    "    \n",
    "    "
   ]
  },
  {
   "cell_type": "markdown",
   "metadata": {},
   "source": [
    "Reverse given linked list in place (dont create new linked list)"
   ]
  },
  {
   "cell_type": "code",
   "execution_count": 115,
   "metadata": {
    "collapsed": false,
    "scrolled": true
   },
   "outputs": [
    {
     "name": "stdout",
     "output_type": "stream",
     "text": [
      " 1 2 3 4 None\n",
      "1 None\n"
     ]
    },
    {
     "name": "stderr",
     "output_type": "stream",
     "text": [
      "/Users/kavap/anaconda/lib/python2.7/site-packages/ipykernel/__main__.py:36: DeprecationWarning: BaseException.message has been deprecated as of Python 2.6\n",
      "/Users/kavap/anaconda/lib/python2.7/site-packages/ipykernel/__main__.py:44: DeprecationWarning: BaseException.message has been deprecated as of Python 2.6\n"
     ]
    }
   ],
   "source": [
    "#todo note this solution doesnt work...fix it\n",
    "def reverseLinkedList(head):\n",
    "    current = head\n",
    "    nxt = None\n",
    "    prev = None\n",
    "    \n",
    "    while current:\n",
    "        nxt = current.nextnode\n",
    "        current.nextnode = prev\n",
    "        prev = current\n",
    "        current = nxt\n",
    "    \n",
    "    \n",
    "class Node(object):    \n",
    "    def __init__(self,value):\n",
    "        self.nextnode = None\n",
    "        self.previousnode = None\n",
    "        self.value = value\n",
    "        \n",
    "\n",
    "n1 = Node(1)        \n",
    "n2 = Node(2)\n",
    "n3 = Node(3)\n",
    "n4 = Node(4)\n",
    "\n",
    "n1.nextnode = n2\n",
    "n2.nextnode = n3\n",
    "n2.previousnode = n1\n",
    "n3.nextnode = n4\n",
    "n3.previousnode = n2\n",
    "n4.previousnode = n3\n",
    "\n",
    "try :\n",
    "    print n1.value,n1.nextnode.value,n2.nextnode.value,n3.nextnode.value,n4.nextnode.value\n",
    "except AttributeError,e:\n",
    "    if e.message.find(\"NoneType\"):\n",
    "        print \"None\"\n",
    "\n",
    "reverseLinkedList(n1)\n",
    "\n",
    "try:\n",
    "    print n1.value,n1.nextnode.value,n2.nextnode.value,n3.nextnode.value,n4.nextnode.value\n",
    "except AttributeError,e:\n",
    "    if e.message.find(\"NoneType\"):\n",
    "        print \"None\"\n",
    "\n",
    "\n",
    "\n",
    "    \n"
   ]
  },
  {
   "cell_type": "markdown",
   "metadata": {},
   "source": [
    "Given linked list and a number n, find nth to the last node in linked list"
   ]
  },
  {
   "cell_type": "code",
   "execution_count": null,
   "metadata": {
    "collapsed": true
   },
   "outputs": [],
   "source": [
    "#todo"
   ]
  },
  {
   "cell_type": "markdown",
   "metadata": {},
   "source": [
    "Reverse a string recursively"
   ]
  },
  {
   "cell_type": "code",
   "execution_count": null,
   "metadata": {
    "collapsed": true
   },
   "outputs": [],
   "source": [
    "#todo"
   ]
  },
  {
   "cell_type": "markdown",
   "metadata": {},
   "source": [
    "Given a string find various permutations of characters in string...string may have duplicate characters"
   ]
  },
  {
   "cell_type": "code",
   "execution_count": null,
   "metadata": {
    "collapsed": true
   },
   "outputs": [],
   "source": [
    "#todo"
   ]
  },
  {
   "cell_type": "markdown",
   "metadata": {},
   "source": [
    "Fibonacci sequence : 3 versions 1. Interative 2. Recursive 3. Memoized 4. Memoized decorator function"
   ]
  },
  {
   "cell_type": "code",
   "execution_count": 123,
   "metadata": {
    "collapsed": false
   },
   "outputs": [
    {
     "name": "stdout",
     "output_type": "stream",
     "text": [
      "21\n"
     ]
    }
   ],
   "source": [
    "#todo Iterative\n",
    "\n",
    "def fib(n):\n",
    "    a,b = 1,1\n",
    "    for i in xrange(n-1):\n",
    "        a,b = b,a+b\n",
    "    return a\n",
    "\n",
    "print fib(8)"
   ]
  },
  {
   "cell_type": "code",
   "execution_count": 5,
   "metadata": {
    "collapsed": false
   },
   "outputs": [
    {
     "name": "stdout",
     "output_type": "stream",
     "text": [
      "21\n"
     ]
    }
   ],
   "source": [
    "#todo Recursive\n",
    "\n",
    "def fib(n):\n",
    "    if n == 1 or n == 2:\n",
    "        return 1\n",
    "    return fib(n-1) + fib(n-2)\n",
    "print fib(8)\n",
    "    "
   ]
  },
  {
   "cell_type": "code",
   "execution_count": 16,
   "metadata": {
    "collapsed": false
   },
   "outputs": [
    {
     "name": "stdout",
     "output_type": "stream",
     "text": [
      "5\n"
     ]
    }
   ],
   "source": [
    "#todo Memoized\n",
    "\n",
    "def fib(n):\n",
    " a,b = 1,1\n",
    " for i in range(n-1):\n",
    "  a,b = b,a+b\n",
    " return a\n",
    "\n",
    "def memoize(fn, arg):\n",
    " memo = {}\n",
    " if arg not in memo:\n",
    "  memo[arg] = fn(arg)\n",
    "  return memo[arg]\n",
    " \n",
    "## fib() as written in example 1.\n",
    "fibm = memoize(fib,5)\n",
    "print fibm    \n",
    "    \n"
   ]
  },
  {
   "cell_type": "code",
   "execution_count": 13,
   "metadata": {
    "collapsed": false
   },
   "outputs": [
    {
     "name": "stdout",
     "output_type": "stream",
     "text": [
      "233\n"
     ]
    }
   ],
   "source": [
    "#todo Memoized with Decorator function\n",
    "class Memoize:\n",
    " def __init__(self, fn):\n",
    "  self.fn = fn\n",
    "  self.memo = {}\n",
    " def __call__(self, arg):\n",
    "  if arg not in self.memo:\n",
    "   self.memo[arg] = self.fn(arg)\n",
    "   return self.memo[arg]\n",
    " \n",
    "@Memoize\n",
    "def fib(n):\n",
    " a,b = 1,1\n",
    " for i in range(n-1):\n",
    "  a,b = b,a+b\n",
    " return a\n",
    "print fib(13)"
   ]
  },
  {
   "cell_type": "markdown",
   "metadata": {
    "collapsed": true
   },
   "source": [
    "Memoization and decorator pattern can be leveraged to do dynamic programming\n",
    "* Break down your problem in to repeatable small functions\n",
    "* Decorate each smaller problem function using Memoization\n",
    "* Combine the functions (probably in bigger function) to solve the problem\n",
    "* This will automatically ensure the reuse of already solved problem\n",
    "* Be cognizent of the space usage\n",
    "* Apply this to time intensive computation where space is not premium"
   ]
  },
  {
   "cell_type": "markdown",
   "metadata": {
    "collapsed": true
   },
   "source": [
    "Coin change problem : Given a set of coin denomination, find minimum number of coins to make an amount A. For e.g. [1,5,10] coins, we need 1 coin for Amount 10, 2 coins for 11, 3 coins for 12, 4 for 13, 5 for 14 but 2 for 15 and 2 for 20. Leverage Memoization and/or recursion"
   ]
  },
  {
   "cell_type": "code",
   "execution_count": null,
   "metadata": {
    "collapsed": true
   },
   "outputs": [],
   "source": [
    "#todo\n"
   ]
  },
  {
   "cell_type": "markdown",
   "metadata": {
    "collapsed": true
   },
   "source": [
    "Given a tree, verify if it's binary search tree"
   ]
  },
  {
   "cell_type": "code",
   "execution_count": null,
   "metadata": {
    "collapsed": true
   },
   "outputs": [],
   "source": [
    "#todo"
   ]
  },
  {
   "cell_type": "markdown",
   "metadata": {
    "collapsed": true
   },
   "source": [
    "Print binary tree in tree level. Each level on new line and space between the nodes and print it like a pyramid"
   ]
  },
  {
   "cell_type": "code",
   "execution_count": null,
   "metadata": {
    "collapsed": true
   },
   "outputs": [],
   "source": [
    "#todo"
   ]
  },
  {
   "cell_type": "markdown",
   "metadata": {
    "collapsed": true
   },
   "source": [
    "Given a binary search tree and two numbers min and max, trim the tree so that each element in the tree are between min and max (both included in new tree if they were present in old tree)"
   ]
  },
  {
   "cell_type": "code",
   "execution_count": null,
   "metadata": {
    "collapsed": true
   },
   "outputs": [],
   "source": [
    "#todo"
   ]
  },
  {
   "cell_type": "markdown",
   "metadata": {
    "collapsed": true
   },
   "source": []
  },
  {
   "cell_type": "code",
   "execution_count": null,
   "metadata": {
    "collapsed": true
   },
   "outputs": [],
   "source": [
    "#todo"
   ]
  },
  {
   "cell_type": "markdown",
   "metadata": {
    "collapsed": true
   },
   "source": []
  },
  {
   "cell_type": "code",
   "execution_count": null,
   "metadata": {
    "collapsed": true
   },
   "outputs": [],
   "source": [
    "#todo"
   ]
  }
 ],
 "metadata": {
  "kernelspec": {
   "display_name": "Python 2",
   "language": "python",
   "name": "python2"
  },
  "language_info": {
   "codemirror_mode": {
    "name": "ipython",
    "version": 2
   },
   "file_extension": ".py",
   "mimetype": "text/x-python",
   "name": "python",
   "nbconvert_exporter": "python",
   "pygments_lexer": "ipython2",
   "version": "2.7.11"
  }
 },
 "nbformat": 4,
 "nbformat_minor": 1
}
