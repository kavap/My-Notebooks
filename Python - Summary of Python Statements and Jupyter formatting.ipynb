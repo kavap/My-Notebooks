{
 "cells": [
  {
   "cell_type": "markdown",
   "metadata": {},
   "source": [
    "# Markdown syntext\n",
    "*Italic*\n",
    "**Bold**\n",
    "*** Bold Italic ***\n",
    "<s> Strikethrough </s>\n",
    "# Header\n",
    "## Smaller header\n",
    "###### You can go six levels down on Headers ######\n",
    "\n",
    "Carriage return is line break\n",
    "\n",
    "\n",
    "Two carriage returns is new para\n"
   ]
  },
  {
   "cell_type": "markdown",
   "metadata": {},
   "source": [
    "* an asterisk starts an unordered list\n",
    "* and this is another item in the list\n",
    "+ or you can also use the + character to indent more\n",
    "- or the - character to indent less\n",
    "\n",
    "To start an ordered list, write this:\n",
    "\n",
    "1. this starts a list *with* numbers\n",
    "+  this will show as number \"2\"\n",
    "*  this will show as number \"3.\"\n",
    "9. any number, +, -, or * will keep the list going.\n",
    "    * just indent by 4 spaces (or tab) to make a sub-list\n",
    "        1. keep indenting for more sub lists\n",
    "    * here i'm back to the second level"
   ]
  },
  {
   "cell_type": "markdown",
   "metadata": {},
   "source": [
    "> Use it if you're quoting a person, a song or whatever.\n",
    "\n",
    "> You can use *italic* or lists inside them also.\n",
    "And just like with other paragraphs,\n",
    "all of these lines are still\n",
    "part of the blockquote, even without the > character in front.\n",
    "\n",
    "To end the blockquote, just put a blank line before the following\n",
    "paragraph."
   ]
  },
  {
   "cell_type": "markdown",
   "metadata": {},
   "source": [
    "### More really useful markdown tricks here\n",
    "https://sourceforge.net/p/jupiter/wiki/markdown_syntax/"
   ]
  },
  {
   "cell_type": "markdown",
   "metadata": {},
   "source": [
    "### Important Jupyter commands\n",
    "* Interrupt long running programs : Menu Kernel->Interrupt. Or simply press stop button\n",
    "* Clear cell output : Menu cell-> current outputs -> clear"
   ]
  },
  {
   "cell_type": "markdown",
   "metadata": {},
   "source": [
    "# Now Lets Start with Python \n",
    "\n",
    "### We use Python 2.7"
   ]
  },
  {
   "cell_type": "markdown",
   "metadata": {},
   "source": [
    "### Strings and formatting strings\n",
    "\n",
    "* Strings in Python are lists of characters\n",
    "* Python strings are immutable"
   ]
  },
  {
   "cell_type": "code",
   "execution_count": 137,
   "metadata": {
    "collapsed": false
   },
   "outputs": [
    {
     "name": "stdout",
     "output_type": "stream",
     "text": [
      "The value of x is 32.5, and y is 40000...\n",
      "eggs and spam\n",
      "The story of Bill, Manfred, and Georg.\n",
      "0b1111101000\n",
      "0x3e8\n",
      "3.14\n",
      "True\n",
      "False\n",
      "5\n"
     ]
    }
   ],
   "source": [
    "s = 'Hello, world.'\n",
    "str(s)\n",
    "repr(s)\n",
    "str(1.0/7.0)\n",
    "repr(1.0/7.0)\n",
    "\n",
    "x = 10 * 3.25\n",
    "y = 200 * 200\n",
    "s = 'The value of x is ' + repr(x) + ', and y is ' + repr(y) + '...'\n",
    "print s\n",
    "\n",
    "print '{1} and {0}'.format('spam', 'eggs')\n",
    "\n",
    "\n",
    "print 'The story of {0}, {1}, and {other}.'.format('Bill', 'Manfred',other='Georg')\n",
    "\n",
    "print bin(1000)\n",
    "print hex(1000)\n",
    "print round(3.1432321,2)\n",
    "\n",
    "s1  = 'this is all lowercase sentence'\n",
    "print s1.islower()\n",
    "print s1.isupper()\n",
    "print s1.count('e')\n"
   ]
  },
  {
   "cell_type": "code",
   "execution_count": 141,
   "metadata": {
    "collapsed": false
   },
   "outputs": [
    {
     "name": "stdout",
     "output_type": "stream",
     "text": [
      "['h', 'llo world']\n",
      "('h', 'e', 'llo world')\n",
      "HELLO WORLD\n",
      "hello world\n",
      "Hello world\n",
      "2\n",
      "4\n",
      "    hello world     \n",
      "False\n",
      "True\n",
      "003.14\n",
      "0042\n",
      "Hodor Hodor!\n",
      "2001-02-03 04:05\n"
     ]
    }
   ],
   "source": [
    "s = 'hello world'\n",
    "\n",
    "print s.split('e')\n",
    "print s.partition('e')\n",
    "\n",
    "print s.upper()\n",
    "print s.lower()\n",
    "print s.capitalize()\n",
    "\n",
    "print s.count('o')\n",
    "print s.find('o')\n",
    "\n",
    "print s.center(20,' ')\n",
    "\n",
    "print s.isalnum()\n",
    "s1 = \"hello\"\n",
    "print s1.isalnum()\n",
    "\n",
    "print '{:06.2f}'.format(3.141592653589793)\n",
    "\n",
    "print '{:04d}'.format(42)\n",
    "\n",
    "print '{first} {last}'.format(first='Hodor', last='Hodor!')\n",
    "\n",
    "from datetime import datetime\n",
    "print '{:%Y-%m-%d %H:%M}'.format(datetime(2001, 2, 3, 4, 5))"
   ]
  },
  {
   "cell_type": "markdown",
   "metadata": {},
   "source": [
    "For more formatting options : https://pyformat.info/"
   ]
  },
  {
   "cell_type": "markdown",
   "metadata": {},
   "source": [
    "### for x in range(1,11):\n",
    "...     print '{0:2d} {1:3d} {2:4d}'.format(x, x*x, x*x*x)\n",
    "\n",
    "'12'.zfill(5)\n",
    "\n",
    "print 'We are the {} who say \"{}!\"'.format('knights', 'Ni')\n",
    "\n",
    "\n",
    "import math\n",
    "print 'The value of PI is approximately {0:.3f}.'.format(math.pi)\n",
    "\n",
    "table = {'Sjoerd': 4127, 'Jack': 4098, 'Dcab': 8637678}\n",
    "print ('Jack: {0[Jack]:d}; Sjoerd: {0[Sjoerd]:d}; '\n",
    "...        'Dcab: {0[Dcab]:d}'.format(table))\n",
    "\n",
    "\n",
    "import math\n",
    "print 'The value of PI is approximately %5.3f.' % math.pi"
   ]
  },
  {
   "cell_type": "markdown",
   "metadata": {},
   "source": [
    "#### Really cool string trick. Note How \",\".join is used useful for creating csv files"
   ]
  },
  {
   "cell_type": "code",
   "execution_count": 154,
   "metadata": {
    "collapsed": false
   },
   "outputs": [
    {
     "name": "stdout",
     "output_type": "stream",
     "text": [
      "f1,f2,f3\n",
      "0,1,2,3,4,5,6,7,8,9\n"
     ]
    }
   ],
   "source": [
    "print \",\".join([\"f1\",\"f2\",\"f3\"])\n",
    "print \",\".join(str(n) for n in range(10))"
   ]
  },
  {
   "cell_type": "markdown",
   "metadata": {},
   "source": [
    "### File Operations"
   ]
  },
  {
   "cell_type": "code",
   "execution_count": 24,
   "metadata": {
    "collapsed": false
   },
   "outputs": [
    {
     "name": "stdout",
     "output_type": "stream",
     "text": [
      "<open file 'testwritefile', mode 'w' at 0x1057096f0>\n",
      "This is a test\n",
      "('the answer', 42) This is another test\n",
      "answer', 42) This is another test\n",
      "answer', 42)\n"
     ]
    }
   ],
   "source": [
    "f = open('testwritefile', 'w')\n",
    "print f\n",
    "\n",
    "f.write('This is a test\\n')\n",
    "\n",
    "# Convert everything to String before writing\n",
    "value = ('the answer', 42)\n",
    "s = str(value)\n",
    "f.write(s)\n",
    "\n",
    "f.close()\n",
    "\n",
    "f = open('testwritefile', 'r')\n",
    "for line in f:\n",
    "        print line,\n",
    "f.close()\n",
    "\n",
    "f = open('testwritefile', 'r+')\n",
    "f.write('This is another test\\n')\n",
    "f.close()\n",
    "\n",
    "f = open('testwritefile', 'r')\n",
    "for line in f:\n",
    "        print line,\n",
    "f.close()\n",
    "\n",
    "\n",
    "        "
   ]
  },
  {
   "cell_type": "code",
   "execution_count": 103,
   "metadata": {
    "collapsed": false
   },
   "outputs": [
    {
     "name": "stdout",
     "output_type": "stream",
     "text": [
      "This is another test\n",
      "answer', 42)\n"
     ]
    }
   ],
   "source": [
    "# Difeferent reads\n",
    "f = open('testwritefile', 'r')\n",
    "s = f.read() #entire file or f.read(n) n bytes\n",
    "print s\n",
    "f.close()\n",
    "\n"
   ]
  },
  {
   "cell_type": "code",
   "execution_count": 32,
   "metadata": {
    "collapsed": false
   },
   "outputs": [
    {
     "name": "stdout",
     "output_type": "stream",
     "text": [
      "This is another test\n",
      "\n"
     ]
    }
   ],
   "source": [
    "f = open('testwritefile', 'r')\n",
    "s = f.readline()\n",
    "print s"
   ]
  },
  {
   "cell_type": "code",
   "execution_count": 5,
   "metadata": {
    "collapsed": false
   },
   "outputs": [
    {
     "name": "stdout",
     "output_type": "stream",
     "text": [
      "{u'maps': [{u'id': u'blabla', u'iscategorical': u'0'},\n",
      "           {u'id': u'blabla', u'iscategorical': u'0'}],\n",
      " u'masks': {u'id': u'valore'},\n",
      " u'om_points': u'value',\n",
      " u'parameters': {u'id': u'valore'}}\n"
     ]
    }
   ],
   "source": [
    "# json file. Also note pretty print \n",
    "\n",
    "\"\"\"\"\"\"\n",
    "# Put following in data.json\n",
    "{\n",
    " \"maps\":[\n",
    "         {\"id\":\"blabla\",\"iscategorical\":\"0\"},\n",
    "         {\"id\":\"blabla\",\"iscategorical\":\"0\"}\n",
    "        ],\n",
    "\"masks\":\n",
    "         {\"id\":\"valore\"},\n",
    "\"om_points\":\"value\",\n",
    "\"parameters\":\n",
    "         {\"id\":\"valore\"}\n",
    "}\n",
    "\"\"\"\"\"\"\n",
    "import json\n",
    "from pprint import pprint\n",
    "\n",
    "with open('/Users/kavap/Documents/learn/python/data/data.json') as data_file:    \n",
    "    data = json.load(data_file)\n",
    "pprint(data)"
   ]
  },
  {
   "cell_type": "markdown",
   "metadata": {},
   "source": [
    "### Get Data from URL"
   ]
  },
  {
   "cell_type": "code",
   "execution_count": 7,
   "metadata": {
    "collapsed": false
   },
   "outputs": [
    {
     "name": "stdout",
     "output_type": "stream",
     "text": [
      "{u'validate': True, u'object_or_array': u'object', u'parse_time_nanoseconds': 20644, u'empty': False, u'size': 1}\n"
     ]
    }
   ],
   "source": [
    "import csv\n",
    "import urllib2\n",
    "\n",
    "url = 'http://winterolympicsmedals.com/medals.csv'\n",
    "response = urllib2.urlopen(url)\n",
    "cr = csv.reader(response)\n",
    "\n",
    "for row in cr:\n",
    "    print row\n",
    "    \n",
    "# for single JSON record coming back\n",
    "import json\n",
    "\n",
    "url = \"http://validate.jsontest.com/?json=%7B%22key%22:%22value%22%7D\"\n",
    "response = urllib2.urlopen(url)\n",
    "data = json.load(response)\n",
    "print data\n",
    "\n"
   ]
  },
  {
   "cell_type": "code",
   "execution_count": null,
   "metadata": {
    "collapsed": true
   },
   "outputs": [],
   "source": []
  },
  {
   "cell_type": "markdown",
   "metadata": {},
   "source": [
    "## Data Structures :\n",
    "\n",
    "* To get size of any data structure referenced by variable b, use : sys.getsizeof(v)\n"
   ]
  },
  {
   "cell_type": "markdown",
   "metadata": {},
   "source": [
    "### Lists\n",
    "* A List if ordered sequence of items \n",
    "* Lists store references to the objects in them\n",
    "    * So if a List is copied or assigned to new list variable, the new list receives references to the objects in original list and not copies of original list\n",
    "    * Also l1.extend(l2) will extend l1 by references of all element references pointed to by l2\n",
    "    * Another example : l = [0]*8 will create l with 8 references to same integer object 0\n",
    "        * But when you subsequently say l[2] = 5, reference at 2 will point to new integer object 2\n",
    "    * Python preallocates space to lists and dynamically double the size of allocated space as the List grows.\n",
    "        * Python uses a algorith called \"Amortization\" to preallocate the space. Pre allocating space may seem inefficient at first (since adding space for new element in real time may have O(n) time complexity\n",
    "            * Amortized cost of Array(/List) of size n (n is large) is ~ O(1)\n",
    "* A Set is collection of unique items\n",
    "* Differences between Set and List\n",
    "    * Set : Unique, Not ordered, No indexed access, All elements of same type\n",
    "    * List : Non unique, ordered, Indexed access, elements can have diff types\n"
   ]
  },
  {
   "cell_type": "code",
   "execution_count": 14,
   "metadata": {
    "collapsed": true
   },
   "outputs": [],
   "source": [
    "list_1 = ['a','c','a','b','a','d','c','b','d']"
   ]
  },
  {
   "cell_type": "code",
   "execution_count": 98,
   "metadata": {
    "collapsed": false
   },
   "outputs": [
    {
     "name": "stdout",
     "output_type": "stream",
     "text": [
      "['a', 'c', 'a', 'b', 'a', 'd', 'c', 'b', 'd']\n"
     ]
    }
   ],
   "source": [
    "print list_1"
   ]
  },
  {
   "cell_type": "code",
   "execution_count": 99,
   "metadata": {
    "collapsed": true
   },
   "outputs": [],
   "source": [
    "list_1.sort()"
   ]
  },
  {
   "cell_type": "code",
   "execution_count": 100,
   "metadata": {
    "collapsed": false
   },
   "outputs": [
    {
     "name": "stdout",
     "output_type": "stream",
     "text": [
      "['a', 'a', 'a', 'b', 'b', 'c', 'c', 'd', 'd']\n"
     ]
    }
   ],
   "source": [
    "print list_1"
   ]
  },
  {
   "cell_type": "code",
   "execution_count": 15,
   "metadata": {
    "collapsed": true
   },
   "outputs": [],
   "source": [
    "list_2 = ['1','2']"
   ]
  },
  {
   "cell_type": "code",
   "execution_count": 16,
   "metadata": {
    "collapsed": true
   },
   "outputs": [],
   "source": [
    "list_1.append(list_2)"
   ]
  },
  {
   "cell_type": "code",
   "execution_count": 17,
   "metadata": {
    "collapsed": false
   },
   "outputs": [
    {
     "name": "stdout",
     "output_type": "stream",
     "text": [
      "['a', 'c', 'a', 'b', 'a', 'd', 'c', 'b', 'd', ['1', '2']]\n"
     ]
    }
   ],
   "source": [
    "print list_1"
   ]
  },
  {
   "cell_type": "code",
   "execution_count": 18,
   "metadata": {
    "collapsed": false
   },
   "outputs": [],
   "source": [
    "list_1.extend(list_2)"
   ]
  },
  {
   "cell_type": "code",
   "execution_count": 19,
   "metadata": {
    "collapsed": false
   },
   "outputs": [
    {
     "name": "stdout",
     "output_type": "stream",
     "text": [
      "['a', 'c', 'a', 'b', 'a', 'd', 'c', 'b', 'd', ['1', '2'], '1', '2']\n"
     ]
    }
   ],
   "source": [
    "print list_1"
   ]
  },
  {
   "cell_type": "code",
   "execution_count": 21,
   "metadata": {
    "collapsed": false
   },
   "outputs": [
    {
     "ename": "TypeError",
     "evalue": "list indices must be integers, not tuple",
     "output_type": "error",
     "traceback": [
      "\u001b[0;31m---------------------------------------------------------------------------\u001b[0m",
      "\u001b[0;31mTypeError\u001b[0m                                 Traceback (most recent call last)",
      "\u001b[0;32m<ipython-input-21-4bb3afd537c7>\u001b[0m in \u001b[0;36m<module>\u001b[0;34m()\u001b[0m\n\u001b[1;32m      1\u001b[0m \u001b[0;31m# Wrong syntext\u001b[0m\u001b[0;34m\u001b[0m\u001b[0;34m\u001b[0m\u001b[0m\n\u001b[0;32m----> 2\u001b[0;31m \u001b[0;32mprint\u001b[0m \u001b[0mlist_1\u001b[0m\u001b[0;34m[\u001b[0m\u001b[0;36m9\u001b[0m\u001b[0;34m,\u001b[0m\u001b[0;36m1\u001b[0m\u001b[0;34m]\u001b[0m\u001b[0;34m\u001b[0m\u001b[0m\n\u001b[0m",
      "\u001b[0;31mTypeError\u001b[0m: list indices must be integers, not tuple"
     ]
    }
   ],
   "source": [
    "# Wrong syntext\n",
    "print list_1[9,1]"
   ]
  },
  {
   "cell_type": "code",
   "execution_count": 20,
   "metadata": {
    "collapsed": false
   },
   "outputs": [
    {
     "name": "stdout",
     "output_type": "stream",
     "text": [
      "2\n"
     ]
    }
   ],
   "source": [
    "# Correct Syntext\n",
    "print list_1[9][1]"
   ]
  },
  {
   "cell_type": "code",
   "execution_count": 22,
   "metadata": {
    "collapsed": false
   },
   "outputs": [
    {
     "name": "stdout",
     "output_type": "stream",
     "text": [
      "3\n"
     ]
    }
   ],
   "source": [
    "print list_1.index('b')"
   ]
  },
  {
   "cell_type": "code",
   "execution_count": 23,
   "metadata": {
    "collapsed": false
   },
   "outputs": [
    {
     "ename": "ValueError",
     "evalue": "'z' is not in list",
     "output_type": "error",
     "traceback": [
      "\u001b[0;31m---------------------------------------------------------------------------\u001b[0m",
      "\u001b[0;31mValueError\u001b[0m                                Traceback (most recent call last)",
      "\u001b[0;32m<ipython-input-23-df77716b709b>\u001b[0m in \u001b[0;36m<module>\u001b[0;34m()\u001b[0m\n\u001b[1;32m      1\u001b[0m \u001b[0;31m# Value error when element not found\u001b[0m\u001b[0;34m\u001b[0m\u001b[0;34m\u001b[0m\u001b[0m\n\u001b[0;32m----> 2\u001b[0;31m \u001b[0;32mprint\u001b[0m \u001b[0mlist_1\u001b[0m\u001b[0;34m.\u001b[0m\u001b[0mindex\u001b[0m\u001b[0;34m(\u001b[0m\u001b[0;34m'z'\u001b[0m\u001b[0;34m)\u001b[0m\u001b[0;34m\u001b[0m\u001b[0m\n\u001b[0m",
      "\u001b[0;31mValueError\u001b[0m: 'z' is not in list"
     ]
    }
   ],
   "source": [
    "# Value error when element not found\n",
    "print list_1.index('z')"
   ]
  },
  {
   "cell_type": "code",
   "execution_count": 24,
   "metadata": {
    "collapsed": false
   },
   "outputs": [
    {
     "name": "stdout",
     "output_type": "stream",
     "text": [
      "['a', 'c', 'a', 'b', 'inserted', 'inserted', 'inserted', 'inserted', 'a', 'd', 'c', 'b', 'd']\n",
      "d\n",
      "['a', 'c', 'a', 'b', 'inserted', 'inserted', 'inserted', 'inserted', 'a', 'd', 'c', 'b']\n",
      "a\n",
      "['c', 'a', 'b', 'inserted', 'inserted', 'inserted', 'inserted', 'a', 'd', 'c', 'b']\n",
      "inserted\n",
      "['c', 'a', 'b', 'inserted', 'inserted', 'inserted', 'a', 'd', 'c', 'b']\n",
      "None\n",
      "['c', 'a', 'b', 'inserted', 'inserted', 'a', 'd', 'c', 'b']\n",
      "None\n",
      "['c', 'a', 'b', 'inserted', 'a', 'd', 'c', 'b']\n",
      "None\n",
      "['c', 'a', 'b', 'a', 'd', 'c', 'b']\n"
     ]
    },
    {
     "ename": "ValueError",
     "evalue": "list.remove(x): x not in list",
     "output_type": "error",
     "traceback": [
      "\u001b[0;31m---------------------------------------------------------------------------\u001b[0m",
      "\u001b[0;31mValueError\u001b[0m                                Traceback (most recent call last)",
      "\u001b[0;32m<ipython-input-24-9cb2c4f7aa28>\u001b[0m in \u001b[0;36m<module>\u001b[0;34m()\u001b[0m\n\u001b[1;32m     25\u001b[0m \u001b[0;32mprint\u001b[0m \u001b[0mlist_1\u001b[0m\u001b[0;34m\u001b[0m\u001b[0m\n\u001b[1;32m     26\u001b[0m \u001b[0;31m# This will produce value error. Can catch in try execpt and have removal in loop\u001b[0m\u001b[0;34m\u001b[0m\u001b[0;34m\u001b[0m\u001b[0m\n\u001b[0;32m---> 27\u001b[0;31m \u001b[0;32mprint\u001b[0m \u001b[0mlist_1\u001b[0m\u001b[0;34m.\u001b[0m\u001b[0mremove\u001b[0m\u001b[0;34m(\u001b[0m\u001b[0;34m'inserted'\u001b[0m\u001b[0;34m)\u001b[0m\u001b[0;34m\u001b[0m\u001b[0m\n\u001b[0m\u001b[1;32m     28\u001b[0m \u001b[0;32mprint\u001b[0m \u001b[0mlist_1\u001b[0m\u001b[0;34m\u001b[0m\u001b[0m\n\u001b[1;32m     29\u001b[0m \u001b[0;34m\u001b[0m\u001b[0m\n",
      "\u001b[0;31mValueError\u001b[0m: list.remove(x): x not in list"
     ]
    }
   ],
   "source": [
    "# pop() and remove()\n",
    "list_1 = ['a','c','a','b','a','d','c','b','d']\n",
    "\n",
    "list_1.insert(4,'inserted')\n",
    "list_1.insert(4,'inserted')\n",
    "list_1.insert(4,'inserted')\n",
    "list_1.insert(4,'inserted')\n",
    "\n",
    "print list_1\n",
    "\n",
    "print list_1.pop()\n",
    "print list_1\n",
    "\n",
    "print list_1.pop(0)\n",
    "print list_1\n",
    "\n",
    "print list_1.pop(3)\n",
    "print list_1\n",
    "\n",
    "print list_1.remove('inserted')\n",
    "print list_1\n",
    "print list_1.remove('inserted')\n",
    "print list_1\n",
    "print list_1.remove('inserted')\n",
    "print list_1\n",
    "# This will produce value error. Can catch in try execpt and have removal in loop\n",
    "print list_1.remove('inserted')\n",
    "print list_1\n",
    "\n"
   ]
  },
  {
   "cell_type": "code",
   "execution_count": 25,
   "metadata": {
    "collapsed": false
   },
   "outputs": [
    {
     "name": "stdout",
     "output_type": "stream",
     "text": [
      "['d', 'b', 'c', 'd', 'a', 'inserted', 'inserted', 'inserted', 'inserted', 'b', 'a', 'c', 'a']\n",
      "['a', 'a', 'a', 'b', 'b', 'c', 'c', 'd', 'd', 'inserted', 'inserted', 'inserted', 'inserted']\n",
      "['inserted', 'inserted', 'inserted', 'inserted', 'd', 'd', 'c', 'c', 'b', 'b', 'a', 'a', 'a']\n",
      "[('k3', 'v3'), ('k2', 'v2'), ('k1', 'v1')]\n"
     ]
    }
   ],
   "source": [
    "# sort() ...and its options\n",
    "list_1 = ['a','c','a','b','a','d','c','b','d']\n",
    "\n",
    "list_1.insert(4,'inserted')\n",
    "list_1.insert(4,'inserted')\n",
    "list_1.insert(4,'inserted')\n",
    "list_1.insert(4,'inserted')\n",
    "\n",
    "list_1.reverse()\n",
    "print list_1\n",
    "\n",
    "list_1.sort()\n",
    "print list_1\n",
    "\n",
    "list_1.sort(reverse=True)\n",
    "print list_1\n",
    "\n",
    "list_2 = [('k1','v1'),('k3','v3'),('k2','v2')]\n",
    "\n",
    "list_2.sort(key= lambda x:x[0],reverse=True)\n",
    "print list_2\n"
   ]
  },
  {
   "cell_type": "code",
   "execution_count": 26,
   "metadata": {
    "collapsed": false
   },
   "outputs": [
    {
     "data": {
      "text/plain": [
       "3"
      ]
     },
     "execution_count": 26,
     "metadata": {},
     "output_type": "execute_result"
    }
   ],
   "source": [
    "# Count number of elements that equal to x\n",
    "list_1.count('a')"
   ]
  },
  {
   "cell_type": "code",
   "execution_count": 91,
   "metadata": {
    "collapsed": false
   },
   "outputs": [
    {
     "name": "stdout",
     "output_type": "stream",
     "text": [
      "[1, 2]\n",
      "[3, 4]\n",
      "[1, 2, [3, 4]]\n",
      "[3, 4, 5, 6]\n"
     ]
    }
   ],
   "source": [
    "l1 = [1,2]\n",
    "l2 = [3,4]\n",
    "l3 = [5,6]\n",
    "\n",
    "print l1\n",
    "print l2\n",
    "\n",
    "l1.append(l2)\n",
    "print l1\n",
    "\n",
    "l2.extend(l3)\n",
    "print l2"
   ]
  },
  {
   "cell_type": "markdown",
   "metadata": {},
   "source": [
    "#### List slicing\n",
    "Think of List slicing as ability to sequentially navigate the list in different ways :\n",
    "* Walk the list forward, reverse, stepwise\n",
    "* Start the walk from any index that can be specified as offset from head or tail\n",
    "* Specify points to start and stop the walk\n"
   ]
  },
  {
   "cell_type": "code",
   "execution_count": 44,
   "metadata": {
    "collapsed": false
   },
   "outputs": [
    {
     "name": "stdout",
     "output_type": "stream",
     "text": [
      "[1, 2, 3]\n",
      "[1, 3, 5]\n",
      "[3, 4]\n",
      "[3, 4, 5, 6, 7, 8, 9, 10]\n",
      "[1, 2, 3, 4]\n",
      "10\n",
      "[9, 10]\n",
      "[1, 2, 3, 4, 5, 6, 7, 8]\n",
      "[1, 2, 3, 4, 5, 6, 7, 8, 9, 10]\n",
      "[10, 9, 8, 7, 6, 5, 4, 3, 2, 1]\n",
      "[10, 8, 6, 4, 2]\n",
      "[4, 3, 2, 1]\n",
      "[9, 7, 5, 3, 1]\n"
     ]
    }
   ],
   "source": [
    "\n",
    "\n",
    "l1 = [1,2,3,4,5,6,7,8,9,10]\n",
    "\n",
    "print l1[0:3]\n",
    "print l1[0:6:2]\n",
    "print l1[2:4]\n",
    "print l1[2:]\n",
    "print l1[:4] # begining to index 4\n",
    "print l1[-1] # last item\n",
    "print l1[-2:] # last two items\n",
    "print l1[:-2] # everything except last two items\n",
    "l2 = l1[:] # make a copy of whole array\n",
    "print l2\n",
    "\n",
    "# note :: instead of :\n",
    "print l1[::-1]  # access list in reverse \n",
    "print l1[::-2]  # access list in reverse in steps of 2\n",
    "print l1[3::-1] # start from index 3 and reverse list\n",
    "print l1[8::-2] # start from index 8 and reverse list in steps of 2\n",
    "\n"
   ]
  },
  {
   "cell_type": "markdown",
   "metadata": {},
   "source": [
    "### Dictionaries"
   ]
  },
  {
   "cell_type": "code",
   "execution_count": 54,
   "metadata": {
    "collapsed": false
   },
   "outputs": [],
   "source": [
    "my_dict = {'k1':1,'k2':'test','k3':True}"
   ]
  },
  {
   "cell_type": "code",
   "execution_count": 16,
   "metadata": {
    "collapsed": false
   },
   "outputs": [
    {
     "name": "stdout",
     "output_type": "stream",
     "text": [
      "{'k3': True, 'k2': 'test', 'k1': 1}\n"
     ]
    }
   ],
   "source": [
    "print my_dict"
   ]
  },
  {
   "cell_type": "code",
   "execution_count": 18,
   "metadata": {
    "collapsed": false
   },
   "outputs": [
    {
     "name": "stdout",
     "output_type": "stream",
     "text": [
      "True\n"
     ]
    }
   ],
   "source": [
    "print my_dict['k3']"
   ]
  },
  {
   "cell_type": "code",
   "execution_count": 20,
   "metadata": {
    "collapsed": false
   },
   "outputs": [
    {
     "name": "stdout",
     "output_type": "stream",
     "text": [
      "E\n"
     ]
    }
   ],
   "source": [
    "print my_dict['k2'][1].upper()"
   ]
  },
  {
   "cell_type": "code",
   "execution_count": 21,
   "metadata": {
    "collapsed": false
   },
   "outputs": [
    {
     "name": "stdout",
     "output_type": "stream",
     "text": [
      "{'k2': 'val2', 'k1': 'val1'}\n"
     ]
    }
   ],
   "source": [
    "d = {}\n",
    "d['k1'] = 'val1'\n",
    "d['k2'] = 'val2'\n",
    "print d"
   ]
  },
  {
   "cell_type": "code",
   "execution_count": 55,
   "metadata": {
    "collapsed": false
   },
   "outputs": [
    {
     "name": "stdout",
     "output_type": "stream",
     "text": [
      "('k3', True)\n",
      "('k2', 'test')\n",
      "('k1', 1)\n"
     ]
    }
   ],
   "source": [
    "for item in my_dict.iteritems():\n",
    "    print item"
   ]
  },
  {
   "cell_type": "code",
   "execution_count": 56,
   "metadata": {
    "collapsed": false
   },
   "outputs": [
    {
     "name": "stdout",
     "output_type": "stream",
     "text": [
      "k3\n",
      "k2\n",
      "k1\n"
     ]
    }
   ],
   "source": [
    "for item in my_dict.iterkeys():\n",
    "    print item"
   ]
  },
  {
   "cell_type": "code",
   "execution_count": 57,
   "metadata": {
    "collapsed": false
   },
   "outputs": [
    {
     "name": "stdout",
     "output_type": "stream",
     "text": [
      "True\n",
      "test\n",
      "1\n"
     ]
    }
   ],
   "source": [
    "for item in my_dict.itervalues():\n",
    "    print item"
   ]
  },
  {
   "cell_type": "code",
   "execution_count": 62,
   "metadata": {
    "collapsed": false
   },
   "outputs": [
    {
     "data": {
      "text/plain": [
       "dict_values([True, 'test', 1])"
      ]
     },
     "execution_count": 62,
     "metadata": {},
     "output_type": "execute_result"
    }
   ],
   "source": [
    "my_dict.viewitems()\n",
    "my_dict.viewkeys()\n",
    "my_dict.viewvalues()\n"
   ]
  },
  {
   "cell_type": "code",
   "execution_count": 63,
   "metadata": {
    "collapsed": false
   },
   "outputs": [
    {
     "data": {
      "text/plain": [
       "[('k3', True), ('k2', 'test'), ('k1', 1)]"
      ]
     },
     "execution_count": 63,
     "metadata": {},
     "output_type": "execute_result"
    }
   ],
   "source": [
    "list(my_dict.viewitems())"
   ]
  },
  {
   "cell_type": "code",
   "execution_count": 64,
   "metadata": {
    "collapsed": false
   },
   "outputs": [
    {
     "data": {
      "text/plain": [
       "[True, 'test', 1]"
      ]
     },
     "execution_count": 64,
     "metadata": {},
     "output_type": "execute_result"
    }
   ],
   "source": [
    "list(my_dict.viewvalues())"
   ]
  },
  {
   "cell_type": "code",
   "execution_count": 22,
   "metadata": {
    "collapsed": true
   },
   "outputs": [],
   "source": [
    "d['k3'] = d"
   ]
  },
  {
   "cell_type": "code",
   "execution_count": 23,
   "metadata": {
    "collapsed": false
   },
   "outputs": [
    {
     "name": "stdout",
     "output_type": "stream",
     "text": [
      "{'k3': {...}, 'k2': 'val2', 'k1': 'val1'}\n"
     ]
    }
   ],
   "source": [
    "print d"
   ]
  },
  {
   "cell_type": "code",
   "execution_count": null,
   "metadata": {
    "collapsed": true
   },
   "outputs": [],
   "source": [
    "### sys module : Acceessing commandline parameters, etc"
   ]
  },
  {
   "cell_type": "code",
   "execution_count": 56,
   "metadata": {
    "collapsed": false
   },
   "outputs": [
    {
     "name": "stdout",
     "output_type": "stream",
     "text": [
      "['/Users/kavap/Library/Enthought/Canopy_64bit/User/lib/python2.7/site-packages/ipykernel/__main__.py', '-f', '/Users/kavap/Library/Jupyter/runtime/kernel-151d98b8-a04b-4548-94ca-a9113589e109.json']\n",
      "/Users/kavap/Library/Enthought/Canopy_64bit/User/lib/python2.7/site-packages/ipykernel/__main__.py\n",
      "-f\n",
      "/Users/kavap/Library/Jupyter/runtime/kernel-151d98b8-a04b-4548-94ca-a9113589e109.json\n",
      "['', '/Applications/Canopy.app/appdata/canopy-1.7.4.3348.macosx-x86_64/Canopy.app/Contents/lib/python27.zip', '/Applications/Canopy.app/appdata/canopy-1.7.4.3348.macosx-x86_64/Canopy.app/Contents/lib/python2.7', '/Applications/Canopy.app/appdata/canopy-1.7.4.3348.macosx-x86_64/Canopy.app/Contents/lib/python2.7/plat-darwin', '/Applications/Canopy.app/appdata/canopy-1.7.4.3348.macosx-x86_64/Canopy.app/Contents/lib/python2.7/plat-mac', '/Applications/Canopy.app/appdata/canopy-1.7.4.3348.macosx-x86_64/Canopy.app/Contents/lib/python2.7/plat-mac/lib-scriptpackages', '/Applications/Canopy.app/appdata/canopy-1.7.4.3348.macosx-x86_64/Canopy.app/Contents/lib/python2.7/lib-tk', '/Applications/Canopy.app/appdata/canopy-1.7.4.3348.macosx-x86_64/Canopy.app/Contents/lib/python2.7/lib-old', '/Applications/Canopy.app/appdata/canopy-1.7.4.3348.macosx-x86_64/Canopy.app/Contents/lib/python2.7/lib-dynload', '/Users/kavap/Library/Enthought/Canopy_64bit/User/lib/python2.7/site-packages', '/Applications/Canopy.app/appdata/canopy-1.7.4.3348.macosx-x86_64/Canopy.app/Contents/lib/python2.7/site-packages', '/Users/kavap/Library/Enthought/Canopy_64bit/User/lib/python2.7/site-packages/IPython/extensions', '/Users/kavap/.ipython']\n",
      "darwin\n",
      "<open file '<stdin>', mode 'r' at 0x1002750c0>\n",
      "<open file '<stdout>', mode 'w' at 0x100275150>\n",
      "<open file '<stderr>', mode 'w' at 0x1002751e0>\n",
      "2.7.11 | 64-bit | (default, Jun 11 2016, 03:41:56) \n",
      "[GCC 4.2.1 Compatible Apple LLVM 6.0 (clang-600.0.57)]\n"
     ]
    }
   ],
   "source": [
    "import sys\n",
    "\n",
    "print sys.argv\n",
    "print sys.argv[0] # name of this python script\n",
    "print sys.argv[1] # first parameter\n",
    "print sys.argv[2]\n",
    "print sys.path\n",
    "print sys.platform\n",
    "print sys.__stdin__\n",
    "print sys.__stdout__\n",
    "print sys.__stderr__\n",
    "print sys.version"
   ]
  },
  {
   "cell_type": "markdown",
   "metadata": {},
   "source": [
    "### Passing arguments"
   ]
  },
  {
   "cell_type": "code",
   "execution_count": 65,
   "metadata": {
    "collapsed": false
   },
   "outputs": [
    {
     "name": "stdout",
     "output_type": "stream",
     "text": [
      "['/Users/kavap/Library/Enthought/Canopy_64bit/User/lib/python2.7/site-packages/ipykernel/__main__.py', '-f', '/Users/kavap/Library/Jupyter/runtime/kernel-151d98b8-a04b-4548-94ca-a9113589e109.json']\n",
      "['-f', '/Users/kavap/Library/Jupyter/runtime/kernel-151d98b8-a04b-4548-94ca-a9113589e109.json']\n"
     ]
    }
   ],
   "source": [
    "\n",
    "import sys\n",
    "arguments = sys.argv\n",
    "\n",
    "print arguments\n",
    "print arguments[1:]"
   ]
  },
  {
   "cell_type": "markdown",
   "metadata": {},
   "source": [
    "### Access OS commands\n",
    "\n",
    "https://docs.python.org/2/library/os.html"
   ]
  },
  {
   "cell_type": "code",
   "execution_count": 64,
   "metadata": {
    "collapsed": false
   },
   "outputs": [
    {
     "name": "stdout",
     "output_type": "stream",
     "text": [
      "0\n"
     ]
    }
   ],
   "source": [
    "# Remember: os.system() doesnt return output of command ..just the exit status\n",
    "import os\n",
    "output = os.system(\"ls\")\n",
    "print output # Returns exit status of OS command\n"
   ]
  },
  {
   "cell_type": "code",
   "execution_count": 47,
   "metadata": {
    "collapsed": false
   },
   "outputs": [
    {
     "name": "stdout",
     "output_type": "stream",
     "text": [
      "Decorators.ipynb\r\n",
      "Python - Summary of Python Statements and Jupyter formatting.ipynb\r\n",
      "Python-for-Algorithms--Data-Structures--and-Interviews-master.zip\r\n",
      "Statistics-Notes-master.zip\r\n",
      "Udemy---Machine-Learning-master.zip\r\n",
      "Udemy-notes-master.zip\r\n",
      "Untitled.ipynb\r\n",
      "Untitled1.ipynb\r\n",
      "Untitled2.ipynb\r\n",
      "\u001b[34mcode notebooks from python course\u001b[m\u001b[m\r\n",
      "\u001b[34mspark-notebook-examples-master\u001b[m\u001b[m\r\n",
      "spark-notebook-examples-master.zip\r\n",
      "test.ipynb\r\n",
      "testfile.txt\r\n",
      "testwritefile\r\n"
     ]
    }
   ],
   "source": [
    "# This one is specific to Jupyter notebook\n",
    "!ls"
   ]
  },
  {
   "cell_type": "code",
   "execution_count": 27,
   "metadata": {
    "collapsed": true
   },
   "outputs": [],
   "source": [
    "file = open(\"1800.csv\")"
   ]
  },
  {
   "cell_type": "code",
   "execution_count": 29,
   "metadata": {
    "collapsed": false
   },
   "outputs": [
    {
     "data": {
      "text/plain": [
       "[]"
      ]
     },
     "execution_count": 29,
     "metadata": {},
     "output_type": "execute_result"
    }
   ],
   "source": [
    "file.readlines()"
   ]
  },
  {
   "cell_type": "markdown",
   "metadata": {},
   "source": [
    "#### Remember : range or xrange doesn't return uppper bound of range. So following returns till 6. By default the range starts from 0"
   ]
  },
  {
   "cell_type": "code",
   "execution_count": 67,
   "metadata": {
    "collapsed": false
   },
   "outputs": [
    {
     "name": "stdout",
     "output_type": "stream",
     "text": [
      "0\n",
      "1\n",
      "2\n",
      "3\n",
      "4\n",
      "5\n",
      "6\n"
     ]
    }
   ],
   "source": [
    "for n in xrange(7):\n",
    "    print n"
   ]
  },
  {
   "cell_type": "code",
   "execution_count": 104,
   "metadata": {
    "collapsed": false
   },
   "outputs": [
    {
     "name": "stdout",
     "output_type": "stream",
     "text": [
      "maybe\n"
     ]
    }
   ],
   "source": [
    "x = 9\n",
    "if x>=25:\n",
    "    print \"yes\"\n",
    "elif x< 10:\n",
    "    print \"maybe\"\n",
    "else:\n",
    "    print \"middle\"\n",
    "    \n",
    "    "
   ]
  },
  {
   "cell_type": "code",
   "execution_count": 39,
   "metadata": {
    "collapsed": false
   },
   "outputs": [
    {
     "name": "stdout",
     "output_type": "stream",
     "text": [
      "[2, 4, 8, 2, 12, 66, 42]\n",
      "set([2, 4, 8, 42, 12, 66])\n",
      "set([2, 4, 8, 42, 12, 66])\n"
     ]
    }
   ],
   "source": [
    "l = [1,2,3,4,5,7,8,2,12,13,17,55,66,43,42]\n",
    "l_even = []\n",
    "for element in l:\n",
    "    if element%2 == 0:\n",
    "        l_even.append(element)\n",
    "print l_even\n",
    "print set(l_even)\n",
    "set_even = set()\n",
    "for element in l_even:\n",
    "    set_even.add(element)\n",
    "print set_even"
   ]
  },
  {
   "cell_type": "code",
   "execution_count": 40,
   "metadata": {
    "collapsed": false
   },
   "outputs": [
    {
     "name": "stdout",
     "output_type": "stream",
     "text": [
      "280\n"
     ]
    }
   ],
   "source": [
    "sum = 0\n",
    "for element in l:\n",
    "    sum +=element\n",
    "print sum"
   ]
  },
  {
   "cell_type": "code",
   "execution_count": 41,
   "metadata": {
    "collapsed": false
   },
   "outputs": [
    {
     "name": "stdout",
     "output_type": "stream",
     "text": [
      "P\n",
      "r\n",
      "a\n",
      "f\n",
      "u\n",
      "l\n",
      " \n",
      "K\n"
     ]
    }
   ],
   "source": [
    "for item in \"Praful K\":\n",
    "    print item"
   ]
  },
  {
   "cell_type": "code",
   "execution_count": 42,
   "metadata": {
    "collapsed": false
   },
   "outputs": [
    {
     "data": {
      "text/plain": [
       "{' ', 'a', 'f', 'k', 'l', 'p', 'r', 'u', 'v'}"
      ]
     },
     "execution_count": 42,
     "metadata": {},
     "output_type": "execute_result"
    }
   ],
   "source": [
    "string_set = set(\"praful kava\")\n",
    "string_set"
   ]
  },
  {
   "cell_type": "code",
   "execution_count": 49,
   "metadata": {
    "collapsed": false
   },
   "outputs": [
    {
     "name": "stdout",
     "output_type": "stream",
     "text": [
      "['a', ' ', 'f', 'k', 'l', 'p', 'r', 'u', 'v']\n"
     ]
    },
    {
     "data": {
      "text/plain": [
       "[' ', 'a', 'f', 'k', 'l', 'p', 'r', 'u', 'v']"
      ]
     },
     "execution_count": 49,
     "metadata": {},
     "output_type": "execute_result"
    }
   ],
   "source": [
    "unique_char_l = []\n",
    "for item in string_set:\n",
    "    unique_char_l.append(item)\n",
    "print unique_char_l \n",
    "unique_char_l.sort()\n",
    "unique_char_l\n",
    "    "
   ]
  },
  {
   "cell_type": "code",
   "execution_count": 51,
   "metadata": {
    "collapsed": false
   },
   "outputs": [
    {
     "name": "stdout",
     "output_type": "stream",
     "text": [
      "Sat Jan 21 13:41:12 EST 2017\r\n"
     ]
    }
   ],
   "source": [
    "!date"
   ]
  },
  {
   "cell_type": "code",
   "execution_count": 52,
   "metadata": {
    "collapsed": false
   },
   "outputs": [
    {
     "data": {
      "text/plain": [
       "[(1, 2), (3, 4), (5, 6)]"
      ]
     },
     "execution_count": 52,
     "metadata": {},
     "output_type": "execute_result"
    }
   ],
   "source": [
    "tuple_list = [(1,2),(3,4),(5,6)]\n",
    "tuple_list"
   ]
  },
  {
   "cell_type": "code",
   "execution_count": 55,
   "metadata": {
    "collapsed": false
   },
   "outputs": [
    {
     "name": "stdout",
     "output_type": "stream",
     "text": [
      "1 2\n",
      "3 4\n",
      "5 6\n"
     ]
    }
   ],
   "source": [
    "for (a,b) in tuple_list:\n",
    "    print a,b"
   ]
  },
  {
   "cell_type": "code",
   "execution_count": 56,
   "metadata": {
    "collapsed": false
   },
   "outputs": [
    {
     "name": "stdout",
     "output_type": "stream",
     "text": [
      "k2 v2\n",
      "k1 v1\n"
     ]
    }
   ],
   "source": [
    "d = {'k1':'v1','k2':'v2'}\n",
    "for k,v in d.iteritems():\n",
    "    print k,v\n",
    "    "
   ]
  },
  {
   "cell_type": "code",
   "execution_count": 34,
   "metadata": {
    "collapsed": false
   },
   "outputs": [
    {
     "name": "stdout",
     "output_type": "stream",
     "text": [
      "0\n",
      "1\n",
      "2\n",
      "3\n",
      "4\n",
      "5\n",
      "6\n",
      "7\n",
      "8\n",
      "9\n"
     ]
    }
   ],
   "source": [
    "x = range(1,10)\n",
    "x\n",
    "\n",
    "x = range(1,21,3)\n",
    "x\n",
    "\n",
    "x = xrange(10)\n",
    "x # shows just range(10) string as xrange is dynamic iterator \n",
    "for n in x:\n",
    "    print n"
   ]
  },
  {
   "cell_type": "code",
   "execution_count": 64,
   "metadata": {
    "collapsed": false,
    "scrolled": true
   },
   "outputs": [
    {
     "name": "stdout",
     "output_type": "stream",
     "text": [
      "less than 5\n",
      "less than 5\n",
      "less than 5\n",
      "reached 5\n"
     ]
    }
   ],
   "source": [
    "for y in x:\n",
    "    ## print y\n",
    "    if y == 2:\n",
    "        continue\n",
    "    elif y < 5:\n",
    "        print 'less than 5'\n",
    "    elif y == 5:\n",
    "        print 'reached 5'\n",
    "        break"
   ]
  },
  {
   "cell_type": "code",
   "execution_count": 65,
   "metadata": {
    "collapsed": false
   },
   "outputs": [
    {
     "data": {
      "text/plain": [
       "[1, 4, 7, 10, 13, 16, 19]"
      ]
     },
     "execution_count": 65,
     "metadata": {},
     "output_type": "execute_result"
    }
   ],
   "source": []
  },
  {
   "cell_type": "code",
   "execution_count": 68,
   "metadata": {
    "collapsed": false
   },
   "outputs": [
    {
     "name": "stdout",
     "output_type": "stream",
     "text": [
      "2\n",
      "5\n",
      "8\n",
      "11\n",
      "13\n",
      "16\n",
      "19\n"
     ]
    }
   ],
   "source": [
    "for y in x:\n",
    "    if y > 10:\n",
    "        print y\n",
    "    else:\n",
    "        print y+1"
   ]
  },
  {
   "cell_type": "markdown",
   "metadata": {},
   "source": [
    "test"
   ]
  },
  {
   "cell_type": "code",
   "execution_count": 69,
   "metadata": {
    "collapsed": true
   },
   "outputs": [],
   "source": [
    "st = \" print only words that start with s in this sentence\""
   ]
  },
  {
   "cell_type": "code",
   "execution_count": 85,
   "metadata": {
    "collapsed": false
   },
   "outputs": [
    {
     "name": "stdout",
     "output_type": "stream",
     "text": [
      "start\n",
      "s\n",
      "sentence\n"
     ]
    }
   ],
   "source": [
    "for word in st.split(' '):\n",
    "    if word.startswith('s'):\n",
    "        print word"
   ]
  },
  {
   "cell_type": "code",
   "execution_count": 88,
   "metadata": {
    "collapsed": false
   },
   "outputs": [
    {
     "name": "stdout",
     "output_type": "stream",
     "text": [
      "\n",
      "only\n",
      "that\n",
      "with\n",
      "in\n",
      "this\n",
      "sentence\n"
     ]
    }
   ],
   "source": [
    "for word in st.split(' '):\n",
    "    if len(word)%2 ==0 :\n",
    "        print word"
   ]
  },
  {
   "cell_type": "code",
   "execution_count": 89,
   "metadata": {
    "collapsed": false
   },
   "outputs": [
    {
     "data": {
      "text/plain": [
       "['p', 'o', 'w', 't', 's', 'w', 's', 'i', 't', 's']"
      ]
     },
     "execution_count": 89,
     "metadata": {},
     "output_type": "execute_result"
    }
   ],
   "source": [
    "[word[0] for word in st.split()]"
   ]
  },
  {
   "cell_type": "code",
   "execution_count": 82,
   "metadata": {
    "collapsed": false,
    "scrolled": true
   },
   "outputs": [
    {
     "name": "stdout",
     "output_type": "stream",
     "text": [
      "0\n",
      "2\n",
      "4\n",
      "6\n",
      "8\n",
      "10\n"
     ]
    }
   ],
   "source": [
    "for a in range(0,11,2):\n",
    "    print a"
   ]
  },
  {
   "cell_type": "code",
   "execution_count": 84,
   "metadata": {
    "collapsed": false
   },
   "outputs": [
    {
     "data": {
      "text/plain": [
       "[0,\n",
       " 2,\n",
       " 4,\n",
       " 6,\n",
       " 8,\n",
       " 10,\n",
       " 12,\n",
       " 14,\n",
       " 16,\n",
       " 18,\n",
       " 20,\n",
       " 22,\n",
       " 24,\n",
       " 26,\n",
       " 28,\n",
       " 30,\n",
       " 32,\n",
       " 34,\n",
       " 36,\n",
       " 38,\n",
       " 40,\n",
       " 42,\n",
       " 44,\n",
       " 46,\n",
       " 48,\n",
       " 50]"
      ]
     },
     "execution_count": 84,
     "metadata": {},
     "output_type": "execute_result"
    }
   ],
   "source": [
    "l = [number for number in range(51) if number%2 ==0]\n",
    "l"
   ]
  },
  {
   "cell_type": "code",
   "execution_count": 90,
   "metadata": {
    "collapsed": false
   },
   "outputs": [
    {
     "ename": "SyntaxError",
     "evalue": "invalid syntax (<ipython-input-90-ca10cde97e30>, line 2)",
     "output_type": "error",
     "traceback": [
      "\u001b[0;36m  File \u001b[0;32m\"<ipython-input-90-ca10cde97e30>\"\u001b[0;36m, line \u001b[0;32m2\u001b[0m\n\u001b[0;31m    This is Doc String for function\u001b[0m\n\u001b[0m                     ^\u001b[0m\n\u001b[0;31mSyntaxError\u001b[0m\u001b[0;31m:\u001b[0m invalid syntax\n"
     ]
    }
   ],
   "source": [
    "\"\"\"\"\"\"\n",
    "This is Doc String for function\n",
    "\"\"\"\"\"\""
   ]
  },
  {
   "cell_type": "code",
   "execution_count": 91,
   "metadata": {
    "collapsed": false
   },
   "outputs": [
    {
     "data": {
      "text/plain": [
       "{'In': ['',\n",
       "  u\"list_1 = ['a','c','a','b','a','d','c','b','d']\",\n",
       "  u'print list_1',\n",
       "  u'list_1.sort()',\n",
       "  u'print list_1',\n",
       "  u\"list_2 = ['1','2']\",\n",
       "  u'list_3 = list_1.append(list_2)',\n",
       "  u'print list_3',\n",
       "  u'list_1.append(list_2)',\n",
       "  u'print list_1',\n",
       "  u'print list_1[1,1]',\n",
       "  u'print list_1[9,1]',\n",
       "  u'print list_1[9][0]',\n",
       "  u'print list_1[9][1]',\n",
       "  u\"my_dict = {'k1':1,'k2':'test','k3':true}\",\n",
       "  u\"my_dict = {'k1':1,'k2':'test','k3':True}\",\n",
       "  u'print my_dict',\n",
       "  u\"print my_dict['k1']\",\n",
       "  u\"print my_dict['k3']\",\n",
       "  u\"print my_dict['k2'].upper()\",\n",
       "  u\"print my_dict['k2'][1].upper()\",\n",
       "  u\"d = {}\\nd['k1'] = 'val1'\\nd['k2'] = 'val2'\\nprint d\",\n",
       "  u\"d['k3'] = d\",\n",
       "  u'print d',\n",
       "  u\"get_ipython().system(u'ls')\",\n",
       "  u\"get_ipython().system(u'env')\",\n",
       "  u\"get_ipython().system(u'ls')\",\n",
       "  u'file = open(\"1800.csv\")',\n",
       "  u'file.read()',\n",
       "  u'file.readlines()',\n",
       "  u'x = 25\\nif x>25:\\n    print \"yes\"\\nelseif x< 10:\\n    print \"maybe\"\\nelse:\\n    print \"middle\"\\n    \\n    ',\n",
       "  u'x = 25\\nif x>25:\\n    print \"yes\"\\nelif x< 10:\\n    print \"maybe\"\\nelse:\\n    print \"middle\"\\n    \\n    ',\n",
       "  u'x = 25\\nif x>=25:\\n    print \"yes\"\\nelif x< 10:\\n    print \"maybe\"\\nelse:\\n    print \"middle\"\\n    \\n    ',\n",
       "  u'x = 15\\nif x>=25:\\n    print \"yes\"\\nelif x< 10:\\n    print \"maybe\"\\nelse:\\n    print \"middle\"\\n    \\n    ',\n",
       "  u'x = 9\\nif x>=25:\\n    print \"yes\"\\nelif x< 10:\\n    print \"maybe\"\\nelse:\\n    print \"middle\"\\n    \\n    ',\n",
       "  u'l = [1,2,3,4,5,7,8,2,12,13,17,55,66,43,42]\\nl_even = []\\nfor element in l:\\n    if element%2 == 0:\\n        l_even.add(element)\\nprint l_even',\n",
       "  u'l = [1,2,3,4,5,7,8,2,12,13,17,55,66,43,42]\\nl_even = []\\nfor element in l:\\n    if element%2 == 0:\\n        l_even.append(element)\\nprint l_even',\n",
       "  u'l = [1,2,3,4,5,7,8,2,12,13,17,55,66,43,42]\\nl_even = []\\nfor element in l:\\n    if element%2 == 0:\\n        l_even.append(element)\\nprint l_even\\nprint set(l_even)',\n",
       "  u'l = [1,2,3,4,5,7,8,2,12,13,17,55,66,43,42]\\nl_even = []\\nfor element in l:\\n    if element%2 == 0:\\n        l_even.append(element)\\nprint l_even\\nprint set(l_even)\\nset_even = {}\\nfor element in l_even:\\n    set_even.add(element)\\nprint set_even',\n",
       "  u'l = [1,2,3,4,5,7,8,2,12,13,17,55,66,43,42]\\nl_even = []\\nfor element in l:\\n    if element%2 == 0:\\n        l_even.append(element)\\nprint l_even\\nprint set(l_even)\\nset_even = set()\\nfor element in l_even:\\n    set_even.add(element)\\nprint set_even',\n",
       "  u'sum = 0\\nfor element in l:\\n    sum +=element\\nprint sum',\n",
       "  u'for item in \"Praful K\":\\n    print item',\n",
       "  u'string_set = set(\"praful kava\")\\nstring_set',\n",
       "  u'string_set.sort()',\n",
       "  u'unique_char_l = []\\nfor item in string_set:\\n    l.append(item)\\nprint l    \\n    ',\n",
       "  u'unique_char_l = []\\nfor item in string_set:\\n    unique_char_l.append(item)\\nprint l    \\n    ',\n",
       "  u'unique_char_l = []\\nfor item in string_set:\\n    unique_char_l.append(item)\\nprint unique_char_l    \\n    ',\n",
       "  u'unique_char_l = []\\nfor item in string_set:\\n    unique_char_l.append(item)\\nprint unique_char_l.sort()    \\n    ',\n",
       "  u'unique_char_l = []\\nfor item in string_set:\\n    unique_char_l.append(item)\\nprint unique_char_l  \\n    ',\n",
       "  u'unique_char_l = []\\nfor item in string_set:\\n    unique_char_l.append(item)\\nprint unique_char_l \\nunique_char_l.sort()\\nunique_char_l\\n    ',\n",
       "  u\"get_ipython().system(u'ls')\",\n",
       "  u\"get_ipython().system(u'date')\",\n",
       "  u'tuple_list = [(1,2),(3,4),(5,6)]\\ntuple_list',\n",
       "  u'for (a,b) in tuple_list:\\n    print a',\n",
       "  u'for (a,b) in tuple_list:\\n    print b',\n",
       "  u'for (a,b) in tuple_list:\\n    print a,b',\n",
       "  u\"d = {'k1':'v1','k2':'v2'}\\nfor k,v in d.iteritems():\\n    print k,v\\n    \",\n",
       "  u'x = range(1,10)\\nx',\n",
       "  u'for y in x:\\n    print y',\n",
       "  u\"for y in x:\\n    print y\\n    if y < 3:\\n        print 'less than 3'\\n    elif y == 3:\\n        print 'reached 3'\\n        break\",\n",
       "  u\"for y in x:\\n    print y\\n    if y < 3:\\n        print 'less than 3'\\n    elif y == 2:\\n        continue\\n    elif y == 3:\\n        print 'reached 3'\\n        break\",\n",
       "  u\"for y in x:\\n    print y\\n    if y == 2:\\n        continue\\n    elif y < 3:\\n        print 'less than 3'\\n    elif y == 3:\\n        print 'reached 3'\\n        break\",\n",
       "  u\"for y in x:\\n    ## print y\\n    if y == 2:\\n        continue\\n    elif y < 3:\\n        print 'less than 3'\\n    elif y == 3:\\n        print 'reached 3'\\n        break\",\n",
       "  u\"for y in x:\\n    ## print y\\n    if y == 2:\\n        continue\\n    elif y < 5:\\n        print 'less than 3'\\n    elif y == 5:\\n        print 'reached 3'\\n        break\",\n",
       "  u\"for y in x:\\n    ## print y\\n    if y == 2:\\n        continue\\n    elif y < 5:\\n        print 'less than 5'\\n    elif y == 5:\\n        print 'reached 5'\\n        break\",\n",
       "  u'x = range(1,21,3)\\nx',\n",
       "  u'for y in x:\\n    print y',\n",
       "  u'for y in x:\\n    print y\\n    if y > 10:\\n        print y\\n    else:\\n        print y+1',\n",
       "  u'for y in x:\\n    if y > 10:\\n        print y\\n    else:\\n        print y+1',\n",
       "  u'st = \" print only words that start with s in this sentence\"',\n",
       "  u'for word in st:\\n    print word',\n",
       "  u\"for word in st.split(''):\\n    print word\",\n",
       "  u\"for word in st.split(' '):\\n    print word\",\n",
       "  u\"for word in st.split(' '):\\n    if word[0].lower() == 's':\\n        print word\",\n",
       "  u\"for word in st.split(' '):\\n    if word[0] == 's':\\n        print word\",\n",
       "  u\"for word in st.split(' '):\\n    if word[1] == 's':\\n        print word\",\n",
       "  u\"for word in st.split(' '):\\n        print word\",\n",
       "  u\"for word in st.split(' '):\\n    if word = 'print':\\n        print word\",\n",
       "  u\"for word in st.split(' '):\\n    if word == 'print':\\n        print word\",\n",
       "  u\"for word in st.split(' '):\\n    if word[0] == 's':\\n        print word\",\n",
       "  u\"for word in st.split(' '):\\n    if word.startswith('s'):\\n        print word\",\n",
       "  u\"for word in st.split(' '):\\n    if word[0] == 's':\\n        print word\",\n",
       "  u'for a in range(0,11,2):\\n    print a',\n",
       "  u'l = [even for number in range(51) if number%2 ==0]\\nl',\n",
       "  u'l = [number for number in range(51) if number%2 ==0]\\nl',\n",
       "  u\"for word in st.split(' '):\\n    if word.startswith('s'):\\n        print word\",\n",
       "  u\"for word in st.split(' '):\\n    if word.length()%2 ==0 :\\n        print word\",\n",
       "  u\"for word in st.split(' '):\\n    if length(word)%2 ==0 :\\n        print word\",\n",
       "  u\"for word in st.split(' '):\\n    if len(word)%2 ==0 :\\n        print word\",\n",
       "  u'[word[0] for word in st.split()]',\n",
       "  u'\"\"\"\"\"\"\\nThis is Doc String for function\\n\"\"\"\"\"\"',\n",
       "  u'globals()\\nlocals()'],\n",
       " 'Out': {28: 'ITE00100554,18000101,TMAX,-75,,,E,\\nITE00100554,18000101,TMIN,-148,,,E,\\nGM000010962,18000101,PRCP,0,,,E,\\nEZE00100082,18000101,TMAX,-86,,,E,\\nEZE00100082,18000101,TMIN,-135,,,E,\\nITE00100554,18000102,TMAX,-60,,I,E,\\nITE00100554,18000102,TMIN,-125,,,E,\\nGM000010962,18000102,PRCP,0,,,E,\\nEZE00100082,18000102,TMAX,-44,,,E,\\nEZE00100082,18000102,TMIN,-130,,,E,\\nITE00100554,18000103,TMAX,-23,,,E,\\nITE00100554,18000103,TMIN,-46,,I,E,\\nGM000010962,18000103,PRCP,4,,,E,\\nEZE00100082,18000103,TMAX,-10,,,E,\\nEZE00100082,18000103,TMIN,-73,,,E,\\nITE00100554,18000104,TMAX,0,,,E,\\nITE00100554,18000104,TMIN,-13,,,E,\\nGM000010962,18000104,PRCP,0,,,E,\\nEZE00100082,18000104,TMAX,-55,,,E,\\nEZE00100082,18000104,TMIN,-74,,,E,\\nITE00100554,18000105,TMAX,10,,,E,\\nITE00100554,18000105,TMIN,-6,,,E,\\nGM000010962,18000105,PRCP,0,,,E,\\nEZE00100082,18000105,TMAX,-40,,,E,\\nEZE00100082,18000105,TMIN,-58,,,E,\\nITE00100554,18000106,TMAX,13,,,E,\\nITE00100554,18000106,TMIN,13,,,E,\\nGM000010962,18000106,PRCP,0,,,E,\\nEZE00100082,18000106,TMAX,-39,,,E,\\nEZE00100082,18000106,TMIN,-57,,,E,\\nITE00100554,18000107,TMAX,31,,,E,\\nITE00100554,18000107,TMIN,10,,,E,\\nGM000010962,18000107,PRCP,0,,,E,\\nEZE00100082,18000107,TMAX,-30,,,E,\\nEZE00100082,18000107,TMIN,-50,,,E,\\nITE00100554,18000108,TMAX,29,,,E,\\nITE00100554,18000108,TMIN,14,,,E,\\nGM000010962,18000108,PRCP,0,,,E,\\nEZE00100082,18000108,TMAX,-1,,,E,\\nEZE00100082,18000108,TMIN,-31,,,E,\\nITE00100554,18000109,TMAX,35,,,E,\\nITE00100554,18000109,TMIN,23,,,E,\\nGM000010962,18000109,PRCP,0,,,E,\\nEZE00100082,18000109,TMAX,5,,,E,\\nEZE00100082,18000109,TMIN,-46,,,E,\\nITE00100554,18000110,TMAX,46,,,E,\\nITE00100554,18000110,TMIN,31,,,E,\\nGM000010962,18000110,PRCP,0,,,E,\\nEZE00100082,18000110,TMAX,-46,,,E,\\nEZE00100082,18000110,TMIN,-75,,,E,\\nITE00100554,18000111,TMAX,66,,,E,\\nITE00100554,18000111,TMIN,41,,,E,\\nGM000010962,18000111,PRCP,31,,,E,\\nEZE00100082,18000111,TMAX,1,,,E,\\nEZE00100082,18000111,TMIN,-62,,,E,\\nITE00100554,18000112,TMAX,41,,,E,\\nITE00100554,18000112,TMIN,29,,,E,\\nGM000010962,18000112,PRCP,0,,,E,\\nEZE00100082,18000112,TMAX,-33,,,E,\\nEZE00100082,18000112,TMIN,-60,,,E,\\nITE00100554,18000113,TMAX,23,,,E,\\nITE00100554,18000113,TMIN,13,,,E,\\nGM000010962,18000113,PRCP,3,,,E,\\nEZE00100082,18000113,TMAX,-20,,,E,\\nEZE00100082,18000113,TMIN,-60,,,E,\\nITE00100554,18000114,TMAX,41,,,E,\\nITE00100554,18000114,TMIN,23,,,E,\\nGM000010962,18000114,PRCP,0,,,E,\\nEZE00100082,18000114,TMAX,0,,,E,\\nEZE00100082,18000114,TMIN,-35,,,E,\\nITE00100554,18000115,TMAX,54,,,E,\\nITE00100554,18000115,TMIN,41,,,E,\\nGM000010962,18000115,PRCP,0,,,E,\\nEZE00100082,18000115,TMAX,10,,,E,\\nEZE00100082,18000115,TMIN,-23,,,E,\\nITE00100554,18000116,TMAX,56,,,E,\\nITE00100554,18000116,TMIN,41,,,E,\\nGM000010962,18000116,PRCP,0,,,E,\\nEZE00100082,18000116,TMAX,-11,,,E,\\nEZE00100082,18000116,TMIN,-37,,,E,\\nITE00100554,18000117,TMAX,84,,,E,\\nITE00100554,18000117,TMIN,48,,,E,\\nGM000010962,18000117,PRCP,0,,,E,\\nEZE00100082,18000117,TMAX,14,,,E,\\nEZE00100082,18000117,TMIN,-35,,,E,\\nITE00100554,18000118,TMAX,59,,,E,\\nITE00100554,18000118,TMIN,46,,,E,\\nGM000010962,18000118,PRCP,2,,,E,\\nEZE00100082,18000118,TMAX,47,,,E,\\nEZE00100082,18000118,TMIN,9,,,E,\\nITE00100554,18000119,TMAX,59,,,E,\\nITE00100554,18000119,TMIN,50,,,E,\\nGM000010962,18000119,PRCP,0,,,E,\\nEZE00100082,18000119,TMAX,66,,,E,\\nEZE00100082,18000119,TMIN,34,,,E,\\nITE00100554,18000120,TMAX,60,,,E,\\nITE00100554,18000120,TMIN,25,,,E,\\nGM000010962,18000120,PRCP,4,,,E,\\nEZE00100082,18000120,TMAX,58,,,E,\\nEZE00100082,18000120,TMIN,17,,,E,\\nITE00100554,18000121,TMAX,80,,,E,\\nITE00100554,18000121,TMIN,30,,,E,\\nGM000010962,18000121,PRCP,6,,,E,\\nEZE00100082,18000121,TMAX,31,,,E,\\nEZE00100082,18000121,TMIN,8,,,E,\\nITE00100554,18000122,TMAX,81,,,E,\\nITE00100554,18000122,TMIN,74,,,E,\\nGM000010962,18000122,PRCP,68,,,E,\\nEZE00100082,18000122,TMAX,8,,,E,\\nEZE00100082,18000122,TMIN,-16,,,E,\\nITE00100554,18000123,TMAX,85,,,E,\\nITE00100554,18000123,TMIN,75,,,E,\\nGM000010962,18000123,PRCP,18,,,E,\\nEZE00100082,18000123,TMAX,18,,,E,\\nEZE00100082,18000123,TMIN,-16,,,E,\\nITE00100554,18000124,TMAX,85,,,E,\\nITE00100554,18000124,TMIN,75,,,E,\\nGM000010962,18000124,PRCP,0,,,E,\\nEZE00100082,18000124,TMAX,31,,,E,\\nEZE00100082,18000124,TMIN,-3,,,E,\\nITE00100554,18000125,TMAX,98,,,E,\\nITE00100554,18000125,TMIN,75,,,E,\\nGM000010962,18000125,PRCP,0,,,E,\\nEZE00100082,18000125,TMAX,35,,,E,\\nEZE00100082,18000125,TMIN,2,,,E,\\nITE00100554,18000126,TMAX,75,,,E,\\nITE00100554,18000126,TMIN,34,,,E,\\nGM000010962,18000126,PRCP,0,,,E,\\nEZE00100082,18000126,TMAX,44,,,E,\\nEZE00100082,18000126,TMIN,16,,,E,\\nITE00100554,18000127,TMAX,73,,,E,\\nITE00100554,18000127,TMIN,29,,,E,\\nGM000010962,18000127,PRCP,0,,,E,\\nEZE00100082,18000127,TMAX,57,,,E,\\nEZE00100082,18000127,TMIN,15,,,E,\\nITE00100554,18000128,TMAX,79,,,E,\\nITE00100554,18000128,TMIN,54,,,E,\\nGM000010962,18000128,PRCP,4,,,E,\\nEZE00100082,18000128,TMAX,69,,,E,\\nEZE00100082,18000128,TMIN,33,,,E,\\nITE00100554,18000129,TMAX,73,,,E,\\nITE00100554,18000129,TMIN,50,,,E,\\nGM000010962,18000129,PRCP,0,,,E,\\nEZE00100082,18000129,TMAX,67,,,E,\\nEZE00100082,18000129,TMIN,19,,,E,\\nITE00100554,18000130,TMAX,66,,,E,\\nITE00100554,18000130,TMIN,50,,,E,\\nGM000010962,18000130,PRCP,0,,,E,\\nEZE00100082,18000130,TMAX,29,,,E,\\nEZE00100082,18000130,TMIN,3,,,E,\\nITE00100554,18000131,TMAX,85,,,E,\\nITE00100554,18000131,TMIN,50,,,E,\\nGM000010962,18000131,PRCP,0,,,E,\\nEZE00100082,18000131,TMAX,62,,,E,\\nEZE00100082,18000131,TMIN,23,,,E,\\nITE00100554,18000201,TMAX,91,,,E,\\nITE00100554,18000201,TMIN,63,,,E,\\nGM000010962,18000201,PRCP,13,,,E,\\nEZE00100082,18000201,TMAX,48,,,E,\\nEZE00100082,18000201,TMIN,17,,,E,\\nITE00100554,18000202,TMAX,66,,,E,\\nITE00100554,18000202,TMIN,54,,,E,\\nGM000010962,18000202,PRCP,16,,,E,\\nEZE00100082,18000202,TMAX,67,,,E,\\nEZE00100082,18000202,TMIN,19,,,E,\\nITE00100554,18000203,TMAX,56,,,E,\\nITE00100554,18000203,TMIN,54,,,E,\\nGM000010962,18000203,PRCP,0,,,E,\\nEZE00100082,18000203,TMAX,53,,,E,\\nEZE00100082,18000203,TMIN,2,,,E,\\nITE00100554,18000204,TMAX,104,,,E,\\nITE00100554,18000204,TMIN,59,,,E,\\nGM000010962,18000204,PRCP,0,,,E,\\nEZE00100082,18000204,TMAX,66,,,E,\\nEZE00100082,18000204,TMIN,39,,,E,\\nITE00100554,18000205,TMAX,79,,,E,\\nITE00100554,18000205,TMIN,46,,,E,\\nGM000010962,18000205,PRCP,0,,,E,\\nEZE00100082,18000205,TMAX,59,,,E,\\nEZE00100082,18000205,TMIN,22,,,E,\\nITE00100554,18000206,TMAX,75,,,E,\\nITE00100554,18000206,TMIN,41,,,E,\\nGM000010962,18000206,PRCP,0,,,E,\\nEZE00100082,18000206,TMAX,24,,,E,\\nEZE00100082,18000206,TMIN,-3,,,E,\\nITE00100554,18000207,TMAX,73,,,E,\\nITE00100554,18000207,TMIN,35,,,E,\\nGM000010962,18000207,PRCP,6,,,E,\\nEZE00100082,18000207,TMAX,4,,,E,\\nEZE00100082,18000207,TMIN,-22,,,E,\\nITE00100554,18000208,TMAX,50,,,E,\\nITE00100554,18000208,TMIN,25,,,E,\\nGM000010962,18000208,PRCP,0,,,E,\\nEZE00100082,18000208,TMAX,-20,,,E,\\nEZE00100082,18000208,TMIN,-39,,,E,\\nITE00100554,18000209,TMAX,35,,,E,\\nITE00100554,18000209,TMIN,0,,,E,\\nGM000010962,18000209,PRCP,0,,,E,\\nEZE00100082,18000209,TMAX,-17,,,E,\\nEZE00100082,18000209,TMIN,-36,,,E,\\nITE00100554,18000210,TMAX,38,,,E,\\nITE00100554,18000210,TMIN,16,,,E,\\nGM000010962,18000210,PRCP,0,,,E,\\nEZE00100082,18000210,TMAX,-25,,,E,\\nEZE00100082,18000210,TMIN,-69,,,E,\\nITE00100554,18000211,TMAX,21,,,E,\\nITE00100554,18000211,TMIN,9,,,E,\\nGM000010962,18000211,PRCP,0,,,E,\\nEZE00100082,18000211,TMAX,-34,,,E,\\nEZE00100082,18000211,TMIN,-102,,,E,\\nITE00100554,18000212,TMAX,13,,,E,\\nITE00100554,18000212,TMIN,3,,,E,\\nGM000010962,18000212,PRCP,0,,,E,\\nEZE00100082,18000212,TMAX,-22,,,E,\\nEZE00100082,18000212,TMIN,-78,,,E,\\nITE00100554,18000213,TMAX,13,,,E,\\nITE00100554,18000213,TMIN,0,,,E,\\nGM000010962,18000213,PRCP,0,,,E,\\nEZE00100082,18000213,TMAX,1,,,E,\\nEZE00100082,18000213,TMIN,-42,,,E,\\nITE00100554,18000214,TMAX,13,,,E,\\nITE00100554,18000214,TMIN,0,,,E,\\nGM000010962,18000214,PRCP,0,,,E,\\nEZE00100082,18000214,TMAX,5,,,E,\\nEZE00100082,18000214,TMIN,-35,,,E,\\nITE00100554,18000215,TMAX,21,,,E,\\nITE00100554,18000215,TMIN,13,,,E,\\nGM000010962,18000215,PRCP,0,,,E,\\nEZE00100082,18000215,TMAX,18,,,E,\\nEZE00100082,18000215,TMIN,0,,,E,\\nITE00100554,18000216,TMAX,75,,,E,\\nITE00100554,18000216,TMIN,13,,,E,\\nGM000010962,18000216,PRCP,7,,,E,\\nEZE00100082,18000216,TMAX,24,,,E,\\nEZE00100082,18000216,TMIN,-6,,,E,\\nITE00100554,18000217,TMAX,71,,,E,\\nITE00100554,18000217,TMIN,23,,,E,\\nGM000010962,18000217,PRCP,0,,,E,\\nEZE00100082,18000217,TMAX,20,,,E,\\nEZE00100082,18000217,TMIN,-13,,,E,\\nITE00100554,18000218,TMAX,48,,,E,\\nITE00100554,18000218,TMIN,21,,,E,\\nGM000010962,18000218,PRCP,0,,,E,\\nEZE00100082,18000218,TMAX,0,,,E,\\nEZE00100082,18000218,TMIN,-52,,,E,\\nITE00100554,18000219,TMAX,50,,,E,\\nITE00100554,18000219,TMIN,38,,,E,\\nGM000010962,18000219,PRCP,0,,,E,\\nEZE00100082,18000219,TMAX,-6,,,E,\\nEZE00100082,18000219,TMIN,-50,,,E,\\nITE00100554,18000220,TMAX,66,,,E,\\nITE00100554,18000220,TMIN,38,,,E,\\nGM000010962,18000220,PRCP,0,,,E,\\nEZE00100082,18000220,TMAX,-34,,,E,\\nEZE00100082,18000220,TMIN,-72,,,E,\\nITE00100554,18000221,TMAX,66,,,E,\\nITE00100554,18000221,TMIN,25,,,E,\\nGM000010962,18000221,PRCP,0,,,E,\\nEZE00100082,18000221,TMAX,-16,,,E,\\nEZE00100082,18000221,TMIN,-60,,,E,\\nITE00100554,18000222,TMAX,63,,,E,\\nITE00100554,18000222,TMIN,48,,,E,\\nGM000010962,18000222,PRCP,0,,,E,\\nEZE00100082,18000222,TMAX,33,,,E,\\nEZE00100082,18000222,TMIN,-42,,,E,\\nITE00100554,18000223,TMAX,81,,,E,\\nITE00100554,18000223,TMIN,54,,,E,\\nGM000010962,18000223,PRCP,0,,,E,\\nEZE00100082,18000223,TMAX,40,,,E,\\nEZE00100082,18000223,TMIN,17,,,E,\\nITE00100554,18000224,TMAX,104,,,E,\\nITE00100554,18000224,TMIN,73,,,E,\\nGM000010962,18000224,PRCP,0,,,E,\\nEZE00100082,18000224,TMAX,56,,,E,\\nEZE00100082,18000224,TMIN,14,,,E,\\nITE00100554,18000225,TMAX,116,,,E,\\nITE00100554,18000225,TMIN,60,,,E,\\nGM000010962,18000225,PRCP,0,,,E,\\nEZE00100082,18000225,TMAX,20,,,E,\\nEZE00100082,18000225,TMIN,4,,,E,\\nITE00100554,18000226,TMAX,129,,,E,\\nITE00100554,18000226,TMIN,88,,,E,\\nGM000010962,18000226,PRCP,0,,,E,\\nEZE00100082,18000226,TMAX,15,,,E,\\nEZE00100082,18000226,TMIN,-57,,,E,\\nITE00100554,18000227,TMAX,100,,,E,\\nITE00100554,18000227,TMIN,88,,I,E,\\nGM000010962,18000227,PRCP,6,,,E,\\nEZE00100082,18000227,TMAX,-39,,,E,\\nEZE00100082,18000227,TMIN,-74,,,E,\\nITE00100554,18000228,TMAX,75,,I,E,\\nITE00100554,18000228,TMIN,63,,,E,\\nGM000010962,18000228,PRCP,0,,,E,\\nEZE00100082,18000228,TMAX,25,,,E,\\nEZE00100082,18000228,TMIN,-43,,,E,\\nITE00100554,18000301,TMAX,100,,,E,\\nITE00100554,18000301,TMIN,66,,,E,\\nGM000010962,18000301,PRCP,42,,,E,\\nEZE00100082,18000301,TMAX,-21,,,E,\\nEZE00100082,18000301,TMIN,-37,,,E,\\nITE00100554,18000302,TMAX,79,,,E,\\nITE00100554,18000302,TMIN,60,,,E,\\nGM000010962,18000302,PRCP,16,,,E,\\nEZE00100082,18000302,TMAX,4,,,E,\\nEZE00100082,18000302,TMIN,-40,,,E,\\nITE00100554,18000303,TMAX,54,,,E,\\nITE00100554,18000303,TMIN,46,,,E,\\nGM000010962,18000303,PRCP,6,,,E,\\nEZE00100082,18000303,TMAX,10,,,E,\\nEZE00100082,18000303,TMIN,-30,,,E,\\nITE00100554,18000304,TMAX,84,,,E,\\nITE00100554,18000304,TMIN,29,,,E,\\nGM000010962,18000304,PRCP,0,,,E,\\nEZE00100082,18000304,TMAX,32,,,E,\\nEZE00100082,18000304,TMIN,-23,,,E,\\nITE00100554,18000305,TMAX,79,,,E,\\nITE00100554,18000305,TMIN,21,,,E,\\nGM000010962,18000305,PRCP,4,,,E,\\nEZE00100082,18000305,TMAX,-14,,,E,\\nEZE00100082,18000305,TMIN,-47,,,E,\\nITE00100554,18000306,TMAX,60,,,E,\\nITE00100554,18000306,TMIN,29,,,E,\\nGM000010962,18000306,PRCP,0,,,E,\\nEZE00100082,18000306,TMAX,-34,,,E,\\nEZE00100082,18000306,TMIN,-70,,,E,\\nITE00100554,18000307,TMAX,34,,,E,\\nITE00100554,18000307,TMIN,16,,,E,\\nGM000010962,18000307,PRCP,0,,,E,\\nEZE00100082,18000307,TMAX,-42,,,E,\\nEZE00100082,18000307,TMIN,-89,,,E,\\nITE00100554,18000308,TMAX,38,,,E,\\nITE00100554,18000308,TMIN,0,,,E,\\nGM000010962,18000308,PRCP,0,,,E,\\nEZE00100082,18000308,TMAX,-49,,,E,\\nEZE00100082,18000308,TMIN,-130,,,E,\\nITE00100554,18000309,TMAX,79,,,E,\\nITE00100554,18000309,TMIN,16,,,E,\\nGM000010962,18000309,PRCP,30,,,E,\\nEZE00100082,18000309,TMAX,-63,,,E,\\nEZE00100082,18000309,TMIN,-93,,,E,\\nITE00100554,18000310,TMAX,75,,,E,\\nITE00100554,18000310,TMIN,25,,,E,\\nGM000010962,18000310,PRCP,0,,,E,\\nEZE00100082,18000310,TMAX,-34,,,E,\\nEZE00100082,18000310,TMIN,-110,,,E,\\nITE00100554,18000311,TMAX,79,,,E,\\nITE00100554,18000311,TMIN,29,,,E,\\nGM000010962,18000311,PRCP,0,,,E,\\nEZE00100082,18000311,TMAX,-33,,,E,\\nEZE00100082,18000311,TMIN,-107,,,E,\\nITE00100554,18000312,TMAX,69,,,E,\\nITE00100554,18000312,TMIN,41,,,E,\\nGM000010962,18000312,PRCP,7,,,E,\\nEZE00100082,18000312,TMAX,-22,,,E,\\nEZE00100082,18000312,TMIN,-87,,,E,\\nITE00100554,18000313,TMAX,75,,,E,\\nITE00100554,18000313,TMIN,44,,,E,\\nGM000010962,18000313,PRCP,0,,,E,\\nEZE00100082,18000313,TMAX,-24,,,E,\\nEZE00100082,18000313,TMIN,-110,,,E,\\nITE00100554,18000314,TMAX,100,,,E,\\nITE00100554,18000314,TMIN,25,,,E,\\nGM000010962,18000314,PRCP,0,,,E,\\nEZE00100082,18000314,TMAX,11,,,E,\\nEZE00100082,18000314,TMIN,-61,,,E,\\nITE00100554,18000315,TMAX,109,,,E,\\nITE00100554,18000315,TMIN,50,,,E,\\nGM000010962,18000315,PRCP,0,,,E,\\nEZE00100082,18000315,TMAX,-1,,,E,\\nEZE00100082,18000315,TMIN,-52,,,E,\\nITE00100554,18000316,TMAX,113,,,E,\\nITE00100554,18000316,TMIN,35,,,E,\\nGM000010962,18000316,PRCP,0,,,E,\\nEZE00100082,18000316,TMAX,10,,,E,\\nEZE00100082,18000316,TMIN,-67,,,E,\\nITE00100554,18000317,TMAX,109,,,E,\\nITE00100554,18000317,TMIN,54,,,E,\\nGM000010962,18000317,PRCP,0,,,E,\\nEZE00100082,18000317,TMAX,30,,,E,\\nEZE00100082,18000317,TMIN,-52,,,E,\\nITE00100554,18000318,TMAX,91,,,E,\\nITE00100554,18000318,TMIN,56,,,E,\\nGM000010962,18000318,PRCP,4,,,E,\\nEZE00100082,18000318,TMAX,26,,,E,\\nEZE00100082,18000318,TMIN,-35,,,E,\\nITE00100554,18000319,TMAX,125,,,E,\\nITE00100554,18000319,TMIN,60,,,E,\\nGM000010962,18000319,PRCP,17,,,E,\\nEZE00100082,18000319,TMAX,36,,,E,\\nEZE00100082,18000319,TMIN,-19,,,E,\\nITE00100554,18000320,TMAX,116,,,E,\\nITE00100554,18000320,TMIN,73,,,E,\\nGM000010962,18000320,PRCP,20,,,E,\\nEZE00100082,18000320,TMAX,13,,,E,\\nEZE00100082,18000320,TMIN,-38,,,E,\\nITE00100554,18000321,TMAX,109,,,E,\\nITE00100554,18000321,TMIN,50,,,E,\\nGM000010962,18000321,PRCP,6,,,E,\\nEZE00100082,18000321,TMAX,15,,,E,\\nEZE00100082,18000321,TMIN,-48,,,E,\\nITE00100554,18000322,TMAX,71,,,E,\\nITE00100554,18000322,TMIN,48,,,E,\\nGM000010962,18000322,PRCP,25,,,E,\\nEZE00100082,18000322,TMAX,14,,,E,\\nEZE00100082,18000322,TMIN,-57,,,E,\\nITE00100554,18000323,TMAX,75,,,E,\\nITE00100554,18000323,TMIN,19,,,E,\\nGM000010962,18000323,PRCP,4,,,E,\\nEZE00100082,18000323,TMAX,4,,,E,\\nEZE00100082,18000323,TMIN,-78,,,E,\\nITE00100554,18000324,TMAX,81,,,E,\\nITE00100554,18000324,TMIN,10,,,E,\\nGM000010962,18000324,PRCP,0,,,E,\\nEZE00100082,18000324,TMAX,33,,,E,\\nEZE00100082,18000324,TMIN,-24,,,E,\\nITE00100554,18000325,TMAX,85,,,E,\\nITE00100554,18000325,TMIN,25,,,E,\\nGM000010962,18000325,PRCP,0,,,E,\\nEZE00100082,18000325,TMAX,68,,,E,\\nEZE00100082,18000325,TMIN,8,,,E,\\nITE00100554,18000326,TMAX,110,,,E,\\nITE00100554,18000326,TMIN,31,,,E,\\nGM000010962,18000326,PRCP,0,,,E,\\nEZE00100082,18000326,TMAX,71,,,E,\\nEZE00100082,18000326,TMIN,9,,,E,\\nITE00100554,18000327,TMAX,113,,,E,\\nITE00100554,18000327,TMIN,48,,,E,\\nGM000010962,18000327,PRCP,0,,,E,\\nEZE00100082,18000327,TMAX,84,,,E,\\nEZE00100082,18000327,TMIN,-5,,,E,\\nITE00100554,18000328,TMAX,125,,,E,\\nITE00100554,18000328,TMIN,54,,,E,\\nGM000010962,18000328,PRCP,0,,,E,\\nEZE00100082,18000328,TMAX,86,,,E,\\nEZE00100082,18000328,TMIN,-23,,,E,\\nITE00100554,18000329,TMAX,110,,,E,\\nITE00100554,18000329,TMIN,85,,,E,\\nGM000010962,18000329,PRCP,0,,,E,\\nEZE00100082,18000329,TMAX,82,,,E,\\nEZE00100082,18000329,TMIN,4,,,E,\\nITE00100554,18000330,TMAX,141,,,E,\\nITE00100554,18000330,TMIN,85,,,E,\\nGM000010962,18000330,PRCP,0,,,E,\\nEZE00100082,18000330,TMAX,91,,,E,\\nEZE00100082,18000330,TMIN,10,,,E,\\nITE00100554,18000331,TMAX,138,,,E,\\nITE00100554,18000331,TMIN,75,,,E,\\nGM000010962,18000331,PRCP,0,,,E,\\nEZE00100082,18000331,TMAX,123,,,E,\\nEZE00100082,18000331,TMIN,11,,,E,\\nITE00100554,18000401,TMAX,109,,,E,\\nITE00100554,18000401,TMIN,100,,,E,\\nGM000010962,18000401,PRCP,0,,,E,\\nEZE00100082,18000401,TMAX,98,,,E,\\nEZE00100082,18000401,TMIN,50,,,E,\\nITE00100554,18000402,TMAX,104,,,E,\\nITE00100554,18000402,TMIN,98,,,E,\\nGM000010962,18000402,PRCP,9,,,E,\\nEZE00100082,18000402,TMAX,128,,,E,\\nEZE00100082,18000402,TMIN,59,,,E,\\nITE00100554,18000403,TMAX,128,,,E,\\nITE00100554,18000403,TMIN,75,,,E,\\nGM000010962,18000403,PRCP,0,,,E,\\nEZE00100082,18000403,TMAX,116,,,E,\\nEZE00100082,18000403,TMIN,61,,,E,\\nITE00100554,18000404,TMAX,153,,,E,\\nITE00100554,18000404,TMIN,75,,,E,\\nGM000010962,18000404,PRCP,0,,,E,\\nEZE00100082,18000404,TMAX,157,,,E,\\nEZE00100082,18000404,TMIN,69,,,E,\\nITE00100554,18000405,TMAX,166,,,E,\\nITE00100554,18000405,TMIN,84,,,E,\\nGM000010962,18000405,PRCP,0,,,E,\\nEZE00100082,18000405,TMAX,134,,,E,\\nEZE00100082,18000405,TMIN,65,,,E,\\nITE00100554,18000406,TMAX,178,,,E,\\nITE00100554,18000406,TMIN,96,,,E,\\nGM000010962,18000406,PRCP,0,,,E,\\nEZE00100082,18000406,TMAX,168,,,E,\\nEZE00100082,18000406,TMIN,95,,,E,\\nITE00100554,18000407,TMAX,198,,,E,\\nITE00100554,18000407,TMIN,99,,,E,\\nGM000010962,18000407,PRCP,0,,,E,\\nEZE00100082,18000407,TMAX,160,,,E,\\nEZE00100082,18000407,TMIN,74,,,E,\\nITE00100554,18000408,TMAX,200,,,E,\\nITE00100554,18000408,TMIN,109,,,E,\\nGM000010962,18000408,PRCP,0,,,E,\\nEZE00100082,18000408,TMAX,203,,,E,\\nEZE00100082,18000408,TMIN,75,,,E,\\nITE00100554,18000409,TMAX,200,,,E,\\nITE00100554,18000409,TMIN,148,,,E,\\nGM000010962,18000409,PRCP,0,,,E,\\nEZE00100082,18000409,TMAX,193,,,E,\\nEZE00100082,18000409,TMIN,105,,,E,\\nITE00100554,18000410,TMAX,200,,,E,\\nITE00100554,18000410,TMIN,129,,,E,\\nGM000010962,18000410,PRCP,0,,,E,\\nEZE00100082,18000410,TMAX,212,,,E,\\nEZE00100082,18000410,TMIN,125,,,E,\\nITE00100554,18000411,TMAX,200,,,E,\\nITE00100554,18000411,TMIN,141,,,E,\\nGM000010962,18000411,PRCP,0,,,E,\\nEZE00100082,18000411,TMAX,171,,,E,\\nEZE00100082,18000411,TMIN,95,,,E,\\nITE00100554,18000412,TMAX,200,,,E,\\nITE00100554,18000412,TMIN,116,,,E,\\nGM000010962,18000412,PRCP,10,,,E,\\nEZE00100082,18000412,TMAX,170,,,E,\\nEZE00100082,18000412,TMIN,55,,,E,\\nITE00100554,18000413,TMAX,181,,,E,\\nITE00100554,18000413,TMIN,129,,,E,\\nGM000010962,18000413,PRCP,40,,,E,\\nEZE00100082,18000413,TMAX,185,,,E,\\nEZE00100082,18000413,TMIN,99,,,E,\\nITE00100554,18000414,TMAX,188,,,E,\\nITE00100554,18000414,TMIN,91,,,E,\\nGM000010962,18000414,PRCP,2,,,E,\\nEZE00100082,18000414,TMAX,145,,,E,\\nEZE00100082,18000414,TMIN,87,,,E,\\nITE00100554,18000415,TMAX,206,,,E,\\nITE00100554,18000415,TMIN,116,,,E,\\nGM000010962,18000415,PRCP,0,,,E,\\nEZE00100082,18000415,TMAX,194,,,E,\\nEZE00100082,18000415,TMIN,109,,,E,\\nITE00100554,18000416,TMAX,216,,,E,\\nITE00100554,18000416,TMIN,129,,,E,\\nGM000010962,18000416,PRCP,0,,,E,\\nEZE00100082,18000416,TMAX,203,,,E,\\nEZE00100082,18000416,TMIN,102,,,E,\\nITE00100554,18000417,TMAX,213,,,E,\\nITE00100554,18000417,TMIN,129,,,E,\\nGM000010962,18000417,PRCP,0,,,E,\\nEZE00100082,18000417,TMAX,248,,,E,\\nEZE00100082,18000417,TMIN,110,,,E,\\nITE00100554,18000418,TMAX,216,,,E,\\nITE00100554,18000418,TMIN,134,,,E,\\nGM000010962,18000418,PRCP,0,,,E,\\nEZE00100082,18000418,TMAX,246,,,E,\\nEZE00100082,18000418,TMIN,130,,,E,\\nITE00100554,18000419,TMAX,191,,,E,\\nITE00100554,18000419,TMIN,138,,,E,\\nGM000010962,18000419,PRCP,5,,,E,\\nEZE00100082,18000419,TMAX,208,,,E,\\nEZE00100082,18000419,TMIN,146,,,E,\\nITE00100554,18000420,TMAX,231,,,E,\\nITE00100554,18000420,TMIN,150,,,E,\\nGM000010962,18000420,PRCP,34,,,E,\\nEZE00100082,18000420,TMAX,212,,,E,\\nEZE00100082,18000420,TMIN,125,,,E,\\nITE00100554,18000421,TMAX,235,,,E,\\nITE00100554,18000421,TMIN,154,,,E,\\nGM000010962,18000421,PRCP,2,,,E,\\nEZE00100082,18000421,TMAX,228,,,E,\\nEZE00100082,18000421,TMIN,153,,,E,\\nITE00100554,18000422,TMAX,216,,,E,\\nITE00100554,18000422,TMIN,166,,,E,\\nGM000010962,18000422,PRCP,0,,,E,\\nEZE00100082,18000422,TMAX,277,,,E,\\nEZE00100082,18000422,TMIN,157,,,E,\\nITE00100554,18000423,TMAX,191,,,E,\\nITE00100554,18000423,TMIN,166,,,E,\\nGM000010962,18000423,PRCP,0,,,E,\\nEZE00100082,18000423,TMAX,250,,,E,\\nEZE00100082,18000423,TMIN,185,,,E,\\nITE00100554,18000424,TMAX,204,,,E,\\nITE00100554,18000424,TMIN,146,,,E,\\nGM000010962,18000424,PRCP,0,,,E,\\nEZE00100082,18000424,TMAX,238,,,E,\\nEZE00100082,18000424,TMIN,177,,,E,\\nITE00100554,18000425,TMAX,163,,,E,\\nITE00100554,18000425,TMIN,150,,,E,\\nGM000010962,18000425,PRCP,0,,,E,\\nEZE00100082,18000425,TMAX,230,,,E,\\nEZE00100082,18000425,TMIN,166,,,E,\\nITE00100554,18000426,TMAX,179,,,E,\\nITE00100554,18000426,TMIN,154,,,E,\\nGM000010962,18000426,PRCP,0,,,E,\\nEZE00100082,18000426,TMAX,258,,,E,\\nEZE00100082,18000426,TMIN,158,,,E,\\nITE00100554,18000427,TMAX,204,,,E,\\nITE00100554,18000427,TMIN,154,,,E,\\nGM000010962,18000427,PRCP,0,,,E,\\nEZE00100082,18000427,TMAX,279,,,E,\\nEZE00100082,18000427,TMIN,160,,,E,\\nITE00100554,18000428,TMAX,223,,,E,\\nITE00100554,18000428,TMIN,159,,,E,\\nGM000010962,18000428,PRCP,0,,,E,\\nEZE00100082,18000428,TMAX,259,,,E,\\nEZE00100082,18000428,TMIN,180,,,E,\\nITE00100554,18000429,TMAX,225,,,E,\\nITE00100554,18000429,TMIN,169,,,E,\\nGM000010962,18000429,PRCP,0,,,E,\\nEZE00100082,18000429,TMAX,286,,,E,\\nEZE00100082,18000429,TMIN,166,,,E,\\nITE00100554,18000430,TMAX,206,,,E,\\nITE00100554,18000430,TMIN,159,,,E,\\nGM000010962,18000430,PRCP,0,,,E,\\nEZE00100082,18000430,TMAX,273,,,E,\\nEZE00100082,18000430,TMIN,147,,,E,\\nITE00100554,18000501,TMAX,206,,,E,\\nITE00100554,18000501,TMIN,160,,,E,\\nGM000010962,18000501,PRCP,97,,,E,\\nEZE00100082,18000501,TMAX,183,,,E,\\nEZE00100082,18000501,TMIN,127,,,E,\\nITE00100554,18000502,TMAX,223,,,E,\\nITE00100554,18000502,TMIN,160,,,E,\\nGM000010962,18000502,PRCP,3,,,E,\\nEZE00100082,18000502,TMAX,226,,,E,\\nEZE00100082,18000502,TMIN,139,,,E,\\nITE00100554,18000503,TMAX,235,,,E,\\nITE00100554,18000503,TMIN,154,,,E,\\nGM000010962,18000503,PRCP,0,,,E,\\nEZE00100082,18000503,TMAX,240,,,E,\\nEZE00100082,18000503,TMIN,164,,,E,\\nITE00100554,18000504,TMAX,238,,,E,\\nITE00100554,18000504,TMIN,156,,,E,\\nGM000010962,18000504,PRCP,0,,,E,\\nEZE00100082,18000504,TMAX,231,,,E,\\nEZE00100082,18000504,TMIN,152,,,E,\\nITE00100554,18000505,TMAX,225,,,E,\\nITE00100554,18000505,TMIN,160,,,E,\\nGM000010962,18000505,PRCP,0,,,E,\\nEZE00100082,18000505,TMAX,217,,,E,\\nEZE00100082,18000505,TMIN,160,,,E,\\nITE00100554,18000506,TMAX,175,,,E,\\nITE00100554,18000506,TMIN,140,,,E,\\nGM000010962,18000506,PRCP,0,,,E,\\nEZE00100082,18000506,TMAX,214,,,E,\\nEZE00100082,18000506,TMIN,136,,,E,\\nITE00100554,18000507,TMAX,188,,,E,\\nITE00100554,18000507,TMIN,96,,,E,\\nGM000010962,18000507,PRCP,0,,,E,\\nEZE00100082,18000507,TMAX,231,,,E,\\nEZE00100082,18000507,TMIN,116,,,E,\\nITE00100554,18000508,TMAX,213,,,E,\\nITE00100554,18000508,TMIN,121,,,E,\\nGM000010962,18000508,PRCP,0,,,E,\\nEZE00100082,18000508,TMAX,240,,,E,\\nEZE00100082,18000508,TMIN,130,,,E,\\nITE00100554,18000509,TMAX,225,,,E,\\nITE00100554,18000509,TMIN,134,,,E,\\nGM000010962,18000509,PRCP,0,,,E,\\nEZE00100082,18000509,TMAX,245,,,E,\\nEZE00100082,18000509,TMIN,151,,,E,\\nITE00100554,18000510,TMAX,188,,,E,\\nITE00100554,18000510,TMIN,154,,,E,\\nGM000010962,18000510,PRCP,0,,,E,\\nEZE00100082,18000510,TMAX,241,,,E,\\nEZE00100082,18000510,TMIN,149,,,E,\\nITE00100554,18000511,TMAX,210,,,E,\\nITE00100554,18000511,TMIN,154,,,E,\\nGM000010962,18000511,PRCP,11,,,E,\\nEZE00100082,18000511,TMAX,162,,,E,\\nEZE00100082,18000511,TMIN,103,,,E,\\nITE00100554,18000512,TMAX,204,,,E,\\nITE00100554,18000512,TMIN,150,,,E,\\nGM000010962,18000512,PRCP,7,,,E,\\nEZE00100082,18000512,TMAX,162,,,E,\\nEZE00100082,18000512,TMIN,100,,,E,\\nITE00100554,18000513,TMAX,188,,,E,\\nITE00100554,18000513,TMIN,154,,,E,\\nGM000010962,18000513,PRCP,25,,,E,\\nEZE00100082,18000513,TMAX,197,,,E,\\nEZE00100082,18000513,TMIN,122,,,E,\\nITE00100554,18000514,TMAX,200,,,E,\\nITE00100554,18000514,TMIN,134,,,E,\\nGM000010962,18000514,PRCP,35,,,E,\\nEZE00100082,18000514,TMAX,209,,,E,\\nEZE00100082,18000514,TMIN,125,,,E,\\nITE00100554,18000515,TMAX,213,,,E,\\nITE00100554,18000515,TMIN,135,,,E,\\nGM000010962,18000515,PRCP,7,,,E,\\nEZE00100082,18000515,TMAX,161,,,E,\\nEZE00100082,18000515,TMIN,116,,,E,\\nITE00100554,18000516,TMAX,213,,,E,\\nITE00100554,18000516,TMIN,135,,,E,\\nGM000010962,18000516,PRCP,279,,,E,\\nEZE00100082,18000516,TMAX,188,,,E,\\nEZE00100082,18000516,TMIN,129,,,E,\\nITE00100554,18000517,TMAX,209,,,E,\\nITE00100554,18000517,TMIN,160,,,E,\\nGM000010962,18000517,PRCP,0,,,E,\\nEZE00100082,18000517,TMAX,220,,,E,\\nEZE00100082,18000517,TMIN,124,,,E,\\nITE00100554,18000518,TMAX,213,,,E,\\nITE00100554,18000518,TMIN,146,,,E,\\nGM000010962,18000518,PRCP,43,,,E,\\nEZE00100082,18000518,TMAX,186,,,E,\\nEZE00100082,18000518,TMIN,119,,,E,\\nITE00100554,18000519,TMAX,200,,,E,\\nITE00100554,18000519,TMIN,135,,,E,\\nGM000010962,18000519,PRCP,0,,,E,\\nEZE00100082,18000519,TMAX,172,,,E,\\nEZE00100082,18000519,TMIN,105,,,E,\\nITE00100554,18000520,TMAX,225,,,E,\\nITE00100554,18000520,TMIN,138,,,E,\\nGM000010962,18000520,PRCP,0,,,E,\\nEZE00100082,18000520,TMAX,225,,,E,\\nEZE00100082,18000520,TMIN,115,,,E,\\nITE00100554,18000521,TMAX,238,,,E,\\nITE00100554,18000521,TMIN,179,,,E,\\nGM000010962,18000521,PRCP,0,,,E,\\nEZE00100082,18000521,TMAX,247,,,E,\\nEZE00100082,18000521,TMIN,136,,,E,\\nITE00100554,18000522,TMAX,263,,,E,\\nITE00100554,18000522,TMIN,166,,,E,\\nGM000010962,18000522,PRCP,43,,,E,\\nEZE00100082,18000522,TMAX,262,,,E,\\nEZE00100082,18000522,TMIN,157,,,E,\\nITE00100554,18000523,TMAX,250,,,E,\\nITE00100554,18000523,TMIN,188,,,E,\\nGM000010962,18000523,PRCP,71,,,E,\\nEZE00100082,18000523,TMAX,270,,,E,\\nEZE00100082,18000523,TMIN,183,,,E,\\nITE00100554,18000524,TMAX,225,,,E,\\nITE00100554,18000524,TMIN,185,,,E,\\nGM000010962,18000524,PRCP,0,,,E,\\nEZE00100082,18000524,TMAX,282,,,E,\\nEZE00100082,18000524,TMIN,178,,,E,\\nITE00100554,18000525,TMAX,238,,,E,\\nITE00100554,18000525,TMIN,181,,,E,\\nGM000010962,18000525,PRCP,305,,,E,\\nEZE00100082,18000525,TMAX,232,,,E,\\nEZE00100082,18000525,TMIN,174,,,E,\\nITE00100554,18000526,TMAX,263,,,E,\\nITE00100554,18000526,TMIN,198,,,E,\\nGM000010962,18000526,PRCP,169,,,E,\\nEZE00100082,18000526,TMAX,226,,,E,\\nEZE00100082,18000526,TMIN,160,,,E,\\nITE00100554,18000527,TMAX,269,,,E,\\nITE00100554,18000527,TMIN,210,,,E,\\nGM000010962,18000527,PRCP,24,,,E,\\nEZE00100082,18000527,TMAX,246,,,E,\\nEZE00100082,18000527,TMIN,173,,,E,\\nITE00100554,18000528,TMAX,244,,,E,\\nITE00100554,18000528,TMIN,191,,,E,\\nGM000010962,18000528,PRCP,2,,,E,\\nEZE00100082,18000528,TMAX,261,,,E,\\nEZE00100082,18000528,TMIN,189,,,E,\\nITE00100554,18000529,TMAX,216,,,E,\\nITE00100554,18000529,TMIN,191,,,E,\\nGM000010962,18000529,PRCP,123,,,E,\\nEZE00100082,18000529,TMAX,258,,,E,\\nEZE00100082,18000529,TMIN,194,,,E,\\nITE00100554,18000530,TMAX,259,,,E,\\nITE00100554,18000530,TMIN,196,,,E,\\nGM000010962,18000530,PRCP,97,,,E,\\nEZE00100082,18000530,TMAX,238,,,E,\\nEZE00100082,18000530,TMIN,183,,,E,\\nITE00100554,18000531,TMAX,254,,,E,\\nITE00100554,18000531,TMIN,196,,,E,\\nGM000010962,18000531,PRCP,75,,,E,\\nEZE00100082,18000531,TMAX,210,,,E,\\nEZE00100082,18000531,TMIN,170,,,E,\\nITE00100554,18000601,TMAX,204,,,E,\\nITE00100554,18000601,TMIN,191,,,E,\\nGM000010962,18000601,PRCP,102,,,E,\\nEZE00100082,18000601,TMAX,191,,,E,\\nEZE00100082,18000601,TMIN,157,,,E,\\nITE00100554,18000602,TMAX,216,,,E,\\nITE00100554,18000602,TMIN,138,,,E,\\nGM000010962,18000602,PRCP,45,,,E,\\nEZE00100082,18000602,TMAX,193,,,E,\\nEZE00100082,18000602,TMIN,132,,,E,\\nITE00100554,18000603,TMAX,213,,,E,\\nITE00100554,18000603,TMIN,138,,,E,\\nGM000010962,18000603,PRCP,0,,,E,\\nEZE00100082,18000603,TMAX,192,,,E,\\nEZE00100082,18000603,TMIN,144,,,E,\\nITE00100554,18000604,TMAX,225,,,E,\\nITE00100554,18000604,TMIN,156,,,E,\\nGM000010962,18000604,PRCP,11,,,E,\\nEZE00100082,18000604,TMAX,216,,,E,\\nEZE00100082,18000604,TMIN,141,,,E,\\nITE00100554,18000605,TMAX,256,,,E,\\nITE00100554,18000605,TMIN,173,,,E,\\nGM000010962,18000605,PRCP,0,,,E,\\nEZE00100082,18000605,TMAX,226,,,E,\\nEZE00100082,18000605,TMIN,147,,,E,\\nITE00100554,18000606,TMAX,250,,,E,\\nITE00100554,18000606,TMIN,184,,,E,\\nGM000010962,18000606,PRCP,27,,,E,\\nEZE00100082,18000606,TMAX,227,,,E,\\nEZE00100082,18000606,TMIN,177,,,E,\\nITE00100554,18000607,TMAX,198,,,E,\\nITE00100554,18000607,TMIN,173,,,E,\\nGM000010962,18000607,PRCP,23,,,E,\\nEZE00100082,18000607,TMAX,219,,,E,\\nEZE00100082,18000607,TMIN,133,,,E,\\nITE00100554,18000608,TMAX,191,,,E,\\nITE00100554,18000608,TMIN,169,,,E,\\nGM000010962,18000608,PRCP,297,,,E,\\nEZE00100082,18000608,TMAX,164,,,E,\\nEZE00100082,18000608,TMIN,117,,,E,\\nITE00100554,18000609,TMAX,223,,,E,\\nITE00100554,18000609,TMIN,166,,,E,\\nGM000010962,18000609,PRCP,2,,,E,\\nEZE00100082,18000609,TMAX,191,,,E,\\nEZE00100082,18000609,TMIN,119,,,E,\\nITE00100554,18000610,TMAX,248,,,E,\\nITE00100554,18000610,TMIN,166,,,E,\\nGM000010962,18000610,PRCP,0,,,E,\\nEZE00100082,18000610,TMAX,191,,,E,\\nEZE00100082,18000610,TMIN,129,,,E,\\nITE00100554,18000611,TMAX,229,,,E,\\nITE00100554,18000611,TMIN,169,,,E,\\nGM000010962,18000611,PRCP,40,,,E,\\nEZE00100082,18000611,TMAX,185,,,E,\\nEZE00100082,18000611,TMIN,104,,,E,\\nITE00100554,18000612,TMAX,206,,,E,\\nITE00100554,18000612,TMIN,175,,,E,\\nGM000010962,18000612,PRCP,10,,,E,\\nEZE00100082,18000612,TMAX,190,,,E,\\nEZE00100082,18000612,TMIN,100,,,E,\\nITE00100554,18000613,TMAX,229,,,E,\\nITE00100554,18000613,TMIN,171,,,E,\\nGM000010962,18000613,PRCP,51,,,E,\\nEZE00100082,18000613,TMAX,198,,,E,\\nEZE00100082,18000613,TMIN,115,,,E,\\nITE00100554,18000614,TMAX,216,,,E,\\nITE00100554,18000614,TMIN,166,,,E,\\nGM000010962,18000614,PRCP,10,,,E,\\nEZE00100082,18000614,TMAX,212,,,E,\\nEZE00100082,18000614,TMIN,126,,,E,\\nITE00100554,18000615,TMAX,216,,,E,\\nITE00100554,18000615,TMIN,141,,,E,\\nGM000010962,18000615,PRCP,7,,,E,\\nEZE00100082,18000615,TMAX,148,,,E,\\nEZE00100082,18000615,TMIN,90,,,E,\\nITE00100554,18000616,TMAX,216,,,E,\\nITE00100554,18000616,TMIN,141,,,E,\\nGM000010962,18000616,PRCP,16,,,E,\\nEZE00100082,18000616,TMAX,139,,,E,\\nEZE00100082,18000616,TMIN,84,,,E,\\nITE00100554,18000617,TMAX,225,,,E,\\nITE00100554,18000617,TMIN,141,,,E,\\nGM000010962,18000617,PRCP,12,,,E,\\nEZE00100082,18000617,TMAX,131,,,E,\\nEZE00100082,18000617,TMIN,82,,,E,\\nITE00100554,18000618,TMAX,235,,,E,\\nITE00100554,18000618,TMIN,146,,,E,\\nGM000010962,18000618,PRCP,0,,,E,\\nEZE00100082,18000618,TMAX,140,,,E,\\nEZE00100082,18000618,TMIN,87,,,E,\\nITE00100554,18000619,TMAX,235,,,E,\\nITE00100554,18000619,TMIN,148,,,E,\\nGM000010962,18000619,PRCP,63,,,E,\\nEZE00100082,18000619,TMAX,164,,,E,\\nEZE00100082,18000619,TMIN,98,,,E,\\nITE00100554,18000620,TMAX,254,,,E,\\nITE00100554,18000620,TMIN,146,,,E,\\nGM000010962,18000620,PRCP,17,,,E,\\nEZE00100082,18000620,TMAX,210,,,E,\\nEZE00100082,18000620,TMIN,88,,,E,\\nITE00100554,18000621,TMAX,259,,,E,\\nITE00100554,18000621,TMIN,173,,,E,\\nGM000010962,18000621,PRCP,2,,,E,\\nEZE00100082,18000621,TMAX,195,,,E,\\nEZE00100082,18000621,TMIN,156,,,E,\\nITE00100554,18000622,TMAX,213,,,E,\\nITE00100554,18000622,TMIN,204,,,E,\\nGM000010962,18000622,PRCP,111,,,E,\\nEZE00100082,18000622,TMAX,192,,,E,\\nEZE00100082,18000622,TMIN,134,,,E,\\nITE00100554,18000623,TMAX,241,,,E,\\nITE00100554,18000623,TMIN,154,,,E,\\nGM000010962,18000623,PRCP,27,,,E,\\nEZE00100082,18000623,TMAX,182,,,E,\\nEZE00100082,18000623,TMIN,118,,,E,\\nITE00100554,18000624,TMAX,241,,,E,\\nITE00100554,18000624,TMIN,179,,,E,\\nGM000010962,18000624,PRCP,0,,,E,\\nEZE00100082,18000624,TMAX,194,,,E,\\nEZE00100082,18000624,TMIN,115,,,E,\\nITE00100554,18000625,TMAX,254,,,E,\\nITE00100554,18000625,TMIN,184,,,E,\\nGM000010962,18000625,PRCP,0,,,E,\\nEZE00100082,18000625,TMAX,217,,,E,\\nEZE00100082,18000625,TMIN,100,,,E,\\nITE00100554,18000626,TMAX,263,,,E,\\nITE00100554,18000626,TMIN,184,,,E,\\nGM000010962,18000626,PRCP,0,,,E,\\nEZE00100082,18000626,TMAX,233,,,E,\\nEZE00100082,18000626,TMIN,131,,,E,\\nITE00100554,18000627,TMAX,275,,,E,\\nITE00100554,18000627,TMIN,204,,,E,\\nGM000010962,18000627,PRCP,0,,,E,\\nEZE00100082,18000627,TMAX,234,,,E,\\nEZE00100082,18000627,TMIN,161,,,E,\\nITE00100554,18000628,TMAX,288,,,E,\\nITE00100554,18000628,TMIN,213,,,E,\\nGM000010962,18000628,PRCP,12,,,E,\\nEZE00100082,18000628,TMAX,227,,,E,\\nEZE00100082,18000628,TMIN,140,,,E,\\nITE00100554,18000629,TMAX,265,,,E,\\nITE00100554,18000629,TMIN,198,,,E,\\nGM000010962,18000629,PRCP,0,,,E,\\nEZE00100082,18000629,TMAX,250,,,E,\\nEZE00100082,18000629,TMIN,137,,,E,\\nITE00100554,18000630,TMAX,279,,,E,\\nITE00100554,18000630,TMIN,209,,,E,\\nGM000010962,18000630,PRCP,88,,,E,\\nEZE00100082,18000630,TMAX,214,,,E,\\nEZE00100082,18000630,TMIN,155,,,E,\\nITE00100554,18000701,TMAX,275,,,E,\\nITE00100554,18000701,TMIN,213,,,E,\\nGM000010962,18000701,PRCP,32,,,E,\\nEZE00100082,18000701,TMAX,180,,,E,\\nEZE00100082,18000701,TMIN,128,,,E,\\nITE00100554,18000702,TMAX,241,,,E,\\nITE00100554,18000702,TMIN,185,,,E,\\nGM000010962,18000702,PRCP,0,,,E,\\nEZE00100082,18000702,TMAX,193,,,E,\\nEZE00100082,18000702,TMIN,135,,,E,\\nITE00100554,18000703,TMAX,254,,,E,\\nITE00100554,18000703,TMIN,200,,,E,\\nGM000010962,18000703,PRCP,0,,,E,\\nEZE00100082,18000703,TMAX,240,,,E,\\nEZE00100082,18000703,TMIN,134,,,E,\\nITE00100554,18000704,TMAX,288,,,E,\\nITE00100554,18000704,TMIN,200,,,E,\\nGM000010962,18000704,PRCP,33,,,E,\\nEZE00100082,18000704,TMAX,216,,,E,\\nEZE00100082,18000704,TMIN,144,,,E,\\nITE00100554,18000705,TMAX,275,,,E,\\nITE00100554,18000705,TMIN,219,,,E,\\nGM000010962,18000705,PRCP,0,,,E,\\nEZE00100082,18000705,TMAX,281,,,E,\\nEZE00100082,18000705,TMIN,147,,,E,\\nITE00100554,18000706,TMAX,288,,,E,\\nITE00100554,18000706,TMIN,213,,,E,\\nGM000010962,18000706,PRCP,0,,,E,\\nEZE00100082,18000706,TMAX,285,,,E,\\nEZE00100082,18000706,TMIN,188,,,E,\\nITE00100554,18000707,TMAX,278,,,E,\\nITE00100554,18000707,TMIN,221,,,E,\\nGM000010962,18000707,PRCP,0,,,E,\\nEZE00100082,18000707,TMAX,286,,,E,\\nEZE00100082,18000707,TMIN,180,,,E,\\nITE00100554,18000708,TMAX,300,,,E,\\nITE00100554,18000708,TMIN,209,,,E,\\nGM000010962,18000708,PRCP,43,,,E,\\nEZE00100082,18000708,TMAX,293,,,E,\\nEZE00100082,18000708,TMIN,180,,,E,\\nITE00100554,18000709,TMAX,304,,,E,\\nITE00100554,18000709,TMIN,225,,,E,\\nGM000010962,18000709,PRCP,0,,,E,\\nEZE00100082,18000709,TMAX,306,,,E,\\nEZE00100082,18000709,TMIN,204,,,E,\\nITE00100554,18000710,TMAX,319,,,E,\\nITE00100554,18000710,TMIN,235,,,E,\\nGM000010962,18000710,PRCP,117,,,E,\\nEZE00100082,18000710,TMAX,290,,,E,\\nEZE00100082,18000710,TMIN,195,,,E,\\nITE00100554,18000711,TMAX,304,,,E,\\nITE00100554,18000711,TMIN,238,,,E,\\nGM000010962,18000711,PRCP,86,,,E,\\nEZE00100082,18000711,TMAX,195,,,E,\\nEZE00100082,18000711,TMIN,159,,,E,\\nITE00100554,18000712,TMAX,285,,,E,\\nITE00100554,18000712,TMIN,241,,,E,\\nGM000010962,18000712,PRCP,0,,,E,\\nEZE00100082,18000712,TMAX,244,,,E,\\nEZE00100082,18000712,TMIN,160,,,E,\\nITE00100554,18000713,TMAX,300,,,E,\\nITE00100554,18000713,TMIN,231,,,E,\\nGM000010962,18000713,PRCP,0,,,E,\\nEZE00100082,18000713,TMAX,217,,,E,\\nEZE00100082,18000713,TMIN,172,,,E,\\nITE00100554,18000714,TMAX,300,,,E,\\nITE00100554,18000714,TMIN,225,,,E,\\nGM000010962,18000714,PRCP,0,,,E,\\nEZE00100082,18000714,TMAX,186,,,E,\\nEZE00100082,18000714,TMIN,144,,,E,\\nITE00100554,18000715,TMAX,266,,,E,\\nITE00100554,18000715,TMIN,225,,,E,\\nGM000010962,18000715,PRCP,2,,,E,\\nEZE00100082,18000715,TMAX,192,,,E,\\nEZE00100082,18000715,TMIN,124,,,E,\\nITE00100554,18000716,TMAX,248,,,E,\\nITE00100554,18000716,TMIN,204,,,E,\\nGM000010962,18000716,PRCP,0,,,E,\\nEZE00100082,18000716,TMAX,185,,,E,\\nEZE00100082,18000716,TMIN,133,,,E,\\nITE00100554,18000717,TMAX,275,,,E,\\nITE00100554,18000717,TMIN,209,,,E,\\nGM000010962,18000717,PRCP,0,,,E,\\nEZE00100082,18000717,TMAX,204,,,E,\\nEZE00100082,18000717,TMIN,140,,,E,\\nITE00100554,18000718,TMAX,294,,,E,\\nITE00100554,18000718,TMIN,213,,,E,\\nGM000010962,18000718,PRCP,0,,,E,\\nEZE00100082,18000718,TMAX,193,,,E,\\nEZE00100082,18000718,TMIN,142,,,E,\\nITE00100554,18000719,TMAX,284,,,E,\\nITE00100554,18000719,TMIN,225,,,E,\\nGM000010962,18000719,PRCP,0,,,E,\\nEZE00100082,18000719,TMAX,200,,,E,\\nEZE00100082,18000719,TMIN,136,,,E,\\nITE00100554,18000720,TMAX,263,,,E,\\nITE00100554,18000720,TMIN,191,,,E,\\nGM000010962,18000720,PRCP,0,,,E,\\nEZE00100082,18000720,TMAX,204,,,E,\\nEZE00100082,18000720,TMIN,132,,,E,\\nITE00100554,18000721,TMAX,285,,,E,\\nITE00100554,18000721,TMIN,191,,,E,\\nGM000010962,18000721,PRCP,2,,,E,\\nEZE00100082,18000721,TMAX,170,,,E,\\nEZE00100082,18000721,TMIN,124,,,E,\\nITE00100554,18000722,TMAX,266,,,E,\\nITE00100554,18000722,TMIN,213,,,E,\\nGM000010962,18000722,PRCP,80,,,E,\\nEZE00100082,18000722,TMAX,178,,,E,\\nEZE00100082,18000722,TMIN,130,,,E,\\nITE00100554,18000723,TMAX,250,,,E,\\nITE00100554,18000723,TMIN,163,,,E,\\nGM000010962,18000723,PRCP,40,,,E,\\nEZE00100082,18000723,TMAX,190,,,E,\\nEZE00100082,18000723,TMIN,143,,,E,\\nITE00100554,18000724,TMAX,254,,,E,\\nITE00100554,18000724,TMIN,171,,,E,\\nGM000010962,18000724,PRCP,11,,,E,\\nEZE00100082,18000724,TMAX,213,,,E,\\nEZE00100082,18000724,TMIN,155,,,E,\\nITE00100554,18000725,TMAX,269,,,E,\\nITE00100554,18000725,TMIN,191,,,E,\\nGM000010962,18000725,PRCP,0,,,E,\\nEZE00100082,18000725,TMAX,238,,,E,\\nEZE00100082,18000725,TMIN,152,,,E,\\nITE00100554,18000726,TMAX,281,,,E,\\nITE00100554,18000726,TMIN,191,,,E,\\nGM000010962,18000726,PRCP,0,,,E,\\nEZE00100082,18000726,TMAX,220,,,E,\\nEZE00100082,18000726,TMIN,144,,,E,\\nITE00100554,18000727,TMAX,271,,,E,\\nITE00100554,18000727,TMIN,206,,,E,\\nGM000010962,18000727,PRCP,0,,,E,\\nEZE00100082,18000727,TMAX,222,,,E,\\nEZE00100082,18000727,TMIN,169,,,E,\\nITE00100554,18000728,TMAX,269,,,E,\\nITE00100554,18000728,TMIN,216,,,E,\\nGM000010962,18000728,PRCP,0,,,E,\\nEZE00100082,18000728,TMAX,233,,,E,\\nEZE00100082,18000728,TMIN,144,,,E,\\nITE00100554,18000729,TMAX,241,,,E,\\nITE00100554,18000729,TMIN,200,,,E,\\nGM000010962,18000729,PRCP,0,,,E,\\nEZE00100082,18000729,TMAX,230,,,E,\\nEZE00100082,18000729,TMIN,150,,,E,\\nITE00100554,18000730,TMAX,241,,,E,\\nITE00100554,18000730,TMIN,200,,,E,\\nGM000010962,18000730,PRCP,0,,,E,\\nEZE00100082,18000730,TMAX,230,,,E,\\nEZE00100082,18000730,TMIN,120,,,E,\\nITE00100554,18000731,TMAX,271,,,E,\\nITE00100554,18000731,TMIN,188,,,E,\\nGM000010962,18000731,PRCP,0,,,E,\\nEZE00100082,18000731,TMAX,227,,,E,\\nEZE00100082,18000731,TMIN,137,,,E,\\nITE00100554,18000801,TMAX,250,,,E,\\nITE00100554,18000801,TMIN,200,,,E,\\nGM000010962,18000801,PRCP,0,,,E,\\nEZE00100082,18000801,TMAX,242,,,E,\\nEZE00100082,18000801,TMIN,140,,,E,\\nITE00100554,18000802,TMAX,263,,,E,\\nITE00100554,18000802,TMIN,188,,,E,\\nGM000010962,18000802,PRCP,0,,,E,\\nEZE00100082,18000802,TMAX,250,,,E,\\nEZE00100082,18000802,TMIN,154,,,E,\\nITE00100554,18000803,TMAX,275,,,E,\\nITE00100554,18000803,TMIN,200,,,E,\\nGM000010962,18000803,PRCP,0,,,E,\\nEZE00100082,18000803,TMAX,281,,,E,\\nEZE00100082,18000803,TMIN,183,,,E,\\nITE00100554,18000804,TMAX,288,,,E,\\nITE00100554,18000804,TMIN,200,,,E,\\nGM000010962,18000804,PRCP,0,,,E,\\nEZE00100082,18000804,TMAX,316,,,E,\\nEZE00100082,18000804,TMIN,192,,,E,\\nITE00100554,18000805,TMAX,309,,,E,\\nITE00100554,18000805,TMIN,210,,,E,\\nGM000010962,18000805,PRCP,0,,,E,\\nEZE00100082,18000805,TMAX,248,,,E,\\nEZE00100082,18000805,TMIN,168,,,E,\\nITE00100554,18000806,TMAX,288,,,E,\\nITE00100554,18000806,TMIN,213,,,E,\\nGM000010962,18000806,PRCP,0,,,E,\\nEZE00100082,18000806,TMAX,216,,,E,\\nEZE00100082,18000806,TMIN,138,,,E,\\nITE00100554,18000807,TMAX,298,,,E,\\nITE00100554,18000807,TMIN,200,,,E,\\nGM000010962,18000807,PRCP,0,,,E,\\nEZE00100082,18000807,TMAX,210,,,E,\\nEZE00100082,18000807,TMIN,141,,,E,\\nITE00100554,18000808,TMAX,223,,,E,\\nITE00100554,18000808,TMIN,143,,,E,\\nGM000010962,18000808,PRCP,0,,,E,\\nEZE00100082,18000808,TMAX,193,,,E,\\nEZE00100082,18000808,TMIN,136,,,E,\\nITE00100554,18000809,TMAX,240,,,E,\\nITE00100554,18000809,TMIN,144,,,E,\\nGM000010962,18000809,PRCP,9,,,E,\\nEZE00100082,18000809,TMAX,214,,,E,\\nEZE00100082,18000809,TMIN,117,,,E,\\nITE00100554,18000810,TMAX,246,,,E,\\nITE00100554,18000810,TMIN,159,,,E,\\nGM000010962,18000810,PRCP,0,,,E,\\nEZE00100082,18000810,TMAX,251,,,E,\\nEZE00100082,18000810,TMIN,155,,,E,\\nITE00100554,18000811,TMAX,271,,,E,\\nITE00100554,18000811,TMIN,166,,,E,\\nGM000010962,18000811,PRCP,0,,,E,\\nEZE00100082,18000811,TMAX,246,,,E,\\nEZE00100082,18000811,TMIN,155,,,E,\\nITE00100554,18000812,TMAX,259,,,E,\\nITE00100554,18000812,TMIN,184,,,E,\\nGM000010962,18000812,PRCP,0,,,E,\\nEZE00100082,18000812,TMAX,262,,,E,\\nEZE00100082,18000812,TMIN,162,,,E,\\nITE00100554,18000813,TMAX,281,,,E,\\nITE00100554,18000813,TMIN,204,,,E,\\nGM000010962,18000813,PRCP,0,,,E,\\nEZE00100082,18000813,TMAX,287,,,E,\\nEZE00100082,18000813,TMIN,165,,,E,\\nITE00100554,18000814,TMAX,284,,,E,\\nITE00100554,18000814,TMIN,221,,,E,\\nGM000010962,18000814,PRCP,0,,,E,\\nEZE00100082,18000814,TMAX,306,,,E,\\nEZE00100082,18000814,TMIN,180,,,E,\\nITE00100554,18000815,TMAX,298,,,E,\\nITE00100554,18000815,TMIN,216,,,E,\\nGM000010962,18000815,PRCP,0,,,E,\\nEZE00100082,18000815,TMAX,307,,,E,\\nEZE00100082,18000815,TMIN,181,,,E,\\nITE00100554,18000816,TMAX,304,,,E,\\nITE00100554,18000816,TMIN,216,,,E,\\nGM000010962,18000816,PRCP,0,,,E,\\nEZE00100082,18000816,TMAX,304,,,E,\\nEZE00100082,18000816,TMIN,198,,,E,\\nITE00100554,18000817,TMAX,309,,,E,\\nITE00100554,18000817,TMIN,216,,,E,\\nGM000010962,18000817,PRCP,0,,,E,\\nEZE00100082,18000817,TMAX,275,,,E,\\nEZE00100082,18000817,TMIN,178,,,E,\\nITE00100554,18000818,TMAX,313,,,E,\\nITE00100554,18000818,TMIN,221,,,E,\\nGM000010962,18000818,PRCP,0,,,E,\\nEZE00100082,18000818,TMAX,323,,,E,\\nEZE00100082,18000818,TMIN,185,,,E,\\nITE00100554,18000819,TMAX,323,,,E,\\nITE00100554,18000819,TMIN,238,,,E,\\nGM000010962,18000819,PRCP,0,,,E,\\nEZE00100082,18000819,TMAX,290,,,E,\\nEZE00100082,18000819,TMIN,195,,,E,\\nITE00100554,18000820,TMAX,310,,,E,\\nITE00100554,18000820,TMIN,235,,,E,\\nGM000010962,18000820,PRCP,0,,,E,\\nEZE00100082,18000820,TMAX,274,,,E,\\nEZE00100082,18000820,TMIN,202,,,E,\\nITE00100554,18000821,TMAX,298,,,E,\\nITE00100554,18000821,TMIN,231,,,E,\\nGM000010962,18000821,PRCP,36,,,E,\\nEZE00100082,18000821,TMAX,253,,,E,\\nEZE00100082,18000821,TMIN,195,,,E,\\nITE00100554,18000822,TMAX,279,,,E,\\nITE00100554,18000822,TMIN,209,,,E,\\nGM000010962,18000822,PRCP,195,,,E,\\nEZE00100082,18000822,TMAX,206,,,E,\\nEZE00100082,18000822,TMIN,158,,,E,\\nITE00100554,18000823,TMAX,213,,,E,\\nITE00100554,18000823,TMIN,204,,,E,\\nGM000010962,18000823,PRCP,0,,,E,\\nEZE00100082,18000823,TMAX,231,,,E,\\nEZE00100082,18000823,TMIN,119,,,E,\\nITE00100554,18000824,TMAX,229,,,E,\\nITE00100554,18000824,TMIN,148,,,E,\\nGM000010962,18000824,PRCP,33,,,E,\\nEZE00100082,18000824,TMAX,213,,,E,\\nEZE00100082,18000824,TMIN,154,,,E,\\nITE00100554,18000825,TMAX,241,,,E,\\nITE00100554,18000825,TMIN,171,,,E,\\nGM000010962,18000825,PRCP,0,,,E,\\nEZE00100082,18000825,TMAX,200,,,E,\\nEZE00100082,18000825,TMIN,133,,,E,\\nITE00100554,18000826,TMAX,210,,,E,\\nITE00100554,18000826,TMIN,159,,,E,\\nGM000010962,18000826,PRCP,51,,,E,\\nEZE00100082,18000826,TMAX,215,,,E,\\nEZE00100082,18000826,TMIN,151,,,E,\\nITE00100554,18000827,TMAX,234,,,E,\\nITE00100554,18000827,TMIN,146,,,E,\\nGM000010962,18000827,PRCP,268,,,E,\\nEZE00100082,18000827,TMAX,220,,,E,\\nEZE00100082,18000827,TMIN,148,,,E,\\nITE00100554,18000828,TMAX,234,,,E,\\nITE00100554,18000828,TMIN,154,,,E,\\nGM000010962,18000828,PRCP,0,,,E,\\nEZE00100082,18000828,TMAX,203,,,E,\\nEZE00100082,18000828,TMIN,158,,,E,\\nITE00100554,18000829,TMAX,241,,,E,\\nITE00100554,18000829,TMIN,179,,,E,\\nGM000010962,18000829,PRCP,0,,,E,\\nEZE00100082,18000829,TMAX,203,,,E,\\nEZE00100082,18000829,TMIN,149,,,E,\\nITE00100554,18000830,TMAX,241,,,E,\\nITE00100554,18000830,TMIN,163,,,E,\\nGM000010962,18000830,PRCP,40,,,E,\\nEZE00100082,18000830,TMAX,196,,,E,\\nEZE00100082,18000830,TMIN,154,,,E,\\nITE00100554,18000831,TMAX,240,,,E,\\nITE00100554,18000831,TMIN,165,,,E,\\nGM000010962,18000831,PRCP,50,,,E,\\nEZE00100082,18000831,TMAX,177,,,E,\\nEZE00100082,18000831,TMIN,147,,,E,\\nITE00100554,18000901,TMAX,241,,,E,\\nITE00100554,18000901,TMIN,184,,,E,\\nGM000010962,18000901,PRCP,31,,,E,\\nEZE00100082,18000901,TMAX,193,,,E,\\nEZE00100082,18000901,TMIN,148,,,E,\\nITE00100554,18000902,TMAX,179,,,E,\\nITE00100554,18000902,TMIN,179,,,E,\\nGM000010962,18000902,PRCP,0,,,E,\\nEZE00100082,18000902,TMAX,209,,,E,\\nEZE00100082,18000902,TMIN,152,,,E,\\nITE00100554,18000903,TMAX,216,,,E,\\nITE00100554,18000903,TMIN,166,,,E,\\nGM000010962,18000903,PRCP,2,,,E,\\nEZE00100082,18000903,TMAX,197,,,E,\\nEZE00100082,18000903,TMIN,157,,,E,\\nITE00100554,18000904,TMAX,229,,,E,\\nITE00100554,18000904,TMIN,166,,,E,\\nGM000010962,18000904,PRCP,2,,,E,\\nEZE00100082,18000904,TMAX,214,,,E,\\nEZE00100082,18000904,TMIN,141,,,E,\\nITE00100554,18000905,TMAX,238,,,E,\\nITE00100554,18000905,TMIN,191,,,E,\\nGM000010962,18000905,PRCP,0,,,E,\\nEZE00100082,18000905,TMAX,210,,,E,\\nEZE00100082,18000905,TMIN,154,,,E,\\nITE00100554,18000906,TMAX,238,,,E,\\nITE00100554,18000906,TMIN,179,,,E,\\nGM000010962,18000906,PRCP,20,,,E,\\nEZE00100082,18000906,TMAX,225,,,E,\\nEZE00100082,18000906,TMIN,173,,,E,\\nITE00100554,18000907,TMAX,223,,,E,\\nITE00100554,18000907,TMIN,178,,,E,\\nGM000010962,18000907,PRCP,0,,,E,\\nEZE00100082,18000907,TMAX,230,,,E,\\nEZE00100082,18000907,TMIN,146,,,E,\\nITE00100554,18000908,TMAX,238,,,E,\\nITE00100554,18000908,TMIN,175,,,E,\\nGM000010962,18000908,PRCP,56,,,E,\\nEZE00100082,18000908,TMAX,227,,,E,\\nEZE00100082,18000908,TMIN,184,,,E,\\nITE00100554,18000909,TMAX,250,,,E,\\nITE00100554,18000909,TMIN,188,,,E,\\nGM000010962,18000909,PRCP,11,,,E,\\nEZE00100082,18000909,TMAX,194,,,E,\\nEZE00100082,18000909,TMIN,163,,,E,\\nITE00100554,18000910,TMAX,238,,,E,\\nITE00100554,18000910,TMIN,188,,,E,\\nGM000010962,18000910,PRCP,0,,,E,\\nEZE00100082,18000910,TMAX,202,,,E,\\nEZE00100082,18000910,TMIN,152,,,E,\\nITE00100554,18000911,TMAX,248,,,E,\\nITE00100554,18000911,TMIN,163,,,E,\\nGM000010962,18000911,PRCP,110,,,E,\\nEZE00100082,18000911,TMAX,181,,,E,\\nEZE00100082,18000911,TMIN,157,,,E,\\nITE00100554,18000912,TMAX,238,,,E,\\nITE00100554,18000912,TMIN,163,,,E,\\nGM000010962,18000912,PRCP,1,,,E,\\nEZE00100082,18000912,TMAX,186,,,E,\\nEZE00100082,18000912,TMIN,141,,,E,\\nITE00100554,18000913,TMAX,241,,,E,\\nITE00100554,18000913,TMIN,154,,,E,\\nGM000010962,18000913,PRCP,0,,,E,\\nEZE00100082,18000913,TMAX,177,,,E,\\nEZE00100082,18000913,TMIN,116,,,E,\\nITE00100554,18000914,TMAX,229,,,E,\\nITE00100554,18000914,TMIN,166,,,E,\\nGM000010962,18000914,PRCP,0,,,E,\\nEZE00100082,18000914,TMAX,183,,,E,\\nEZE00100082,18000914,TMIN,104,,,E,\\nITE00100554,18000915,TMAX,225,,,E,\\nITE00100554,18000915,TMIN,159,,,E,\\nGM000010962,18000915,PRCP,0,,,E,\\nEZE00100082,18000915,TMAX,198,,,E,\\nEZE00100082,18000915,TMIN,115,,,E,\\nITE00100554,18000916,TMAX,229,,,E,\\nITE00100554,18000916,TMIN,154,,,E,\\nGM000010962,18000916,PRCP,0,,,E,\\nEZE00100082,18000916,TMAX,205,,,E,\\nEZE00100082,18000916,TMIN,111,,,E,\\nITE00100554,18000917,TMAX,235,,,E,\\nITE00100554,18000917,TMIN,163,,,E,\\nGM000010962,18000917,PRCP,0,,,E,\\nEZE00100082,18000917,TMAX,199,,,E,\\nEZE00100082,18000917,TMIN,110,,,E,\\nITE00100554,18000918,TMAX,246,,,E,\\nITE00100554,18000918,TMIN,175,,,E,\\nGM000010962,18000918,PRCP,4,,,E,\\nEZE00100082,18000918,TMAX,217,,,E,\\nEZE00100082,18000918,TMIN,118,,,E,\\nITE00100554,18000919,TMAX,241,,,E,\\nITE00100554,18000919,TMIN,184,,,E,\\nGM000010962,18000919,PRCP,0,,,E,\\nEZE00100082,18000919,TMAX,217,,,E,\\nEZE00100082,18000919,TMIN,165,,,E,\\nITE00100554,18000920,TMAX,225,,,E,\\nITE00100554,18000920,TMIN,191,,,E,\\nGM000010962,18000920,PRCP,2,,,E,\\nEZE00100082,18000920,TMAX,210,,,E,\\nEZE00100082,18000920,TMIN,142,,,E,\\nITE00100554,18000921,TMAX,231,,,E,\\nITE00100554,18000921,TMIN,191,,,E,\\nGM000010962,18000921,PRCP,85,,,E,\\nEZE00100082,18000921,TMAX,193,,,E,\\nEZE00100082,18000921,TMIN,155,,,E,\\nITE00100554,18000922,TMAX,235,,,E,\\nITE00100554,18000922,TMIN,185,,,E,\\nGM000010962,18000922,PRCP,33,,,E,\\nEZE00100082,18000922,TMAX,169,,,E,\\nEZE00100082,18000922,TMIN,136,,,E,\\nITE00100554,18000923,TMAX,234,,,E,\\nITE00100554,18000923,TMIN,163,,,E,\\nGM000010962,18000923,PRCP,14,,,E,\\nEZE00100082,18000923,TMAX,170,,,E,\\nEZE00100082,18000923,TMIN,131,,,E,\\nITE00100554,18000924,TMAX,234,,,E,\\nITE00100554,18000924,TMIN,169,,,E,\\nGM000010962,18000924,PRCP,49,,,E,\\nEZE00100082,18000924,TMAX,164,,,E,\\nEZE00100082,18000924,TMIN,132,,,E,\\nITE00100554,18000925,TMAX,238,,,E,\\nITE00100554,18000925,TMIN,171,,,E,\\nGM000010962,18000925,PRCP,30,,,E,\\nEZE00100082,18000925,TMAX,156,,,E,\\nEZE00100082,18000925,TMIN,125,,,E,\\nITE00100554,18000926,TMAX,198,,,E,\\nITE00100554,18000926,TMIN,181,,,E,\\nGM000010962,18000926,PRCP,10,,,E,\\nEZE00100082,18000926,TMAX,144,,,E,\\nEZE00100082,18000926,TMIN,115,,,E,\\nITE00100554,18000927,TMAX,213,,,E,\\nITE00100554,18000927,TMIN,129,,,E,\\nGM000010962,18000927,PRCP,11,,,E,\\nEZE00100082,18000927,TMAX,134,,,E,\\nEZE00100082,18000927,TMIN,116,,,E,\\nITE00100554,18000928,TMAX,213,,,E,\\nITE00100554,18000928,TMIN,181,,,E,\\nGM000010962,18000928,PRCP,14,,,E,\\nEZE00100082,18000928,TMAX,158,,,E,\\nEZE00100082,18000928,TMIN,114,,,E,\\nITE00100554,18000929,TMAX,196,,,E,\\nITE00100554,18000929,TMIN,119,,,E,\\nGM000010962,18000929,PRCP,13,,,E,\\nEZE00100082,18000929,TMAX,131,,,E,\\nEZE00100082,18000929,TMIN,91,,,E,\\nITE00100554,18000930,TMAX,200,,,E,\\nITE00100554,18000930,TMIN,100,,,E,\\nGM000010962,18000930,PRCP,0,,,E,\\nEZE00100082,18000930,TMAX,157,,,E,\\nEZE00100082,18000930,TMIN,85,,,E,\\nITE00100554,18001001,TMAX,188,,,E,\\nITE00100554,18001001,TMIN,129,,,E,\\nGM000010962,18001001,PRCP,45,,,E,\\nEZE00100082,18001001,TMAX,133,,,E,\\nEZE00100082,18001001,TMIN,110,,,E,\\nITE00100554,18001002,TMAX,194,,,E,\\nITE00100554,18001002,TMIN,144,,,E,\\nGM000010962,18001002,PRCP,127,,,E,\\nEZE00100082,18001002,TMAX,135,,,E,\\nEZE00100082,18001002,TMIN,98,,,E,\\nITE00100554,18001003,TMAX,200,,,E,\\nITE00100554,18001003,TMIN,144,,,E,\\nGM000010962,18001003,PRCP,149,,,E,\\nEZE00100082,18001003,TMAX,164,,,E,\\nEZE00100082,18001003,TMIN,94,,,E,\\nITE00100554,18001004,TMAX,200,,,E,\\nITE00100554,18001004,TMIN,163,,,E,\\nGM000010962,18001004,PRCP,48,,,E,\\nEZE00100082,18001004,TMAX,136,,,E,\\nEZE00100082,18001004,TMIN,109,,,E,\\nITE00100554,18001005,TMAX,185,,,E,\\nITE00100554,18001005,TMIN,141,,,E,\\nGM000010962,18001005,PRCP,0,,,E,\\nEZE00100082,18001005,TMAX,150,,,E,\\nEZE00100082,18001005,TMIN,95,,,E,\\nITE00100554,18001006,TMAX,181,,,E,\\nITE00100554,18001006,TMIN,150,,,E,\\nGM000010962,18001006,PRCP,0,,,E,\\nEZE00100082,18001006,TMAX,149,,,E,\\nEZE00100082,18001006,TMIN,76,,,E,\\nITE00100554,18001007,TMAX,169,,,E,\\nITE00100554,18001007,TMIN,154,,,E,\\nGM000010962,18001007,PRCP,0,,,E,\\nEZE00100082,18001007,TMAX,163,,,E,\\nEZE00100082,18001007,TMIN,98,,,E,\\nITE00100554,18001008,TMAX,184,,,E,\\nITE00100554,18001008,TMIN,165,,,E,\\nGM000010962,18001008,PRCP,0,,,E,\\nEZE00100082,18001008,TMAX,165,,,E,\\nEZE00100082,18001008,TMIN,104,,,E,\\nITE00100554,18001009,TMAX,184,,,E,\\nITE00100554,18001009,TMIN,166,,,E,\\nGM000010962,18001009,PRCP,49,,,E,\\nEZE00100082,18001009,TMAX,174,,,E,\\nEZE00100082,18001009,TMIN,120,,,E,\\nITE00100554,18001010,TMAX,181,,,E,\\nITE00100554,18001010,TMIN,150,,,E,\\nGM000010962,18001010,PRCP,32,,,E,\\nEZE00100082,18001010,TMAX,169,,,E,\\nEZE00100082,18001010,TMIN,125,,,E,\\nITE00100554,18001011,TMAX,188,,,E,\\nITE00100554,18001011,TMIN,150,,,E,\\nGM000010962,18001011,PRCP,32,,,E,\\nEZE00100082,18001011,TMAX,136,,,E,\\nEZE00100082,18001011,TMIN,97,,,E,\\nITE00100554,18001012,TMAX,175,,,E,\\nITE00100554,18001012,TMIN,123,,,E,\\nGM000010962,18001012,PRCP,0,,,E,\\nEZE00100082,18001012,TMAX,147,,,E,\\nEZE00100082,18001012,TMIN,99,,,E,\\nITE00100554,18001013,TMAX,175,,,E,\\nITE00100554,18001013,TMIN,113,,,E,\\nGM000010962,18001013,PRCP,11,,,E,\\nEZE00100082,18001013,TMAX,127,,,E,\\nEZE00100082,18001013,TMIN,98,,,E,\\nITE00100554,18001014,TMAX,171,,,E,\\nITE00100554,18001014,TMIN,100,,,E,\\nGM000010962,18001014,PRCP,0,,,E,\\nEZE00100082,18001014,TMAX,135,,,E,\\nEZE00100082,18001014,TMIN,93,,,E,\\nITE00100554,18001015,TMAX,171,,,E,\\nITE00100554,18001015,TMIN,96,,,E,\\nGM000010962,18001015,PRCP,0,,,E,\\nEZE00100082,18001015,TMAX,124,,,E,\\nEZE00100082,18001015,TMIN,97,,,E,\\nITE00100554,18001016,TMAX,166,,,E,\\nITE00100554,18001016,TMIN,109,,,E,\\nGM000010962,18001016,PRCP,33,,,E,\\nEZE00100082,18001016,TMAX,119,,,E,\\nEZE00100082,18001016,TMIN,72,,,E,\\nITE00100554,18001017,TMAX,184,,,E,\\nITE00100554,18001017,TMIN,116,,,E,\\nGM000010962,18001017,PRCP,15,,,E,\\nEZE00100082,18001017,TMAX,81,,,E,\\nEZE00100082,18001017,TMIN,48,,,E,\\nITE00100554,18001018,TMAX,154,,,E,\\nITE00100554,18001018,TMIN,104,,,E,\\nGM000010962,18001018,PRCP,11,,,E,\\nEZE00100082,18001018,TMAX,99,,,E,\\nEZE00100082,18001018,TMIN,22,,,E,\\nITE00100554,18001019,TMAX,150,,,E,\\nITE00100554,18001019,TMIN,75,,,E,\\nGM000010962,18001019,PRCP,0,,,E,\\nEZE00100082,18001019,TMAX,127,,,E,\\nEZE00100082,18001019,TMIN,85,,,E,\\nITE00100554,18001020,TMAX,149,,,E,\\nITE00100554,18001020,TMIN,69,,,E,\\nGM000010962,18001020,PRCP,0,,,E,\\nEZE00100082,18001020,TMAX,136,,,E,\\nEZE00100082,18001020,TMIN,75,,,E,\\nITE00100554,18001021,TMAX,148,,,E,\\nITE00100554,18001021,TMIN,71,,,E,\\nGM000010962,18001021,PRCP,0,,,E,\\nEZE00100082,18001021,TMAX,133,,,E,\\nEZE00100082,18001021,TMIN,60,,,E,\\nITE00100554,18001022,TMAX,129,,,E,\\nITE00100554,18001022,TMIN,110,,,E,\\nGM000010962,18001022,PRCP,12,,,E,\\nEZE00100082,18001022,TMAX,106,,,E,\\nEZE00100082,18001022,TMIN,52,,,E,\\nITE00100554,18001023,TMAX,116,,,E,\\nITE00100554,18001023,TMIN,113,,,E,\\nGM000010962,18001023,PRCP,11,,,E,\\nEZE00100082,18001023,TMAX,75,,,E,\\nEZE00100082,18001023,TMIN,44,,,E,\\nITE00100554,18001024,TMAX,104,,,E,\\nITE00100554,18001024,TMIN,44,,,E,\\nGM000010962,18001024,PRCP,0,,,E,\\nEZE00100082,18001024,TMAX,92,,,E,\\nEZE00100082,18001024,TMIN,33,,,E,\\nITE00100554,18001025,TMAX,121,,,E,\\nITE00100554,18001025,TMIN,31,,,E,\\nGM000010962,18001025,PRCP,0,,,E,\\nEZE00100082,18001025,TMAX,76,,,E,\\nEZE00100082,18001025,TMIN,-11,,,E,\\nITE00100554,18001026,TMAX,129,,,E,\\nITE00100554,18001026,TMIN,50,,,E,\\nGM000010962,18001026,PRCP,0,,,E,\\nEZE00100082,18001026,TMAX,90,,,E,\\nEZE00100082,18001026,TMIN,55,,,E,\\nITE00100554,18001027,TMAX,134,,,E,\\nITE00100554,18001027,TMIN,60,,,E,\\nGM000010962,18001027,PRCP,0,,,E,\\nEZE00100082,18001027,TMAX,102,,,E,\\nEZE00100082,18001027,TMIN,45,,,E,\\nITE00100554,18001028,TMAX,148,,,E,\\nITE00100554,18001028,TMIN,125,,,E,\\nGM000010962,18001028,PRCP,0,,,E,\\nEZE00100082,18001028,TMAX,99,,,E,\\nEZE00100082,18001028,TMIN,59,,,E,\\nITE00100554,18001029,TMAX,150,,,E,\\nITE00100554,18001029,TMIN,113,,,E,\\nGM000010962,18001029,PRCP,2,,,E,\\nEZE00100082,18001029,TMAX,97,,,E,\\nEZE00100082,18001029,TMIN,60,,,E,\\nITE00100554,18001030,TMAX,150,,,E,\\nITE00100554,18001030,TMIN,116,,,E,\\nGM000010962,18001030,PRCP,0,,,E,\\nEZE00100082,18001030,TMAX,123,,,E,\\nEZE00100082,18001030,TMIN,70,,,E,\\nITE00100554,18001031,TMAX,125,,,E,\\nITE00100554,18001031,TMIN,116,,,E,\\nGM000010962,18001031,PRCP,0,,,E,\\nEZE00100082,18001031,TMAX,90,,,E,\\nEZE00100082,18001031,TMIN,22,,,E,\\nITE00100554,18001101,TMAX,150,,,E,\\nITE00100554,18001101,TMIN,116,,,E,\\nGM000010962,18001101,PRCP,20,,,E,\\nEZE00100082,18001101,TMAX,88,,,E,\\nEZE00100082,18001101,TMIN,57,,,E,\\nITE00100554,18001102,TMAX,141,,,E,\\nITE00100554,18001102,TMIN,116,,,E,\\nGM000010962,18001102,PRCP,63,,,E,\\nEZE00100082,18001102,TMAX,93,,,E,\\nEZE00100082,18001102,TMIN,60,,,E,\\nITE00100554,18001103,TMAX,135,,,E,\\nITE00100554,18001103,TMIN,90,,,E,\\nGM000010962,18001103,PRCP,0,,,E,\\nEZE00100082,18001103,TMAX,114,,,E,\\nEZE00100082,18001103,TMIN,79,,,E,\\nITE00100554,18001104,TMAX,113,,,E,\\nITE00100554,18001104,TMIN,106,,,E,\\nGM000010962,18001104,PRCP,0,,,E,\\nEZE00100082,18001104,TMAX,116,,,E,\\nEZE00100082,18001104,TMIN,79,,,E,\\nITE00100554,18001105,TMAX,109,,,E,\\nITE00100554,18001105,TMIN,100,,,E,\\nGM000010962,18001105,PRCP,54,,,E,\\nEZE00100082,18001105,TMAX,85,,,E,\\nEZE00100082,18001105,TMIN,61,,,E,\\nITE00100554,18001106,TMAX,113,,,E,\\nITE00100554,18001106,TMIN,48,,,E,\\nGM000010962,18001106,PRCP,59,,,E,\\nEZE00100082,18001106,TMAX,84,,,E,\\nEZE00100082,18001106,TMIN,51,,,E,\\nITE00100554,18001107,TMAX,123,,,E,\\nITE00100554,18001107,TMIN,50,,,E,\\nGM000010962,18001107,PRCP,25,,,E,\\nEZE00100082,18001107,TMAX,86,,,E,\\nEZE00100082,18001107,TMIN,45,,,E,\\nITE00100554,18001108,TMAX,110,,,E,\\nITE00100554,18001108,TMIN,98,,,E,\\nGM000010962,18001108,PRCP,0,,,E,\\nEZE00100082,18001108,TMAX,122,,,E,\\nEZE00100082,18001108,TMIN,74,,,E,\\nITE00100554,18001109,TMAX,113,,,E,\\nITE00100554,18001109,TMIN,109,,,E,\\nGM000010962,18001109,PRCP,4,,,E,\\nEZE00100082,18001109,TMAX,173,,,E,\\nEZE00100082,18001109,TMIN,122,,,E,\\nITE00100554,18001110,TMAX,146,,,E,\\nITE00100554,18001110,TMIN,104,,,E,\\nGM000010962,18001110,PRCP,0,,,E,\\nEZE00100082,18001110,TMAX,147,,,E,\\nEZE00100082,18001110,TMIN,64,,,E,\\nITE00100554,18001111,TMAX,146,,,E,\\nITE00100554,18001111,TMIN,116,,,E,\\nGM000010962,18001111,PRCP,0,,,E,\\nEZE00100082,18001111,TMAX,97,,,E,\\nEZE00100082,18001111,TMIN,43,,,E,\\nITE00100554,18001112,TMAX,134,,,E,\\nITE00100554,18001112,TMIN,121,,,E,\\nGM000010962,18001112,PRCP,0,,,E,\\nEZE00100082,18001112,TMAX,103,,,E,\\nEZE00100082,18001112,TMIN,45,,,E,\\nITE00100554,18001113,TMAX,113,,,E,\\nITE00100554,18001113,TMIN,98,,,E,\\nGM000010962,18001113,PRCP,42,,,E,\\nEZE00100082,18001113,TMAX,80,,,E,\\nEZE00100082,18001113,TMIN,50,,,E,\\nITE00100554,18001114,TMAX,131,,,E,\\nITE00100554,18001114,TMIN,88,,,E,\\nGM000010962,18001114,PRCP,39,,,E,\\nEZE00100082,18001114,TMAX,81,,,E,\\nEZE00100082,18001114,TMIN,27,,,E,\\nITE00100554,18001115,TMAX,119,,,E,\\nITE00100554,18001115,TMIN,66,,,E,\\nGM000010962,18001115,PRCP,0,,,E,\\nEZE00100082,18001115,TMAX,44,,,E,\\nEZE00100082,18001115,TMIN,1,,,E,\\nITE00100554,18001116,TMAX,94,,,E,\\nITE00100554,18001116,TMIN,94,,,E,\\nGM000010962,18001116,PRCP,0,,,E,\\nEZE00100082,18001116,TMAX,63,,,E,\\nEZE00100082,18001116,TMIN,30,,,E,\\nITE00100554,18001117,TMAX,94,,,E,\\nITE00100554,18001117,TMIN,79,,,E,\\nGM000010962,18001117,PRCP,47,,,E,\\nEZE00100082,18001117,TMAX,70,,,E,\\nEZE00100082,18001117,TMIN,44,,,E,\\nITE00100554,18001118,TMAX,98,,,E,\\nITE00100554,18001118,TMIN,54,,,E,\\nGM000010962,18001118,PRCP,13,,,E,\\nEZE00100082,18001118,TMAX,70,,,E,\\nEZE00100082,18001118,TMIN,50,,,E,\\nITE00100554,18001119,TMAX,109,,,E,\\nITE00100554,18001119,TMIN,81,,,E,\\nGM000010962,18001119,PRCP,114,,,E,\\nEZE00100082,18001119,TMAX,68,,,E,\\nEZE00100082,18001119,TMIN,55,,,E,\\nITE00100554,18001120,TMAX,116,,,E,\\nITE00100554,18001120,TMIN,54,,,E,\\nGM000010962,18001120,PRCP,62,,,E,\\nEZE00100082,18001120,TMAX,57,,,E,\\nEZE00100082,18001120,TMIN,15,,,E,\\nITE00100554,18001121,TMAX,91,,,E,\\nITE00100554,18001121,TMIN,46,,,E,\\nGM000010962,18001121,PRCP,7,,,E,\\nEZE00100082,18001121,TMAX,29,,,E,\\nEZE00100082,18001121,TMIN,2,,,E,\\nITE00100554,18001122,TMAX,60,,,E,\\nITE00100554,18001122,TMIN,54,,,E,\\nGM000010962,18001122,PRCP,0,,,E,\\nEZE00100082,18001122,TMAX,34,,,E,\\nEZE00100082,18001122,TMIN,0,,,E,\\nITE00100554,18001123,TMAX,69,,,E,\\nITE00100554,18001123,TMIN,21,,,E,\\nGM000010962,18001123,PRCP,0,,,E,\\nEZE00100082,18001123,TMAX,58,,,E,\\nEZE00100082,18001123,TMIN,30,,,E,\\nITE00100554,18001124,TMAX,63,,,E,\\nITE00100554,18001124,TMIN,19,,,E,\\nGM000010962,18001124,PRCP,0,,,E,\\nEZE00100082,18001124,TMAX,69,,,E,\\nEZE00100082,18001124,TMIN,14,,,E,\\nITE00100554,18001125,TMAX,63,,,E,\\nITE00100554,18001125,TMIN,40,,,E,\\nGM000010962,18001125,PRCP,0,,,E,\\nEZE00100082,18001125,TMAX,43,,,E,\\nEZE00100082,18001125,TMIN,-5,,,E,\\nITE00100554,18001126,TMAX,59,,,E,\\nITE00100554,18001126,TMIN,54,,,E,\\nGM000010962,18001126,PRCP,0,,,E,\\nEZE00100082,18001126,TMAX,45,,,E,\\nEZE00100082,18001126,TMIN,-6,,,E,\\nITE00100554,18001127,TMAX,48,,,E,\\nITE00100554,18001127,TMIN,41,,,E,\\nGM000010962,18001127,PRCP,86,,,E,\\nEZE00100082,18001127,TMAX,56,,,E,\\nEZE00100082,18001127,TMIN,38,,,E,\\nITE00100554,18001128,TMAX,63,,,E,\\nITE00100554,18001128,TMIN,48,,,E,\\nGM000010962,18001128,PRCP,56,,,E,\\nEZE00100082,18001128,TMAX,38,,,E,\\nEZE00100082,18001128,TMIN,17,,,E,\\nITE00100554,18001129,TMAX,66,,,E,\\nITE00100554,18001129,TMIN,59,,,E,\\nGM000010962,18001129,PRCP,13,,,E,\\nEZE00100082,18001129,TMAX,42,,,E,\\nEZE00100082,18001129,TMIN,17,,,E,\\nITE00100554,18001130,TMAX,66,,,E,\\nITE00100554,18001130,TMIN,25,,,E,\\nGM000010962,18001130,PRCP,0,,,E,\\nEZE00100082,18001130,TMAX,22,,,E,\\nEZE00100082,18001130,TMIN,0,,,E,\\nITE00100554,18001201,TMAX,29,,,E,\\nITE00100554,18001201,TMIN,9,,,E,\\nGM000010962,18001201,PRCP,7,,,E,\\nEZE00100082,18001201,TMAX,34,,,E,\\nEZE00100082,18001201,TMIN,-2,,,E,\\nITE00100554,18001202,TMAX,10,,,E,\\nITE00100554,18001202,TMIN,-23,,,E,\\nGM000010962,18001202,PRCP,0,,,E,\\nEZE00100082,18001202,TMAX,39,,,E,\\nEZE00100082,18001202,TMIN,-5,,,E,\\nITE00100554,18001203,TMAX,16,,,E,\\nITE00100554,18001203,TMIN,-4,,,E,\\nGM000010962,18001203,PRCP,14,,,E,\\nEZE00100082,18001203,TMAX,49,,,E,\\nEZE00100082,18001203,TMIN,11,,,E,\\nITE00100554,18001204,TMAX,13,,,E,\\nITE00100554,18001204,TMIN,4,,,E,\\nGM000010962,18001204,PRCP,0,,,E,\\nEZE00100082,18001204,TMAX,34,,,E,\\nEZE00100082,18001204,TMIN,-5,,,E,\\nITE00100554,18001205,TMAX,54,,,E,\\nITE00100554,18001205,TMIN,19,,,E,\\nGM000010962,18001205,PRCP,0,,,E,\\nEZE00100082,18001205,TMAX,23,,,E,\\nEZE00100082,18001205,TMIN,4,,,E,\\nITE00100554,18001206,TMAX,29,,,E,\\nITE00100554,18001206,TMIN,13,,,E,\\nGM000010962,18001206,PRCP,0,,,E,\\nEZE00100082,18001206,TMAX,63,,,E,\\nEZE00100082,18001206,TMIN,19,,,E,\\nITE00100554,18001207,TMAX,13,,,E,\\nITE00100554,18001207,TMIN,3,,,E,\\nGM000010962,18001207,PRCP,0,,,E,\\nEZE00100082,18001207,TMAX,38,,,E,\\nEZE00100082,18001207,TMIN,0,,,E,\\nITE00100554,18001208,TMAX,0,,,E,\\nITE00100554,18001208,TMIN,-4,,,E,\\nGM000010962,18001208,PRCP,0,,,E,\\nEZE00100082,18001208,TMAX,24,,,E,\\nEZE00100082,18001208,TMIN,-4,,,E,\\nITE00100554,18001209,TMAX,10,,,E,\\nITE00100554,18001209,TMIN,-10,,,E,\\nGM000010962,18001209,PRCP,0,,,E,\\nEZE00100082,18001209,TMAX,24,,,E,\\nEZE00100082,18001209,TMIN,-17,,,E,\\nITE00100554,18001210,TMAX,21,,I,E,\\nITE00100554,18001210,TMIN,10,,,E,\\nGM000010962,18001210,PRCP,0,,,E,\\nEZE00100082,18001210,TMAX,27,,,E,\\nEZE00100082,18001210,TMIN,-9,,,E,\\nITE00100554,18001211,TMAX,41,,,E,\\nITE00100554,18001211,TMIN,35,,I,E,\\nGM000010962,18001211,PRCP,0,,,E,\\nEZE00100082,18001211,TMAX,47,,,E,\\nEZE00100082,18001211,TMIN,23,,,E,\\nITE00100554,18001212,TMAX,46,,,E,\\nITE00100554,18001212,TMIN,29,,,E,\\nGM000010962,18001212,PRCP,0,,,E,\\nEZE00100082,18001212,TMAX,44,,,E,\\nEZE00100082,18001212,TMIN,35,,,E,\\nITE00100554,18001213,TMAX,71,,,E,\\nITE00100554,18001213,TMIN,46,,,E,\\nGM000010962,18001213,PRCP,0,,,E,\\nEZE00100082,18001213,TMAX,45,,,E,\\nEZE00100082,18001213,TMIN,35,,,E,\\nITE00100554,18001214,TMAX,85,,,E,\\nITE00100554,18001214,TMIN,66,,,E,\\nGM000010962,18001214,PRCP,0,,,E,\\nEZE00100082,18001214,TMAX,38,,,E,\\nEZE00100082,18001214,TMIN,27,,,E,\\nITE00100554,18001215,TMAX,91,,,E,\\nITE00100554,18001215,TMIN,73,,,E,\\nGM000010962,18001215,PRCP,0,,,E,\\nEZE00100082,18001215,TMAX,27,,,E,\\nEZE00100082,18001215,TMIN,23,,,E,\\nITE00100554,18001216,TMAX,66,,,E,\\nITE00100554,18001216,TMIN,60,,,E,\\nGM000010962,18001216,PRCP,0,,,E,\\nEZE00100082,18001216,TMAX,23,,,E,\\nEZE00100082,18001216,TMIN,-3,,,E,\\nITE00100554,18001217,TMAX,50,,,E,\\nITE00100554,18001217,TMIN,50,,,E,\\nGM000010962,18001217,PRCP,0,,,E,\\nEZE00100082,18001217,TMAX,-1,,,E,\\nEZE00100082,18001217,TMIN,-14,,,E,\\nITE00100554,18001218,TMAX,54,,,E,\\nITE00100554,18001218,TMIN,48,,I,E,\\nGM000010962,18001218,PRCP,0,,,E,\\nEZE00100082,18001218,TMAX,-8,,,E,\\nEZE00100082,18001218,TMIN,-35,,,E,\\nITE00100554,18001219,TMAX,29,,I,E,\\nITE00100554,18001219,TMIN,29,,I,E,\\nGM000010962,18001219,PRCP,0,,,E,\\nEZE00100082,18001219,TMAX,-14,,,E,\\nEZE00100082,18001219,TMIN,-56,,,E,\\nITE00100554,18001220,TMAX,13,,I,E,\\nITE00100554,18001220,TMIN,10,,,E,\\nGM000010962,18001220,PRCP,0,,,E,\\nEZE00100082,18001220,TMAX,-14,,,E,\\nEZE00100082,18001220,TMIN,-64,,,E,\\nITE00100554,18001221,TMAX,10,,,E,\\nITE00100554,18001221,TMIN,-13,,,E,\\nGM000010962,18001221,PRCP,0,,,E,\\nEZE00100082,18001221,TMAX,4,,,E,\\nEZE00100082,18001221,TMIN,-83,,,E,\\nITE00100554,18001222,TMAX,16,,,E,\\nITE00100554,18001222,TMIN,-13,,,E,\\nGM000010962,18001222,PRCP,13,,,E,\\nEZE00100082,18001222,TMAX,54,,,E,\\nEZE00100082,18001222,TMIN,4,,,E,\\nITE00100554,18001223,TMAX,23,,,E,\\nITE00100554,18001223,TMIN,-16,,,E,\\nGM000010962,18001223,PRCP,0,,,E,\\nEZE00100082,18001223,TMAX,52,,,E,\\nEZE00100082,18001223,TMIN,30,,,E,\\nITE00100554,18001224,TMAX,16,,,E,\\nITE00100554,18001224,TMIN,4,,,E,\\nGM000010962,18001224,PRCP,0,,,E,\\nEZE00100082,18001224,TMAX,30,,,E,\\nEZE00100082,18001224,TMIN,6,,,E,\\nITE00100554,18001225,TMAX,25,,,E,\\nITE00100554,18001225,TMIN,13,,,E,\\nGM000010962,18001225,PRCP,0,,,E,\\nEZE00100082,18001225,TMAX,21,,,E,\\nEZE00100082,18001225,TMIN,11,,,E,\\nITE00100554,18001226,TMAX,38,,,E,\\nITE00100554,18001226,TMIN,25,,,E,\\nGM000010962,18001226,PRCP,0,,,E,\\nEZE00100082,18001226,TMAX,36,,,E,\\nEZE00100082,18001226,TMIN,8,,,E,\\nITE00100554,18001227,TMAX,10,,I,E,\\nITE00100554,18001227,TMIN,9,,,E,\\nGM000010962,18001227,PRCP,0,,,E,\\nEZE00100082,18001227,TMAX,47,,,E,\\nEZE00100082,18001227,TMIN,20,,,E,\\nITE00100554,18001228,TMAX,35,,,E,\\nITE00100554,18001228,TMIN,25,,,E,\\nGM000010962,18001228,PRCP,7,,,E,\\nEZE00100082,18001228,TMAX,43,,,E,\\nEZE00100082,18001228,TMIN,7,,,E,\\nITE00100554,18001229,TMAX,50,,,E,\\nITE00100554,18001229,TMIN,16,,,E,\\nGM000010962,18001229,PRCP,9,,,E,\\nEZE00100082,18001229,TMAX,45,,,E,\\nEZE00100082,18001229,TMIN,-3,,,E,\\nITE00100554,18001230,TMAX,50,,,E,\\nITE00100554,18001230,TMIN,31,,,E,\\nGM000010962,18001230,PRCP,13,,,E,\\nEZE00100082,18001230,TMAX,96,,,E,\\nEZE00100082,18001230,TMIN,14,,,E,\\nITE00100554,18001231,TMAX,50,,,E,\\nITE00100554,18001231,TMIN,25,,,E,\\nGM000010962,18001231,PRCP,16,,,E,\\nEZE00100082,18001231,TMAX,14,,,E,\\nEZE00100082,18001231,TMIN,-4,,,E,\\n',\n",
       "  29: [],\n",
       "  42: {' ', 'a', 'f', 'k', 'l', 'p', 'r', 'u', 'v'},\n",
       "  49: [' ', 'a', 'f', 'k', 'l', 'p', 'r', 'u', 'v'],\n",
       "  52: [(1, 2), (3, 4), (5, 6)],\n",
       "  57: [1, 2, 3, 4, 5, 6, 7, 8, 9],\n",
       "  65: [1, 4, 7, 10, 13, 16, 19],\n",
       "  84: [0,\n",
       "   2,\n",
       "   4,\n",
       "   6,\n",
       "   8,\n",
       "   10,\n",
       "   12,\n",
       "   14,\n",
       "   16,\n",
       "   18,\n",
       "   20,\n",
       "   22,\n",
       "   24,\n",
       "   26,\n",
       "   28,\n",
       "   30,\n",
       "   32,\n",
       "   34,\n",
       "   36,\n",
       "   38,\n",
       "   40,\n",
       "   42,\n",
       "   44,\n",
       "   46,\n",
       "   48,\n",
       "   50],\n",
       "  89: ['p', 'o', 'w', 't', 's', 'w', 's', 'i', 't', 's']},\n",
       " '_': ['p', 'o', 'w', 't', 's', 'w', 's', 'i', 't', 's'],\n",
       " '_28': 'ITE00100554,18000101,TMAX,-75,,,E,\\nITE00100554,18000101,TMIN,-148,,,E,\\nGM000010962,18000101,PRCP,0,,,E,\\nEZE00100082,18000101,TMAX,-86,,,E,\\nEZE00100082,18000101,TMIN,-135,,,E,\\nITE00100554,18000102,TMAX,-60,,I,E,\\nITE00100554,18000102,TMIN,-125,,,E,\\nGM000010962,18000102,PRCP,0,,,E,\\nEZE00100082,18000102,TMAX,-44,,,E,\\nEZE00100082,18000102,TMIN,-130,,,E,\\nITE00100554,18000103,TMAX,-23,,,E,\\nITE00100554,18000103,TMIN,-46,,I,E,\\nGM000010962,18000103,PRCP,4,,,E,\\nEZE00100082,18000103,TMAX,-10,,,E,\\nEZE00100082,18000103,TMIN,-73,,,E,\\nITE00100554,18000104,TMAX,0,,,E,\\nITE00100554,18000104,TMIN,-13,,,E,\\nGM000010962,18000104,PRCP,0,,,E,\\nEZE00100082,18000104,TMAX,-55,,,E,\\nEZE00100082,18000104,TMIN,-74,,,E,\\nITE00100554,18000105,TMAX,10,,,E,\\nITE00100554,18000105,TMIN,-6,,,E,\\nGM000010962,18000105,PRCP,0,,,E,\\nEZE00100082,18000105,TMAX,-40,,,E,\\nEZE00100082,18000105,TMIN,-58,,,E,\\nITE00100554,18000106,TMAX,13,,,E,\\nITE00100554,18000106,TMIN,13,,,E,\\nGM000010962,18000106,PRCP,0,,,E,\\nEZE00100082,18000106,TMAX,-39,,,E,\\nEZE00100082,18000106,TMIN,-57,,,E,\\nITE00100554,18000107,TMAX,31,,,E,\\nITE00100554,18000107,TMIN,10,,,E,\\nGM000010962,18000107,PRCP,0,,,E,\\nEZE00100082,18000107,TMAX,-30,,,E,\\nEZE00100082,18000107,TMIN,-50,,,E,\\nITE00100554,18000108,TMAX,29,,,E,\\nITE00100554,18000108,TMIN,14,,,E,\\nGM000010962,18000108,PRCP,0,,,E,\\nEZE00100082,18000108,TMAX,-1,,,E,\\nEZE00100082,18000108,TMIN,-31,,,E,\\nITE00100554,18000109,TMAX,35,,,E,\\nITE00100554,18000109,TMIN,23,,,E,\\nGM000010962,18000109,PRCP,0,,,E,\\nEZE00100082,18000109,TMAX,5,,,E,\\nEZE00100082,18000109,TMIN,-46,,,E,\\nITE00100554,18000110,TMAX,46,,,E,\\nITE00100554,18000110,TMIN,31,,,E,\\nGM000010962,18000110,PRCP,0,,,E,\\nEZE00100082,18000110,TMAX,-46,,,E,\\nEZE00100082,18000110,TMIN,-75,,,E,\\nITE00100554,18000111,TMAX,66,,,E,\\nITE00100554,18000111,TMIN,41,,,E,\\nGM000010962,18000111,PRCP,31,,,E,\\nEZE00100082,18000111,TMAX,1,,,E,\\nEZE00100082,18000111,TMIN,-62,,,E,\\nITE00100554,18000112,TMAX,41,,,E,\\nITE00100554,18000112,TMIN,29,,,E,\\nGM000010962,18000112,PRCP,0,,,E,\\nEZE00100082,18000112,TMAX,-33,,,E,\\nEZE00100082,18000112,TMIN,-60,,,E,\\nITE00100554,18000113,TMAX,23,,,E,\\nITE00100554,18000113,TMIN,13,,,E,\\nGM000010962,18000113,PRCP,3,,,E,\\nEZE00100082,18000113,TMAX,-20,,,E,\\nEZE00100082,18000113,TMIN,-60,,,E,\\nITE00100554,18000114,TMAX,41,,,E,\\nITE00100554,18000114,TMIN,23,,,E,\\nGM000010962,18000114,PRCP,0,,,E,\\nEZE00100082,18000114,TMAX,0,,,E,\\nEZE00100082,18000114,TMIN,-35,,,E,\\nITE00100554,18000115,TMAX,54,,,E,\\nITE00100554,18000115,TMIN,41,,,E,\\nGM000010962,18000115,PRCP,0,,,E,\\nEZE00100082,18000115,TMAX,10,,,E,\\nEZE00100082,18000115,TMIN,-23,,,E,\\nITE00100554,18000116,TMAX,56,,,E,\\nITE00100554,18000116,TMIN,41,,,E,\\nGM000010962,18000116,PRCP,0,,,E,\\nEZE00100082,18000116,TMAX,-11,,,E,\\nEZE00100082,18000116,TMIN,-37,,,E,\\nITE00100554,18000117,TMAX,84,,,E,\\nITE00100554,18000117,TMIN,48,,,E,\\nGM000010962,18000117,PRCP,0,,,E,\\nEZE00100082,18000117,TMAX,14,,,E,\\nEZE00100082,18000117,TMIN,-35,,,E,\\nITE00100554,18000118,TMAX,59,,,E,\\nITE00100554,18000118,TMIN,46,,,E,\\nGM000010962,18000118,PRCP,2,,,E,\\nEZE00100082,18000118,TMAX,47,,,E,\\nEZE00100082,18000118,TMIN,9,,,E,\\nITE00100554,18000119,TMAX,59,,,E,\\nITE00100554,18000119,TMIN,50,,,E,\\nGM000010962,18000119,PRCP,0,,,E,\\nEZE00100082,18000119,TMAX,66,,,E,\\nEZE00100082,18000119,TMIN,34,,,E,\\nITE00100554,18000120,TMAX,60,,,E,\\nITE00100554,18000120,TMIN,25,,,E,\\nGM000010962,18000120,PRCP,4,,,E,\\nEZE00100082,18000120,TMAX,58,,,E,\\nEZE00100082,18000120,TMIN,17,,,E,\\nITE00100554,18000121,TMAX,80,,,E,\\nITE00100554,18000121,TMIN,30,,,E,\\nGM000010962,18000121,PRCP,6,,,E,\\nEZE00100082,18000121,TMAX,31,,,E,\\nEZE00100082,18000121,TMIN,8,,,E,\\nITE00100554,18000122,TMAX,81,,,E,\\nITE00100554,18000122,TMIN,74,,,E,\\nGM000010962,18000122,PRCP,68,,,E,\\nEZE00100082,18000122,TMAX,8,,,E,\\nEZE00100082,18000122,TMIN,-16,,,E,\\nITE00100554,18000123,TMAX,85,,,E,\\nITE00100554,18000123,TMIN,75,,,E,\\nGM000010962,18000123,PRCP,18,,,E,\\nEZE00100082,18000123,TMAX,18,,,E,\\nEZE00100082,18000123,TMIN,-16,,,E,\\nITE00100554,18000124,TMAX,85,,,E,\\nITE00100554,18000124,TMIN,75,,,E,\\nGM000010962,18000124,PRCP,0,,,E,\\nEZE00100082,18000124,TMAX,31,,,E,\\nEZE00100082,18000124,TMIN,-3,,,E,\\nITE00100554,18000125,TMAX,98,,,E,\\nITE00100554,18000125,TMIN,75,,,E,\\nGM000010962,18000125,PRCP,0,,,E,\\nEZE00100082,18000125,TMAX,35,,,E,\\nEZE00100082,18000125,TMIN,2,,,E,\\nITE00100554,18000126,TMAX,75,,,E,\\nITE00100554,18000126,TMIN,34,,,E,\\nGM000010962,18000126,PRCP,0,,,E,\\nEZE00100082,18000126,TMAX,44,,,E,\\nEZE00100082,18000126,TMIN,16,,,E,\\nITE00100554,18000127,TMAX,73,,,E,\\nITE00100554,18000127,TMIN,29,,,E,\\nGM000010962,18000127,PRCP,0,,,E,\\nEZE00100082,18000127,TMAX,57,,,E,\\nEZE00100082,18000127,TMIN,15,,,E,\\nITE00100554,18000128,TMAX,79,,,E,\\nITE00100554,18000128,TMIN,54,,,E,\\nGM000010962,18000128,PRCP,4,,,E,\\nEZE00100082,18000128,TMAX,69,,,E,\\nEZE00100082,18000128,TMIN,33,,,E,\\nITE00100554,18000129,TMAX,73,,,E,\\nITE00100554,18000129,TMIN,50,,,E,\\nGM000010962,18000129,PRCP,0,,,E,\\nEZE00100082,18000129,TMAX,67,,,E,\\nEZE00100082,18000129,TMIN,19,,,E,\\nITE00100554,18000130,TMAX,66,,,E,\\nITE00100554,18000130,TMIN,50,,,E,\\nGM000010962,18000130,PRCP,0,,,E,\\nEZE00100082,18000130,TMAX,29,,,E,\\nEZE00100082,18000130,TMIN,3,,,E,\\nITE00100554,18000131,TMAX,85,,,E,\\nITE00100554,18000131,TMIN,50,,,E,\\nGM000010962,18000131,PRCP,0,,,E,\\nEZE00100082,18000131,TMAX,62,,,E,\\nEZE00100082,18000131,TMIN,23,,,E,\\nITE00100554,18000201,TMAX,91,,,E,\\nITE00100554,18000201,TMIN,63,,,E,\\nGM000010962,18000201,PRCP,13,,,E,\\nEZE00100082,18000201,TMAX,48,,,E,\\nEZE00100082,18000201,TMIN,17,,,E,\\nITE00100554,18000202,TMAX,66,,,E,\\nITE00100554,18000202,TMIN,54,,,E,\\nGM000010962,18000202,PRCP,16,,,E,\\nEZE00100082,18000202,TMAX,67,,,E,\\nEZE00100082,18000202,TMIN,19,,,E,\\nITE00100554,18000203,TMAX,56,,,E,\\nITE00100554,18000203,TMIN,54,,,E,\\nGM000010962,18000203,PRCP,0,,,E,\\nEZE00100082,18000203,TMAX,53,,,E,\\nEZE00100082,18000203,TMIN,2,,,E,\\nITE00100554,18000204,TMAX,104,,,E,\\nITE00100554,18000204,TMIN,59,,,E,\\nGM000010962,18000204,PRCP,0,,,E,\\nEZE00100082,18000204,TMAX,66,,,E,\\nEZE00100082,18000204,TMIN,39,,,E,\\nITE00100554,18000205,TMAX,79,,,E,\\nITE00100554,18000205,TMIN,46,,,E,\\nGM000010962,18000205,PRCP,0,,,E,\\nEZE00100082,18000205,TMAX,59,,,E,\\nEZE00100082,18000205,TMIN,22,,,E,\\nITE00100554,18000206,TMAX,75,,,E,\\nITE00100554,18000206,TMIN,41,,,E,\\nGM000010962,18000206,PRCP,0,,,E,\\nEZE00100082,18000206,TMAX,24,,,E,\\nEZE00100082,18000206,TMIN,-3,,,E,\\nITE00100554,18000207,TMAX,73,,,E,\\nITE00100554,18000207,TMIN,35,,,E,\\nGM000010962,18000207,PRCP,6,,,E,\\nEZE00100082,18000207,TMAX,4,,,E,\\nEZE00100082,18000207,TMIN,-22,,,E,\\nITE00100554,18000208,TMAX,50,,,E,\\nITE00100554,18000208,TMIN,25,,,E,\\nGM000010962,18000208,PRCP,0,,,E,\\nEZE00100082,18000208,TMAX,-20,,,E,\\nEZE00100082,18000208,TMIN,-39,,,E,\\nITE00100554,18000209,TMAX,35,,,E,\\nITE00100554,18000209,TMIN,0,,,E,\\nGM000010962,18000209,PRCP,0,,,E,\\nEZE00100082,18000209,TMAX,-17,,,E,\\nEZE00100082,18000209,TMIN,-36,,,E,\\nITE00100554,18000210,TMAX,38,,,E,\\nITE00100554,18000210,TMIN,16,,,E,\\nGM000010962,18000210,PRCP,0,,,E,\\nEZE00100082,18000210,TMAX,-25,,,E,\\nEZE00100082,18000210,TMIN,-69,,,E,\\nITE00100554,18000211,TMAX,21,,,E,\\nITE00100554,18000211,TMIN,9,,,E,\\nGM000010962,18000211,PRCP,0,,,E,\\nEZE00100082,18000211,TMAX,-34,,,E,\\nEZE00100082,18000211,TMIN,-102,,,E,\\nITE00100554,18000212,TMAX,13,,,E,\\nITE00100554,18000212,TMIN,3,,,E,\\nGM000010962,18000212,PRCP,0,,,E,\\nEZE00100082,18000212,TMAX,-22,,,E,\\nEZE00100082,18000212,TMIN,-78,,,E,\\nITE00100554,18000213,TMAX,13,,,E,\\nITE00100554,18000213,TMIN,0,,,E,\\nGM000010962,18000213,PRCP,0,,,E,\\nEZE00100082,18000213,TMAX,1,,,E,\\nEZE00100082,18000213,TMIN,-42,,,E,\\nITE00100554,18000214,TMAX,13,,,E,\\nITE00100554,18000214,TMIN,0,,,E,\\nGM000010962,18000214,PRCP,0,,,E,\\nEZE00100082,18000214,TMAX,5,,,E,\\nEZE00100082,18000214,TMIN,-35,,,E,\\nITE00100554,18000215,TMAX,21,,,E,\\nITE00100554,18000215,TMIN,13,,,E,\\nGM000010962,18000215,PRCP,0,,,E,\\nEZE00100082,18000215,TMAX,18,,,E,\\nEZE00100082,18000215,TMIN,0,,,E,\\nITE00100554,18000216,TMAX,75,,,E,\\nITE00100554,18000216,TMIN,13,,,E,\\nGM000010962,18000216,PRCP,7,,,E,\\nEZE00100082,18000216,TMAX,24,,,E,\\nEZE00100082,18000216,TMIN,-6,,,E,\\nITE00100554,18000217,TMAX,71,,,E,\\nITE00100554,18000217,TMIN,23,,,E,\\nGM000010962,18000217,PRCP,0,,,E,\\nEZE00100082,18000217,TMAX,20,,,E,\\nEZE00100082,18000217,TMIN,-13,,,E,\\nITE00100554,18000218,TMAX,48,,,E,\\nITE00100554,18000218,TMIN,21,,,E,\\nGM000010962,18000218,PRCP,0,,,E,\\nEZE00100082,18000218,TMAX,0,,,E,\\nEZE00100082,18000218,TMIN,-52,,,E,\\nITE00100554,18000219,TMAX,50,,,E,\\nITE00100554,18000219,TMIN,38,,,E,\\nGM000010962,18000219,PRCP,0,,,E,\\nEZE00100082,18000219,TMAX,-6,,,E,\\nEZE00100082,18000219,TMIN,-50,,,E,\\nITE00100554,18000220,TMAX,66,,,E,\\nITE00100554,18000220,TMIN,38,,,E,\\nGM000010962,18000220,PRCP,0,,,E,\\nEZE00100082,18000220,TMAX,-34,,,E,\\nEZE00100082,18000220,TMIN,-72,,,E,\\nITE00100554,18000221,TMAX,66,,,E,\\nITE00100554,18000221,TMIN,25,,,E,\\nGM000010962,18000221,PRCP,0,,,E,\\nEZE00100082,18000221,TMAX,-16,,,E,\\nEZE00100082,18000221,TMIN,-60,,,E,\\nITE00100554,18000222,TMAX,63,,,E,\\nITE00100554,18000222,TMIN,48,,,E,\\nGM000010962,18000222,PRCP,0,,,E,\\nEZE00100082,18000222,TMAX,33,,,E,\\nEZE00100082,18000222,TMIN,-42,,,E,\\nITE00100554,18000223,TMAX,81,,,E,\\nITE00100554,18000223,TMIN,54,,,E,\\nGM000010962,18000223,PRCP,0,,,E,\\nEZE00100082,18000223,TMAX,40,,,E,\\nEZE00100082,18000223,TMIN,17,,,E,\\nITE00100554,18000224,TMAX,104,,,E,\\nITE00100554,18000224,TMIN,73,,,E,\\nGM000010962,18000224,PRCP,0,,,E,\\nEZE00100082,18000224,TMAX,56,,,E,\\nEZE00100082,18000224,TMIN,14,,,E,\\nITE00100554,18000225,TMAX,116,,,E,\\nITE00100554,18000225,TMIN,60,,,E,\\nGM000010962,18000225,PRCP,0,,,E,\\nEZE00100082,18000225,TMAX,20,,,E,\\nEZE00100082,18000225,TMIN,4,,,E,\\nITE00100554,18000226,TMAX,129,,,E,\\nITE00100554,18000226,TMIN,88,,,E,\\nGM000010962,18000226,PRCP,0,,,E,\\nEZE00100082,18000226,TMAX,15,,,E,\\nEZE00100082,18000226,TMIN,-57,,,E,\\nITE00100554,18000227,TMAX,100,,,E,\\nITE00100554,18000227,TMIN,88,,I,E,\\nGM000010962,18000227,PRCP,6,,,E,\\nEZE00100082,18000227,TMAX,-39,,,E,\\nEZE00100082,18000227,TMIN,-74,,,E,\\nITE00100554,18000228,TMAX,75,,I,E,\\nITE00100554,18000228,TMIN,63,,,E,\\nGM000010962,18000228,PRCP,0,,,E,\\nEZE00100082,18000228,TMAX,25,,,E,\\nEZE00100082,18000228,TMIN,-43,,,E,\\nITE00100554,18000301,TMAX,100,,,E,\\nITE00100554,18000301,TMIN,66,,,E,\\nGM000010962,18000301,PRCP,42,,,E,\\nEZE00100082,18000301,TMAX,-21,,,E,\\nEZE00100082,18000301,TMIN,-37,,,E,\\nITE00100554,18000302,TMAX,79,,,E,\\nITE00100554,18000302,TMIN,60,,,E,\\nGM000010962,18000302,PRCP,16,,,E,\\nEZE00100082,18000302,TMAX,4,,,E,\\nEZE00100082,18000302,TMIN,-40,,,E,\\nITE00100554,18000303,TMAX,54,,,E,\\nITE00100554,18000303,TMIN,46,,,E,\\nGM000010962,18000303,PRCP,6,,,E,\\nEZE00100082,18000303,TMAX,10,,,E,\\nEZE00100082,18000303,TMIN,-30,,,E,\\nITE00100554,18000304,TMAX,84,,,E,\\nITE00100554,18000304,TMIN,29,,,E,\\nGM000010962,18000304,PRCP,0,,,E,\\nEZE00100082,18000304,TMAX,32,,,E,\\nEZE00100082,18000304,TMIN,-23,,,E,\\nITE00100554,18000305,TMAX,79,,,E,\\nITE00100554,18000305,TMIN,21,,,E,\\nGM000010962,18000305,PRCP,4,,,E,\\nEZE00100082,18000305,TMAX,-14,,,E,\\nEZE00100082,18000305,TMIN,-47,,,E,\\nITE00100554,18000306,TMAX,60,,,E,\\nITE00100554,18000306,TMIN,29,,,E,\\nGM000010962,18000306,PRCP,0,,,E,\\nEZE00100082,18000306,TMAX,-34,,,E,\\nEZE00100082,18000306,TMIN,-70,,,E,\\nITE00100554,18000307,TMAX,34,,,E,\\nITE00100554,18000307,TMIN,16,,,E,\\nGM000010962,18000307,PRCP,0,,,E,\\nEZE00100082,18000307,TMAX,-42,,,E,\\nEZE00100082,18000307,TMIN,-89,,,E,\\nITE00100554,18000308,TMAX,38,,,E,\\nITE00100554,18000308,TMIN,0,,,E,\\nGM000010962,18000308,PRCP,0,,,E,\\nEZE00100082,18000308,TMAX,-49,,,E,\\nEZE00100082,18000308,TMIN,-130,,,E,\\nITE00100554,18000309,TMAX,79,,,E,\\nITE00100554,18000309,TMIN,16,,,E,\\nGM000010962,18000309,PRCP,30,,,E,\\nEZE00100082,18000309,TMAX,-63,,,E,\\nEZE00100082,18000309,TMIN,-93,,,E,\\nITE00100554,18000310,TMAX,75,,,E,\\nITE00100554,18000310,TMIN,25,,,E,\\nGM000010962,18000310,PRCP,0,,,E,\\nEZE00100082,18000310,TMAX,-34,,,E,\\nEZE00100082,18000310,TMIN,-110,,,E,\\nITE00100554,18000311,TMAX,79,,,E,\\nITE00100554,18000311,TMIN,29,,,E,\\nGM000010962,18000311,PRCP,0,,,E,\\nEZE00100082,18000311,TMAX,-33,,,E,\\nEZE00100082,18000311,TMIN,-107,,,E,\\nITE00100554,18000312,TMAX,69,,,E,\\nITE00100554,18000312,TMIN,41,,,E,\\nGM000010962,18000312,PRCP,7,,,E,\\nEZE00100082,18000312,TMAX,-22,,,E,\\nEZE00100082,18000312,TMIN,-87,,,E,\\nITE00100554,18000313,TMAX,75,,,E,\\nITE00100554,18000313,TMIN,44,,,E,\\nGM000010962,18000313,PRCP,0,,,E,\\nEZE00100082,18000313,TMAX,-24,,,E,\\nEZE00100082,18000313,TMIN,-110,,,E,\\nITE00100554,18000314,TMAX,100,,,E,\\nITE00100554,18000314,TMIN,25,,,E,\\nGM000010962,18000314,PRCP,0,,,E,\\nEZE00100082,18000314,TMAX,11,,,E,\\nEZE00100082,18000314,TMIN,-61,,,E,\\nITE00100554,18000315,TMAX,109,,,E,\\nITE00100554,18000315,TMIN,50,,,E,\\nGM000010962,18000315,PRCP,0,,,E,\\nEZE00100082,18000315,TMAX,-1,,,E,\\nEZE00100082,18000315,TMIN,-52,,,E,\\nITE00100554,18000316,TMAX,113,,,E,\\nITE00100554,18000316,TMIN,35,,,E,\\nGM000010962,18000316,PRCP,0,,,E,\\nEZE00100082,18000316,TMAX,10,,,E,\\nEZE00100082,18000316,TMIN,-67,,,E,\\nITE00100554,18000317,TMAX,109,,,E,\\nITE00100554,18000317,TMIN,54,,,E,\\nGM000010962,18000317,PRCP,0,,,E,\\nEZE00100082,18000317,TMAX,30,,,E,\\nEZE00100082,18000317,TMIN,-52,,,E,\\nITE00100554,18000318,TMAX,91,,,E,\\nITE00100554,18000318,TMIN,56,,,E,\\nGM000010962,18000318,PRCP,4,,,E,\\nEZE00100082,18000318,TMAX,26,,,E,\\nEZE00100082,18000318,TMIN,-35,,,E,\\nITE00100554,18000319,TMAX,125,,,E,\\nITE00100554,18000319,TMIN,60,,,E,\\nGM000010962,18000319,PRCP,17,,,E,\\nEZE00100082,18000319,TMAX,36,,,E,\\nEZE00100082,18000319,TMIN,-19,,,E,\\nITE00100554,18000320,TMAX,116,,,E,\\nITE00100554,18000320,TMIN,73,,,E,\\nGM000010962,18000320,PRCP,20,,,E,\\nEZE00100082,18000320,TMAX,13,,,E,\\nEZE00100082,18000320,TMIN,-38,,,E,\\nITE00100554,18000321,TMAX,109,,,E,\\nITE00100554,18000321,TMIN,50,,,E,\\nGM000010962,18000321,PRCP,6,,,E,\\nEZE00100082,18000321,TMAX,15,,,E,\\nEZE00100082,18000321,TMIN,-48,,,E,\\nITE00100554,18000322,TMAX,71,,,E,\\nITE00100554,18000322,TMIN,48,,,E,\\nGM000010962,18000322,PRCP,25,,,E,\\nEZE00100082,18000322,TMAX,14,,,E,\\nEZE00100082,18000322,TMIN,-57,,,E,\\nITE00100554,18000323,TMAX,75,,,E,\\nITE00100554,18000323,TMIN,19,,,E,\\nGM000010962,18000323,PRCP,4,,,E,\\nEZE00100082,18000323,TMAX,4,,,E,\\nEZE00100082,18000323,TMIN,-78,,,E,\\nITE00100554,18000324,TMAX,81,,,E,\\nITE00100554,18000324,TMIN,10,,,E,\\nGM000010962,18000324,PRCP,0,,,E,\\nEZE00100082,18000324,TMAX,33,,,E,\\nEZE00100082,18000324,TMIN,-24,,,E,\\nITE00100554,18000325,TMAX,85,,,E,\\nITE00100554,18000325,TMIN,25,,,E,\\nGM000010962,18000325,PRCP,0,,,E,\\nEZE00100082,18000325,TMAX,68,,,E,\\nEZE00100082,18000325,TMIN,8,,,E,\\nITE00100554,18000326,TMAX,110,,,E,\\nITE00100554,18000326,TMIN,31,,,E,\\nGM000010962,18000326,PRCP,0,,,E,\\nEZE00100082,18000326,TMAX,71,,,E,\\nEZE00100082,18000326,TMIN,9,,,E,\\nITE00100554,18000327,TMAX,113,,,E,\\nITE00100554,18000327,TMIN,48,,,E,\\nGM000010962,18000327,PRCP,0,,,E,\\nEZE00100082,18000327,TMAX,84,,,E,\\nEZE00100082,18000327,TMIN,-5,,,E,\\nITE00100554,18000328,TMAX,125,,,E,\\nITE00100554,18000328,TMIN,54,,,E,\\nGM000010962,18000328,PRCP,0,,,E,\\nEZE00100082,18000328,TMAX,86,,,E,\\nEZE00100082,18000328,TMIN,-23,,,E,\\nITE00100554,18000329,TMAX,110,,,E,\\nITE00100554,18000329,TMIN,85,,,E,\\nGM000010962,18000329,PRCP,0,,,E,\\nEZE00100082,18000329,TMAX,82,,,E,\\nEZE00100082,18000329,TMIN,4,,,E,\\nITE00100554,18000330,TMAX,141,,,E,\\nITE00100554,18000330,TMIN,85,,,E,\\nGM000010962,18000330,PRCP,0,,,E,\\nEZE00100082,18000330,TMAX,91,,,E,\\nEZE00100082,18000330,TMIN,10,,,E,\\nITE00100554,18000331,TMAX,138,,,E,\\nITE00100554,18000331,TMIN,75,,,E,\\nGM000010962,18000331,PRCP,0,,,E,\\nEZE00100082,18000331,TMAX,123,,,E,\\nEZE00100082,18000331,TMIN,11,,,E,\\nITE00100554,18000401,TMAX,109,,,E,\\nITE00100554,18000401,TMIN,100,,,E,\\nGM000010962,18000401,PRCP,0,,,E,\\nEZE00100082,18000401,TMAX,98,,,E,\\nEZE00100082,18000401,TMIN,50,,,E,\\nITE00100554,18000402,TMAX,104,,,E,\\nITE00100554,18000402,TMIN,98,,,E,\\nGM000010962,18000402,PRCP,9,,,E,\\nEZE00100082,18000402,TMAX,128,,,E,\\nEZE00100082,18000402,TMIN,59,,,E,\\nITE00100554,18000403,TMAX,128,,,E,\\nITE00100554,18000403,TMIN,75,,,E,\\nGM000010962,18000403,PRCP,0,,,E,\\nEZE00100082,18000403,TMAX,116,,,E,\\nEZE00100082,18000403,TMIN,61,,,E,\\nITE00100554,18000404,TMAX,153,,,E,\\nITE00100554,18000404,TMIN,75,,,E,\\nGM000010962,18000404,PRCP,0,,,E,\\nEZE00100082,18000404,TMAX,157,,,E,\\nEZE00100082,18000404,TMIN,69,,,E,\\nITE00100554,18000405,TMAX,166,,,E,\\nITE00100554,18000405,TMIN,84,,,E,\\nGM000010962,18000405,PRCP,0,,,E,\\nEZE00100082,18000405,TMAX,134,,,E,\\nEZE00100082,18000405,TMIN,65,,,E,\\nITE00100554,18000406,TMAX,178,,,E,\\nITE00100554,18000406,TMIN,96,,,E,\\nGM000010962,18000406,PRCP,0,,,E,\\nEZE00100082,18000406,TMAX,168,,,E,\\nEZE00100082,18000406,TMIN,95,,,E,\\nITE00100554,18000407,TMAX,198,,,E,\\nITE00100554,18000407,TMIN,99,,,E,\\nGM000010962,18000407,PRCP,0,,,E,\\nEZE00100082,18000407,TMAX,160,,,E,\\nEZE00100082,18000407,TMIN,74,,,E,\\nITE00100554,18000408,TMAX,200,,,E,\\nITE00100554,18000408,TMIN,109,,,E,\\nGM000010962,18000408,PRCP,0,,,E,\\nEZE00100082,18000408,TMAX,203,,,E,\\nEZE00100082,18000408,TMIN,75,,,E,\\nITE00100554,18000409,TMAX,200,,,E,\\nITE00100554,18000409,TMIN,148,,,E,\\nGM000010962,18000409,PRCP,0,,,E,\\nEZE00100082,18000409,TMAX,193,,,E,\\nEZE00100082,18000409,TMIN,105,,,E,\\nITE00100554,18000410,TMAX,200,,,E,\\nITE00100554,18000410,TMIN,129,,,E,\\nGM000010962,18000410,PRCP,0,,,E,\\nEZE00100082,18000410,TMAX,212,,,E,\\nEZE00100082,18000410,TMIN,125,,,E,\\nITE00100554,18000411,TMAX,200,,,E,\\nITE00100554,18000411,TMIN,141,,,E,\\nGM000010962,18000411,PRCP,0,,,E,\\nEZE00100082,18000411,TMAX,171,,,E,\\nEZE00100082,18000411,TMIN,95,,,E,\\nITE00100554,18000412,TMAX,200,,,E,\\nITE00100554,18000412,TMIN,116,,,E,\\nGM000010962,18000412,PRCP,10,,,E,\\nEZE00100082,18000412,TMAX,170,,,E,\\nEZE00100082,18000412,TMIN,55,,,E,\\nITE00100554,18000413,TMAX,181,,,E,\\nITE00100554,18000413,TMIN,129,,,E,\\nGM000010962,18000413,PRCP,40,,,E,\\nEZE00100082,18000413,TMAX,185,,,E,\\nEZE00100082,18000413,TMIN,99,,,E,\\nITE00100554,18000414,TMAX,188,,,E,\\nITE00100554,18000414,TMIN,91,,,E,\\nGM000010962,18000414,PRCP,2,,,E,\\nEZE00100082,18000414,TMAX,145,,,E,\\nEZE00100082,18000414,TMIN,87,,,E,\\nITE00100554,18000415,TMAX,206,,,E,\\nITE00100554,18000415,TMIN,116,,,E,\\nGM000010962,18000415,PRCP,0,,,E,\\nEZE00100082,18000415,TMAX,194,,,E,\\nEZE00100082,18000415,TMIN,109,,,E,\\nITE00100554,18000416,TMAX,216,,,E,\\nITE00100554,18000416,TMIN,129,,,E,\\nGM000010962,18000416,PRCP,0,,,E,\\nEZE00100082,18000416,TMAX,203,,,E,\\nEZE00100082,18000416,TMIN,102,,,E,\\nITE00100554,18000417,TMAX,213,,,E,\\nITE00100554,18000417,TMIN,129,,,E,\\nGM000010962,18000417,PRCP,0,,,E,\\nEZE00100082,18000417,TMAX,248,,,E,\\nEZE00100082,18000417,TMIN,110,,,E,\\nITE00100554,18000418,TMAX,216,,,E,\\nITE00100554,18000418,TMIN,134,,,E,\\nGM000010962,18000418,PRCP,0,,,E,\\nEZE00100082,18000418,TMAX,246,,,E,\\nEZE00100082,18000418,TMIN,130,,,E,\\nITE00100554,18000419,TMAX,191,,,E,\\nITE00100554,18000419,TMIN,138,,,E,\\nGM000010962,18000419,PRCP,5,,,E,\\nEZE00100082,18000419,TMAX,208,,,E,\\nEZE00100082,18000419,TMIN,146,,,E,\\nITE00100554,18000420,TMAX,231,,,E,\\nITE00100554,18000420,TMIN,150,,,E,\\nGM000010962,18000420,PRCP,34,,,E,\\nEZE00100082,18000420,TMAX,212,,,E,\\nEZE00100082,18000420,TMIN,125,,,E,\\nITE00100554,18000421,TMAX,235,,,E,\\nITE00100554,18000421,TMIN,154,,,E,\\nGM000010962,18000421,PRCP,2,,,E,\\nEZE00100082,18000421,TMAX,228,,,E,\\nEZE00100082,18000421,TMIN,153,,,E,\\nITE00100554,18000422,TMAX,216,,,E,\\nITE00100554,18000422,TMIN,166,,,E,\\nGM000010962,18000422,PRCP,0,,,E,\\nEZE00100082,18000422,TMAX,277,,,E,\\nEZE00100082,18000422,TMIN,157,,,E,\\nITE00100554,18000423,TMAX,191,,,E,\\nITE00100554,18000423,TMIN,166,,,E,\\nGM000010962,18000423,PRCP,0,,,E,\\nEZE00100082,18000423,TMAX,250,,,E,\\nEZE00100082,18000423,TMIN,185,,,E,\\nITE00100554,18000424,TMAX,204,,,E,\\nITE00100554,18000424,TMIN,146,,,E,\\nGM000010962,18000424,PRCP,0,,,E,\\nEZE00100082,18000424,TMAX,238,,,E,\\nEZE00100082,18000424,TMIN,177,,,E,\\nITE00100554,18000425,TMAX,163,,,E,\\nITE00100554,18000425,TMIN,150,,,E,\\nGM000010962,18000425,PRCP,0,,,E,\\nEZE00100082,18000425,TMAX,230,,,E,\\nEZE00100082,18000425,TMIN,166,,,E,\\nITE00100554,18000426,TMAX,179,,,E,\\nITE00100554,18000426,TMIN,154,,,E,\\nGM000010962,18000426,PRCP,0,,,E,\\nEZE00100082,18000426,TMAX,258,,,E,\\nEZE00100082,18000426,TMIN,158,,,E,\\nITE00100554,18000427,TMAX,204,,,E,\\nITE00100554,18000427,TMIN,154,,,E,\\nGM000010962,18000427,PRCP,0,,,E,\\nEZE00100082,18000427,TMAX,279,,,E,\\nEZE00100082,18000427,TMIN,160,,,E,\\nITE00100554,18000428,TMAX,223,,,E,\\nITE00100554,18000428,TMIN,159,,,E,\\nGM000010962,18000428,PRCP,0,,,E,\\nEZE00100082,18000428,TMAX,259,,,E,\\nEZE00100082,18000428,TMIN,180,,,E,\\nITE00100554,18000429,TMAX,225,,,E,\\nITE00100554,18000429,TMIN,169,,,E,\\nGM000010962,18000429,PRCP,0,,,E,\\nEZE00100082,18000429,TMAX,286,,,E,\\nEZE00100082,18000429,TMIN,166,,,E,\\nITE00100554,18000430,TMAX,206,,,E,\\nITE00100554,18000430,TMIN,159,,,E,\\nGM000010962,18000430,PRCP,0,,,E,\\nEZE00100082,18000430,TMAX,273,,,E,\\nEZE00100082,18000430,TMIN,147,,,E,\\nITE00100554,18000501,TMAX,206,,,E,\\nITE00100554,18000501,TMIN,160,,,E,\\nGM000010962,18000501,PRCP,97,,,E,\\nEZE00100082,18000501,TMAX,183,,,E,\\nEZE00100082,18000501,TMIN,127,,,E,\\nITE00100554,18000502,TMAX,223,,,E,\\nITE00100554,18000502,TMIN,160,,,E,\\nGM000010962,18000502,PRCP,3,,,E,\\nEZE00100082,18000502,TMAX,226,,,E,\\nEZE00100082,18000502,TMIN,139,,,E,\\nITE00100554,18000503,TMAX,235,,,E,\\nITE00100554,18000503,TMIN,154,,,E,\\nGM000010962,18000503,PRCP,0,,,E,\\nEZE00100082,18000503,TMAX,240,,,E,\\nEZE00100082,18000503,TMIN,164,,,E,\\nITE00100554,18000504,TMAX,238,,,E,\\nITE00100554,18000504,TMIN,156,,,E,\\nGM000010962,18000504,PRCP,0,,,E,\\nEZE00100082,18000504,TMAX,231,,,E,\\nEZE00100082,18000504,TMIN,152,,,E,\\nITE00100554,18000505,TMAX,225,,,E,\\nITE00100554,18000505,TMIN,160,,,E,\\nGM000010962,18000505,PRCP,0,,,E,\\nEZE00100082,18000505,TMAX,217,,,E,\\nEZE00100082,18000505,TMIN,160,,,E,\\nITE00100554,18000506,TMAX,175,,,E,\\nITE00100554,18000506,TMIN,140,,,E,\\nGM000010962,18000506,PRCP,0,,,E,\\nEZE00100082,18000506,TMAX,214,,,E,\\nEZE00100082,18000506,TMIN,136,,,E,\\nITE00100554,18000507,TMAX,188,,,E,\\nITE00100554,18000507,TMIN,96,,,E,\\nGM000010962,18000507,PRCP,0,,,E,\\nEZE00100082,18000507,TMAX,231,,,E,\\nEZE00100082,18000507,TMIN,116,,,E,\\nITE00100554,18000508,TMAX,213,,,E,\\nITE00100554,18000508,TMIN,121,,,E,\\nGM000010962,18000508,PRCP,0,,,E,\\nEZE00100082,18000508,TMAX,240,,,E,\\nEZE00100082,18000508,TMIN,130,,,E,\\nITE00100554,18000509,TMAX,225,,,E,\\nITE00100554,18000509,TMIN,134,,,E,\\nGM000010962,18000509,PRCP,0,,,E,\\nEZE00100082,18000509,TMAX,245,,,E,\\nEZE00100082,18000509,TMIN,151,,,E,\\nITE00100554,18000510,TMAX,188,,,E,\\nITE00100554,18000510,TMIN,154,,,E,\\nGM000010962,18000510,PRCP,0,,,E,\\nEZE00100082,18000510,TMAX,241,,,E,\\nEZE00100082,18000510,TMIN,149,,,E,\\nITE00100554,18000511,TMAX,210,,,E,\\nITE00100554,18000511,TMIN,154,,,E,\\nGM000010962,18000511,PRCP,11,,,E,\\nEZE00100082,18000511,TMAX,162,,,E,\\nEZE00100082,18000511,TMIN,103,,,E,\\nITE00100554,18000512,TMAX,204,,,E,\\nITE00100554,18000512,TMIN,150,,,E,\\nGM000010962,18000512,PRCP,7,,,E,\\nEZE00100082,18000512,TMAX,162,,,E,\\nEZE00100082,18000512,TMIN,100,,,E,\\nITE00100554,18000513,TMAX,188,,,E,\\nITE00100554,18000513,TMIN,154,,,E,\\nGM000010962,18000513,PRCP,25,,,E,\\nEZE00100082,18000513,TMAX,197,,,E,\\nEZE00100082,18000513,TMIN,122,,,E,\\nITE00100554,18000514,TMAX,200,,,E,\\nITE00100554,18000514,TMIN,134,,,E,\\nGM000010962,18000514,PRCP,35,,,E,\\nEZE00100082,18000514,TMAX,209,,,E,\\nEZE00100082,18000514,TMIN,125,,,E,\\nITE00100554,18000515,TMAX,213,,,E,\\nITE00100554,18000515,TMIN,135,,,E,\\nGM000010962,18000515,PRCP,7,,,E,\\nEZE00100082,18000515,TMAX,161,,,E,\\nEZE00100082,18000515,TMIN,116,,,E,\\nITE00100554,18000516,TMAX,213,,,E,\\nITE00100554,18000516,TMIN,135,,,E,\\nGM000010962,18000516,PRCP,279,,,E,\\nEZE00100082,18000516,TMAX,188,,,E,\\nEZE00100082,18000516,TMIN,129,,,E,\\nITE00100554,18000517,TMAX,209,,,E,\\nITE00100554,18000517,TMIN,160,,,E,\\nGM000010962,18000517,PRCP,0,,,E,\\nEZE00100082,18000517,TMAX,220,,,E,\\nEZE00100082,18000517,TMIN,124,,,E,\\nITE00100554,18000518,TMAX,213,,,E,\\nITE00100554,18000518,TMIN,146,,,E,\\nGM000010962,18000518,PRCP,43,,,E,\\nEZE00100082,18000518,TMAX,186,,,E,\\nEZE00100082,18000518,TMIN,119,,,E,\\nITE00100554,18000519,TMAX,200,,,E,\\nITE00100554,18000519,TMIN,135,,,E,\\nGM000010962,18000519,PRCP,0,,,E,\\nEZE00100082,18000519,TMAX,172,,,E,\\nEZE00100082,18000519,TMIN,105,,,E,\\nITE00100554,18000520,TMAX,225,,,E,\\nITE00100554,18000520,TMIN,138,,,E,\\nGM000010962,18000520,PRCP,0,,,E,\\nEZE00100082,18000520,TMAX,225,,,E,\\nEZE00100082,18000520,TMIN,115,,,E,\\nITE00100554,18000521,TMAX,238,,,E,\\nITE00100554,18000521,TMIN,179,,,E,\\nGM000010962,18000521,PRCP,0,,,E,\\nEZE00100082,18000521,TMAX,247,,,E,\\nEZE00100082,18000521,TMIN,136,,,E,\\nITE00100554,18000522,TMAX,263,,,E,\\nITE00100554,18000522,TMIN,166,,,E,\\nGM000010962,18000522,PRCP,43,,,E,\\nEZE00100082,18000522,TMAX,262,,,E,\\nEZE00100082,18000522,TMIN,157,,,E,\\nITE00100554,18000523,TMAX,250,,,E,\\nITE00100554,18000523,TMIN,188,,,E,\\nGM000010962,18000523,PRCP,71,,,E,\\nEZE00100082,18000523,TMAX,270,,,E,\\nEZE00100082,18000523,TMIN,183,,,E,\\nITE00100554,18000524,TMAX,225,,,E,\\nITE00100554,18000524,TMIN,185,,,E,\\nGM000010962,18000524,PRCP,0,,,E,\\nEZE00100082,18000524,TMAX,282,,,E,\\nEZE00100082,18000524,TMIN,178,,,E,\\nITE00100554,18000525,TMAX,238,,,E,\\nITE00100554,18000525,TMIN,181,,,E,\\nGM000010962,18000525,PRCP,305,,,E,\\nEZE00100082,18000525,TMAX,232,,,E,\\nEZE00100082,18000525,TMIN,174,,,E,\\nITE00100554,18000526,TMAX,263,,,E,\\nITE00100554,18000526,TMIN,198,,,E,\\nGM000010962,18000526,PRCP,169,,,E,\\nEZE00100082,18000526,TMAX,226,,,E,\\nEZE00100082,18000526,TMIN,160,,,E,\\nITE00100554,18000527,TMAX,269,,,E,\\nITE00100554,18000527,TMIN,210,,,E,\\nGM000010962,18000527,PRCP,24,,,E,\\nEZE00100082,18000527,TMAX,246,,,E,\\nEZE00100082,18000527,TMIN,173,,,E,\\nITE00100554,18000528,TMAX,244,,,E,\\nITE00100554,18000528,TMIN,191,,,E,\\nGM000010962,18000528,PRCP,2,,,E,\\nEZE00100082,18000528,TMAX,261,,,E,\\nEZE00100082,18000528,TMIN,189,,,E,\\nITE00100554,18000529,TMAX,216,,,E,\\nITE00100554,18000529,TMIN,191,,,E,\\nGM000010962,18000529,PRCP,123,,,E,\\nEZE00100082,18000529,TMAX,258,,,E,\\nEZE00100082,18000529,TMIN,194,,,E,\\nITE00100554,18000530,TMAX,259,,,E,\\nITE00100554,18000530,TMIN,196,,,E,\\nGM000010962,18000530,PRCP,97,,,E,\\nEZE00100082,18000530,TMAX,238,,,E,\\nEZE00100082,18000530,TMIN,183,,,E,\\nITE00100554,18000531,TMAX,254,,,E,\\nITE00100554,18000531,TMIN,196,,,E,\\nGM000010962,18000531,PRCP,75,,,E,\\nEZE00100082,18000531,TMAX,210,,,E,\\nEZE00100082,18000531,TMIN,170,,,E,\\nITE00100554,18000601,TMAX,204,,,E,\\nITE00100554,18000601,TMIN,191,,,E,\\nGM000010962,18000601,PRCP,102,,,E,\\nEZE00100082,18000601,TMAX,191,,,E,\\nEZE00100082,18000601,TMIN,157,,,E,\\nITE00100554,18000602,TMAX,216,,,E,\\nITE00100554,18000602,TMIN,138,,,E,\\nGM000010962,18000602,PRCP,45,,,E,\\nEZE00100082,18000602,TMAX,193,,,E,\\nEZE00100082,18000602,TMIN,132,,,E,\\nITE00100554,18000603,TMAX,213,,,E,\\nITE00100554,18000603,TMIN,138,,,E,\\nGM000010962,18000603,PRCP,0,,,E,\\nEZE00100082,18000603,TMAX,192,,,E,\\nEZE00100082,18000603,TMIN,144,,,E,\\nITE00100554,18000604,TMAX,225,,,E,\\nITE00100554,18000604,TMIN,156,,,E,\\nGM000010962,18000604,PRCP,11,,,E,\\nEZE00100082,18000604,TMAX,216,,,E,\\nEZE00100082,18000604,TMIN,141,,,E,\\nITE00100554,18000605,TMAX,256,,,E,\\nITE00100554,18000605,TMIN,173,,,E,\\nGM000010962,18000605,PRCP,0,,,E,\\nEZE00100082,18000605,TMAX,226,,,E,\\nEZE00100082,18000605,TMIN,147,,,E,\\nITE00100554,18000606,TMAX,250,,,E,\\nITE00100554,18000606,TMIN,184,,,E,\\nGM000010962,18000606,PRCP,27,,,E,\\nEZE00100082,18000606,TMAX,227,,,E,\\nEZE00100082,18000606,TMIN,177,,,E,\\nITE00100554,18000607,TMAX,198,,,E,\\nITE00100554,18000607,TMIN,173,,,E,\\nGM000010962,18000607,PRCP,23,,,E,\\nEZE00100082,18000607,TMAX,219,,,E,\\nEZE00100082,18000607,TMIN,133,,,E,\\nITE00100554,18000608,TMAX,191,,,E,\\nITE00100554,18000608,TMIN,169,,,E,\\nGM000010962,18000608,PRCP,297,,,E,\\nEZE00100082,18000608,TMAX,164,,,E,\\nEZE00100082,18000608,TMIN,117,,,E,\\nITE00100554,18000609,TMAX,223,,,E,\\nITE00100554,18000609,TMIN,166,,,E,\\nGM000010962,18000609,PRCP,2,,,E,\\nEZE00100082,18000609,TMAX,191,,,E,\\nEZE00100082,18000609,TMIN,119,,,E,\\nITE00100554,18000610,TMAX,248,,,E,\\nITE00100554,18000610,TMIN,166,,,E,\\nGM000010962,18000610,PRCP,0,,,E,\\nEZE00100082,18000610,TMAX,191,,,E,\\nEZE00100082,18000610,TMIN,129,,,E,\\nITE00100554,18000611,TMAX,229,,,E,\\nITE00100554,18000611,TMIN,169,,,E,\\nGM000010962,18000611,PRCP,40,,,E,\\nEZE00100082,18000611,TMAX,185,,,E,\\nEZE00100082,18000611,TMIN,104,,,E,\\nITE00100554,18000612,TMAX,206,,,E,\\nITE00100554,18000612,TMIN,175,,,E,\\nGM000010962,18000612,PRCP,10,,,E,\\nEZE00100082,18000612,TMAX,190,,,E,\\nEZE00100082,18000612,TMIN,100,,,E,\\nITE00100554,18000613,TMAX,229,,,E,\\nITE00100554,18000613,TMIN,171,,,E,\\nGM000010962,18000613,PRCP,51,,,E,\\nEZE00100082,18000613,TMAX,198,,,E,\\nEZE00100082,18000613,TMIN,115,,,E,\\nITE00100554,18000614,TMAX,216,,,E,\\nITE00100554,18000614,TMIN,166,,,E,\\nGM000010962,18000614,PRCP,10,,,E,\\nEZE00100082,18000614,TMAX,212,,,E,\\nEZE00100082,18000614,TMIN,126,,,E,\\nITE00100554,18000615,TMAX,216,,,E,\\nITE00100554,18000615,TMIN,141,,,E,\\nGM000010962,18000615,PRCP,7,,,E,\\nEZE00100082,18000615,TMAX,148,,,E,\\nEZE00100082,18000615,TMIN,90,,,E,\\nITE00100554,18000616,TMAX,216,,,E,\\nITE00100554,18000616,TMIN,141,,,E,\\nGM000010962,18000616,PRCP,16,,,E,\\nEZE00100082,18000616,TMAX,139,,,E,\\nEZE00100082,18000616,TMIN,84,,,E,\\nITE00100554,18000617,TMAX,225,,,E,\\nITE00100554,18000617,TMIN,141,,,E,\\nGM000010962,18000617,PRCP,12,,,E,\\nEZE00100082,18000617,TMAX,131,,,E,\\nEZE00100082,18000617,TMIN,82,,,E,\\nITE00100554,18000618,TMAX,235,,,E,\\nITE00100554,18000618,TMIN,146,,,E,\\nGM000010962,18000618,PRCP,0,,,E,\\nEZE00100082,18000618,TMAX,140,,,E,\\nEZE00100082,18000618,TMIN,87,,,E,\\nITE00100554,18000619,TMAX,235,,,E,\\nITE00100554,18000619,TMIN,148,,,E,\\nGM000010962,18000619,PRCP,63,,,E,\\nEZE00100082,18000619,TMAX,164,,,E,\\nEZE00100082,18000619,TMIN,98,,,E,\\nITE00100554,18000620,TMAX,254,,,E,\\nITE00100554,18000620,TMIN,146,,,E,\\nGM000010962,18000620,PRCP,17,,,E,\\nEZE00100082,18000620,TMAX,210,,,E,\\nEZE00100082,18000620,TMIN,88,,,E,\\nITE00100554,18000621,TMAX,259,,,E,\\nITE00100554,18000621,TMIN,173,,,E,\\nGM000010962,18000621,PRCP,2,,,E,\\nEZE00100082,18000621,TMAX,195,,,E,\\nEZE00100082,18000621,TMIN,156,,,E,\\nITE00100554,18000622,TMAX,213,,,E,\\nITE00100554,18000622,TMIN,204,,,E,\\nGM000010962,18000622,PRCP,111,,,E,\\nEZE00100082,18000622,TMAX,192,,,E,\\nEZE00100082,18000622,TMIN,134,,,E,\\nITE00100554,18000623,TMAX,241,,,E,\\nITE00100554,18000623,TMIN,154,,,E,\\nGM000010962,18000623,PRCP,27,,,E,\\nEZE00100082,18000623,TMAX,182,,,E,\\nEZE00100082,18000623,TMIN,118,,,E,\\nITE00100554,18000624,TMAX,241,,,E,\\nITE00100554,18000624,TMIN,179,,,E,\\nGM000010962,18000624,PRCP,0,,,E,\\nEZE00100082,18000624,TMAX,194,,,E,\\nEZE00100082,18000624,TMIN,115,,,E,\\nITE00100554,18000625,TMAX,254,,,E,\\nITE00100554,18000625,TMIN,184,,,E,\\nGM000010962,18000625,PRCP,0,,,E,\\nEZE00100082,18000625,TMAX,217,,,E,\\nEZE00100082,18000625,TMIN,100,,,E,\\nITE00100554,18000626,TMAX,263,,,E,\\nITE00100554,18000626,TMIN,184,,,E,\\nGM000010962,18000626,PRCP,0,,,E,\\nEZE00100082,18000626,TMAX,233,,,E,\\nEZE00100082,18000626,TMIN,131,,,E,\\nITE00100554,18000627,TMAX,275,,,E,\\nITE00100554,18000627,TMIN,204,,,E,\\nGM000010962,18000627,PRCP,0,,,E,\\nEZE00100082,18000627,TMAX,234,,,E,\\nEZE00100082,18000627,TMIN,161,,,E,\\nITE00100554,18000628,TMAX,288,,,E,\\nITE00100554,18000628,TMIN,213,,,E,\\nGM000010962,18000628,PRCP,12,,,E,\\nEZE00100082,18000628,TMAX,227,,,E,\\nEZE00100082,18000628,TMIN,140,,,E,\\nITE00100554,18000629,TMAX,265,,,E,\\nITE00100554,18000629,TMIN,198,,,E,\\nGM000010962,18000629,PRCP,0,,,E,\\nEZE00100082,18000629,TMAX,250,,,E,\\nEZE00100082,18000629,TMIN,137,,,E,\\nITE00100554,18000630,TMAX,279,,,E,\\nITE00100554,18000630,TMIN,209,,,E,\\nGM000010962,18000630,PRCP,88,,,E,\\nEZE00100082,18000630,TMAX,214,,,E,\\nEZE00100082,18000630,TMIN,155,,,E,\\nITE00100554,18000701,TMAX,275,,,E,\\nITE00100554,18000701,TMIN,213,,,E,\\nGM000010962,18000701,PRCP,32,,,E,\\nEZE00100082,18000701,TMAX,180,,,E,\\nEZE00100082,18000701,TMIN,128,,,E,\\nITE00100554,18000702,TMAX,241,,,E,\\nITE00100554,18000702,TMIN,185,,,E,\\nGM000010962,18000702,PRCP,0,,,E,\\nEZE00100082,18000702,TMAX,193,,,E,\\nEZE00100082,18000702,TMIN,135,,,E,\\nITE00100554,18000703,TMAX,254,,,E,\\nITE00100554,18000703,TMIN,200,,,E,\\nGM000010962,18000703,PRCP,0,,,E,\\nEZE00100082,18000703,TMAX,240,,,E,\\nEZE00100082,18000703,TMIN,134,,,E,\\nITE00100554,18000704,TMAX,288,,,E,\\nITE00100554,18000704,TMIN,200,,,E,\\nGM000010962,18000704,PRCP,33,,,E,\\nEZE00100082,18000704,TMAX,216,,,E,\\nEZE00100082,18000704,TMIN,144,,,E,\\nITE00100554,18000705,TMAX,275,,,E,\\nITE00100554,18000705,TMIN,219,,,E,\\nGM000010962,18000705,PRCP,0,,,E,\\nEZE00100082,18000705,TMAX,281,,,E,\\nEZE00100082,18000705,TMIN,147,,,E,\\nITE00100554,18000706,TMAX,288,,,E,\\nITE00100554,18000706,TMIN,213,,,E,\\nGM000010962,18000706,PRCP,0,,,E,\\nEZE00100082,18000706,TMAX,285,,,E,\\nEZE00100082,18000706,TMIN,188,,,E,\\nITE00100554,18000707,TMAX,278,,,E,\\nITE00100554,18000707,TMIN,221,,,E,\\nGM000010962,18000707,PRCP,0,,,E,\\nEZE00100082,18000707,TMAX,286,,,E,\\nEZE00100082,18000707,TMIN,180,,,E,\\nITE00100554,18000708,TMAX,300,,,E,\\nITE00100554,18000708,TMIN,209,,,E,\\nGM000010962,18000708,PRCP,43,,,E,\\nEZE00100082,18000708,TMAX,293,,,E,\\nEZE00100082,18000708,TMIN,180,,,E,\\nITE00100554,18000709,TMAX,304,,,E,\\nITE00100554,18000709,TMIN,225,,,E,\\nGM000010962,18000709,PRCP,0,,,E,\\nEZE00100082,18000709,TMAX,306,,,E,\\nEZE00100082,18000709,TMIN,204,,,E,\\nITE00100554,18000710,TMAX,319,,,E,\\nITE00100554,18000710,TMIN,235,,,E,\\nGM000010962,18000710,PRCP,117,,,E,\\nEZE00100082,18000710,TMAX,290,,,E,\\nEZE00100082,18000710,TMIN,195,,,E,\\nITE00100554,18000711,TMAX,304,,,E,\\nITE00100554,18000711,TMIN,238,,,E,\\nGM000010962,18000711,PRCP,86,,,E,\\nEZE00100082,18000711,TMAX,195,,,E,\\nEZE00100082,18000711,TMIN,159,,,E,\\nITE00100554,18000712,TMAX,285,,,E,\\nITE00100554,18000712,TMIN,241,,,E,\\nGM000010962,18000712,PRCP,0,,,E,\\nEZE00100082,18000712,TMAX,244,,,E,\\nEZE00100082,18000712,TMIN,160,,,E,\\nITE00100554,18000713,TMAX,300,,,E,\\nITE00100554,18000713,TMIN,231,,,E,\\nGM000010962,18000713,PRCP,0,,,E,\\nEZE00100082,18000713,TMAX,217,,,E,\\nEZE00100082,18000713,TMIN,172,,,E,\\nITE00100554,18000714,TMAX,300,,,E,\\nITE00100554,18000714,TMIN,225,,,E,\\nGM000010962,18000714,PRCP,0,,,E,\\nEZE00100082,18000714,TMAX,186,,,E,\\nEZE00100082,18000714,TMIN,144,,,E,\\nITE00100554,18000715,TMAX,266,,,E,\\nITE00100554,18000715,TMIN,225,,,E,\\nGM000010962,18000715,PRCP,2,,,E,\\nEZE00100082,18000715,TMAX,192,,,E,\\nEZE00100082,18000715,TMIN,124,,,E,\\nITE00100554,18000716,TMAX,248,,,E,\\nITE00100554,18000716,TMIN,204,,,E,\\nGM000010962,18000716,PRCP,0,,,E,\\nEZE00100082,18000716,TMAX,185,,,E,\\nEZE00100082,18000716,TMIN,133,,,E,\\nITE00100554,18000717,TMAX,275,,,E,\\nITE00100554,18000717,TMIN,209,,,E,\\nGM000010962,18000717,PRCP,0,,,E,\\nEZE00100082,18000717,TMAX,204,,,E,\\nEZE00100082,18000717,TMIN,140,,,E,\\nITE00100554,18000718,TMAX,294,,,E,\\nITE00100554,18000718,TMIN,213,,,E,\\nGM000010962,18000718,PRCP,0,,,E,\\nEZE00100082,18000718,TMAX,193,,,E,\\nEZE00100082,18000718,TMIN,142,,,E,\\nITE00100554,18000719,TMAX,284,,,E,\\nITE00100554,18000719,TMIN,225,,,E,\\nGM000010962,18000719,PRCP,0,,,E,\\nEZE00100082,18000719,TMAX,200,,,E,\\nEZE00100082,18000719,TMIN,136,,,E,\\nITE00100554,18000720,TMAX,263,,,E,\\nITE00100554,18000720,TMIN,191,,,E,\\nGM000010962,18000720,PRCP,0,,,E,\\nEZE00100082,18000720,TMAX,204,,,E,\\nEZE00100082,18000720,TMIN,132,,,E,\\nITE00100554,18000721,TMAX,285,,,E,\\nITE00100554,18000721,TMIN,191,,,E,\\nGM000010962,18000721,PRCP,2,,,E,\\nEZE00100082,18000721,TMAX,170,,,E,\\nEZE00100082,18000721,TMIN,124,,,E,\\nITE00100554,18000722,TMAX,266,,,E,\\nITE00100554,18000722,TMIN,213,,,E,\\nGM000010962,18000722,PRCP,80,,,E,\\nEZE00100082,18000722,TMAX,178,,,E,\\nEZE00100082,18000722,TMIN,130,,,E,\\nITE00100554,18000723,TMAX,250,,,E,\\nITE00100554,18000723,TMIN,163,,,E,\\nGM000010962,18000723,PRCP,40,,,E,\\nEZE00100082,18000723,TMAX,190,,,E,\\nEZE00100082,18000723,TMIN,143,,,E,\\nITE00100554,18000724,TMAX,254,,,E,\\nITE00100554,18000724,TMIN,171,,,E,\\nGM000010962,18000724,PRCP,11,,,E,\\nEZE00100082,18000724,TMAX,213,,,E,\\nEZE00100082,18000724,TMIN,155,,,E,\\nITE00100554,18000725,TMAX,269,,,E,\\nITE00100554,18000725,TMIN,191,,,E,\\nGM000010962,18000725,PRCP,0,,,E,\\nEZE00100082,18000725,TMAX,238,,,E,\\nEZE00100082,18000725,TMIN,152,,,E,\\nITE00100554,18000726,TMAX,281,,,E,\\nITE00100554,18000726,TMIN,191,,,E,\\nGM000010962,18000726,PRCP,0,,,E,\\nEZE00100082,18000726,TMAX,220,,,E,\\nEZE00100082,18000726,TMIN,144,,,E,\\nITE00100554,18000727,TMAX,271,,,E,\\nITE00100554,18000727,TMIN,206,,,E,\\nGM000010962,18000727,PRCP,0,,,E,\\nEZE00100082,18000727,TMAX,222,,,E,\\nEZE00100082,18000727,TMIN,169,,,E,\\nITE00100554,18000728,TMAX,269,,,E,\\nITE00100554,18000728,TMIN,216,,,E,\\nGM000010962,18000728,PRCP,0,,,E,\\nEZE00100082,18000728,TMAX,233,,,E,\\nEZE00100082,18000728,TMIN,144,,,E,\\nITE00100554,18000729,TMAX,241,,,E,\\nITE00100554,18000729,TMIN,200,,,E,\\nGM000010962,18000729,PRCP,0,,,E,\\nEZE00100082,18000729,TMAX,230,,,E,\\nEZE00100082,18000729,TMIN,150,,,E,\\nITE00100554,18000730,TMAX,241,,,E,\\nITE00100554,18000730,TMIN,200,,,E,\\nGM000010962,18000730,PRCP,0,,,E,\\nEZE00100082,18000730,TMAX,230,,,E,\\nEZE00100082,18000730,TMIN,120,,,E,\\nITE00100554,18000731,TMAX,271,,,E,\\nITE00100554,18000731,TMIN,188,,,E,\\nGM000010962,18000731,PRCP,0,,,E,\\nEZE00100082,18000731,TMAX,227,,,E,\\nEZE00100082,18000731,TMIN,137,,,E,\\nITE00100554,18000801,TMAX,250,,,E,\\nITE00100554,18000801,TMIN,200,,,E,\\nGM000010962,18000801,PRCP,0,,,E,\\nEZE00100082,18000801,TMAX,242,,,E,\\nEZE00100082,18000801,TMIN,140,,,E,\\nITE00100554,18000802,TMAX,263,,,E,\\nITE00100554,18000802,TMIN,188,,,E,\\nGM000010962,18000802,PRCP,0,,,E,\\nEZE00100082,18000802,TMAX,250,,,E,\\nEZE00100082,18000802,TMIN,154,,,E,\\nITE00100554,18000803,TMAX,275,,,E,\\nITE00100554,18000803,TMIN,200,,,E,\\nGM000010962,18000803,PRCP,0,,,E,\\nEZE00100082,18000803,TMAX,281,,,E,\\nEZE00100082,18000803,TMIN,183,,,E,\\nITE00100554,18000804,TMAX,288,,,E,\\nITE00100554,18000804,TMIN,200,,,E,\\nGM000010962,18000804,PRCP,0,,,E,\\nEZE00100082,18000804,TMAX,316,,,E,\\nEZE00100082,18000804,TMIN,192,,,E,\\nITE00100554,18000805,TMAX,309,,,E,\\nITE00100554,18000805,TMIN,210,,,E,\\nGM000010962,18000805,PRCP,0,,,E,\\nEZE00100082,18000805,TMAX,248,,,E,\\nEZE00100082,18000805,TMIN,168,,,E,\\nITE00100554,18000806,TMAX,288,,,E,\\nITE00100554,18000806,TMIN,213,,,E,\\nGM000010962,18000806,PRCP,0,,,E,\\nEZE00100082,18000806,TMAX,216,,,E,\\nEZE00100082,18000806,TMIN,138,,,E,\\nITE00100554,18000807,TMAX,298,,,E,\\nITE00100554,18000807,TMIN,200,,,E,\\nGM000010962,18000807,PRCP,0,,,E,\\nEZE00100082,18000807,TMAX,210,,,E,\\nEZE00100082,18000807,TMIN,141,,,E,\\nITE00100554,18000808,TMAX,223,,,E,\\nITE00100554,18000808,TMIN,143,,,E,\\nGM000010962,18000808,PRCP,0,,,E,\\nEZE00100082,18000808,TMAX,193,,,E,\\nEZE00100082,18000808,TMIN,136,,,E,\\nITE00100554,18000809,TMAX,240,,,E,\\nITE00100554,18000809,TMIN,144,,,E,\\nGM000010962,18000809,PRCP,9,,,E,\\nEZE00100082,18000809,TMAX,214,,,E,\\nEZE00100082,18000809,TMIN,117,,,E,\\nITE00100554,18000810,TMAX,246,,,E,\\nITE00100554,18000810,TMIN,159,,,E,\\nGM000010962,18000810,PRCP,0,,,E,\\nEZE00100082,18000810,TMAX,251,,,E,\\nEZE00100082,18000810,TMIN,155,,,E,\\nITE00100554,18000811,TMAX,271,,,E,\\nITE00100554,18000811,TMIN,166,,,E,\\nGM000010962,18000811,PRCP,0,,,E,\\nEZE00100082,18000811,TMAX,246,,,E,\\nEZE00100082,18000811,TMIN,155,,,E,\\nITE00100554,18000812,TMAX,259,,,E,\\nITE00100554,18000812,TMIN,184,,,E,\\nGM000010962,18000812,PRCP,0,,,E,\\nEZE00100082,18000812,TMAX,262,,,E,\\nEZE00100082,18000812,TMIN,162,,,E,\\nITE00100554,18000813,TMAX,281,,,E,\\nITE00100554,18000813,TMIN,204,,,E,\\nGM000010962,18000813,PRCP,0,,,E,\\nEZE00100082,18000813,TMAX,287,,,E,\\nEZE00100082,18000813,TMIN,165,,,E,\\nITE00100554,18000814,TMAX,284,,,E,\\nITE00100554,18000814,TMIN,221,,,E,\\nGM000010962,18000814,PRCP,0,,,E,\\nEZE00100082,18000814,TMAX,306,,,E,\\nEZE00100082,18000814,TMIN,180,,,E,\\nITE00100554,18000815,TMAX,298,,,E,\\nITE00100554,18000815,TMIN,216,,,E,\\nGM000010962,18000815,PRCP,0,,,E,\\nEZE00100082,18000815,TMAX,307,,,E,\\nEZE00100082,18000815,TMIN,181,,,E,\\nITE00100554,18000816,TMAX,304,,,E,\\nITE00100554,18000816,TMIN,216,,,E,\\nGM000010962,18000816,PRCP,0,,,E,\\nEZE00100082,18000816,TMAX,304,,,E,\\nEZE00100082,18000816,TMIN,198,,,E,\\nITE00100554,18000817,TMAX,309,,,E,\\nITE00100554,18000817,TMIN,216,,,E,\\nGM000010962,18000817,PRCP,0,,,E,\\nEZE00100082,18000817,TMAX,275,,,E,\\nEZE00100082,18000817,TMIN,178,,,E,\\nITE00100554,18000818,TMAX,313,,,E,\\nITE00100554,18000818,TMIN,221,,,E,\\nGM000010962,18000818,PRCP,0,,,E,\\nEZE00100082,18000818,TMAX,323,,,E,\\nEZE00100082,18000818,TMIN,185,,,E,\\nITE00100554,18000819,TMAX,323,,,E,\\nITE00100554,18000819,TMIN,238,,,E,\\nGM000010962,18000819,PRCP,0,,,E,\\nEZE00100082,18000819,TMAX,290,,,E,\\nEZE00100082,18000819,TMIN,195,,,E,\\nITE00100554,18000820,TMAX,310,,,E,\\nITE00100554,18000820,TMIN,235,,,E,\\nGM000010962,18000820,PRCP,0,,,E,\\nEZE00100082,18000820,TMAX,274,,,E,\\nEZE00100082,18000820,TMIN,202,,,E,\\nITE00100554,18000821,TMAX,298,,,E,\\nITE00100554,18000821,TMIN,231,,,E,\\nGM000010962,18000821,PRCP,36,,,E,\\nEZE00100082,18000821,TMAX,253,,,E,\\nEZE00100082,18000821,TMIN,195,,,E,\\nITE00100554,18000822,TMAX,279,,,E,\\nITE00100554,18000822,TMIN,209,,,E,\\nGM000010962,18000822,PRCP,195,,,E,\\nEZE00100082,18000822,TMAX,206,,,E,\\nEZE00100082,18000822,TMIN,158,,,E,\\nITE00100554,18000823,TMAX,213,,,E,\\nITE00100554,18000823,TMIN,204,,,E,\\nGM000010962,18000823,PRCP,0,,,E,\\nEZE00100082,18000823,TMAX,231,,,E,\\nEZE00100082,18000823,TMIN,119,,,E,\\nITE00100554,18000824,TMAX,229,,,E,\\nITE00100554,18000824,TMIN,148,,,E,\\nGM000010962,18000824,PRCP,33,,,E,\\nEZE00100082,18000824,TMAX,213,,,E,\\nEZE00100082,18000824,TMIN,154,,,E,\\nITE00100554,18000825,TMAX,241,,,E,\\nITE00100554,18000825,TMIN,171,,,E,\\nGM000010962,18000825,PRCP,0,,,E,\\nEZE00100082,18000825,TMAX,200,,,E,\\nEZE00100082,18000825,TMIN,133,,,E,\\nITE00100554,18000826,TMAX,210,,,E,\\nITE00100554,18000826,TMIN,159,,,E,\\nGM000010962,18000826,PRCP,51,,,E,\\nEZE00100082,18000826,TMAX,215,,,E,\\nEZE00100082,18000826,TMIN,151,,,E,\\nITE00100554,18000827,TMAX,234,,,E,\\nITE00100554,18000827,TMIN,146,,,E,\\nGM000010962,18000827,PRCP,268,,,E,\\nEZE00100082,18000827,TMAX,220,,,E,\\nEZE00100082,18000827,TMIN,148,,,E,\\nITE00100554,18000828,TMAX,234,,,E,\\nITE00100554,18000828,TMIN,154,,,E,\\nGM000010962,18000828,PRCP,0,,,E,\\nEZE00100082,18000828,TMAX,203,,,E,\\nEZE00100082,18000828,TMIN,158,,,E,\\nITE00100554,18000829,TMAX,241,,,E,\\nITE00100554,18000829,TMIN,179,,,E,\\nGM000010962,18000829,PRCP,0,,,E,\\nEZE00100082,18000829,TMAX,203,,,E,\\nEZE00100082,18000829,TMIN,149,,,E,\\nITE00100554,18000830,TMAX,241,,,E,\\nITE00100554,18000830,TMIN,163,,,E,\\nGM000010962,18000830,PRCP,40,,,E,\\nEZE00100082,18000830,TMAX,196,,,E,\\nEZE00100082,18000830,TMIN,154,,,E,\\nITE00100554,18000831,TMAX,240,,,E,\\nITE00100554,18000831,TMIN,165,,,E,\\nGM000010962,18000831,PRCP,50,,,E,\\nEZE00100082,18000831,TMAX,177,,,E,\\nEZE00100082,18000831,TMIN,147,,,E,\\nITE00100554,18000901,TMAX,241,,,E,\\nITE00100554,18000901,TMIN,184,,,E,\\nGM000010962,18000901,PRCP,31,,,E,\\nEZE00100082,18000901,TMAX,193,,,E,\\nEZE00100082,18000901,TMIN,148,,,E,\\nITE00100554,18000902,TMAX,179,,,E,\\nITE00100554,18000902,TMIN,179,,,E,\\nGM000010962,18000902,PRCP,0,,,E,\\nEZE00100082,18000902,TMAX,209,,,E,\\nEZE00100082,18000902,TMIN,152,,,E,\\nITE00100554,18000903,TMAX,216,,,E,\\nITE00100554,18000903,TMIN,166,,,E,\\nGM000010962,18000903,PRCP,2,,,E,\\nEZE00100082,18000903,TMAX,197,,,E,\\nEZE00100082,18000903,TMIN,157,,,E,\\nITE00100554,18000904,TMAX,229,,,E,\\nITE00100554,18000904,TMIN,166,,,E,\\nGM000010962,18000904,PRCP,2,,,E,\\nEZE00100082,18000904,TMAX,214,,,E,\\nEZE00100082,18000904,TMIN,141,,,E,\\nITE00100554,18000905,TMAX,238,,,E,\\nITE00100554,18000905,TMIN,191,,,E,\\nGM000010962,18000905,PRCP,0,,,E,\\nEZE00100082,18000905,TMAX,210,,,E,\\nEZE00100082,18000905,TMIN,154,,,E,\\nITE00100554,18000906,TMAX,238,,,E,\\nITE00100554,18000906,TMIN,179,,,E,\\nGM000010962,18000906,PRCP,20,,,E,\\nEZE00100082,18000906,TMAX,225,,,E,\\nEZE00100082,18000906,TMIN,173,,,E,\\nITE00100554,18000907,TMAX,223,,,E,\\nITE00100554,18000907,TMIN,178,,,E,\\nGM000010962,18000907,PRCP,0,,,E,\\nEZE00100082,18000907,TMAX,230,,,E,\\nEZE00100082,18000907,TMIN,146,,,E,\\nITE00100554,18000908,TMAX,238,,,E,\\nITE00100554,18000908,TMIN,175,,,E,\\nGM000010962,18000908,PRCP,56,,,E,\\nEZE00100082,18000908,TMAX,227,,,E,\\nEZE00100082,18000908,TMIN,184,,,E,\\nITE00100554,18000909,TMAX,250,,,E,\\nITE00100554,18000909,TMIN,188,,,E,\\nGM000010962,18000909,PRCP,11,,,E,\\nEZE00100082,18000909,TMAX,194,,,E,\\nEZE00100082,18000909,TMIN,163,,,E,\\nITE00100554,18000910,TMAX,238,,,E,\\nITE00100554,18000910,TMIN,188,,,E,\\nGM000010962,18000910,PRCP,0,,,E,\\nEZE00100082,18000910,TMAX,202,,,E,\\nEZE00100082,18000910,TMIN,152,,,E,\\nITE00100554,18000911,TMAX,248,,,E,\\nITE00100554,18000911,TMIN,163,,,E,\\nGM000010962,18000911,PRCP,110,,,E,\\nEZE00100082,18000911,TMAX,181,,,E,\\nEZE00100082,18000911,TMIN,157,,,E,\\nITE00100554,18000912,TMAX,238,,,E,\\nITE00100554,18000912,TMIN,163,,,E,\\nGM000010962,18000912,PRCP,1,,,E,\\nEZE00100082,18000912,TMAX,186,,,E,\\nEZE00100082,18000912,TMIN,141,,,E,\\nITE00100554,18000913,TMAX,241,,,E,\\nITE00100554,18000913,TMIN,154,,,E,\\nGM000010962,18000913,PRCP,0,,,E,\\nEZE00100082,18000913,TMAX,177,,,E,\\nEZE00100082,18000913,TMIN,116,,,E,\\nITE00100554,18000914,TMAX,229,,,E,\\nITE00100554,18000914,TMIN,166,,,E,\\nGM000010962,18000914,PRCP,0,,,E,\\nEZE00100082,18000914,TMAX,183,,,E,\\nEZE00100082,18000914,TMIN,104,,,E,\\nITE00100554,18000915,TMAX,225,,,E,\\nITE00100554,18000915,TMIN,159,,,E,\\nGM000010962,18000915,PRCP,0,,,E,\\nEZE00100082,18000915,TMAX,198,,,E,\\nEZE00100082,18000915,TMIN,115,,,E,\\nITE00100554,18000916,TMAX,229,,,E,\\nITE00100554,18000916,TMIN,154,,,E,\\nGM000010962,18000916,PRCP,0,,,E,\\nEZE00100082,18000916,TMAX,205,,,E,\\nEZE00100082,18000916,TMIN,111,,,E,\\nITE00100554,18000917,TMAX,235,,,E,\\nITE00100554,18000917,TMIN,163,,,E,\\nGM000010962,18000917,PRCP,0,,,E,\\nEZE00100082,18000917,TMAX,199,,,E,\\nEZE00100082,18000917,TMIN,110,,,E,\\nITE00100554,18000918,TMAX,246,,,E,\\nITE00100554,18000918,TMIN,175,,,E,\\nGM000010962,18000918,PRCP,4,,,E,\\nEZE00100082,18000918,TMAX,217,,,E,\\nEZE00100082,18000918,TMIN,118,,,E,\\nITE00100554,18000919,TMAX,241,,,E,\\nITE00100554,18000919,TMIN,184,,,E,\\nGM000010962,18000919,PRCP,0,,,E,\\nEZE00100082,18000919,TMAX,217,,,E,\\nEZE00100082,18000919,TMIN,165,,,E,\\nITE00100554,18000920,TMAX,225,,,E,\\nITE00100554,18000920,TMIN,191,,,E,\\nGM000010962,18000920,PRCP,2,,,E,\\nEZE00100082,18000920,TMAX,210,,,E,\\nEZE00100082,18000920,TMIN,142,,,E,\\nITE00100554,18000921,TMAX,231,,,E,\\nITE00100554,18000921,TMIN,191,,,E,\\nGM000010962,18000921,PRCP,85,,,E,\\nEZE00100082,18000921,TMAX,193,,,E,\\nEZE00100082,18000921,TMIN,155,,,E,\\nITE00100554,18000922,TMAX,235,,,E,\\nITE00100554,18000922,TMIN,185,,,E,\\nGM000010962,18000922,PRCP,33,,,E,\\nEZE00100082,18000922,TMAX,169,,,E,\\nEZE00100082,18000922,TMIN,136,,,E,\\nITE00100554,18000923,TMAX,234,,,E,\\nITE00100554,18000923,TMIN,163,,,E,\\nGM000010962,18000923,PRCP,14,,,E,\\nEZE00100082,18000923,TMAX,170,,,E,\\nEZE00100082,18000923,TMIN,131,,,E,\\nITE00100554,18000924,TMAX,234,,,E,\\nITE00100554,18000924,TMIN,169,,,E,\\nGM000010962,18000924,PRCP,49,,,E,\\nEZE00100082,18000924,TMAX,164,,,E,\\nEZE00100082,18000924,TMIN,132,,,E,\\nITE00100554,18000925,TMAX,238,,,E,\\nITE00100554,18000925,TMIN,171,,,E,\\nGM000010962,18000925,PRCP,30,,,E,\\nEZE00100082,18000925,TMAX,156,,,E,\\nEZE00100082,18000925,TMIN,125,,,E,\\nITE00100554,18000926,TMAX,198,,,E,\\nITE00100554,18000926,TMIN,181,,,E,\\nGM000010962,18000926,PRCP,10,,,E,\\nEZE00100082,18000926,TMAX,144,,,E,\\nEZE00100082,18000926,TMIN,115,,,E,\\nITE00100554,18000927,TMAX,213,,,E,\\nITE00100554,18000927,TMIN,129,,,E,\\nGM000010962,18000927,PRCP,11,,,E,\\nEZE00100082,18000927,TMAX,134,,,E,\\nEZE00100082,18000927,TMIN,116,,,E,\\nITE00100554,18000928,TMAX,213,,,E,\\nITE00100554,18000928,TMIN,181,,,E,\\nGM000010962,18000928,PRCP,14,,,E,\\nEZE00100082,18000928,TMAX,158,,,E,\\nEZE00100082,18000928,TMIN,114,,,E,\\nITE00100554,18000929,TMAX,196,,,E,\\nITE00100554,18000929,TMIN,119,,,E,\\nGM000010962,18000929,PRCP,13,,,E,\\nEZE00100082,18000929,TMAX,131,,,E,\\nEZE00100082,18000929,TMIN,91,,,E,\\nITE00100554,18000930,TMAX,200,,,E,\\nITE00100554,18000930,TMIN,100,,,E,\\nGM000010962,18000930,PRCP,0,,,E,\\nEZE00100082,18000930,TMAX,157,,,E,\\nEZE00100082,18000930,TMIN,85,,,E,\\nITE00100554,18001001,TMAX,188,,,E,\\nITE00100554,18001001,TMIN,129,,,E,\\nGM000010962,18001001,PRCP,45,,,E,\\nEZE00100082,18001001,TMAX,133,,,E,\\nEZE00100082,18001001,TMIN,110,,,E,\\nITE00100554,18001002,TMAX,194,,,E,\\nITE00100554,18001002,TMIN,144,,,E,\\nGM000010962,18001002,PRCP,127,,,E,\\nEZE00100082,18001002,TMAX,135,,,E,\\nEZE00100082,18001002,TMIN,98,,,E,\\nITE00100554,18001003,TMAX,200,,,E,\\nITE00100554,18001003,TMIN,144,,,E,\\nGM000010962,18001003,PRCP,149,,,E,\\nEZE00100082,18001003,TMAX,164,,,E,\\nEZE00100082,18001003,TMIN,94,,,E,\\nITE00100554,18001004,TMAX,200,,,E,\\nITE00100554,18001004,TMIN,163,,,E,\\nGM000010962,18001004,PRCP,48,,,E,\\nEZE00100082,18001004,TMAX,136,,,E,\\nEZE00100082,18001004,TMIN,109,,,E,\\nITE00100554,18001005,TMAX,185,,,E,\\nITE00100554,18001005,TMIN,141,,,E,\\nGM000010962,18001005,PRCP,0,,,E,\\nEZE00100082,18001005,TMAX,150,,,E,\\nEZE00100082,18001005,TMIN,95,,,E,\\nITE00100554,18001006,TMAX,181,,,E,\\nITE00100554,18001006,TMIN,150,,,E,\\nGM000010962,18001006,PRCP,0,,,E,\\nEZE00100082,18001006,TMAX,149,,,E,\\nEZE00100082,18001006,TMIN,76,,,E,\\nITE00100554,18001007,TMAX,169,,,E,\\nITE00100554,18001007,TMIN,154,,,E,\\nGM000010962,18001007,PRCP,0,,,E,\\nEZE00100082,18001007,TMAX,163,,,E,\\nEZE00100082,18001007,TMIN,98,,,E,\\nITE00100554,18001008,TMAX,184,,,E,\\nITE00100554,18001008,TMIN,165,,,E,\\nGM000010962,18001008,PRCP,0,,,E,\\nEZE00100082,18001008,TMAX,165,,,E,\\nEZE00100082,18001008,TMIN,104,,,E,\\nITE00100554,18001009,TMAX,184,,,E,\\nITE00100554,18001009,TMIN,166,,,E,\\nGM000010962,18001009,PRCP,49,,,E,\\nEZE00100082,18001009,TMAX,174,,,E,\\nEZE00100082,18001009,TMIN,120,,,E,\\nITE00100554,18001010,TMAX,181,,,E,\\nITE00100554,18001010,TMIN,150,,,E,\\nGM000010962,18001010,PRCP,32,,,E,\\nEZE00100082,18001010,TMAX,169,,,E,\\nEZE00100082,18001010,TMIN,125,,,E,\\nITE00100554,18001011,TMAX,188,,,E,\\nITE00100554,18001011,TMIN,150,,,E,\\nGM000010962,18001011,PRCP,32,,,E,\\nEZE00100082,18001011,TMAX,136,,,E,\\nEZE00100082,18001011,TMIN,97,,,E,\\nITE00100554,18001012,TMAX,175,,,E,\\nITE00100554,18001012,TMIN,123,,,E,\\nGM000010962,18001012,PRCP,0,,,E,\\nEZE00100082,18001012,TMAX,147,,,E,\\nEZE00100082,18001012,TMIN,99,,,E,\\nITE00100554,18001013,TMAX,175,,,E,\\nITE00100554,18001013,TMIN,113,,,E,\\nGM000010962,18001013,PRCP,11,,,E,\\nEZE00100082,18001013,TMAX,127,,,E,\\nEZE00100082,18001013,TMIN,98,,,E,\\nITE00100554,18001014,TMAX,171,,,E,\\nITE00100554,18001014,TMIN,100,,,E,\\nGM000010962,18001014,PRCP,0,,,E,\\nEZE00100082,18001014,TMAX,135,,,E,\\nEZE00100082,18001014,TMIN,93,,,E,\\nITE00100554,18001015,TMAX,171,,,E,\\nITE00100554,18001015,TMIN,96,,,E,\\nGM000010962,18001015,PRCP,0,,,E,\\nEZE00100082,18001015,TMAX,124,,,E,\\nEZE00100082,18001015,TMIN,97,,,E,\\nITE00100554,18001016,TMAX,166,,,E,\\nITE00100554,18001016,TMIN,109,,,E,\\nGM000010962,18001016,PRCP,33,,,E,\\nEZE00100082,18001016,TMAX,119,,,E,\\nEZE00100082,18001016,TMIN,72,,,E,\\nITE00100554,18001017,TMAX,184,,,E,\\nITE00100554,18001017,TMIN,116,,,E,\\nGM000010962,18001017,PRCP,15,,,E,\\nEZE00100082,18001017,TMAX,81,,,E,\\nEZE00100082,18001017,TMIN,48,,,E,\\nITE00100554,18001018,TMAX,154,,,E,\\nITE00100554,18001018,TMIN,104,,,E,\\nGM000010962,18001018,PRCP,11,,,E,\\nEZE00100082,18001018,TMAX,99,,,E,\\nEZE00100082,18001018,TMIN,22,,,E,\\nITE00100554,18001019,TMAX,150,,,E,\\nITE00100554,18001019,TMIN,75,,,E,\\nGM000010962,18001019,PRCP,0,,,E,\\nEZE00100082,18001019,TMAX,127,,,E,\\nEZE00100082,18001019,TMIN,85,,,E,\\nITE00100554,18001020,TMAX,149,,,E,\\nITE00100554,18001020,TMIN,69,,,E,\\nGM000010962,18001020,PRCP,0,,,E,\\nEZE00100082,18001020,TMAX,136,,,E,\\nEZE00100082,18001020,TMIN,75,,,E,\\nITE00100554,18001021,TMAX,148,,,E,\\nITE00100554,18001021,TMIN,71,,,E,\\nGM000010962,18001021,PRCP,0,,,E,\\nEZE00100082,18001021,TMAX,133,,,E,\\nEZE00100082,18001021,TMIN,60,,,E,\\nITE00100554,18001022,TMAX,129,,,E,\\nITE00100554,18001022,TMIN,110,,,E,\\nGM000010962,18001022,PRCP,12,,,E,\\nEZE00100082,18001022,TMAX,106,,,E,\\nEZE00100082,18001022,TMIN,52,,,E,\\nITE00100554,18001023,TMAX,116,,,E,\\nITE00100554,18001023,TMIN,113,,,E,\\nGM000010962,18001023,PRCP,11,,,E,\\nEZE00100082,18001023,TMAX,75,,,E,\\nEZE00100082,18001023,TMIN,44,,,E,\\nITE00100554,18001024,TMAX,104,,,E,\\nITE00100554,18001024,TMIN,44,,,E,\\nGM000010962,18001024,PRCP,0,,,E,\\nEZE00100082,18001024,TMAX,92,,,E,\\nEZE00100082,18001024,TMIN,33,,,E,\\nITE00100554,18001025,TMAX,121,,,E,\\nITE00100554,18001025,TMIN,31,,,E,\\nGM000010962,18001025,PRCP,0,,,E,\\nEZE00100082,18001025,TMAX,76,,,E,\\nEZE00100082,18001025,TMIN,-11,,,E,\\nITE00100554,18001026,TMAX,129,,,E,\\nITE00100554,18001026,TMIN,50,,,E,\\nGM000010962,18001026,PRCP,0,,,E,\\nEZE00100082,18001026,TMAX,90,,,E,\\nEZE00100082,18001026,TMIN,55,,,E,\\nITE00100554,18001027,TMAX,134,,,E,\\nITE00100554,18001027,TMIN,60,,,E,\\nGM000010962,18001027,PRCP,0,,,E,\\nEZE00100082,18001027,TMAX,102,,,E,\\nEZE00100082,18001027,TMIN,45,,,E,\\nITE00100554,18001028,TMAX,148,,,E,\\nITE00100554,18001028,TMIN,125,,,E,\\nGM000010962,18001028,PRCP,0,,,E,\\nEZE00100082,18001028,TMAX,99,,,E,\\nEZE00100082,18001028,TMIN,59,,,E,\\nITE00100554,18001029,TMAX,150,,,E,\\nITE00100554,18001029,TMIN,113,,,E,\\nGM000010962,18001029,PRCP,2,,,E,\\nEZE00100082,18001029,TMAX,97,,,E,\\nEZE00100082,18001029,TMIN,60,,,E,\\nITE00100554,18001030,TMAX,150,,,E,\\nITE00100554,18001030,TMIN,116,,,E,\\nGM000010962,18001030,PRCP,0,,,E,\\nEZE00100082,18001030,TMAX,123,,,E,\\nEZE00100082,18001030,TMIN,70,,,E,\\nITE00100554,18001031,TMAX,125,,,E,\\nITE00100554,18001031,TMIN,116,,,E,\\nGM000010962,18001031,PRCP,0,,,E,\\nEZE00100082,18001031,TMAX,90,,,E,\\nEZE00100082,18001031,TMIN,22,,,E,\\nITE00100554,18001101,TMAX,150,,,E,\\nITE00100554,18001101,TMIN,116,,,E,\\nGM000010962,18001101,PRCP,20,,,E,\\nEZE00100082,18001101,TMAX,88,,,E,\\nEZE00100082,18001101,TMIN,57,,,E,\\nITE00100554,18001102,TMAX,141,,,E,\\nITE00100554,18001102,TMIN,116,,,E,\\nGM000010962,18001102,PRCP,63,,,E,\\nEZE00100082,18001102,TMAX,93,,,E,\\nEZE00100082,18001102,TMIN,60,,,E,\\nITE00100554,18001103,TMAX,135,,,E,\\nITE00100554,18001103,TMIN,90,,,E,\\nGM000010962,18001103,PRCP,0,,,E,\\nEZE00100082,18001103,TMAX,114,,,E,\\nEZE00100082,18001103,TMIN,79,,,E,\\nITE00100554,18001104,TMAX,113,,,E,\\nITE00100554,18001104,TMIN,106,,,E,\\nGM000010962,18001104,PRCP,0,,,E,\\nEZE00100082,18001104,TMAX,116,,,E,\\nEZE00100082,18001104,TMIN,79,,,E,\\nITE00100554,18001105,TMAX,109,,,E,\\nITE00100554,18001105,TMIN,100,,,E,\\nGM000010962,18001105,PRCP,54,,,E,\\nEZE00100082,18001105,TMAX,85,,,E,\\nEZE00100082,18001105,TMIN,61,,,E,\\nITE00100554,18001106,TMAX,113,,,E,\\nITE00100554,18001106,TMIN,48,,,E,\\nGM000010962,18001106,PRCP,59,,,E,\\nEZE00100082,18001106,TMAX,84,,,E,\\nEZE00100082,18001106,TMIN,51,,,E,\\nITE00100554,18001107,TMAX,123,,,E,\\nITE00100554,18001107,TMIN,50,,,E,\\nGM000010962,18001107,PRCP,25,,,E,\\nEZE00100082,18001107,TMAX,86,,,E,\\nEZE00100082,18001107,TMIN,45,,,E,\\nITE00100554,18001108,TMAX,110,,,E,\\nITE00100554,18001108,TMIN,98,,,E,\\nGM000010962,18001108,PRCP,0,,,E,\\nEZE00100082,18001108,TMAX,122,,,E,\\nEZE00100082,18001108,TMIN,74,,,E,\\nITE00100554,18001109,TMAX,113,,,E,\\nITE00100554,18001109,TMIN,109,,,E,\\nGM000010962,18001109,PRCP,4,,,E,\\nEZE00100082,18001109,TMAX,173,,,E,\\nEZE00100082,18001109,TMIN,122,,,E,\\nITE00100554,18001110,TMAX,146,,,E,\\nITE00100554,18001110,TMIN,104,,,E,\\nGM000010962,18001110,PRCP,0,,,E,\\nEZE00100082,18001110,TMAX,147,,,E,\\nEZE00100082,18001110,TMIN,64,,,E,\\nITE00100554,18001111,TMAX,146,,,E,\\nITE00100554,18001111,TMIN,116,,,E,\\nGM000010962,18001111,PRCP,0,,,E,\\nEZE00100082,18001111,TMAX,97,,,E,\\nEZE00100082,18001111,TMIN,43,,,E,\\nITE00100554,18001112,TMAX,134,,,E,\\nITE00100554,18001112,TMIN,121,,,E,\\nGM000010962,18001112,PRCP,0,,,E,\\nEZE00100082,18001112,TMAX,103,,,E,\\nEZE00100082,18001112,TMIN,45,,,E,\\nITE00100554,18001113,TMAX,113,,,E,\\nITE00100554,18001113,TMIN,98,,,E,\\nGM000010962,18001113,PRCP,42,,,E,\\nEZE00100082,18001113,TMAX,80,,,E,\\nEZE00100082,18001113,TMIN,50,,,E,\\nITE00100554,18001114,TMAX,131,,,E,\\nITE00100554,18001114,TMIN,88,,,E,\\nGM000010962,18001114,PRCP,39,,,E,\\nEZE00100082,18001114,TMAX,81,,,E,\\nEZE00100082,18001114,TMIN,27,,,E,\\nITE00100554,18001115,TMAX,119,,,E,\\nITE00100554,18001115,TMIN,66,,,E,\\nGM000010962,18001115,PRCP,0,,,E,\\nEZE00100082,18001115,TMAX,44,,,E,\\nEZE00100082,18001115,TMIN,1,,,E,\\nITE00100554,18001116,TMAX,94,,,E,\\nITE00100554,18001116,TMIN,94,,,E,\\nGM000010962,18001116,PRCP,0,,,E,\\nEZE00100082,18001116,TMAX,63,,,E,\\nEZE00100082,18001116,TMIN,30,,,E,\\nITE00100554,18001117,TMAX,94,,,E,\\nITE00100554,18001117,TMIN,79,,,E,\\nGM000010962,18001117,PRCP,47,,,E,\\nEZE00100082,18001117,TMAX,70,,,E,\\nEZE00100082,18001117,TMIN,44,,,E,\\nITE00100554,18001118,TMAX,98,,,E,\\nITE00100554,18001118,TMIN,54,,,E,\\nGM000010962,18001118,PRCP,13,,,E,\\nEZE00100082,18001118,TMAX,70,,,E,\\nEZE00100082,18001118,TMIN,50,,,E,\\nITE00100554,18001119,TMAX,109,,,E,\\nITE00100554,18001119,TMIN,81,,,E,\\nGM000010962,18001119,PRCP,114,,,E,\\nEZE00100082,18001119,TMAX,68,,,E,\\nEZE00100082,18001119,TMIN,55,,,E,\\nITE00100554,18001120,TMAX,116,,,E,\\nITE00100554,18001120,TMIN,54,,,E,\\nGM000010962,18001120,PRCP,62,,,E,\\nEZE00100082,18001120,TMAX,57,,,E,\\nEZE00100082,18001120,TMIN,15,,,E,\\nITE00100554,18001121,TMAX,91,,,E,\\nITE00100554,18001121,TMIN,46,,,E,\\nGM000010962,18001121,PRCP,7,,,E,\\nEZE00100082,18001121,TMAX,29,,,E,\\nEZE00100082,18001121,TMIN,2,,,E,\\nITE00100554,18001122,TMAX,60,,,E,\\nITE00100554,18001122,TMIN,54,,,E,\\nGM000010962,18001122,PRCP,0,,,E,\\nEZE00100082,18001122,TMAX,34,,,E,\\nEZE00100082,18001122,TMIN,0,,,E,\\nITE00100554,18001123,TMAX,69,,,E,\\nITE00100554,18001123,TMIN,21,,,E,\\nGM000010962,18001123,PRCP,0,,,E,\\nEZE00100082,18001123,TMAX,58,,,E,\\nEZE00100082,18001123,TMIN,30,,,E,\\nITE00100554,18001124,TMAX,63,,,E,\\nITE00100554,18001124,TMIN,19,,,E,\\nGM000010962,18001124,PRCP,0,,,E,\\nEZE00100082,18001124,TMAX,69,,,E,\\nEZE00100082,18001124,TMIN,14,,,E,\\nITE00100554,18001125,TMAX,63,,,E,\\nITE00100554,18001125,TMIN,40,,,E,\\nGM000010962,18001125,PRCP,0,,,E,\\nEZE00100082,18001125,TMAX,43,,,E,\\nEZE00100082,18001125,TMIN,-5,,,E,\\nITE00100554,18001126,TMAX,59,,,E,\\nITE00100554,18001126,TMIN,54,,,E,\\nGM000010962,18001126,PRCP,0,,,E,\\nEZE00100082,18001126,TMAX,45,,,E,\\nEZE00100082,18001126,TMIN,-6,,,E,\\nITE00100554,18001127,TMAX,48,,,E,\\nITE00100554,18001127,TMIN,41,,,E,\\nGM000010962,18001127,PRCP,86,,,E,\\nEZE00100082,18001127,TMAX,56,,,E,\\nEZE00100082,18001127,TMIN,38,,,E,\\nITE00100554,18001128,TMAX,63,,,E,\\nITE00100554,18001128,TMIN,48,,,E,\\nGM000010962,18001128,PRCP,56,,,E,\\nEZE00100082,18001128,TMAX,38,,,E,\\nEZE00100082,18001128,TMIN,17,,,E,\\nITE00100554,18001129,TMAX,66,,,E,\\nITE00100554,18001129,TMIN,59,,,E,\\nGM000010962,18001129,PRCP,13,,,E,\\nEZE00100082,18001129,TMAX,42,,,E,\\nEZE00100082,18001129,TMIN,17,,,E,\\nITE00100554,18001130,TMAX,66,,,E,\\nITE00100554,18001130,TMIN,25,,,E,\\nGM000010962,18001130,PRCP,0,,,E,\\nEZE00100082,18001130,TMAX,22,,,E,\\nEZE00100082,18001130,TMIN,0,,,E,\\nITE00100554,18001201,TMAX,29,,,E,\\nITE00100554,18001201,TMIN,9,,,E,\\nGM000010962,18001201,PRCP,7,,,E,\\nEZE00100082,18001201,TMAX,34,,,E,\\nEZE00100082,18001201,TMIN,-2,,,E,\\nITE00100554,18001202,TMAX,10,,,E,\\nITE00100554,18001202,TMIN,-23,,,E,\\nGM000010962,18001202,PRCP,0,,,E,\\nEZE00100082,18001202,TMAX,39,,,E,\\nEZE00100082,18001202,TMIN,-5,,,E,\\nITE00100554,18001203,TMAX,16,,,E,\\nITE00100554,18001203,TMIN,-4,,,E,\\nGM000010962,18001203,PRCP,14,,,E,\\nEZE00100082,18001203,TMAX,49,,,E,\\nEZE00100082,18001203,TMIN,11,,,E,\\nITE00100554,18001204,TMAX,13,,,E,\\nITE00100554,18001204,TMIN,4,,,E,\\nGM000010962,18001204,PRCP,0,,,E,\\nEZE00100082,18001204,TMAX,34,,,E,\\nEZE00100082,18001204,TMIN,-5,,,E,\\nITE00100554,18001205,TMAX,54,,,E,\\nITE00100554,18001205,TMIN,19,,,E,\\nGM000010962,18001205,PRCP,0,,,E,\\nEZE00100082,18001205,TMAX,23,,,E,\\nEZE00100082,18001205,TMIN,4,,,E,\\nITE00100554,18001206,TMAX,29,,,E,\\nITE00100554,18001206,TMIN,13,,,E,\\nGM000010962,18001206,PRCP,0,,,E,\\nEZE00100082,18001206,TMAX,63,,,E,\\nEZE00100082,18001206,TMIN,19,,,E,\\nITE00100554,18001207,TMAX,13,,,E,\\nITE00100554,18001207,TMIN,3,,,E,\\nGM000010962,18001207,PRCP,0,,,E,\\nEZE00100082,18001207,TMAX,38,,,E,\\nEZE00100082,18001207,TMIN,0,,,E,\\nITE00100554,18001208,TMAX,0,,,E,\\nITE00100554,18001208,TMIN,-4,,,E,\\nGM000010962,18001208,PRCP,0,,,E,\\nEZE00100082,18001208,TMAX,24,,,E,\\nEZE00100082,18001208,TMIN,-4,,,E,\\nITE00100554,18001209,TMAX,10,,,E,\\nITE00100554,18001209,TMIN,-10,,,E,\\nGM000010962,18001209,PRCP,0,,,E,\\nEZE00100082,18001209,TMAX,24,,,E,\\nEZE00100082,18001209,TMIN,-17,,,E,\\nITE00100554,18001210,TMAX,21,,I,E,\\nITE00100554,18001210,TMIN,10,,,E,\\nGM000010962,18001210,PRCP,0,,,E,\\nEZE00100082,18001210,TMAX,27,,,E,\\nEZE00100082,18001210,TMIN,-9,,,E,\\nITE00100554,18001211,TMAX,41,,,E,\\nITE00100554,18001211,TMIN,35,,I,E,\\nGM000010962,18001211,PRCP,0,,,E,\\nEZE00100082,18001211,TMAX,47,,,E,\\nEZE00100082,18001211,TMIN,23,,,E,\\nITE00100554,18001212,TMAX,46,,,E,\\nITE00100554,18001212,TMIN,29,,,E,\\nGM000010962,18001212,PRCP,0,,,E,\\nEZE00100082,18001212,TMAX,44,,,E,\\nEZE00100082,18001212,TMIN,35,,,E,\\nITE00100554,18001213,TMAX,71,,,E,\\nITE00100554,18001213,TMIN,46,,,E,\\nGM000010962,18001213,PRCP,0,,,E,\\nEZE00100082,18001213,TMAX,45,,,E,\\nEZE00100082,18001213,TMIN,35,,,E,\\nITE00100554,18001214,TMAX,85,,,E,\\nITE00100554,18001214,TMIN,66,,,E,\\nGM000010962,18001214,PRCP,0,,,E,\\nEZE00100082,18001214,TMAX,38,,,E,\\nEZE00100082,18001214,TMIN,27,,,E,\\nITE00100554,18001215,TMAX,91,,,E,\\nITE00100554,18001215,TMIN,73,,,E,\\nGM000010962,18001215,PRCP,0,,,E,\\nEZE00100082,18001215,TMAX,27,,,E,\\nEZE00100082,18001215,TMIN,23,,,E,\\nITE00100554,18001216,TMAX,66,,,E,\\nITE00100554,18001216,TMIN,60,,,E,\\nGM000010962,18001216,PRCP,0,,,E,\\nEZE00100082,18001216,TMAX,23,,,E,\\nEZE00100082,18001216,TMIN,-3,,,E,\\nITE00100554,18001217,TMAX,50,,,E,\\nITE00100554,18001217,TMIN,50,,,E,\\nGM000010962,18001217,PRCP,0,,,E,\\nEZE00100082,18001217,TMAX,-1,,,E,\\nEZE00100082,18001217,TMIN,-14,,,E,\\nITE00100554,18001218,TMAX,54,,,E,\\nITE00100554,18001218,TMIN,48,,I,E,\\nGM000010962,18001218,PRCP,0,,,E,\\nEZE00100082,18001218,TMAX,-8,,,E,\\nEZE00100082,18001218,TMIN,-35,,,E,\\nITE00100554,18001219,TMAX,29,,I,E,\\nITE00100554,18001219,TMIN,29,,I,E,\\nGM000010962,18001219,PRCP,0,,,E,\\nEZE00100082,18001219,TMAX,-14,,,E,\\nEZE00100082,18001219,TMIN,-56,,,E,\\nITE00100554,18001220,TMAX,13,,I,E,\\nITE00100554,18001220,TMIN,10,,,E,\\nGM000010962,18001220,PRCP,0,,,E,\\nEZE00100082,18001220,TMAX,-14,,,E,\\nEZE00100082,18001220,TMIN,-64,,,E,\\nITE00100554,18001221,TMAX,10,,,E,\\nITE00100554,18001221,TMIN,-13,,,E,\\nGM000010962,18001221,PRCP,0,,,E,\\nEZE00100082,18001221,TMAX,4,,,E,\\nEZE00100082,18001221,TMIN,-83,,,E,\\nITE00100554,18001222,TMAX,16,,,E,\\nITE00100554,18001222,TMIN,-13,,,E,\\nGM000010962,18001222,PRCP,13,,,E,\\nEZE00100082,18001222,TMAX,54,,,E,\\nEZE00100082,18001222,TMIN,4,,,E,\\nITE00100554,18001223,TMAX,23,,,E,\\nITE00100554,18001223,TMIN,-16,,,E,\\nGM000010962,18001223,PRCP,0,,,E,\\nEZE00100082,18001223,TMAX,52,,,E,\\nEZE00100082,18001223,TMIN,30,,,E,\\nITE00100554,18001224,TMAX,16,,,E,\\nITE00100554,18001224,TMIN,4,,,E,\\nGM000010962,18001224,PRCP,0,,,E,\\nEZE00100082,18001224,TMAX,30,,,E,\\nEZE00100082,18001224,TMIN,6,,,E,\\nITE00100554,18001225,TMAX,25,,,E,\\nITE00100554,18001225,TMIN,13,,,E,\\nGM000010962,18001225,PRCP,0,,,E,\\nEZE00100082,18001225,TMAX,21,,,E,\\nEZE00100082,18001225,TMIN,11,,,E,\\nITE00100554,18001226,TMAX,38,,,E,\\nITE00100554,18001226,TMIN,25,,,E,\\nGM000010962,18001226,PRCP,0,,,E,\\nEZE00100082,18001226,TMAX,36,,,E,\\nEZE00100082,18001226,TMIN,8,,,E,\\nITE00100554,18001227,TMAX,10,,I,E,\\nITE00100554,18001227,TMIN,9,,,E,\\nGM000010962,18001227,PRCP,0,,,E,\\nEZE00100082,18001227,TMAX,47,,,E,\\nEZE00100082,18001227,TMIN,20,,,E,\\nITE00100554,18001228,TMAX,35,,,E,\\nITE00100554,18001228,TMIN,25,,,E,\\nGM000010962,18001228,PRCP,7,,,E,\\nEZE00100082,18001228,TMAX,43,,,E,\\nEZE00100082,18001228,TMIN,7,,,E,\\nITE00100554,18001229,TMAX,50,,,E,\\nITE00100554,18001229,TMIN,16,,,E,\\nGM000010962,18001229,PRCP,9,,,E,\\nEZE00100082,18001229,TMAX,45,,,E,\\nEZE00100082,18001229,TMIN,-3,,,E,\\nITE00100554,18001230,TMAX,50,,,E,\\nITE00100554,18001230,TMIN,31,,,E,\\nGM000010962,18001230,PRCP,13,,,E,\\nEZE00100082,18001230,TMAX,96,,,E,\\nEZE00100082,18001230,TMIN,14,,,E,\\nITE00100554,18001231,TMAX,50,,,E,\\nITE00100554,18001231,TMIN,25,,,E,\\nGM000010962,18001231,PRCP,16,,,E,\\nEZE00100082,18001231,TMAX,14,,,E,\\nEZE00100082,18001231,TMIN,-4,,,E,\\n',\n",
       " '_29': [],\n",
       " '_42': {' ', 'a', 'f', 'k', 'l', 'p', 'r', 'u', 'v'},\n",
       " '_49': [' ', 'a', 'f', 'k', 'l', 'p', 'r', 'u', 'v'],\n",
       " '_52': [(1, 2), (3, 4), (5, 6)],\n",
       " '_57': [1, 2, 3, 4, 5, 6, 7, 8, 9],\n",
       " '_65': [1, 4, 7, 10, 13, 16, 19],\n",
       " '_84': [0,\n",
       "  2,\n",
       "  4,\n",
       "  6,\n",
       "  8,\n",
       "  10,\n",
       "  12,\n",
       "  14,\n",
       "  16,\n",
       "  18,\n",
       "  20,\n",
       "  22,\n",
       "  24,\n",
       "  26,\n",
       "  28,\n",
       "  30,\n",
       "  32,\n",
       "  34,\n",
       "  36,\n",
       "  38,\n",
       "  40,\n",
       "  42,\n",
       "  44,\n",
       "  46,\n",
       "  48,\n",
       "  50],\n",
       " '_89': ['p', 'o', 'w', 't', 's', 'w', 's', 'i', 't', 's'],\n",
       " '__': [0,\n",
       "  2,\n",
       "  4,\n",
       "  6,\n",
       "  8,\n",
       "  10,\n",
       "  12,\n",
       "  14,\n",
       "  16,\n",
       "  18,\n",
       "  20,\n",
       "  22,\n",
       "  24,\n",
       "  26,\n",
       "  28,\n",
       "  30,\n",
       "  32,\n",
       "  34,\n",
       "  36,\n",
       "  38,\n",
       "  40,\n",
       "  42,\n",
       "  44,\n",
       "  46,\n",
       "  48,\n",
       "  50],\n",
       " '___': [1, 4, 7, 10, 13, 16, 19],\n",
       " '__builtin__': <module '__builtin__' (built-in)>,\n",
       " '__builtins__': <module '__builtin__' (built-in)>,\n",
       " '__doc__': 'Automatically created module for IPython interactive environment',\n",
       " '__name__': '__main__',\n",
       " '_dh': [u'/Users/kavap/Documents/learn/spark/SparkCourse'],\n",
       " '_exit_code': 0,\n",
       " '_i': u'\"\"\"\"\"\"\\nThis is Doc String for function\\n\"\"\"\"\"\"',\n",
       " '_i1': u\"list_1 = ['a','c','a','b','a','d','c','b','d']\",\n",
       " '_i10': u'print list_1[1,1]',\n",
       " '_i11': u'print list_1[9,1]',\n",
       " '_i12': u'print list_1[9][0]',\n",
       " '_i13': u'print list_1[9][1]',\n",
       " '_i14': u\"my_dict = {'k1':1,'k2':'test','k3':true}\",\n",
       " '_i15': u\"my_dict = {'k1':1,'k2':'test','k3':True}\",\n",
       " '_i16': u'print my_dict',\n",
       " '_i17': u\"print my_dict['k1']\",\n",
       " '_i18': u\"print my_dict['k3']\",\n",
       " '_i19': u\"print my_dict['k2'].upper()\",\n",
       " '_i2': u'print list_1',\n",
       " '_i20': u\"print my_dict['k2'][1].upper()\",\n",
       " '_i21': u\"d = {}\\nd['k1'] = 'val1'\\nd['k2'] = 'val2'\\nprint d\",\n",
       " '_i22': u\"d['k3'] = d\",\n",
       " '_i23': u'print d',\n",
       " '_i24': u'!ls',\n",
       " '_i25': u'!env',\n",
       " '_i26': u'!ls',\n",
       " '_i27': u'file = open(\"1800.csv\")',\n",
       " '_i28': u'file.read()',\n",
       " '_i29': u'file.readlines()',\n",
       " '_i3': u'list_1.sort()',\n",
       " '_i30': u'x = 25\\nif x>25:\\n    print \"yes\"\\nelseif x< 10:\\n    print \"maybe\"\\nelse:\\n    print \"middle\"\\n    \\n    ',\n",
       " '_i31': u'x = 25\\nif x>25:\\n    print \"yes\"\\nelif x< 10:\\n    print \"maybe\"\\nelse:\\n    print \"middle\"\\n    \\n    ',\n",
       " '_i32': u'x = 25\\nif x>=25:\\n    print \"yes\"\\nelif x< 10:\\n    print \"maybe\"\\nelse:\\n    print \"middle\"\\n    \\n    ',\n",
       " '_i33': u'x = 15\\nif x>=25:\\n    print \"yes\"\\nelif x< 10:\\n    print \"maybe\"\\nelse:\\n    print \"middle\"\\n    \\n    ',\n",
       " '_i34': u'x = 9\\nif x>=25:\\n    print \"yes\"\\nelif x< 10:\\n    print \"maybe\"\\nelse:\\n    print \"middle\"\\n    \\n    ',\n",
       " '_i35': u'l = [1,2,3,4,5,7,8,2,12,13,17,55,66,43,42]\\nl_even = []\\nfor element in l:\\n    if element%2 == 0:\\n        l_even.add(element)\\nprint l_even',\n",
       " '_i36': u'l = [1,2,3,4,5,7,8,2,12,13,17,55,66,43,42]\\nl_even = []\\nfor element in l:\\n    if element%2 == 0:\\n        l_even.append(element)\\nprint l_even',\n",
       " '_i37': u'l = [1,2,3,4,5,7,8,2,12,13,17,55,66,43,42]\\nl_even = []\\nfor element in l:\\n    if element%2 == 0:\\n        l_even.append(element)\\nprint l_even\\nprint set(l_even)',\n",
       " '_i38': u'l = [1,2,3,4,5,7,8,2,12,13,17,55,66,43,42]\\nl_even = []\\nfor element in l:\\n    if element%2 == 0:\\n        l_even.append(element)\\nprint l_even\\nprint set(l_even)\\nset_even = {}\\nfor element in l_even:\\n    set_even.add(element)\\nprint set_even',\n",
       " '_i39': u'l = [1,2,3,4,5,7,8,2,12,13,17,55,66,43,42]\\nl_even = []\\nfor element in l:\\n    if element%2 == 0:\\n        l_even.append(element)\\nprint l_even\\nprint set(l_even)\\nset_even = set()\\nfor element in l_even:\\n    set_even.add(element)\\nprint set_even',\n",
       " '_i4': u'print list_1',\n",
       " '_i40': u'sum = 0\\nfor element in l:\\n    sum +=element\\nprint sum',\n",
       " '_i41': u'for item in \"Praful K\":\\n    print item',\n",
       " '_i42': u'string_set = set(\"praful kava\")\\nstring_set',\n",
       " '_i43': u'string_set.sort()',\n",
       " '_i44': u'unique_char_l = []\\nfor item in string_set:\\n    l.append(item)\\nprint l    \\n    ',\n",
       " '_i45': u'unique_char_l = []\\nfor item in string_set:\\n    unique_char_l.append(item)\\nprint l    \\n    ',\n",
       " '_i46': u'unique_char_l = []\\nfor item in string_set:\\n    unique_char_l.append(item)\\nprint unique_char_l    \\n    ',\n",
       " '_i47': u'unique_char_l = []\\nfor item in string_set:\\n    unique_char_l.append(item)\\nprint unique_char_l.sort()    \\n    ',\n",
       " '_i48': u'unique_char_l = []\\nfor item in string_set:\\n    unique_char_l.append(item)\\nprint unique_char_l  \\n    ',\n",
       " '_i49': u'unique_char_l = []\\nfor item in string_set:\\n    unique_char_l.append(item)\\nprint unique_char_l \\nunique_char_l.sort()\\nunique_char_l\\n    ',\n",
       " '_i5': u\"list_2 = ['1','2']\",\n",
       " '_i50': u'!ls',\n",
       " '_i51': u'!date',\n",
       " '_i52': u'tuple_list = [(1,2),(3,4),(5,6)]\\ntuple_list',\n",
       " '_i53': u'for (a,b) in tuple_list:\\n    print a',\n",
       " '_i54': u'for (a,b) in tuple_list:\\n    print b',\n",
       " '_i55': u'for (a,b) in tuple_list:\\n    print a,b',\n",
       " '_i56': u\"d = {'k1':'v1','k2':'v2'}\\nfor k,v in d.iteritems():\\n    print k,v\\n    \",\n",
       " '_i57': u'x = range(1,10)\\nx',\n",
       " '_i58': u'for y in x:\\n    print y',\n",
       " '_i59': u\"for y in x:\\n    print y\\n    if y < 3:\\n        print 'less than 3'\\n    elif y == 3:\\n        print 'reached 3'\\n        break\",\n",
       " '_i6': u'list_3 = list_1.append(list_2)',\n",
       " '_i60': u\"for y in x:\\n    print y\\n    if y < 3:\\n        print 'less than 3'\\n    elif y == 2:\\n        continue\\n    elif y == 3:\\n        print 'reached 3'\\n        break\",\n",
       " '_i61': u\"for y in x:\\n    print y\\n    if y == 2:\\n        continue\\n    elif y < 3:\\n        print 'less than 3'\\n    elif y == 3:\\n        print 'reached 3'\\n        break\",\n",
       " '_i62': u\"for y in x:\\n    ## print y\\n    if y == 2:\\n        continue\\n    elif y < 3:\\n        print 'less than 3'\\n    elif y == 3:\\n        print 'reached 3'\\n        break\",\n",
       " '_i63': u\"for y in x:\\n    ## print y\\n    if y == 2:\\n        continue\\n    elif y < 5:\\n        print 'less than 3'\\n    elif y == 5:\\n        print 'reached 3'\\n        break\",\n",
       " '_i64': u\"for y in x:\\n    ## print y\\n    if y == 2:\\n        continue\\n    elif y < 5:\\n        print 'less than 5'\\n    elif y == 5:\\n        print 'reached 5'\\n        break\",\n",
       " '_i65': u'x = range(1,21,3)\\nx',\n",
       " '_i66': u'for y in x:\\n    print y',\n",
       " '_i67': u'for y in x:\\n    print y\\n    if y > 10:\\n        print y\\n    else:\\n        print y+1',\n",
       " '_i68': u'for y in x:\\n    if y > 10:\\n        print y\\n    else:\\n        print y+1',\n",
       " '_i69': u'st = \" print only words that start with s in this sentence\"',\n",
       " '_i7': u'print list_3',\n",
       " '_i70': u'for word in st:\\n    print word',\n",
       " '_i71': u\"for word in st.split(''):\\n    print word\",\n",
       " '_i72': u\"for word in st.split(' '):\\n    print word\",\n",
       " '_i73': u\"for word in st.split(' '):\\n    if word[0].lower() == 's':\\n        print word\",\n",
       " '_i74': u\"for word in st.split(' '):\\n    if word[0] == 's':\\n        print word\",\n",
       " '_i75': u\"for word in st.split(' '):\\n    if word[1] == 's':\\n        print word\",\n",
       " '_i76': u\"for word in st.split(' '):\\n        print word\",\n",
       " '_i77': u\"for word in st.split(' '):\\n    if word = 'print':\\n        print word\",\n",
       " '_i78': u\"for word in st.split(' '):\\n    if word == 'print':\\n        print word\",\n",
       " '_i79': u\"for word in st.split(' '):\\n    if word[0] == 's':\\n        print word\",\n",
       " '_i8': u'list_1.append(list_2)',\n",
       " '_i80': u\"for word in st.split(' '):\\n    if word.startswith('s'):\\n        print word\",\n",
       " '_i81': u\"for word in st.split(' '):\\n    if word[0] == 's':\\n        print word\",\n",
       " '_i82': u'for a in range(0,11,2):\\n    print a',\n",
       " '_i83': u'l = [even for number in range(51) if number%2 ==0]\\nl',\n",
       " '_i84': u'l = [number for number in range(51) if number%2 ==0]\\nl',\n",
       " '_i85': u\"for word in st.split(' '):\\n    if word.startswith('s'):\\n        print word\",\n",
       " '_i86': u\"for word in st.split(' '):\\n    if word.length()%2 ==0 :\\n        print word\",\n",
       " '_i87': u\"for word in st.split(' '):\\n    if length(word)%2 ==0 :\\n        print word\",\n",
       " '_i88': u\"for word in st.split(' '):\\n    if len(word)%2 ==0 :\\n        print word\",\n",
       " '_i89': u'[word[0] for word in st.split()]',\n",
       " '_i9': u'print list_1',\n",
       " '_i90': u'\"\"\"\"\"\"\\nThis is Doc String for function\\n\"\"\"\"\"\"',\n",
       " '_i91': u'globals()\\nlocals()',\n",
       " '_ih': ['',\n",
       "  u\"list_1 = ['a','c','a','b','a','d','c','b','d']\",\n",
       "  u'print list_1',\n",
       "  u'list_1.sort()',\n",
       "  u'print list_1',\n",
       "  u\"list_2 = ['1','2']\",\n",
       "  u'list_3 = list_1.append(list_2)',\n",
       "  u'print list_3',\n",
       "  u'list_1.append(list_2)',\n",
       "  u'print list_1',\n",
       "  u'print list_1[1,1]',\n",
       "  u'print list_1[9,1]',\n",
       "  u'print list_1[9][0]',\n",
       "  u'print list_1[9][1]',\n",
       "  u\"my_dict = {'k1':1,'k2':'test','k3':true}\",\n",
       "  u\"my_dict = {'k1':1,'k2':'test','k3':True}\",\n",
       "  u'print my_dict',\n",
       "  u\"print my_dict['k1']\",\n",
       "  u\"print my_dict['k3']\",\n",
       "  u\"print my_dict['k2'].upper()\",\n",
       "  u\"print my_dict['k2'][1].upper()\",\n",
       "  u\"d = {}\\nd['k1'] = 'val1'\\nd['k2'] = 'val2'\\nprint d\",\n",
       "  u\"d['k3'] = d\",\n",
       "  u'print d',\n",
       "  u\"get_ipython().system(u'ls')\",\n",
       "  u\"get_ipython().system(u'env')\",\n",
       "  u\"get_ipython().system(u'ls')\",\n",
       "  u'file = open(\"1800.csv\")',\n",
       "  u'file.read()',\n",
       "  u'file.readlines()',\n",
       "  u'x = 25\\nif x>25:\\n    print \"yes\"\\nelseif x< 10:\\n    print \"maybe\"\\nelse:\\n    print \"middle\"\\n    \\n    ',\n",
       "  u'x = 25\\nif x>25:\\n    print \"yes\"\\nelif x< 10:\\n    print \"maybe\"\\nelse:\\n    print \"middle\"\\n    \\n    ',\n",
       "  u'x = 25\\nif x>=25:\\n    print \"yes\"\\nelif x< 10:\\n    print \"maybe\"\\nelse:\\n    print \"middle\"\\n    \\n    ',\n",
       "  u'x = 15\\nif x>=25:\\n    print \"yes\"\\nelif x< 10:\\n    print \"maybe\"\\nelse:\\n    print \"middle\"\\n    \\n    ',\n",
       "  u'x = 9\\nif x>=25:\\n    print \"yes\"\\nelif x< 10:\\n    print \"maybe\"\\nelse:\\n    print \"middle\"\\n    \\n    ',\n",
       "  u'l = [1,2,3,4,5,7,8,2,12,13,17,55,66,43,42]\\nl_even = []\\nfor element in l:\\n    if element%2 == 0:\\n        l_even.add(element)\\nprint l_even',\n",
       "  u'l = [1,2,3,4,5,7,8,2,12,13,17,55,66,43,42]\\nl_even = []\\nfor element in l:\\n    if element%2 == 0:\\n        l_even.append(element)\\nprint l_even',\n",
       "  u'l = [1,2,3,4,5,7,8,2,12,13,17,55,66,43,42]\\nl_even = []\\nfor element in l:\\n    if element%2 == 0:\\n        l_even.append(element)\\nprint l_even\\nprint set(l_even)',\n",
       "  u'l = [1,2,3,4,5,7,8,2,12,13,17,55,66,43,42]\\nl_even = []\\nfor element in l:\\n    if element%2 == 0:\\n        l_even.append(element)\\nprint l_even\\nprint set(l_even)\\nset_even = {}\\nfor element in l_even:\\n    set_even.add(element)\\nprint set_even',\n",
       "  u'l = [1,2,3,4,5,7,8,2,12,13,17,55,66,43,42]\\nl_even = []\\nfor element in l:\\n    if element%2 == 0:\\n        l_even.append(element)\\nprint l_even\\nprint set(l_even)\\nset_even = set()\\nfor element in l_even:\\n    set_even.add(element)\\nprint set_even',\n",
       "  u'sum = 0\\nfor element in l:\\n    sum +=element\\nprint sum',\n",
       "  u'for item in \"Praful K\":\\n    print item',\n",
       "  u'string_set = set(\"praful kava\")\\nstring_set',\n",
       "  u'string_set.sort()',\n",
       "  u'unique_char_l = []\\nfor item in string_set:\\n    l.append(item)\\nprint l    \\n    ',\n",
       "  u'unique_char_l = []\\nfor item in string_set:\\n    unique_char_l.append(item)\\nprint l    \\n    ',\n",
       "  u'unique_char_l = []\\nfor item in string_set:\\n    unique_char_l.append(item)\\nprint unique_char_l    \\n    ',\n",
       "  u'unique_char_l = []\\nfor item in string_set:\\n    unique_char_l.append(item)\\nprint unique_char_l.sort()    \\n    ',\n",
       "  u'unique_char_l = []\\nfor item in string_set:\\n    unique_char_l.append(item)\\nprint unique_char_l  \\n    ',\n",
       "  u'unique_char_l = []\\nfor item in string_set:\\n    unique_char_l.append(item)\\nprint unique_char_l \\nunique_char_l.sort()\\nunique_char_l\\n    ',\n",
       "  u\"get_ipython().system(u'ls')\",\n",
       "  u\"get_ipython().system(u'date')\",\n",
       "  u'tuple_list = [(1,2),(3,4),(5,6)]\\ntuple_list',\n",
       "  u'for (a,b) in tuple_list:\\n    print a',\n",
       "  u'for (a,b) in tuple_list:\\n    print b',\n",
       "  u'for (a,b) in tuple_list:\\n    print a,b',\n",
       "  u\"d = {'k1':'v1','k2':'v2'}\\nfor k,v in d.iteritems():\\n    print k,v\\n    \",\n",
       "  u'x = range(1,10)\\nx',\n",
       "  u'for y in x:\\n    print y',\n",
       "  u\"for y in x:\\n    print y\\n    if y < 3:\\n        print 'less than 3'\\n    elif y == 3:\\n        print 'reached 3'\\n        break\",\n",
       "  u\"for y in x:\\n    print y\\n    if y < 3:\\n        print 'less than 3'\\n    elif y == 2:\\n        continue\\n    elif y == 3:\\n        print 'reached 3'\\n        break\",\n",
       "  u\"for y in x:\\n    print y\\n    if y == 2:\\n        continue\\n    elif y < 3:\\n        print 'less than 3'\\n    elif y == 3:\\n        print 'reached 3'\\n        break\",\n",
       "  u\"for y in x:\\n    ## print y\\n    if y == 2:\\n        continue\\n    elif y < 3:\\n        print 'less than 3'\\n    elif y == 3:\\n        print 'reached 3'\\n        break\",\n",
       "  u\"for y in x:\\n    ## print y\\n    if y == 2:\\n        continue\\n    elif y < 5:\\n        print 'less than 3'\\n    elif y == 5:\\n        print 'reached 3'\\n        break\",\n",
       "  u\"for y in x:\\n    ## print y\\n    if y == 2:\\n        continue\\n    elif y < 5:\\n        print 'less than 5'\\n    elif y == 5:\\n        print 'reached 5'\\n        break\",\n",
       "  u'x = range(1,21,3)\\nx',\n",
       "  u'for y in x:\\n    print y',\n",
       "  u'for y in x:\\n    print y\\n    if y > 10:\\n        print y\\n    else:\\n        print y+1',\n",
       "  u'for y in x:\\n    if y > 10:\\n        print y\\n    else:\\n        print y+1',\n",
       "  u'st = \" print only words that start with s in this sentence\"',\n",
       "  u'for word in st:\\n    print word',\n",
       "  u\"for word in st.split(''):\\n    print word\",\n",
       "  u\"for word in st.split(' '):\\n    print word\",\n",
       "  u\"for word in st.split(' '):\\n    if word[0].lower() == 's':\\n        print word\",\n",
       "  u\"for word in st.split(' '):\\n    if word[0] == 's':\\n        print word\",\n",
       "  u\"for word in st.split(' '):\\n    if word[1] == 's':\\n        print word\",\n",
       "  u\"for word in st.split(' '):\\n        print word\",\n",
       "  u\"for word in st.split(' '):\\n    if word = 'print':\\n        print word\",\n",
       "  u\"for word in st.split(' '):\\n    if word == 'print':\\n        print word\",\n",
       "  u\"for word in st.split(' '):\\n    if word[0] == 's':\\n        print word\",\n",
       "  u\"for word in st.split(' '):\\n    if word.startswith('s'):\\n        print word\",\n",
       "  u\"for word in st.split(' '):\\n    if word[0] == 's':\\n        print word\",\n",
       "  u'for a in range(0,11,2):\\n    print a',\n",
       "  u'l = [even for number in range(51) if number%2 ==0]\\nl',\n",
       "  u'l = [number for number in range(51) if number%2 ==0]\\nl',\n",
       "  u\"for word in st.split(' '):\\n    if word.startswith('s'):\\n        print word\",\n",
       "  u\"for word in st.split(' '):\\n    if word.length()%2 ==0 :\\n        print word\",\n",
       "  u\"for word in st.split(' '):\\n    if length(word)%2 ==0 :\\n        print word\",\n",
       "  u\"for word in st.split(' '):\\n    if len(word)%2 ==0 :\\n        print word\",\n",
       "  u'[word[0] for word in st.split()]',\n",
       "  u'\"\"\"\"\"\"\\nThis is Doc String for function\\n\"\"\"\"\"\"',\n",
       "  u'globals()\\nlocals()'],\n",
       " '_ii': u'[word[0] for word in st.split()]',\n",
       " '_iii': u\"for word in st.split(' '):\\n    if len(word)%2 ==0 :\\n        print word\",\n",
       " '_oh': {28: 'ITE00100554,18000101,TMAX,-75,,,E,\\nITE00100554,18000101,TMIN,-148,,,E,\\nGM000010962,18000101,PRCP,0,,,E,\\nEZE00100082,18000101,TMAX,-86,,,E,\\nEZE00100082,18000101,TMIN,-135,,,E,\\nITE00100554,18000102,TMAX,-60,,I,E,\\nITE00100554,18000102,TMIN,-125,,,E,\\nGM000010962,18000102,PRCP,0,,,E,\\nEZE00100082,18000102,TMAX,-44,,,E,\\nEZE00100082,18000102,TMIN,-130,,,E,\\nITE00100554,18000103,TMAX,-23,,,E,\\nITE00100554,18000103,TMIN,-46,,I,E,\\nGM000010962,18000103,PRCP,4,,,E,\\nEZE00100082,18000103,TMAX,-10,,,E,\\nEZE00100082,18000103,TMIN,-73,,,E,\\nITE00100554,18000104,TMAX,0,,,E,\\nITE00100554,18000104,TMIN,-13,,,E,\\nGM000010962,18000104,PRCP,0,,,E,\\nEZE00100082,18000104,TMAX,-55,,,E,\\nEZE00100082,18000104,TMIN,-74,,,E,\\nITE00100554,18000105,TMAX,10,,,E,\\nITE00100554,18000105,TMIN,-6,,,E,\\nGM000010962,18000105,PRCP,0,,,E,\\nEZE00100082,18000105,TMAX,-40,,,E,\\nEZE00100082,18000105,TMIN,-58,,,E,\\nITE00100554,18000106,TMAX,13,,,E,\\nITE00100554,18000106,TMIN,13,,,E,\\nGM000010962,18000106,PRCP,0,,,E,\\nEZE00100082,18000106,TMAX,-39,,,E,\\nEZE00100082,18000106,TMIN,-57,,,E,\\nITE00100554,18000107,TMAX,31,,,E,\\nITE00100554,18000107,TMIN,10,,,E,\\nGM000010962,18000107,PRCP,0,,,E,\\nEZE00100082,18000107,TMAX,-30,,,E,\\nEZE00100082,18000107,TMIN,-50,,,E,\\nITE00100554,18000108,TMAX,29,,,E,\\nITE00100554,18000108,TMIN,14,,,E,\\nGM000010962,18000108,PRCP,0,,,E,\\nEZE00100082,18000108,TMAX,-1,,,E,\\nEZE00100082,18000108,TMIN,-31,,,E,\\nITE00100554,18000109,TMAX,35,,,E,\\nITE00100554,18000109,TMIN,23,,,E,\\nGM000010962,18000109,PRCP,0,,,E,\\nEZE00100082,18000109,TMAX,5,,,E,\\nEZE00100082,18000109,TMIN,-46,,,E,\\nITE00100554,18000110,TMAX,46,,,E,\\nITE00100554,18000110,TMIN,31,,,E,\\nGM000010962,18000110,PRCP,0,,,E,\\nEZE00100082,18000110,TMAX,-46,,,E,\\nEZE00100082,18000110,TMIN,-75,,,E,\\nITE00100554,18000111,TMAX,66,,,E,\\nITE00100554,18000111,TMIN,41,,,E,\\nGM000010962,18000111,PRCP,31,,,E,\\nEZE00100082,18000111,TMAX,1,,,E,\\nEZE00100082,18000111,TMIN,-62,,,E,\\nITE00100554,18000112,TMAX,41,,,E,\\nITE00100554,18000112,TMIN,29,,,E,\\nGM000010962,18000112,PRCP,0,,,E,\\nEZE00100082,18000112,TMAX,-33,,,E,\\nEZE00100082,18000112,TMIN,-60,,,E,\\nITE00100554,18000113,TMAX,23,,,E,\\nITE00100554,18000113,TMIN,13,,,E,\\nGM000010962,18000113,PRCP,3,,,E,\\nEZE00100082,18000113,TMAX,-20,,,E,\\nEZE00100082,18000113,TMIN,-60,,,E,\\nITE00100554,18000114,TMAX,41,,,E,\\nITE00100554,18000114,TMIN,23,,,E,\\nGM000010962,18000114,PRCP,0,,,E,\\nEZE00100082,18000114,TMAX,0,,,E,\\nEZE00100082,18000114,TMIN,-35,,,E,\\nITE00100554,18000115,TMAX,54,,,E,\\nITE00100554,18000115,TMIN,41,,,E,\\nGM000010962,18000115,PRCP,0,,,E,\\nEZE00100082,18000115,TMAX,10,,,E,\\nEZE00100082,18000115,TMIN,-23,,,E,\\nITE00100554,18000116,TMAX,56,,,E,\\nITE00100554,18000116,TMIN,41,,,E,\\nGM000010962,18000116,PRCP,0,,,E,\\nEZE00100082,18000116,TMAX,-11,,,E,\\nEZE00100082,18000116,TMIN,-37,,,E,\\nITE00100554,18000117,TMAX,84,,,E,\\nITE00100554,18000117,TMIN,48,,,E,\\nGM000010962,18000117,PRCP,0,,,E,\\nEZE00100082,18000117,TMAX,14,,,E,\\nEZE00100082,18000117,TMIN,-35,,,E,\\nITE00100554,18000118,TMAX,59,,,E,\\nITE00100554,18000118,TMIN,46,,,E,\\nGM000010962,18000118,PRCP,2,,,E,\\nEZE00100082,18000118,TMAX,47,,,E,\\nEZE00100082,18000118,TMIN,9,,,E,\\nITE00100554,18000119,TMAX,59,,,E,\\nITE00100554,18000119,TMIN,50,,,E,\\nGM000010962,18000119,PRCP,0,,,E,\\nEZE00100082,18000119,TMAX,66,,,E,\\nEZE00100082,18000119,TMIN,34,,,E,\\nITE00100554,18000120,TMAX,60,,,E,\\nITE00100554,18000120,TMIN,25,,,E,\\nGM000010962,18000120,PRCP,4,,,E,\\nEZE00100082,18000120,TMAX,58,,,E,\\nEZE00100082,18000120,TMIN,17,,,E,\\nITE00100554,18000121,TMAX,80,,,E,\\nITE00100554,18000121,TMIN,30,,,E,\\nGM000010962,18000121,PRCP,6,,,E,\\nEZE00100082,18000121,TMAX,31,,,E,\\nEZE00100082,18000121,TMIN,8,,,E,\\nITE00100554,18000122,TMAX,81,,,E,\\nITE00100554,18000122,TMIN,74,,,E,\\nGM000010962,18000122,PRCP,68,,,E,\\nEZE00100082,18000122,TMAX,8,,,E,\\nEZE00100082,18000122,TMIN,-16,,,E,\\nITE00100554,18000123,TMAX,85,,,E,\\nITE00100554,18000123,TMIN,75,,,E,\\nGM000010962,18000123,PRCP,18,,,E,\\nEZE00100082,18000123,TMAX,18,,,E,\\nEZE00100082,18000123,TMIN,-16,,,E,\\nITE00100554,18000124,TMAX,85,,,E,\\nITE00100554,18000124,TMIN,75,,,E,\\nGM000010962,18000124,PRCP,0,,,E,\\nEZE00100082,18000124,TMAX,31,,,E,\\nEZE00100082,18000124,TMIN,-3,,,E,\\nITE00100554,18000125,TMAX,98,,,E,\\nITE00100554,18000125,TMIN,75,,,E,\\nGM000010962,18000125,PRCP,0,,,E,\\nEZE00100082,18000125,TMAX,35,,,E,\\nEZE00100082,18000125,TMIN,2,,,E,\\nITE00100554,18000126,TMAX,75,,,E,\\nITE00100554,18000126,TMIN,34,,,E,\\nGM000010962,18000126,PRCP,0,,,E,\\nEZE00100082,18000126,TMAX,44,,,E,\\nEZE00100082,18000126,TMIN,16,,,E,\\nITE00100554,18000127,TMAX,73,,,E,\\nITE00100554,18000127,TMIN,29,,,E,\\nGM000010962,18000127,PRCP,0,,,E,\\nEZE00100082,18000127,TMAX,57,,,E,\\nEZE00100082,18000127,TMIN,15,,,E,\\nITE00100554,18000128,TMAX,79,,,E,\\nITE00100554,18000128,TMIN,54,,,E,\\nGM000010962,18000128,PRCP,4,,,E,\\nEZE00100082,18000128,TMAX,69,,,E,\\nEZE00100082,18000128,TMIN,33,,,E,\\nITE00100554,18000129,TMAX,73,,,E,\\nITE00100554,18000129,TMIN,50,,,E,\\nGM000010962,18000129,PRCP,0,,,E,\\nEZE00100082,18000129,TMAX,67,,,E,\\nEZE00100082,18000129,TMIN,19,,,E,\\nITE00100554,18000130,TMAX,66,,,E,\\nITE00100554,18000130,TMIN,50,,,E,\\nGM000010962,18000130,PRCP,0,,,E,\\nEZE00100082,18000130,TMAX,29,,,E,\\nEZE00100082,18000130,TMIN,3,,,E,\\nITE00100554,18000131,TMAX,85,,,E,\\nITE00100554,18000131,TMIN,50,,,E,\\nGM000010962,18000131,PRCP,0,,,E,\\nEZE00100082,18000131,TMAX,62,,,E,\\nEZE00100082,18000131,TMIN,23,,,E,\\nITE00100554,18000201,TMAX,91,,,E,\\nITE00100554,18000201,TMIN,63,,,E,\\nGM000010962,18000201,PRCP,13,,,E,\\nEZE00100082,18000201,TMAX,48,,,E,\\nEZE00100082,18000201,TMIN,17,,,E,\\nITE00100554,18000202,TMAX,66,,,E,\\nITE00100554,18000202,TMIN,54,,,E,\\nGM000010962,18000202,PRCP,16,,,E,\\nEZE00100082,18000202,TMAX,67,,,E,\\nEZE00100082,18000202,TMIN,19,,,E,\\nITE00100554,18000203,TMAX,56,,,E,\\nITE00100554,18000203,TMIN,54,,,E,\\nGM000010962,18000203,PRCP,0,,,E,\\nEZE00100082,18000203,TMAX,53,,,E,\\nEZE00100082,18000203,TMIN,2,,,E,\\nITE00100554,18000204,TMAX,104,,,E,\\nITE00100554,18000204,TMIN,59,,,E,\\nGM000010962,18000204,PRCP,0,,,E,\\nEZE00100082,18000204,TMAX,66,,,E,\\nEZE00100082,18000204,TMIN,39,,,E,\\nITE00100554,18000205,TMAX,79,,,E,\\nITE00100554,18000205,TMIN,46,,,E,\\nGM000010962,18000205,PRCP,0,,,E,\\nEZE00100082,18000205,TMAX,59,,,E,\\nEZE00100082,18000205,TMIN,22,,,E,\\nITE00100554,18000206,TMAX,75,,,E,\\nITE00100554,18000206,TMIN,41,,,E,\\nGM000010962,18000206,PRCP,0,,,E,\\nEZE00100082,18000206,TMAX,24,,,E,\\nEZE00100082,18000206,TMIN,-3,,,E,\\nITE00100554,18000207,TMAX,73,,,E,\\nITE00100554,18000207,TMIN,35,,,E,\\nGM000010962,18000207,PRCP,6,,,E,\\nEZE00100082,18000207,TMAX,4,,,E,\\nEZE00100082,18000207,TMIN,-22,,,E,\\nITE00100554,18000208,TMAX,50,,,E,\\nITE00100554,18000208,TMIN,25,,,E,\\nGM000010962,18000208,PRCP,0,,,E,\\nEZE00100082,18000208,TMAX,-20,,,E,\\nEZE00100082,18000208,TMIN,-39,,,E,\\nITE00100554,18000209,TMAX,35,,,E,\\nITE00100554,18000209,TMIN,0,,,E,\\nGM000010962,18000209,PRCP,0,,,E,\\nEZE00100082,18000209,TMAX,-17,,,E,\\nEZE00100082,18000209,TMIN,-36,,,E,\\nITE00100554,18000210,TMAX,38,,,E,\\nITE00100554,18000210,TMIN,16,,,E,\\nGM000010962,18000210,PRCP,0,,,E,\\nEZE00100082,18000210,TMAX,-25,,,E,\\nEZE00100082,18000210,TMIN,-69,,,E,\\nITE00100554,18000211,TMAX,21,,,E,\\nITE00100554,18000211,TMIN,9,,,E,\\nGM000010962,18000211,PRCP,0,,,E,\\nEZE00100082,18000211,TMAX,-34,,,E,\\nEZE00100082,18000211,TMIN,-102,,,E,\\nITE00100554,18000212,TMAX,13,,,E,\\nITE00100554,18000212,TMIN,3,,,E,\\nGM000010962,18000212,PRCP,0,,,E,\\nEZE00100082,18000212,TMAX,-22,,,E,\\nEZE00100082,18000212,TMIN,-78,,,E,\\nITE00100554,18000213,TMAX,13,,,E,\\nITE00100554,18000213,TMIN,0,,,E,\\nGM000010962,18000213,PRCP,0,,,E,\\nEZE00100082,18000213,TMAX,1,,,E,\\nEZE00100082,18000213,TMIN,-42,,,E,\\nITE00100554,18000214,TMAX,13,,,E,\\nITE00100554,18000214,TMIN,0,,,E,\\nGM000010962,18000214,PRCP,0,,,E,\\nEZE00100082,18000214,TMAX,5,,,E,\\nEZE00100082,18000214,TMIN,-35,,,E,\\nITE00100554,18000215,TMAX,21,,,E,\\nITE00100554,18000215,TMIN,13,,,E,\\nGM000010962,18000215,PRCP,0,,,E,\\nEZE00100082,18000215,TMAX,18,,,E,\\nEZE00100082,18000215,TMIN,0,,,E,\\nITE00100554,18000216,TMAX,75,,,E,\\nITE00100554,18000216,TMIN,13,,,E,\\nGM000010962,18000216,PRCP,7,,,E,\\nEZE00100082,18000216,TMAX,24,,,E,\\nEZE00100082,18000216,TMIN,-6,,,E,\\nITE00100554,18000217,TMAX,71,,,E,\\nITE00100554,18000217,TMIN,23,,,E,\\nGM000010962,18000217,PRCP,0,,,E,\\nEZE00100082,18000217,TMAX,20,,,E,\\nEZE00100082,18000217,TMIN,-13,,,E,\\nITE00100554,18000218,TMAX,48,,,E,\\nITE00100554,18000218,TMIN,21,,,E,\\nGM000010962,18000218,PRCP,0,,,E,\\nEZE00100082,18000218,TMAX,0,,,E,\\nEZE00100082,18000218,TMIN,-52,,,E,\\nITE00100554,18000219,TMAX,50,,,E,\\nITE00100554,18000219,TMIN,38,,,E,\\nGM000010962,18000219,PRCP,0,,,E,\\nEZE00100082,18000219,TMAX,-6,,,E,\\nEZE00100082,18000219,TMIN,-50,,,E,\\nITE00100554,18000220,TMAX,66,,,E,\\nITE00100554,18000220,TMIN,38,,,E,\\nGM000010962,18000220,PRCP,0,,,E,\\nEZE00100082,18000220,TMAX,-34,,,E,\\nEZE00100082,18000220,TMIN,-72,,,E,\\nITE00100554,18000221,TMAX,66,,,E,\\nITE00100554,18000221,TMIN,25,,,E,\\nGM000010962,18000221,PRCP,0,,,E,\\nEZE00100082,18000221,TMAX,-16,,,E,\\nEZE00100082,18000221,TMIN,-60,,,E,\\nITE00100554,18000222,TMAX,63,,,E,\\nITE00100554,18000222,TMIN,48,,,E,\\nGM000010962,18000222,PRCP,0,,,E,\\nEZE00100082,18000222,TMAX,33,,,E,\\nEZE00100082,18000222,TMIN,-42,,,E,\\nITE00100554,18000223,TMAX,81,,,E,\\nITE00100554,18000223,TMIN,54,,,E,\\nGM000010962,18000223,PRCP,0,,,E,\\nEZE00100082,18000223,TMAX,40,,,E,\\nEZE00100082,18000223,TMIN,17,,,E,\\nITE00100554,18000224,TMAX,104,,,E,\\nITE00100554,18000224,TMIN,73,,,E,\\nGM000010962,18000224,PRCP,0,,,E,\\nEZE00100082,18000224,TMAX,56,,,E,\\nEZE00100082,18000224,TMIN,14,,,E,\\nITE00100554,18000225,TMAX,116,,,E,\\nITE00100554,18000225,TMIN,60,,,E,\\nGM000010962,18000225,PRCP,0,,,E,\\nEZE00100082,18000225,TMAX,20,,,E,\\nEZE00100082,18000225,TMIN,4,,,E,\\nITE00100554,18000226,TMAX,129,,,E,\\nITE00100554,18000226,TMIN,88,,,E,\\nGM000010962,18000226,PRCP,0,,,E,\\nEZE00100082,18000226,TMAX,15,,,E,\\nEZE00100082,18000226,TMIN,-57,,,E,\\nITE00100554,18000227,TMAX,100,,,E,\\nITE00100554,18000227,TMIN,88,,I,E,\\nGM000010962,18000227,PRCP,6,,,E,\\nEZE00100082,18000227,TMAX,-39,,,E,\\nEZE00100082,18000227,TMIN,-74,,,E,\\nITE00100554,18000228,TMAX,75,,I,E,\\nITE00100554,18000228,TMIN,63,,,E,\\nGM000010962,18000228,PRCP,0,,,E,\\nEZE00100082,18000228,TMAX,25,,,E,\\nEZE00100082,18000228,TMIN,-43,,,E,\\nITE00100554,18000301,TMAX,100,,,E,\\nITE00100554,18000301,TMIN,66,,,E,\\nGM000010962,18000301,PRCP,42,,,E,\\nEZE00100082,18000301,TMAX,-21,,,E,\\nEZE00100082,18000301,TMIN,-37,,,E,\\nITE00100554,18000302,TMAX,79,,,E,\\nITE00100554,18000302,TMIN,60,,,E,\\nGM000010962,18000302,PRCP,16,,,E,\\nEZE00100082,18000302,TMAX,4,,,E,\\nEZE00100082,18000302,TMIN,-40,,,E,\\nITE00100554,18000303,TMAX,54,,,E,\\nITE00100554,18000303,TMIN,46,,,E,\\nGM000010962,18000303,PRCP,6,,,E,\\nEZE00100082,18000303,TMAX,10,,,E,\\nEZE00100082,18000303,TMIN,-30,,,E,\\nITE00100554,18000304,TMAX,84,,,E,\\nITE00100554,18000304,TMIN,29,,,E,\\nGM000010962,18000304,PRCP,0,,,E,\\nEZE00100082,18000304,TMAX,32,,,E,\\nEZE00100082,18000304,TMIN,-23,,,E,\\nITE00100554,18000305,TMAX,79,,,E,\\nITE00100554,18000305,TMIN,21,,,E,\\nGM000010962,18000305,PRCP,4,,,E,\\nEZE00100082,18000305,TMAX,-14,,,E,\\nEZE00100082,18000305,TMIN,-47,,,E,\\nITE00100554,18000306,TMAX,60,,,E,\\nITE00100554,18000306,TMIN,29,,,E,\\nGM000010962,18000306,PRCP,0,,,E,\\nEZE00100082,18000306,TMAX,-34,,,E,\\nEZE00100082,18000306,TMIN,-70,,,E,\\nITE00100554,18000307,TMAX,34,,,E,\\nITE00100554,18000307,TMIN,16,,,E,\\nGM000010962,18000307,PRCP,0,,,E,\\nEZE00100082,18000307,TMAX,-42,,,E,\\nEZE00100082,18000307,TMIN,-89,,,E,\\nITE00100554,18000308,TMAX,38,,,E,\\nITE00100554,18000308,TMIN,0,,,E,\\nGM000010962,18000308,PRCP,0,,,E,\\nEZE00100082,18000308,TMAX,-49,,,E,\\nEZE00100082,18000308,TMIN,-130,,,E,\\nITE00100554,18000309,TMAX,79,,,E,\\nITE00100554,18000309,TMIN,16,,,E,\\nGM000010962,18000309,PRCP,30,,,E,\\nEZE00100082,18000309,TMAX,-63,,,E,\\nEZE00100082,18000309,TMIN,-93,,,E,\\nITE00100554,18000310,TMAX,75,,,E,\\nITE00100554,18000310,TMIN,25,,,E,\\nGM000010962,18000310,PRCP,0,,,E,\\nEZE00100082,18000310,TMAX,-34,,,E,\\nEZE00100082,18000310,TMIN,-110,,,E,\\nITE00100554,18000311,TMAX,79,,,E,\\nITE00100554,18000311,TMIN,29,,,E,\\nGM000010962,18000311,PRCP,0,,,E,\\nEZE00100082,18000311,TMAX,-33,,,E,\\nEZE00100082,18000311,TMIN,-107,,,E,\\nITE00100554,18000312,TMAX,69,,,E,\\nITE00100554,18000312,TMIN,41,,,E,\\nGM000010962,18000312,PRCP,7,,,E,\\nEZE00100082,18000312,TMAX,-22,,,E,\\nEZE00100082,18000312,TMIN,-87,,,E,\\nITE00100554,18000313,TMAX,75,,,E,\\nITE00100554,18000313,TMIN,44,,,E,\\nGM000010962,18000313,PRCP,0,,,E,\\nEZE00100082,18000313,TMAX,-24,,,E,\\nEZE00100082,18000313,TMIN,-110,,,E,\\nITE00100554,18000314,TMAX,100,,,E,\\nITE00100554,18000314,TMIN,25,,,E,\\nGM000010962,18000314,PRCP,0,,,E,\\nEZE00100082,18000314,TMAX,11,,,E,\\nEZE00100082,18000314,TMIN,-61,,,E,\\nITE00100554,18000315,TMAX,109,,,E,\\nITE00100554,18000315,TMIN,50,,,E,\\nGM000010962,18000315,PRCP,0,,,E,\\nEZE00100082,18000315,TMAX,-1,,,E,\\nEZE00100082,18000315,TMIN,-52,,,E,\\nITE00100554,18000316,TMAX,113,,,E,\\nITE00100554,18000316,TMIN,35,,,E,\\nGM000010962,18000316,PRCP,0,,,E,\\nEZE00100082,18000316,TMAX,10,,,E,\\nEZE00100082,18000316,TMIN,-67,,,E,\\nITE00100554,18000317,TMAX,109,,,E,\\nITE00100554,18000317,TMIN,54,,,E,\\nGM000010962,18000317,PRCP,0,,,E,\\nEZE00100082,18000317,TMAX,30,,,E,\\nEZE00100082,18000317,TMIN,-52,,,E,\\nITE00100554,18000318,TMAX,91,,,E,\\nITE00100554,18000318,TMIN,56,,,E,\\nGM000010962,18000318,PRCP,4,,,E,\\nEZE00100082,18000318,TMAX,26,,,E,\\nEZE00100082,18000318,TMIN,-35,,,E,\\nITE00100554,18000319,TMAX,125,,,E,\\nITE00100554,18000319,TMIN,60,,,E,\\nGM000010962,18000319,PRCP,17,,,E,\\nEZE00100082,18000319,TMAX,36,,,E,\\nEZE00100082,18000319,TMIN,-19,,,E,\\nITE00100554,18000320,TMAX,116,,,E,\\nITE00100554,18000320,TMIN,73,,,E,\\nGM000010962,18000320,PRCP,20,,,E,\\nEZE00100082,18000320,TMAX,13,,,E,\\nEZE00100082,18000320,TMIN,-38,,,E,\\nITE00100554,18000321,TMAX,109,,,E,\\nITE00100554,18000321,TMIN,50,,,E,\\nGM000010962,18000321,PRCP,6,,,E,\\nEZE00100082,18000321,TMAX,15,,,E,\\nEZE00100082,18000321,TMIN,-48,,,E,\\nITE00100554,18000322,TMAX,71,,,E,\\nITE00100554,18000322,TMIN,48,,,E,\\nGM000010962,18000322,PRCP,25,,,E,\\nEZE00100082,18000322,TMAX,14,,,E,\\nEZE00100082,18000322,TMIN,-57,,,E,\\nITE00100554,18000323,TMAX,75,,,E,\\nITE00100554,18000323,TMIN,19,,,E,\\nGM000010962,18000323,PRCP,4,,,E,\\nEZE00100082,18000323,TMAX,4,,,E,\\nEZE00100082,18000323,TMIN,-78,,,E,\\nITE00100554,18000324,TMAX,81,,,E,\\nITE00100554,18000324,TMIN,10,,,E,\\nGM000010962,18000324,PRCP,0,,,E,\\nEZE00100082,18000324,TMAX,33,,,E,\\nEZE00100082,18000324,TMIN,-24,,,E,\\nITE00100554,18000325,TMAX,85,,,E,\\nITE00100554,18000325,TMIN,25,,,E,\\nGM000010962,18000325,PRCP,0,,,E,\\nEZE00100082,18000325,TMAX,68,,,E,\\nEZE00100082,18000325,TMIN,8,,,E,\\nITE00100554,18000326,TMAX,110,,,E,\\nITE00100554,18000326,TMIN,31,,,E,\\nGM000010962,18000326,PRCP,0,,,E,\\nEZE00100082,18000326,TMAX,71,,,E,\\nEZE00100082,18000326,TMIN,9,,,E,\\nITE00100554,18000327,TMAX,113,,,E,\\nITE00100554,18000327,TMIN,48,,,E,\\nGM000010962,18000327,PRCP,0,,,E,\\nEZE00100082,18000327,TMAX,84,,,E,\\nEZE00100082,18000327,TMIN,-5,,,E,\\nITE00100554,18000328,TMAX,125,,,E,\\nITE00100554,18000328,TMIN,54,,,E,\\nGM000010962,18000328,PRCP,0,,,E,\\nEZE00100082,18000328,TMAX,86,,,E,\\nEZE00100082,18000328,TMIN,-23,,,E,\\nITE00100554,18000329,TMAX,110,,,E,\\nITE00100554,18000329,TMIN,85,,,E,\\nGM000010962,18000329,PRCP,0,,,E,\\nEZE00100082,18000329,TMAX,82,,,E,\\nEZE00100082,18000329,TMIN,4,,,E,\\nITE00100554,18000330,TMAX,141,,,E,\\nITE00100554,18000330,TMIN,85,,,E,\\nGM000010962,18000330,PRCP,0,,,E,\\nEZE00100082,18000330,TMAX,91,,,E,\\nEZE00100082,18000330,TMIN,10,,,E,\\nITE00100554,18000331,TMAX,138,,,E,\\nITE00100554,18000331,TMIN,75,,,E,\\nGM000010962,18000331,PRCP,0,,,E,\\nEZE00100082,18000331,TMAX,123,,,E,\\nEZE00100082,18000331,TMIN,11,,,E,\\nITE00100554,18000401,TMAX,109,,,E,\\nITE00100554,18000401,TMIN,100,,,E,\\nGM000010962,18000401,PRCP,0,,,E,\\nEZE00100082,18000401,TMAX,98,,,E,\\nEZE00100082,18000401,TMIN,50,,,E,\\nITE00100554,18000402,TMAX,104,,,E,\\nITE00100554,18000402,TMIN,98,,,E,\\nGM000010962,18000402,PRCP,9,,,E,\\nEZE00100082,18000402,TMAX,128,,,E,\\nEZE00100082,18000402,TMIN,59,,,E,\\nITE00100554,18000403,TMAX,128,,,E,\\nITE00100554,18000403,TMIN,75,,,E,\\nGM000010962,18000403,PRCP,0,,,E,\\nEZE00100082,18000403,TMAX,116,,,E,\\nEZE00100082,18000403,TMIN,61,,,E,\\nITE00100554,18000404,TMAX,153,,,E,\\nITE00100554,18000404,TMIN,75,,,E,\\nGM000010962,18000404,PRCP,0,,,E,\\nEZE00100082,18000404,TMAX,157,,,E,\\nEZE00100082,18000404,TMIN,69,,,E,\\nITE00100554,18000405,TMAX,166,,,E,\\nITE00100554,18000405,TMIN,84,,,E,\\nGM000010962,18000405,PRCP,0,,,E,\\nEZE00100082,18000405,TMAX,134,,,E,\\nEZE00100082,18000405,TMIN,65,,,E,\\nITE00100554,18000406,TMAX,178,,,E,\\nITE00100554,18000406,TMIN,96,,,E,\\nGM000010962,18000406,PRCP,0,,,E,\\nEZE00100082,18000406,TMAX,168,,,E,\\nEZE00100082,18000406,TMIN,95,,,E,\\nITE00100554,18000407,TMAX,198,,,E,\\nITE00100554,18000407,TMIN,99,,,E,\\nGM000010962,18000407,PRCP,0,,,E,\\nEZE00100082,18000407,TMAX,160,,,E,\\nEZE00100082,18000407,TMIN,74,,,E,\\nITE00100554,18000408,TMAX,200,,,E,\\nITE00100554,18000408,TMIN,109,,,E,\\nGM000010962,18000408,PRCP,0,,,E,\\nEZE00100082,18000408,TMAX,203,,,E,\\nEZE00100082,18000408,TMIN,75,,,E,\\nITE00100554,18000409,TMAX,200,,,E,\\nITE00100554,18000409,TMIN,148,,,E,\\nGM000010962,18000409,PRCP,0,,,E,\\nEZE00100082,18000409,TMAX,193,,,E,\\nEZE00100082,18000409,TMIN,105,,,E,\\nITE00100554,18000410,TMAX,200,,,E,\\nITE00100554,18000410,TMIN,129,,,E,\\nGM000010962,18000410,PRCP,0,,,E,\\nEZE00100082,18000410,TMAX,212,,,E,\\nEZE00100082,18000410,TMIN,125,,,E,\\nITE00100554,18000411,TMAX,200,,,E,\\nITE00100554,18000411,TMIN,141,,,E,\\nGM000010962,18000411,PRCP,0,,,E,\\nEZE00100082,18000411,TMAX,171,,,E,\\nEZE00100082,18000411,TMIN,95,,,E,\\nITE00100554,18000412,TMAX,200,,,E,\\nITE00100554,18000412,TMIN,116,,,E,\\nGM000010962,18000412,PRCP,10,,,E,\\nEZE00100082,18000412,TMAX,170,,,E,\\nEZE00100082,18000412,TMIN,55,,,E,\\nITE00100554,18000413,TMAX,181,,,E,\\nITE00100554,18000413,TMIN,129,,,E,\\nGM000010962,18000413,PRCP,40,,,E,\\nEZE00100082,18000413,TMAX,185,,,E,\\nEZE00100082,18000413,TMIN,99,,,E,\\nITE00100554,18000414,TMAX,188,,,E,\\nITE00100554,18000414,TMIN,91,,,E,\\nGM000010962,18000414,PRCP,2,,,E,\\nEZE00100082,18000414,TMAX,145,,,E,\\nEZE00100082,18000414,TMIN,87,,,E,\\nITE00100554,18000415,TMAX,206,,,E,\\nITE00100554,18000415,TMIN,116,,,E,\\nGM000010962,18000415,PRCP,0,,,E,\\nEZE00100082,18000415,TMAX,194,,,E,\\nEZE00100082,18000415,TMIN,109,,,E,\\nITE00100554,18000416,TMAX,216,,,E,\\nITE00100554,18000416,TMIN,129,,,E,\\nGM000010962,18000416,PRCP,0,,,E,\\nEZE00100082,18000416,TMAX,203,,,E,\\nEZE00100082,18000416,TMIN,102,,,E,\\nITE00100554,18000417,TMAX,213,,,E,\\nITE00100554,18000417,TMIN,129,,,E,\\nGM000010962,18000417,PRCP,0,,,E,\\nEZE00100082,18000417,TMAX,248,,,E,\\nEZE00100082,18000417,TMIN,110,,,E,\\nITE00100554,18000418,TMAX,216,,,E,\\nITE00100554,18000418,TMIN,134,,,E,\\nGM000010962,18000418,PRCP,0,,,E,\\nEZE00100082,18000418,TMAX,246,,,E,\\nEZE00100082,18000418,TMIN,130,,,E,\\nITE00100554,18000419,TMAX,191,,,E,\\nITE00100554,18000419,TMIN,138,,,E,\\nGM000010962,18000419,PRCP,5,,,E,\\nEZE00100082,18000419,TMAX,208,,,E,\\nEZE00100082,18000419,TMIN,146,,,E,\\nITE00100554,18000420,TMAX,231,,,E,\\nITE00100554,18000420,TMIN,150,,,E,\\nGM000010962,18000420,PRCP,34,,,E,\\nEZE00100082,18000420,TMAX,212,,,E,\\nEZE00100082,18000420,TMIN,125,,,E,\\nITE00100554,18000421,TMAX,235,,,E,\\nITE00100554,18000421,TMIN,154,,,E,\\nGM000010962,18000421,PRCP,2,,,E,\\nEZE00100082,18000421,TMAX,228,,,E,\\nEZE00100082,18000421,TMIN,153,,,E,\\nITE00100554,18000422,TMAX,216,,,E,\\nITE00100554,18000422,TMIN,166,,,E,\\nGM000010962,18000422,PRCP,0,,,E,\\nEZE00100082,18000422,TMAX,277,,,E,\\nEZE00100082,18000422,TMIN,157,,,E,\\nITE00100554,18000423,TMAX,191,,,E,\\nITE00100554,18000423,TMIN,166,,,E,\\nGM000010962,18000423,PRCP,0,,,E,\\nEZE00100082,18000423,TMAX,250,,,E,\\nEZE00100082,18000423,TMIN,185,,,E,\\nITE00100554,18000424,TMAX,204,,,E,\\nITE00100554,18000424,TMIN,146,,,E,\\nGM000010962,18000424,PRCP,0,,,E,\\nEZE00100082,18000424,TMAX,238,,,E,\\nEZE00100082,18000424,TMIN,177,,,E,\\nITE00100554,18000425,TMAX,163,,,E,\\nITE00100554,18000425,TMIN,150,,,E,\\nGM000010962,18000425,PRCP,0,,,E,\\nEZE00100082,18000425,TMAX,230,,,E,\\nEZE00100082,18000425,TMIN,166,,,E,\\nITE00100554,18000426,TMAX,179,,,E,\\nITE00100554,18000426,TMIN,154,,,E,\\nGM000010962,18000426,PRCP,0,,,E,\\nEZE00100082,18000426,TMAX,258,,,E,\\nEZE00100082,18000426,TMIN,158,,,E,\\nITE00100554,18000427,TMAX,204,,,E,\\nITE00100554,18000427,TMIN,154,,,E,\\nGM000010962,18000427,PRCP,0,,,E,\\nEZE00100082,18000427,TMAX,279,,,E,\\nEZE00100082,18000427,TMIN,160,,,E,\\nITE00100554,18000428,TMAX,223,,,E,\\nITE00100554,18000428,TMIN,159,,,E,\\nGM000010962,18000428,PRCP,0,,,E,\\nEZE00100082,18000428,TMAX,259,,,E,\\nEZE00100082,18000428,TMIN,180,,,E,\\nITE00100554,18000429,TMAX,225,,,E,\\nITE00100554,18000429,TMIN,169,,,E,\\nGM000010962,18000429,PRCP,0,,,E,\\nEZE00100082,18000429,TMAX,286,,,E,\\nEZE00100082,18000429,TMIN,166,,,E,\\nITE00100554,18000430,TMAX,206,,,E,\\nITE00100554,18000430,TMIN,159,,,E,\\nGM000010962,18000430,PRCP,0,,,E,\\nEZE00100082,18000430,TMAX,273,,,E,\\nEZE00100082,18000430,TMIN,147,,,E,\\nITE00100554,18000501,TMAX,206,,,E,\\nITE00100554,18000501,TMIN,160,,,E,\\nGM000010962,18000501,PRCP,97,,,E,\\nEZE00100082,18000501,TMAX,183,,,E,\\nEZE00100082,18000501,TMIN,127,,,E,\\nITE00100554,18000502,TMAX,223,,,E,\\nITE00100554,18000502,TMIN,160,,,E,\\nGM000010962,18000502,PRCP,3,,,E,\\nEZE00100082,18000502,TMAX,226,,,E,\\nEZE00100082,18000502,TMIN,139,,,E,\\nITE00100554,18000503,TMAX,235,,,E,\\nITE00100554,18000503,TMIN,154,,,E,\\nGM000010962,18000503,PRCP,0,,,E,\\nEZE00100082,18000503,TMAX,240,,,E,\\nEZE00100082,18000503,TMIN,164,,,E,\\nITE00100554,18000504,TMAX,238,,,E,\\nITE00100554,18000504,TMIN,156,,,E,\\nGM000010962,18000504,PRCP,0,,,E,\\nEZE00100082,18000504,TMAX,231,,,E,\\nEZE00100082,18000504,TMIN,152,,,E,\\nITE00100554,18000505,TMAX,225,,,E,\\nITE00100554,18000505,TMIN,160,,,E,\\nGM000010962,18000505,PRCP,0,,,E,\\nEZE00100082,18000505,TMAX,217,,,E,\\nEZE00100082,18000505,TMIN,160,,,E,\\nITE00100554,18000506,TMAX,175,,,E,\\nITE00100554,18000506,TMIN,140,,,E,\\nGM000010962,18000506,PRCP,0,,,E,\\nEZE00100082,18000506,TMAX,214,,,E,\\nEZE00100082,18000506,TMIN,136,,,E,\\nITE00100554,18000507,TMAX,188,,,E,\\nITE00100554,18000507,TMIN,96,,,E,\\nGM000010962,18000507,PRCP,0,,,E,\\nEZE00100082,18000507,TMAX,231,,,E,\\nEZE00100082,18000507,TMIN,116,,,E,\\nITE00100554,18000508,TMAX,213,,,E,\\nITE00100554,18000508,TMIN,121,,,E,\\nGM000010962,18000508,PRCP,0,,,E,\\nEZE00100082,18000508,TMAX,240,,,E,\\nEZE00100082,18000508,TMIN,130,,,E,\\nITE00100554,18000509,TMAX,225,,,E,\\nITE00100554,18000509,TMIN,134,,,E,\\nGM000010962,18000509,PRCP,0,,,E,\\nEZE00100082,18000509,TMAX,245,,,E,\\nEZE00100082,18000509,TMIN,151,,,E,\\nITE00100554,18000510,TMAX,188,,,E,\\nITE00100554,18000510,TMIN,154,,,E,\\nGM000010962,18000510,PRCP,0,,,E,\\nEZE00100082,18000510,TMAX,241,,,E,\\nEZE00100082,18000510,TMIN,149,,,E,\\nITE00100554,18000511,TMAX,210,,,E,\\nITE00100554,18000511,TMIN,154,,,E,\\nGM000010962,18000511,PRCP,11,,,E,\\nEZE00100082,18000511,TMAX,162,,,E,\\nEZE00100082,18000511,TMIN,103,,,E,\\nITE00100554,18000512,TMAX,204,,,E,\\nITE00100554,18000512,TMIN,150,,,E,\\nGM000010962,18000512,PRCP,7,,,E,\\nEZE00100082,18000512,TMAX,162,,,E,\\nEZE00100082,18000512,TMIN,100,,,E,\\nITE00100554,18000513,TMAX,188,,,E,\\nITE00100554,18000513,TMIN,154,,,E,\\nGM000010962,18000513,PRCP,25,,,E,\\nEZE00100082,18000513,TMAX,197,,,E,\\nEZE00100082,18000513,TMIN,122,,,E,\\nITE00100554,18000514,TMAX,200,,,E,\\nITE00100554,18000514,TMIN,134,,,E,\\nGM000010962,18000514,PRCP,35,,,E,\\nEZE00100082,18000514,TMAX,209,,,E,\\nEZE00100082,18000514,TMIN,125,,,E,\\nITE00100554,18000515,TMAX,213,,,E,\\nITE00100554,18000515,TMIN,135,,,E,\\nGM000010962,18000515,PRCP,7,,,E,\\nEZE00100082,18000515,TMAX,161,,,E,\\nEZE00100082,18000515,TMIN,116,,,E,\\nITE00100554,18000516,TMAX,213,,,E,\\nITE00100554,18000516,TMIN,135,,,E,\\nGM000010962,18000516,PRCP,279,,,E,\\nEZE00100082,18000516,TMAX,188,,,E,\\nEZE00100082,18000516,TMIN,129,,,E,\\nITE00100554,18000517,TMAX,209,,,E,\\nITE00100554,18000517,TMIN,160,,,E,\\nGM000010962,18000517,PRCP,0,,,E,\\nEZE00100082,18000517,TMAX,220,,,E,\\nEZE00100082,18000517,TMIN,124,,,E,\\nITE00100554,18000518,TMAX,213,,,E,\\nITE00100554,18000518,TMIN,146,,,E,\\nGM000010962,18000518,PRCP,43,,,E,\\nEZE00100082,18000518,TMAX,186,,,E,\\nEZE00100082,18000518,TMIN,119,,,E,\\nITE00100554,18000519,TMAX,200,,,E,\\nITE00100554,18000519,TMIN,135,,,E,\\nGM000010962,18000519,PRCP,0,,,E,\\nEZE00100082,18000519,TMAX,172,,,E,\\nEZE00100082,18000519,TMIN,105,,,E,\\nITE00100554,18000520,TMAX,225,,,E,\\nITE00100554,18000520,TMIN,138,,,E,\\nGM000010962,18000520,PRCP,0,,,E,\\nEZE00100082,18000520,TMAX,225,,,E,\\nEZE00100082,18000520,TMIN,115,,,E,\\nITE00100554,18000521,TMAX,238,,,E,\\nITE00100554,18000521,TMIN,179,,,E,\\nGM000010962,18000521,PRCP,0,,,E,\\nEZE00100082,18000521,TMAX,247,,,E,\\nEZE00100082,18000521,TMIN,136,,,E,\\nITE00100554,18000522,TMAX,263,,,E,\\nITE00100554,18000522,TMIN,166,,,E,\\nGM000010962,18000522,PRCP,43,,,E,\\nEZE00100082,18000522,TMAX,262,,,E,\\nEZE00100082,18000522,TMIN,157,,,E,\\nITE00100554,18000523,TMAX,250,,,E,\\nITE00100554,18000523,TMIN,188,,,E,\\nGM000010962,18000523,PRCP,71,,,E,\\nEZE00100082,18000523,TMAX,270,,,E,\\nEZE00100082,18000523,TMIN,183,,,E,\\nITE00100554,18000524,TMAX,225,,,E,\\nITE00100554,18000524,TMIN,185,,,E,\\nGM000010962,18000524,PRCP,0,,,E,\\nEZE00100082,18000524,TMAX,282,,,E,\\nEZE00100082,18000524,TMIN,178,,,E,\\nITE00100554,18000525,TMAX,238,,,E,\\nITE00100554,18000525,TMIN,181,,,E,\\nGM000010962,18000525,PRCP,305,,,E,\\nEZE00100082,18000525,TMAX,232,,,E,\\nEZE00100082,18000525,TMIN,174,,,E,\\nITE00100554,18000526,TMAX,263,,,E,\\nITE00100554,18000526,TMIN,198,,,E,\\nGM000010962,18000526,PRCP,169,,,E,\\nEZE00100082,18000526,TMAX,226,,,E,\\nEZE00100082,18000526,TMIN,160,,,E,\\nITE00100554,18000527,TMAX,269,,,E,\\nITE00100554,18000527,TMIN,210,,,E,\\nGM000010962,18000527,PRCP,24,,,E,\\nEZE00100082,18000527,TMAX,246,,,E,\\nEZE00100082,18000527,TMIN,173,,,E,\\nITE00100554,18000528,TMAX,244,,,E,\\nITE00100554,18000528,TMIN,191,,,E,\\nGM000010962,18000528,PRCP,2,,,E,\\nEZE00100082,18000528,TMAX,261,,,E,\\nEZE00100082,18000528,TMIN,189,,,E,\\nITE00100554,18000529,TMAX,216,,,E,\\nITE00100554,18000529,TMIN,191,,,E,\\nGM000010962,18000529,PRCP,123,,,E,\\nEZE00100082,18000529,TMAX,258,,,E,\\nEZE00100082,18000529,TMIN,194,,,E,\\nITE00100554,18000530,TMAX,259,,,E,\\nITE00100554,18000530,TMIN,196,,,E,\\nGM000010962,18000530,PRCP,97,,,E,\\nEZE00100082,18000530,TMAX,238,,,E,\\nEZE00100082,18000530,TMIN,183,,,E,\\nITE00100554,18000531,TMAX,254,,,E,\\nITE00100554,18000531,TMIN,196,,,E,\\nGM000010962,18000531,PRCP,75,,,E,\\nEZE00100082,18000531,TMAX,210,,,E,\\nEZE00100082,18000531,TMIN,170,,,E,\\nITE00100554,18000601,TMAX,204,,,E,\\nITE00100554,18000601,TMIN,191,,,E,\\nGM000010962,18000601,PRCP,102,,,E,\\nEZE00100082,18000601,TMAX,191,,,E,\\nEZE00100082,18000601,TMIN,157,,,E,\\nITE00100554,18000602,TMAX,216,,,E,\\nITE00100554,18000602,TMIN,138,,,E,\\nGM000010962,18000602,PRCP,45,,,E,\\nEZE00100082,18000602,TMAX,193,,,E,\\nEZE00100082,18000602,TMIN,132,,,E,\\nITE00100554,18000603,TMAX,213,,,E,\\nITE00100554,18000603,TMIN,138,,,E,\\nGM000010962,18000603,PRCP,0,,,E,\\nEZE00100082,18000603,TMAX,192,,,E,\\nEZE00100082,18000603,TMIN,144,,,E,\\nITE00100554,18000604,TMAX,225,,,E,\\nITE00100554,18000604,TMIN,156,,,E,\\nGM000010962,18000604,PRCP,11,,,E,\\nEZE00100082,18000604,TMAX,216,,,E,\\nEZE00100082,18000604,TMIN,141,,,E,\\nITE00100554,18000605,TMAX,256,,,E,\\nITE00100554,18000605,TMIN,173,,,E,\\nGM000010962,18000605,PRCP,0,,,E,\\nEZE00100082,18000605,TMAX,226,,,E,\\nEZE00100082,18000605,TMIN,147,,,E,\\nITE00100554,18000606,TMAX,250,,,E,\\nITE00100554,18000606,TMIN,184,,,E,\\nGM000010962,18000606,PRCP,27,,,E,\\nEZE00100082,18000606,TMAX,227,,,E,\\nEZE00100082,18000606,TMIN,177,,,E,\\nITE00100554,18000607,TMAX,198,,,E,\\nITE00100554,18000607,TMIN,173,,,E,\\nGM000010962,18000607,PRCP,23,,,E,\\nEZE00100082,18000607,TMAX,219,,,E,\\nEZE00100082,18000607,TMIN,133,,,E,\\nITE00100554,18000608,TMAX,191,,,E,\\nITE00100554,18000608,TMIN,169,,,E,\\nGM000010962,18000608,PRCP,297,,,E,\\nEZE00100082,18000608,TMAX,164,,,E,\\nEZE00100082,18000608,TMIN,117,,,E,\\nITE00100554,18000609,TMAX,223,,,E,\\nITE00100554,18000609,TMIN,166,,,E,\\nGM000010962,18000609,PRCP,2,,,E,\\nEZE00100082,18000609,TMAX,191,,,E,\\nEZE00100082,18000609,TMIN,119,,,E,\\nITE00100554,18000610,TMAX,248,,,E,\\nITE00100554,18000610,TMIN,166,,,E,\\nGM000010962,18000610,PRCP,0,,,E,\\nEZE00100082,18000610,TMAX,191,,,E,\\nEZE00100082,18000610,TMIN,129,,,E,\\nITE00100554,18000611,TMAX,229,,,E,\\nITE00100554,18000611,TMIN,169,,,E,\\nGM000010962,18000611,PRCP,40,,,E,\\nEZE00100082,18000611,TMAX,185,,,E,\\nEZE00100082,18000611,TMIN,104,,,E,\\nITE00100554,18000612,TMAX,206,,,E,\\nITE00100554,18000612,TMIN,175,,,E,\\nGM000010962,18000612,PRCP,10,,,E,\\nEZE00100082,18000612,TMAX,190,,,E,\\nEZE00100082,18000612,TMIN,100,,,E,\\nITE00100554,18000613,TMAX,229,,,E,\\nITE00100554,18000613,TMIN,171,,,E,\\nGM000010962,18000613,PRCP,51,,,E,\\nEZE00100082,18000613,TMAX,198,,,E,\\nEZE00100082,18000613,TMIN,115,,,E,\\nITE00100554,18000614,TMAX,216,,,E,\\nITE00100554,18000614,TMIN,166,,,E,\\nGM000010962,18000614,PRCP,10,,,E,\\nEZE00100082,18000614,TMAX,212,,,E,\\nEZE00100082,18000614,TMIN,126,,,E,\\nITE00100554,18000615,TMAX,216,,,E,\\nITE00100554,18000615,TMIN,141,,,E,\\nGM000010962,18000615,PRCP,7,,,E,\\nEZE00100082,18000615,TMAX,148,,,E,\\nEZE00100082,18000615,TMIN,90,,,E,\\nITE00100554,18000616,TMAX,216,,,E,\\nITE00100554,18000616,TMIN,141,,,E,\\nGM000010962,18000616,PRCP,16,,,E,\\nEZE00100082,18000616,TMAX,139,,,E,\\nEZE00100082,18000616,TMIN,84,,,E,\\nITE00100554,18000617,TMAX,225,,,E,\\nITE00100554,18000617,TMIN,141,,,E,\\nGM000010962,18000617,PRCP,12,,,E,\\nEZE00100082,18000617,TMAX,131,,,E,\\nEZE00100082,18000617,TMIN,82,,,E,\\nITE00100554,18000618,TMAX,235,,,E,\\nITE00100554,18000618,TMIN,146,,,E,\\nGM000010962,18000618,PRCP,0,,,E,\\nEZE00100082,18000618,TMAX,140,,,E,\\nEZE00100082,18000618,TMIN,87,,,E,\\nITE00100554,18000619,TMAX,235,,,E,\\nITE00100554,18000619,TMIN,148,,,E,\\nGM000010962,18000619,PRCP,63,,,E,\\nEZE00100082,18000619,TMAX,164,,,E,\\nEZE00100082,18000619,TMIN,98,,,E,\\nITE00100554,18000620,TMAX,254,,,E,\\nITE00100554,18000620,TMIN,146,,,E,\\nGM000010962,18000620,PRCP,17,,,E,\\nEZE00100082,18000620,TMAX,210,,,E,\\nEZE00100082,18000620,TMIN,88,,,E,\\nITE00100554,18000621,TMAX,259,,,E,\\nITE00100554,18000621,TMIN,173,,,E,\\nGM000010962,18000621,PRCP,2,,,E,\\nEZE00100082,18000621,TMAX,195,,,E,\\nEZE00100082,18000621,TMIN,156,,,E,\\nITE00100554,18000622,TMAX,213,,,E,\\nITE00100554,18000622,TMIN,204,,,E,\\nGM000010962,18000622,PRCP,111,,,E,\\nEZE00100082,18000622,TMAX,192,,,E,\\nEZE00100082,18000622,TMIN,134,,,E,\\nITE00100554,18000623,TMAX,241,,,E,\\nITE00100554,18000623,TMIN,154,,,E,\\nGM000010962,18000623,PRCP,27,,,E,\\nEZE00100082,18000623,TMAX,182,,,E,\\nEZE00100082,18000623,TMIN,118,,,E,\\nITE00100554,18000624,TMAX,241,,,E,\\nITE00100554,18000624,TMIN,179,,,E,\\nGM000010962,18000624,PRCP,0,,,E,\\nEZE00100082,18000624,TMAX,194,,,E,\\nEZE00100082,18000624,TMIN,115,,,E,\\nITE00100554,18000625,TMAX,254,,,E,\\nITE00100554,18000625,TMIN,184,,,E,\\nGM000010962,18000625,PRCP,0,,,E,\\nEZE00100082,18000625,TMAX,217,,,E,\\nEZE00100082,18000625,TMIN,100,,,E,\\nITE00100554,18000626,TMAX,263,,,E,\\nITE00100554,18000626,TMIN,184,,,E,\\nGM000010962,18000626,PRCP,0,,,E,\\nEZE00100082,18000626,TMAX,233,,,E,\\nEZE00100082,18000626,TMIN,131,,,E,\\nITE00100554,18000627,TMAX,275,,,E,\\nITE00100554,18000627,TMIN,204,,,E,\\nGM000010962,18000627,PRCP,0,,,E,\\nEZE00100082,18000627,TMAX,234,,,E,\\nEZE00100082,18000627,TMIN,161,,,E,\\nITE00100554,18000628,TMAX,288,,,E,\\nITE00100554,18000628,TMIN,213,,,E,\\nGM000010962,18000628,PRCP,12,,,E,\\nEZE00100082,18000628,TMAX,227,,,E,\\nEZE00100082,18000628,TMIN,140,,,E,\\nITE00100554,18000629,TMAX,265,,,E,\\nITE00100554,18000629,TMIN,198,,,E,\\nGM000010962,18000629,PRCP,0,,,E,\\nEZE00100082,18000629,TMAX,250,,,E,\\nEZE00100082,18000629,TMIN,137,,,E,\\nITE00100554,18000630,TMAX,279,,,E,\\nITE00100554,18000630,TMIN,209,,,E,\\nGM000010962,18000630,PRCP,88,,,E,\\nEZE00100082,18000630,TMAX,214,,,E,\\nEZE00100082,18000630,TMIN,155,,,E,\\nITE00100554,18000701,TMAX,275,,,E,\\nITE00100554,18000701,TMIN,213,,,E,\\nGM000010962,18000701,PRCP,32,,,E,\\nEZE00100082,18000701,TMAX,180,,,E,\\nEZE00100082,18000701,TMIN,128,,,E,\\nITE00100554,18000702,TMAX,241,,,E,\\nITE00100554,18000702,TMIN,185,,,E,\\nGM000010962,18000702,PRCP,0,,,E,\\nEZE00100082,18000702,TMAX,193,,,E,\\nEZE00100082,18000702,TMIN,135,,,E,\\nITE00100554,18000703,TMAX,254,,,E,\\nITE00100554,18000703,TMIN,200,,,E,\\nGM000010962,18000703,PRCP,0,,,E,\\nEZE00100082,18000703,TMAX,240,,,E,\\nEZE00100082,18000703,TMIN,134,,,E,\\nITE00100554,18000704,TMAX,288,,,E,\\nITE00100554,18000704,TMIN,200,,,E,\\nGM000010962,18000704,PRCP,33,,,E,\\nEZE00100082,18000704,TMAX,216,,,E,\\nEZE00100082,18000704,TMIN,144,,,E,\\nITE00100554,18000705,TMAX,275,,,E,\\nITE00100554,18000705,TMIN,219,,,E,\\nGM000010962,18000705,PRCP,0,,,E,\\nEZE00100082,18000705,TMAX,281,,,E,\\nEZE00100082,18000705,TMIN,147,,,E,\\nITE00100554,18000706,TMAX,288,,,E,\\nITE00100554,18000706,TMIN,213,,,E,\\nGM000010962,18000706,PRCP,0,,,E,\\nEZE00100082,18000706,TMAX,285,,,E,\\nEZE00100082,18000706,TMIN,188,,,E,\\nITE00100554,18000707,TMAX,278,,,E,\\nITE00100554,18000707,TMIN,221,,,E,\\nGM000010962,18000707,PRCP,0,,,E,\\nEZE00100082,18000707,TMAX,286,,,E,\\nEZE00100082,18000707,TMIN,180,,,E,\\nITE00100554,18000708,TMAX,300,,,E,\\nITE00100554,18000708,TMIN,209,,,E,\\nGM000010962,18000708,PRCP,43,,,E,\\nEZE00100082,18000708,TMAX,293,,,E,\\nEZE00100082,18000708,TMIN,180,,,E,\\nITE00100554,18000709,TMAX,304,,,E,\\nITE00100554,18000709,TMIN,225,,,E,\\nGM000010962,18000709,PRCP,0,,,E,\\nEZE00100082,18000709,TMAX,306,,,E,\\nEZE00100082,18000709,TMIN,204,,,E,\\nITE00100554,18000710,TMAX,319,,,E,\\nITE00100554,18000710,TMIN,235,,,E,\\nGM000010962,18000710,PRCP,117,,,E,\\nEZE00100082,18000710,TMAX,290,,,E,\\nEZE00100082,18000710,TMIN,195,,,E,\\nITE00100554,18000711,TMAX,304,,,E,\\nITE00100554,18000711,TMIN,238,,,E,\\nGM000010962,18000711,PRCP,86,,,E,\\nEZE00100082,18000711,TMAX,195,,,E,\\nEZE00100082,18000711,TMIN,159,,,E,\\nITE00100554,18000712,TMAX,285,,,E,\\nITE00100554,18000712,TMIN,241,,,E,\\nGM000010962,18000712,PRCP,0,,,E,\\nEZE00100082,18000712,TMAX,244,,,E,\\nEZE00100082,18000712,TMIN,160,,,E,\\nITE00100554,18000713,TMAX,300,,,E,\\nITE00100554,18000713,TMIN,231,,,E,\\nGM000010962,18000713,PRCP,0,,,E,\\nEZE00100082,18000713,TMAX,217,,,E,\\nEZE00100082,18000713,TMIN,172,,,E,\\nITE00100554,18000714,TMAX,300,,,E,\\nITE00100554,18000714,TMIN,225,,,E,\\nGM000010962,18000714,PRCP,0,,,E,\\nEZE00100082,18000714,TMAX,186,,,E,\\nEZE00100082,18000714,TMIN,144,,,E,\\nITE00100554,18000715,TMAX,266,,,E,\\nITE00100554,18000715,TMIN,225,,,E,\\nGM000010962,18000715,PRCP,2,,,E,\\nEZE00100082,18000715,TMAX,192,,,E,\\nEZE00100082,18000715,TMIN,124,,,E,\\nITE00100554,18000716,TMAX,248,,,E,\\nITE00100554,18000716,TMIN,204,,,E,\\nGM000010962,18000716,PRCP,0,,,E,\\nEZE00100082,18000716,TMAX,185,,,E,\\nEZE00100082,18000716,TMIN,133,,,E,\\nITE00100554,18000717,TMAX,275,,,E,\\nITE00100554,18000717,TMIN,209,,,E,\\nGM000010962,18000717,PRCP,0,,,E,\\nEZE00100082,18000717,TMAX,204,,,E,\\nEZE00100082,18000717,TMIN,140,,,E,\\nITE00100554,18000718,TMAX,294,,,E,\\nITE00100554,18000718,TMIN,213,,,E,\\nGM000010962,18000718,PRCP,0,,,E,\\nEZE00100082,18000718,TMAX,193,,,E,\\nEZE00100082,18000718,TMIN,142,,,E,\\nITE00100554,18000719,TMAX,284,,,E,\\nITE00100554,18000719,TMIN,225,,,E,\\nGM000010962,18000719,PRCP,0,,,E,\\nEZE00100082,18000719,TMAX,200,,,E,\\nEZE00100082,18000719,TMIN,136,,,E,\\nITE00100554,18000720,TMAX,263,,,E,\\nITE00100554,18000720,TMIN,191,,,E,\\nGM000010962,18000720,PRCP,0,,,E,\\nEZE00100082,18000720,TMAX,204,,,E,\\nEZE00100082,18000720,TMIN,132,,,E,\\nITE00100554,18000721,TMAX,285,,,E,\\nITE00100554,18000721,TMIN,191,,,E,\\nGM000010962,18000721,PRCP,2,,,E,\\nEZE00100082,18000721,TMAX,170,,,E,\\nEZE00100082,18000721,TMIN,124,,,E,\\nITE00100554,18000722,TMAX,266,,,E,\\nITE00100554,18000722,TMIN,213,,,E,\\nGM000010962,18000722,PRCP,80,,,E,\\nEZE00100082,18000722,TMAX,178,,,E,\\nEZE00100082,18000722,TMIN,130,,,E,\\nITE00100554,18000723,TMAX,250,,,E,\\nITE00100554,18000723,TMIN,163,,,E,\\nGM000010962,18000723,PRCP,40,,,E,\\nEZE00100082,18000723,TMAX,190,,,E,\\nEZE00100082,18000723,TMIN,143,,,E,\\nITE00100554,18000724,TMAX,254,,,E,\\nITE00100554,18000724,TMIN,171,,,E,\\nGM000010962,18000724,PRCP,11,,,E,\\nEZE00100082,18000724,TMAX,213,,,E,\\nEZE00100082,18000724,TMIN,155,,,E,\\nITE00100554,18000725,TMAX,269,,,E,\\nITE00100554,18000725,TMIN,191,,,E,\\nGM000010962,18000725,PRCP,0,,,E,\\nEZE00100082,18000725,TMAX,238,,,E,\\nEZE00100082,18000725,TMIN,152,,,E,\\nITE00100554,18000726,TMAX,281,,,E,\\nITE00100554,18000726,TMIN,191,,,E,\\nGM000010962,18000726,PRCP,0,,,E,\\nEZE00100082,18000726,TMAX,220,,,E,\\nEZE00100082,18000726,TMIN,144,,,E,\\nITE00100554,18000727,TMAX,271,,,E,\\nITE00100554,18000727,TMIN,206,,,E,\\nGM000010962,18000727,PRCP,0,,,E,\\nEZE00100082,18000727,TMAX,222,,,E,\\nEZE00100082,18000727,TMIN,169,,,E,\\nITE00100554,18000728,TMAX,269,,,E,\\nITE00100554,18000728,TMIN,216,,,E,\\nGM000010962,18000728,PRCP,0,,,E,\\nEZE00100082,18000728,TMAX,233,,,E,\\nEZE00100082,18000728,TMIN,144,,,E,\\nITE00100554,18000729,TMAX,241,,,E,\\nITE00100554,18000729,TMIN,200,,,E,\\nGM000010962,18000729,PRCP,0,,,E,\\nEZE00100082,18000729,TMAX,230,,,E,\\nEZE00100082,18000729,TMIN,150,,,E,\\nITE00100554,18000730,TMAX,241,,,E,\\nITE00100554,18000730,TMIN,200,,,E,\\nGM000010962,18000730,PRCP,0,,,E,\\nEZE00100082,18000730,TMAX,230,,,E,\\nEZE00100082,18000730,TMIN,120,,,E,\\nITE00100554,18000731,TMAX,271,,,E,\\nITE00100554,18000731,TMIN,188,,,E,\\nGM000010962,18000731,PRCP,0,,,E,\\nEZE00100082,18000731,TMAX,227,,,E,\\nEZE00100082,18000731,TMIN,137,,,E,\\nITE00100554,18000801,TMAX,250,,,E,\\nITE00100554,18000801,TMIN,200,,,E,\\nGM000010962,18000801,PRCP,0,,,E,\\nEZE00100082,18000801,TMAX,242,,,E,\\nEZE00100082,18000801,TMIN,140,,,E,\\nITE00100554,18000802,TMAX,263,,,E,\\nITE00100554,18000802,TMIN,188,,,E,\\nGM000010962,18000802,PRCP,0,,,E,\\nEZE00100082,18000802,TMAX,250,,,E,\\nEZE00100082,18000802,TMIN,154,,,E,\\nITE00100554,18000803,TMAX,275,,,E,\\nITE00100554,18000803,TMIN,200,,,E,\\nGM000010962,18000803,PRCP,0,,,E,\\nEZE00100082,18000803,TMAX,281,,,E,\\nEZE00100082,18000803,TMIN,183,,,E,\\nITE00100554,18000804,TMAX,288,,,E,\\nITE00100554,18000804,TMIN,200,,,E,\\nGM000010962,18000804,PRCP,0,,,E,\\nEZE00100082,18000804,TMAX,316,,,E,\\nEZE00100082,18000804,TMIN,192,,,E,\\nITE00100554,18000805,TMAX,309,,,E,\\nITE00100554,18000805,TMIN,210,,,E,\\nGM000010962,18000805,PRCP,0,,,E,\\nEZE00100082,18000805,TMAX,248,,,E,\\nEZE00100082,18000805,TMIN,168,,,E,\\nITE00100554,18000806,TMAX,288,,,E,\\nITE00100554,18000806,TMIN,213,,,E,\\nGM000010962,18000806,PRCP,0,,,E,\\nEZE00100082,18000806,TMAX,216,,,E,\\nEZE00100082,18000806,TMIN,138,,,E,\\nITE00100554,18000807,TMAX,298,,,E,\\nITE00100554,18000807,TMIN,200,,,E,\\nGM000010962,18000807,PRCP,0,,,E,\\nEZE00100082,18000807,TMAX,210,,,E,\\nEZE00100082,18000807,TMIN,141,,,E,\\nITE00100554,18000808,TMAX,223,,,E,\\nITE00100554,18000808,TMIN,143,,,E,\\nGM000010962,18000808,PRCP,0,,,E,\\nEZE00100082,18000808,TMAX,193,,,E,\\nEZE00100082,18000808,TMIN,136,,,E,\\nITE00100554,18000809,TMAX,240,,,E,\\nITE00100554,18000809,TMIN,144,,,E,\\nGM000010962,18000809,PRCP,9,,,E,\\nEZE00100082,18000809,TMAX,214,,,E,\\nEZE00100082,18000809,TMIN,117,,,E,\\nITE00100554,18000810,TMAX,246,,,E,\\nITE00100554,18000810,TMIN,159,,,E,\\nGM000010962,18000810,PRCP,0,,,E,\\nEZE00100082,18000810,TMAX,251,,,E,\\nEZE00100082,18000810,TMIN,155,,,E,\\nITE00100554,18000811,TMAX,271,,,E,\\nITE00100554,18000811,TMIN,166,,,E,\\nGM000010962,18000811,PRCP,0,,,E,\\nEZE00100082,18000811,TMAX,246,,,E,\\nEZE00100082,18000811,TMIN,155,,,E,\\nITE00100554,18000812,TMAX,259,,,E,\\nITE00100554,18000812,TMIN,184,,,E,\\nGM000010962,18000812,PRCP,0,,,E,\\nEZE00100082,18000812,TMAX,262,,,E,\\nEZE00100082,18000812,TMIN,162,,,E,\\nITE00100554,18000813,TMAX,281,,,E,\\nITE00100554,18000813,TMIN,204,,,E,\\nGM000010962,18000813,PRCP,0,,,E,\\nEZE00100082,18000813,TMAX,287,,,E,\\nEZE00100082,18000813,TMIN,165,,,E,\\nITE00100554,18000814,TMAX,284,,,E,\\nITE00100554,18000814,TMIN,221,,,E,\\nGM000010962,18000814,PRCP,0,,,E,\\nEZE00100082,18000814,TMAX,306,,,E,\\nEZE00100082,18000814,TMIN,180,,,E,\\nITE00100554,18000815,TMAX,298,,,E,\\nITE00100554,18000815,TMIN,216,,,E,\\nGM000010962,18000815,PRCP,0,,,E,\\nEZE00100082,18000815,TMAX,307,,,E,\\nEZE00100082,18000815,TMIN,181,,,E,\\nITE00100554,18000816,TMAX,304,,,E,\\nITE00100554,18000816,TMIN,216,,,E,\\nGM000010962,18000816,PRCP,0,,,E,\\nEZE00100082,18000816,TMAX,304,,,E,\\nEZE00100082,18000816,TMIN,198,,,E,\\nITE00100554,18000817,TMAX,309,,,E,\\nITE00100554,18000817,TMIN,216,,,E,\\nGM000010962,18000817,PRCP,0,,,E,\\nEZE00100082,18000817,TMAX,275,,,E,\\nEZE00100082,18000817,TMIN,178,,,E,\\nITE00100554,18000818,TMAX,313,,,E,\\nITE00100554,18000818,TMIN,221,,,E,\\nGM000010962,18000818,PRCP,0,,,E,\\nEZE00100082,18000818,TMAX,323,,,E,\\nEZE00100082,18000818,TMIN,185,,,E,\\nITE00100554,18000819,TMAX,323,,,E,\\nITE00100554,18000819,TMIN,238,,,E,\\nGM000010962,18000819,PRCP,0,,,E,\\nEZE00100082,18000819,TMAX,290,,,E,\\nEZE00100082,18000819,TMIN,195,,,E,\\nITE00100554,18000820,TMAX,310,,,E,\\nITE00100554,18000820,TMIN,235,,,E,\\nGM000010962,18000820,PRCP,0,,,E,\\nEZE00100082,18000820,TMAX,274,,,E,\\nEZE00100082,18000820,TMIN,202,,,E,\\nITE00100554,18000821,TMAX,298,,,E,\\nITE00100554,18000821,TMIN,231,,,E,\\nGM000010962,18000821,PRCP,36,,,E,\\nEZE00100082,18000821,TMAX,253,,,E,\\nEZE00100082,18000821,TMIN,195,,,E,\\nITE00100554,18000822,TMAX,279,,,E,\\nITE00100554,18000822,TMIN,209,,,E,\\nGM000010962,18000822,PRCP,195,,,E,\\nEZE00100082,18000822,TMAX,206,,,E,\\nEZE00100082,18000822,TMIN,158,,,E,\\nITE00100554,18000823,TMAX,213,,,E,\\nITE00100554,18000823,TMIN,204,,,E,\\nGM000010962,18000823,PRCP,0,,,E,\\nEZE00100082,18000823,TMAX,231,,,E,\\nEZE00100082,18000823,TMIN,119,,,E,\\nITE00100554,18000824,TMAX,229,,,E,\\nITE00100554,18000824,TMIN,148,,,E,\\nGM000010962,18000824,PRCP,33,,,E,\\nEZE00100082,18000824,TMAX,213,,,E,\\nEZE00100082,18000824,TMIN,154,,,E,\\nITE00100554,18000825,TMAX,241,,,E,\\nITE00100554,18000825,TMIN,171,,,E,\\nGM000010962,18000825,PRCP,0,,,E,\\nEZE00100082,18000825,TMAX,200,,,E,\\nEZE00100082,18000825,TMIN,133,,,E,\\nITE00100554,18000826,TMAX,210,,,E,\\nITE00100554,18000826,TMIN,159,,,E,\\nGM000010962,18000826,PRCP,51,,,E,\\nEZE00100082,18000826,TMAX,215,,,E,\\nEZE00100082,18000826,TMIN,151,,,E,\\nITE00100554,18000827,TMAX,234,,,E,\\nITE00100554,18000827,TMIN,146,,,E,\\nGM000010962,18000827,PRCP,268,,,E,\\nEZE00100082,18000827,TMAX,220,,,E,\\nEZE00100082,18000827,TMIN,148,,,E,\\nITE00100554,18000828,TMAX,234,,,E,\\nITE00100554,18000828,TMIN,154,,,E,\\nGM000010962,18000828,PRCP,0,,,E,\\nEZE00100082,18000828,TMAX,203,,,E,\\nEZE00100082,18000828,TMIN,158,,,E,\\nITE00100554,18000829,TMAX,241,,,E,\\nITE00100554,18000829,TMIN,179,,,E,\\nGM000010962,18000829,PRCP,0,,,E,\\nEZE00100082,18000829,TMAX,203,,,E,\\nEZE00100082,18000829,TMIN,149,,,E,\\nITE00100554,18000830,TMAX,241,,,E,\\nITE00100554,18000830,TMIN,163,,,E,\\nGM000010962,18000830,PRCP,40,,,E,\\nEZE00100082,18000830,TMAX,196,,,E,\\nEZE00100082,18000830,TMIN,154,,,E,\\nITE00100554,18000831,TMAX,240,,,E,\\nITE00100554,18000831,TMIN,165,,,E,\\nGM000010962,18000831,PRCP,50,,,E,\\nEZE00100082,18000831,TMAX,177,,,E,\\nEZE00100082,18000831,TMIN,147,,,E,\\nITE00100554,18000901,TMAX,241,,,E,\\nITE00100554,18000901,TMIN,184,,,E,\\nGM000010962,18000901,PRCP,31,,,E,\\nEZE00100082,18000901,TMAX,193,,,E,\\nEZE00100082,18000901,TMIN,148,,,E,\\nITE00100554,18000902,TMAX,179,,,E,\\nITE00100554,18000902,TMIN,179,,,E,\\nGM000010962,18000902,PRCP,0,,,E,\\nEZE00100082,18000902,TMAX,209,,,E,\\nEZE00100082,18000902,TMIN,152,,,E,\\nITE00100554,18000903,TMAX,216,,,E,\\nITE00100554,18000903,TMIN,166,,,E,\\nGM000010962,18000903,PRCP,2,,,E,\\nEZE00100082,18000903,TMAX,197,,,E,\\nEZE00100082,18000903,TMIN,157,,,E,\\nITE00100554,18000904,TMAX,229,,,E,\\nITE00100554,18000904,TMIN,166,,,E,\\nGM000010962,18000904,PRCP,2,,,E,\\nEZE00100082,18000904,TMAX,214,,,E,\\nEZE00100082,18000904,TMIN,141,,,E,\\nITE00100554,18000905,TMAX,238,,,E,\\nITE00100554,18000905,TMIN,191,,,E,\\nGM000010962,18000905,PRCP,0,,,E,\\nEZE00100082,18000905,TMAX,210,,,E,\\nEZE00100082,18000905,TMIN,154,,,E,\\nITE00100554,18000906,TMAX,238,,,E,\\nITE00100554,18000906,TMIN,179,,,E,\\nGM000010962,18000906,PRCP,20,,,E,\\nEZE00100082,18000906,TMAX,225,,,E,\\nEZE00100082,18000906,TMIN,173,,,E,\\nITE00100554,18000907,TMAX,223,,,E,\\nITE00100554,18000907,TMIN,178,,,E,\\nGM000010962,18000907,PRCP,0,,,E,\\nEZE00100082,18000907,TMAX,230,,,E,\\nEZE00100082,18000907,TMIN,146,,,E,\\nITE00100554,18000908,TMAX,238,,,E,\\nITE00100554,18000908,TMIN,175,,,E,\\nGM000010962,18000908,PRCP,56,,,E,\\nEZE00100082,18000908,TMAX,227,,,E,\\nEZE00100082,18000908,TMIN,184,,,E,\\nITE00100554,18000909,TMAX,250,,,E,\\nITE00100554,18000909,TMIN,188,,,E,\\nGM000010962,18000909,PRCP,11,,,E,\\nEZE00100082,18000909,TMAX,194,,,E,\\nEZE00100082,18000909,TMIN,163,,,E,\\nITE00100554,18000910,TMAX,238,,,E,\\nITE00100554,18000910,TMIN,188,,,E,\\nGM000010962,18000910,PRCP,0,,,E,\\nEZE00100082,18000910,TMAX,202,,,E,\\nEZE00100082,18000910,TMIN,152,,,E,\\nITE00100554,18000911,TMAX,248,,,E,\\nITE00100554,18000911,TMIN,163,,,E,\\nGM000010962,18000911,PRCP,110,,,E,\\nEZE00100082,18000911,TMAX,181,,,E,\\nEZE00100082,18000911,TMIN,157,,,E,\\nITE00100554,18000912,TMAX,238,,,E,\\nITE00100554,18000912,TMIN,163,,,E,\\nGM000010962,18000912,PRCP,1,,,E,\\nEZE00100082,18000912,TMAX,186,,,E,\\nEZE00100082,18000912,TMIN,141,,,E,\\nITE00100554,18000913,TMAX,241,,,E,\\nITE00100554,18000913,TMIN,154,,,E,\\nGM000010962,18000913,PRCP,0,,,E,\\nEZE00100082,18000913,TMAX,177,,,E,\\nEZE00100082,18000913,TMIN,116,,,E,\\nITE00100554,18000914,TMAX,229,,,E,\\nITE00100554,18000914,TMIN,166,,,E,\\nGM000010962,18000914,PRCP,0,,,E,\\nEZE00100082,18000914,TMAX,183,,,E,\\nEZE00100082,18000914,TMIN,104,,,E,\\nITE00100554,18000915,TMAX,225,,,E,\\nITE00100554,18000915,TMIN,159,,,E,\\nGM000010962,18000915,PRCP,0,,,E,\\nEZE00100082,18000915,TMAX,198,,,E,\\nEZE00100082,18000915,TMIN,115,,,E,\\nITE00100554,18000916,TMAX,229,,,E,\\nITE00100554,18000916,TMIN,154,,,E,\\nGM000010962,18000916,PRCP,0,,,E,\\nEZE00100082,18000916,TMAX,205,,,E,\\nEZE00100082,18000916,TMIN,111,,,E,\\nITE00100554,18000917,TMAX,235,,,E,\\nITE00100554,18000917,TMIN,163,,,E,\\nGM000010962,18000917,PRCP,0,,,E,\\nEZE00100082,18000917,TMAX,199,,,E,\\nEZE00100082,18000917,TMIN,110,,,E,\\nITE00100554,18000918,TMAX,246,,,E,\\nITE00100554,18000918,TMIN,175,,,E,\\nGM000010962,18000918,PRCP,4,,,E,\\nEZE00100082,18000918,TMAX,217,,,E,\\nEZE00100082,18000918,TMIN,118,,,E,\\nITE00100554,18000919,TMAX,241,,,E,\\nITE00100554,18000919,TMIN,184,,,E,\\nGM000010962,18000919,PRCP,0,,,E,\\nEZE00100082,18000919,TMAX,217,,,E,\\nEZE00100082,18000919,TMIN,165,,,E,\\nITE00100554,18000920,TMAX,225,,,E,\\nITE00100554,18000920,TMIN,191,,,E,\\nGM000010962,18000920,PRCP,2,,,E,\\nEZE00100082,18000920,TMAX,210,,,E,\\nEZE00100082,18000920,TMIN,142,,,E,\\nITE00100554,18000921,TMAX,231,,,E,\\nITE00100554,18000921,TMIN,191,,,E,\\nGM000010962,18000921,PRCP,85,,,E,\\nEZE00100082,18000921,TMAX,193,,,E,\\nEZE00100082,18000921,TMIN,155,,,E,\\nITE00100554,18000922,TMAX,235,,,E,\\nITE00100554,18000922,TMIN,185,,,E,\\nGM000010962,18000922,PRCP,33,,,E,\\nEZE00100082,18000922,TMAX,169,,,E,\\nEZE00100082,18000922,TMIN,136,,,E,\\nITE00100554,18000923,TMAX,234,,,E,\\nITE00100554,18000923,TMIN,163,,,E,\\nGM000010962,18000923,PRCP,14,,,E,\\nEZE00100082,18000923,TMAX,170,,,E,\\nEZE00100082,18000923,TMIN,131,,,E,\\nITE00100554,18000924,TMAX,234,,,E,\\nITE00100554,18000924,TMIN,169,,,E,\\nGM000010962,18000924,PRCP,49,,,E,\\nEZE00100082,18000924,TMAX,164,,,E,\\nEZE00100082,18000924,TMIN,132,,,E,\\nITE00100554,18000925,TMAX,238,,,E,\\nITE00100554,18000925,TMIN,171,,,E,\\nGM000010962,18000925,PRCP,30,,,E,\\nEZE00100082,18000925,TMAX,156,,,E,\\nEZE00100082,18000925,TMIN,125,,,E,\\nITE00100554,18000926,TMAX,198,,,E,\\nITE00100554,18000926,TMIN,181,,,E,\\nGM000010962,18000926,PRCP,10,,,E,\\nEZE00100082,18000926,TMAX,144,,,E,\\nEZE00100082,18000926,TMIN,115,,,E,\\nITE00100554,18000927,TMAX,213,,,E,\\nITE00100554,18000927,TMIN,129,,,E,\\nGM000010962,18000927,PRCP,11,,,E,\\nEZE00100082,18000927,TMAX,134,,,E,\\nEZE00100082,18000927,TMIN,116,,,E,\\nITE00100554,18000928,TMAX,213,,,E,\\nITE00100554,18000928,TMIN,181,,,E,\\nGM000010962,18000928,PRCP,14,,,E,\\nEZE00100082,18000928,TMAX,158,,,E,\\nEZE00100082,18000928,TMIN,114,,,E,\\nITE00100554,18000929,TMAX,196,,,E,\\nITE00100554,18000929,TMIN,119,,,E,\\nGM000010962,18000929,PRCP,13,,,E,\\nEZE00100082,18000929,TMAX,131,,,E,\\nEZE00100082,18000929,TMIN,91,,,E,\\nITE00100554,18000930,TMAX,200,,,E,\\nITE00100554,18000930,TMIN,100,,,E,\\nGM000010962,18000930,PRCP,0,,,E,\\nEZE00100082,18000930,TMAX,157,,,E,\\nEZE00100082,18000930,TMIN,85,,,E,\\nITE00100554,18001001,TMAX,188,,,E,\\nITE00100554,18001001,TMIN,129,,,E,\\nGM000010962,18001001,PRCP,45,,,E,\\nEZE00100082,18001001,TMAX,133,,,E,\\nEZE00100082,18001001,TMIN,110,,,E,\\nITE00100554,18001002,TMAX,194,,,E,\\nITE00100554,18001002,TMIN,144,,,E,\\nGM000010962,18001002,PRCP,127,,,E,\\nEZE00100082,18001002,TMAX,135,,,E,\\nEZE00100082,18001002,TMIN,98,,,E,\\nITE00100554,18001003,TMAX,200,,,E,\\nITE00100554,18001003,TMIN,144,,,E,\\nGM000010962,18001003,PRCP,149,,,E,\\nEZE00100082,18001003,TMAX,164,,,E,\\nEZE00100082,18001003,TMIN,94,,,E,\\nITE00100554,18001004,TMAX,200,,,E,\\nITE00100554,18001004,TMIN,163,,,E,\\nGM000010962,18001004,PRCP,48,,,E,\\nEZE00100082,18001004,TMAX,136,,,E,\\nEZE00100082,18001004,TMIN,109,,,E,\\nITE00100554,18001005,TMAX,185,,,E,\\nITE00100554,18001005,TMIN,141,,,E,\\nGM000010962,18001005,PRCP,0,,,E,\\nEZE00100082,18001005,TMAX,150,,,E,\\nEZE00100082,18001005,TMIN,95,,,E,\\nITE00100554,18001006,TMAX,181,,,E,\\nITE00100554,18001006,TMIN,150,,,E,\\nGM000010962,18001006,PRCP,0,,,E,\\nEZE00100082,18001006,TMAX,149,,,E,\\nEZE00100082,18001006,TMIN,76,,,E,\\nITE00100554,18001007,TMAX,169,,,E,\\nITE00100554,18001007,TMIN,154,,,E,\\nGM000010962,18001007,PRCP,0,,,E,\\nEZE00100082,18001007,TMAX,163,,,E,\\nEZE00100082,18001007,TMIN,98,,,E,\\nITE00100554,18001008,TMAX,184,,,E,\\nITE00100554,18001008,TMIN,165,,,E,\\nGM000010962,18001008,PRCP,0,,,E,\\nEZE00100082,18001008,TMAX,165,,,E,\\nEZE00100082,18001008,TMIN,104,,,E,\\nITE00100554,18001009,TMAX,184,,,E,\\nITE00100554,18001009,TMIN,166,,,E,\\nGM000010962,18001009,PRCP,49,,,E,\\nEZE00100082,18001009,TMAX,174,,,E,\\nEZE00100082,18001009,TMIN,120,,,E,\\nITE00100554,18001010,TMAX,181,,,E,\\nITE00100554,18001010,TMIN,150,,,E,\\nGM000010962,18001010,PRCP,32,,,E,\\nEZE00100082,18001010,TMAX,169,,,E,\\nEZE00100082,18001010,TMIN,125,,,E,\\nITE00100554,18001011,TMAX,188,,,E,\\nITE00100554,18001011,TMIN,150,,,E,\\nGM000010962,18001011,PRCP,32,,,E,\\nEZE00100082,18001011,TMAX,136,,,E,\\nEZE00100082,18001011,TMIN,97,,,E,\\nITE00100554,18001012,TMAX,175,,,E,\\nITE00100554,18001012,TMIN,123,,,E,\\nGM000010962,18001012,PRCP,0,,,E,\\nEZE00100082,18001012,TMAX,147,,,E,\\nEZE00100082,18001012,TMIN,99,,,E,\\nITE00100554,18001013,TMAX,175,,,E,\\nITE00100554,18001013,TMIN,113,,,E,\\nGM000010962,18001013,PRCP,11,,,E,\\nEZE00100082,18001013,TMAX,127,,,E,\\nEZE00100082,18001013,TMIN,98,,,E,\\nITE00100554,18001014,TMAX,171,,,E,\\nITE00100554,18001014,TMIN,100,,,E,\\nGM000010962,18001014,PRCP,0,,,E,\\nEZE00100082,18001014,TMAX,135,,,E,\\nEZE00100082,18001014,TMIN,93,,,E,\\nITE00100554,18001015,TMAX,171,,,E,\\nITE00100554,18001015,TMIN,96,,,E,\\nGM000010962,18001015,PRCP,0,,,E,\\nEZE00100082,18001015,TMAX,124,,,E,\\nEZE00100082,18001015,TMIN,97,,,E,\\nITE00100554,18001016,TMAX,166,,,E,\\nITE00100554,18001016,TMIN,109,,,E,\\nGM000010962,18001016,PRCP,33,,,E,\\nEZE00100082,18001016,TMAX,119,,,E,\\nEZE00100082,18001016,TMIN,72,,,E,\\nITE00100554,18001017,TMAX,184,,,E,\\nITE00100554,18001017,TMIN,116,,,E,\\nGM000010962,18001017,PRCP,15,,,E,\\nEZE00100082,18001017,TMAX,81,,,E,\\nEZE00100082,18001017,TMIN,48,,,E,\\nITE00100554,18001018,TMAX,154,,,E,\\nITE00100554,18001018,TMIN,104,,,E,\\nGM000010962,18001018,PRCP,11,,,E,\\nEZE00100082,18001018,TMAX,99,,,E,\\nEZE00100082,18001018,TMIN,22,,,E,\\nITE00100554,18001019,TMAX,150,,,E,\\nITE00100554,18001019,TMIN,75,,,E,\\nGM000010962,18001019,PRCP,0,,,E,\\nEZE00100082,18001019,TMAX,127,,,E,\\nEZE00100082,18001019,TMIN,85,,,E,\\nITE00100554,18001020,TMAX,149,,,E,\\nITE00100554,18001020,TMIN,69,,,E,\\nGM000010962,18001020,PRCP,0,,,E,\\nEZE00100082,18001020,TMAX,136,,,E,\\nEZE00100082,18001020,TMIN,75,,,E,\\nITE00100554,18001021,TMAX,148,,,E,\\nITE00100554,18001021,TMIN,71,,,E,\\nGM000010962,18001021,PRCP,0,,,E,\\nEZE00100082,18001021,TMAX,133,,,E,\\nEZE00100082,18001021,TMIN,60,,,E,\\nITE00100554,18001022,TMAX,129,,,E,\\nITE00100554,18001022,TMIN,110,,,E,\\nGM000010962,18001022,PRCP,12,,,E,\\nEZE00100082,18001022,TMAX,106,,,E,\\nEZE00100082,18001022,TMIN,52,,,E,\\nITE00100554,18001023,TMAX,116,,,E,\\nITE00100554,18001023,TMIN,113,,,E,\\nGM000010962,18001023,PRCP,11,,,E,\\nEZE00100082,18001023,TMAX,75,,,E,\\nEZE00100082,18001023,TMIN,44,,,E,\\nITE00100554,18001024,TMAX,104,,,E,\\nITE00100554,18001024,TMIN,44,,,E,\\nGM000010962,18001024,PRCP,0,,,E,\\nEZE00100082,18001024,TMAX,92,,,E,\\nEZE00100082,18001024,TMIN,33,,,E,\\nITE00100554,18001025,TMAX,121,,,E,\\nITE00100554,18001025,TMIN,31,,,E,\\nGM000010962,18001025,PRCP,0,,,E,\\nEZE00100082,18001025,TMAX,76,,,E,\\nEZE00100082,18001025,TMIN,-11,,,E,\\nITE00100554,18001026,TMAX,129,,,E,\\nITE00100554,18001026,TMIN,50,,,E,\\nGM000010962,18001026,PRCP,0,,,E,\\nEZE00100082,18001026,TMAX,90,,,E,\\nEZE00100082,18001026,TMIN,55,,,E,\\nITE00100554,18001027,TMAX,134,,,E,\\nITE00100554,18001027,TMIN,60,,,E,\\nGM000010962,18001027,PRCP,0,,,E,\\nEZE00100082,18001027,TMAX,102,,,E,\\nEZE00100082,18001027,TMIN,45,,,E,\\nITE00100554,18001028,TMAX,148,,,E,\\nITE00100554,18001028,TMIN,125,,,E,\\nGM000010962,18001028,PRCP,0,,,E,\\nEZE00100082,18001028,TMAX,99,,,E,\\nEZE00100082,18001028,TMIN,59,,,E,\\nITE00100554,18001029,TMAX,150,,,E,\\nITE00100554,18001029,TMIN,113,,,E,\\nGM000010962,18001029,PRCP,2,,,E,\\nEZE00100082,18001029,TMAX,97,,,E,\\nEZE00100082,18001029,TMIN,60,,,E,\\nITE00100554,18001030,TMAX,150,,,E,\\nITE00100554,18001030,TMIN,116,,,E,\\nGM000010962,18001030,PRCP,0,,,E,\\nEZE00100082,18001030,TMAX,123,,,E,\\nEZE00100082,18001030,TMIN,70,,,E,\\nITE00100554,18001031,TMAX,125,,,E,\\nITE00100554,18001031,TMIN,116,,,E,\\nGM000010962,18001031,PRCP,0,,,E,\\nEZE00100082,18001031,TMAX,90,,,E,\\nEZE00100082,18001031,TMIN,22,,,E,\\nITE00100554,18001101,TMAX,150,,,E,\\nITE00100554,18001101,TMIN,116,,,E,\\nGM000010962,18001101,PRCP,20,,,E,\\nEZE00100082,18001101,TMAX,88,,,E,\\nEZE00100082,18001101,TMIN,57,,,E,\\nITE00100554,18001102,TMAX,141,,,E,\\nITE00100554,18001102,TMIN,116,,,E,\\nGM000010962,18001102,PRCP,63,,,E,\\nEZE00100082,18001102,TMAX,93,,,E,\\nEZE00100082,18001102,TMIN,60,,,E,\\nITE00100554,18001103,TMAX,135,,,E,\\nITE00100554,18001103,TMIN,90,,,E,\\nGM000010962,18001103,PRCP,0,,,E,\\nEZE00100082,18001103,TMAX,114,,,E,\\nEZE00100082,18001103,TMIN,79,,,E,\\nITE00100554,18001104,TMAX,113,,,E,\\nITE00100554,18001104,TMIN,106,,,E,\\nGM000010962,18001104,PRCP,0,,,E,\\nEZE00100082,18001104,TMAX,116,,,E,\\nEZE00100082,18001104,TMIN,79,,,E,\\nITE00100554,18001105,TMAX,109,,,E,\\nITE00100554,18001105,TMIN,100,,,E,\\nGM000010962,18001105,PRCP,54,,,E,\\nEZE00100082,18001105,TMAX,85,,,E,\\nEZE00100082,18001105,TMIN,61,,,E,\\nITE00100554,18001106,TMAX,113,,,E,\\nITE00100554,18001106,TMIN,48,,,E,\\nGM000010962,18001106,PRCP,59,,,E,\\nEZE00100082,18001106,TMAX,84,,,E,\\nEZE00100082,18001106,TMIN,51,,,E,\\nITE00100554,18001107,TMAX,123,,,E,\\nITE00100554,18001107,TMIN,50,,,E,\\nGM000010962,18001107,PRCP,25,,,E,\\nEZE00100082,18001107,TMAX,86,,,E,\\nEZE00100082,18001107,TMIN,45,,,E,\\nITE00100554,18001108,TMAX,110,,,E,\\nITE00100554,18001108,TMIN,98,,,E,\\nGM000010962,18001108,PRCP,0,,,E,\\nEZE00100082,18001108,TMAX,122,,,E,\\nEZE00100082,18001108,TMIN,74,,,E,\\nITE00100554,18001109,TMAX,113,,,E,\\nITE00100554,18001109,TMIN,109,,,E,\\nGM000010962,18001109,PRCP,4,,,E,\\nEZE00100082,18001109,TMAX,173,,,E,\\nEZE00100082,18001109,TMIN,122,,,E,\\nITE00100554,18001110,TMAX,146,,,E,\\nITE00100554,18001110,TMIN,104,,,E,\\nGM000010962,18001110,PRCP,0,,,E,\\nEZE00100082,18001110,TMAX,147,,,E,\\nEZE00100082,18001110,TMIN,64,,,E,\\nITE00100554,18001111,TMAX,146,,,E,\\nITE00100554,18001111,TMIN,116,,,E,\\nGM000010962,18001111,PRCP,0,,,E,\\nEZE00100082,18001111,TMAX,97,,,E,\\nEZE00100082,18001111,TMIN,43,,,E,\\nITE00100554,18001112,TMAX,134,,,E,\\nITE00100554,18001112,TMIN,121,,,E,\\nGM000010962,18001112,PRCP,0,,,E,\\nEZE00100082,18001112,TMAX,103,,,E,\\nEZE00100082,18001112,TMIN,45,,,E,\\nITE00100554,18001113,TMAX,113,,,E,\\nITE00100554,18001113,TMIN,98,,,E,\\nGM000010962,18001113,PRCP,42,,,E,\\nEZE00100082,18001113,TMAX,80,,,E,\\nEZE00100082,18001113,TMIN,50,,,E,\\nITE00100554,18001114,TMAX,131,,,E,\\nITE00100554,18001114,TMIN,88,,,E,\\nGM000010962,18001114,PRCP,39,,,E,\\nEZE00100082,18001114,TMAX,81,,,E,\\nEZE00100082,18001114,TMIN,27,,,E,\\nITE00100554,18001115,TMAX,119,,,E,\\nITE00100554,18001115,TMIN,66,,,E,\\nGM000010962,18001115,PRCP,0,,,E,\\nEZE00100082,18001115,TMAX,44,,,E,\\nEZE00100082,18001115,TMIN,1,,,E,\\nITE00100554,18001116,TMAX,94,,,E,\\nITE00100554,18001116,TMIN,94,,,E,\\nGM000010962,18001116,PRCP,0,,,E,\\nEZE00100082,18001116,TMAX,63,,,E,\\nEZE00100082,18001116,TMIN,30,,,E,\\nITE00100554,18001117,TMAX,94,,,E,\\nITE00100554,18001117,TMIN,79,,,E,\\nGM000010962,18001117,PRCP,47,,,E,\\nEZE00100082,18001117,TMAX,70,,,E,\\nEZE00100082,18001117,TMIN,44,,,E,\\nITE00100554,18001118,TMAX,98,,,E,\\nITE00100554,18001118,TMIN,54,,,E,\\nGM000010962,18001118,PRCP,13,,,E,\\nEZE00100082,18001118,TMAX,70,,,E,\\nEZE00100082,18001118,TMIN,50,,,E,\\nITE00100554,18001119,TMAX,109,,,E,\\nITE00100554,18001119,TMIN,81,,,E,\\nGM000010962,18001119,PRCP,114,,,E,\\nEZE00100082,18001119,TMAX,68,,,E,\\nEZE00100082,18001119,TMIN,55,,,E,\\nITE00100554,18001120,TMAX,116,,,E,\\nITE00100554,18001120,TMIN,54,,,E,\\nGM000010962,18001120,PRCP,62,,,E,\\nEZE00100082,18001120,TMAX,57,,,E,\\nEZE00100082,18001120,TMIN,15,,,E,\\nITE00100554,18001121,TMAX,91,,,E,\\nITE00100554,18001121,TMIN,46,,,E,\\nGM000010962,18001121,PRCP,7,,,E,\\nEZE00100082,18001121,TMAX,29,,,E,\\nEZE00100082,18001121,TMIN,2,,,E,\\nITE00100554,18001122,TMAX,60,,,E,\\nITE00100554,18001122,TMIN,54,,,E,\\nGM000010962,18001122,PRCP,0,,,E,\\nEZE00100082,18001122,TMAX,34,,,E,\\nEZE00100082,18001122,TMIN,0,,,E,\\nITE00100554,18001123,TMAX,69,,,E,\\nITE00100554,18001123,TMIN,21,,,E,\\nGM000010962,18001123,PRCP,0,,,E,\\nEZE00100082,18001123,TMAX,58,,,E,\\nEZE00100082,18001123,TMIN,30,,,E,\\nITE00100554,18001124,TMAX,63,,,E,\\nITE00100554,18001124,TMIN,19,,,E,\\nGM000010962,18001124,PRCP,0,,,E,\\nEZE00100082,18001124,TMAX,69,,,E,\\nEZE00100082,18001124,TMIN,14,,,E,\\nITE00100554,18001125,TMAX,63,,,E,\\nITE00100554,18001125,TMIN,40,,,E,\\nGM000010962,18001125,PRCP,0,,,E,\\nEZE00100082,18001125,TMAX,43,,,E,\\nEZE00100082,18001125,TMIN,-5,,,E,\\nITE00100554,18001126,TMAX,59,,,E,\\nITE00100554,18001126,TMIN,54,,,E,\\nGM000010962,18001126,PRCP,0,,,E,\\nEZE00100082,18001126,TMAX,45,,,E,\\nEZE00100082,18001126,TMIN,-6,,,E,\\nITE00100554,18001127,TMAX,48,,,E,\\nITE00100554,18001127,TMIN,41,,,E,\\nGM000010962,18001127,PRCP,86,,,E,\\nEZE00100082,18001127,TMAX,56,,,E,\\nEZE00100082,18001127,TMIN,38,,,E,\\nITE00100554,18001128,TMAX,63,,,E,\\nITE00100554,18001128,TMIN,48,,,E,\\nGM000010962,18001128,PRCP,56,,,E,\\nEZE00100082,18001128,TMAX,38,,,E,\\nEZE00100082,18001128,TMIN,17,,,E,\\nITE00100554,18001129,TMAX,66,,,E,\\nITE00100554,18001129,TMIN,59,,,E,\\nGM000010962,18001129,PRCP,13,,,E,\\nEZE00100082,18001129,TMAX,42,,,E,\\nEZE00100082,18001129,TMIN,17,,,E,\\nITE00100554,18001130,TMAX,66,,,E,\\nITE00100554,18001130,TMIN,25,,,E,\\nGM000010962,18001130,PRCP,0,,,E,\\nEZE00100082,18001130,TMAX,22,,,E,\\nEZE00100082,18001130,TMIN,0,,,E,\\nITE00100554,18001201,TMAX,29,,,E,\\nITE00100554,18001201,TMIN,9,,,E,\\nGM000010962,18001201,PRCP,7,,,E,\\nEZE00100082,18001201,TMAX,34,,,E,\\nEZE00100082,18001201,TMIN,-2,,,E,\\nITE00100554,18001202,TMAX,10,,,E,\\nITE00100554,18001202,TMIN,-23,,,E,\\nGM000010962,18001202,PRCP,0,,,E,\\nEZE00100082,18001202,TMAX,39,,,E,\\nEZE00100082,18001202,TMIN,-5,,,E,\\nITE00100554,18001203,TMAX,16,,,E,\\nITE00100554,18001203,TMIN,-4,,,E,\\nGM000010962,18001203,PRCP,14,,,E,\\nEZE00100082,18001203,TMAX,49,,,E,\\nEZE00100082,18001203,TMIN,11,,,E,\\nITE00100554,18001204,TMAX,13,,,E,\\nITE00100554,18001204,TMIN,4,,,E,\\nGM000010962,18001204,PRCP,0,,,E,\\nEZE00100082,18001204,TMAX,34,,,E,\\nEZE00100082,18001204,TMIN,-5,,,E,\\nITE00100554,18001205,TMAX,54,,,E,\\nITE00100554,18001205,TMIN,19,,,E,\\nGM000010962,18001205,PRCP,0,,,E,\\nEZE00100082,18001205,TMAX,23,,,E,\\nEZE00100082,18001205,TMIN,4,,,E,\\nITE00100554,18001206,TMAX,29,,,E,\\nITE00100554,18001206,TMIN,13,,,E,\\nGM000010962,18001206,PRCP,0,,,E,\\nEZE00100082,18001206,TMAX,63,,,E,\\nEZE00100082,18001206,TMIN,19,,,E,\\nITE00100554,18001207,TMAX,13,,,E,\\nITE00100554,18001207,TMIN,3,,,E,\\nGM000010962,18001207,PRCP,0,,,E,\\nEZE00100082,18001207,TMAX,38,,,E,\\nEZE00100082,18001207,TMIN,0,,,E,\\nITE00100554,18001208,TMAX,0,,,E,\\nITE00100554,18001208,TMIN,-4,,,E,\\nGM000010962,18001208,PRCP,0,,,E,\\nEZE00100082,18001208,TMAX,24,,,E,\\nEZE00100082,18001208,TMIN,-4,,,E,\\nITE00100554,18001209,TMAX,10,,,E,\\nITE00100554,18001209,TMIN,-10,,,E,\\nGM000010962,18001209,PRCP,0,,,E,\\nEZE00100082,18001209,TMAX,24,,,E,\\nEZE00100082,18001209,TMIN,-17,,,E,\\nITE00100554,18001210,TMAX,21,,I,E,\\nITE00100554,18001210,TMIN,10,,,E,\\nGM000010962,18001210,PRCP,0,,,E,\\nEZE00100082,18001210,TMAX,27,,,E,\\nEZE00100082,18001210,TMIN,-9,,,E,\\nITE00100554,18001211,TMAX,41,,,E,\\nITE00100554,18001211,TMIN,35,,I,E,\\nGM000010962,18001211,PRCP,0,,,E,\\nEZE00100082,18001211,TMAX,47,,,E,\\nEZE00100082,18001211,TMIN,23,,,E,\\nITE00100554,18001212,TMAX,46,,,E,\\nITE00100554,18001212,TMIN,29,,,E,\\nGM000010962,18001212,PRCP,0,,,E,\\nEZE00100082,18001212,TMAX,44,,,E,\\nEZE00100082,18001212,TMIN,35,,,E,\\nITE00100554,18001213,TMAX,71,,,E,\\nITE00100554,18001213,TMIN,46,,,E,\\nGM000010962,18001213,PRCP,0,,,E,\\nEZE00100082,18001213,TMAX,45,,,E,\\nEZE00100082,18001213,TMIN,35,,,E,\\nITE00100554,18001214,TMAX,85,,,E,\\nITE00100554,18001214,TMIN,66,,,E,\\nGM000010962,18001214,PRCP,0,,,E,\\nEZE00100082,18001214,TMAX,38,,,E,\\nEZE00100082,18001214,TMIN,27,,,E,\\nITE00100554,18001215,TMAX,91,,,E,\\nITE00100554,18001215,TMIN,73,,,E,\\nGM000010962,18001215,PRCP,0,,,E,\\nEZE00100082,18001215,TMAX,27,,,E,\\nEZE00100082,18001215,TMIN,23,,,E,\\nITE00100554,18001216,TMAX,66,,,E,\\nITE00100554,18001216,TMIN,60,,,E,\\nGM000010962,18001216,PRCP,0,,,E,\\nEZE00100082,18001216,TMAX,23,,,E,\\nEZE00100082,18001216,TMIN,-3,,,E,\\nITE00100554,18001217,TMAX,50,,,E,\\nITE00100554,18001217,TMIN,50,,,E,\\nGM000010962,18001217,PRCP,0,,,E,\\nEZE00100082,18001217,TMAX,-1,,,E,\\nEZE00100082,18001217,TMIN,-14,,,E,\\nITE00100554,18001218,TMAX,54,,,E,\\nITE00100554,18001218,TMIN,48,,I,E,\\nGM000010962,18001218,PRCP,0,,,E,\\nEZE00100082,18001218,TMAX,-8,,,E,\\nEZE00100082,18001218,TMIN,-35,,,E,\\nITE00100554,18001219,TMAX,29,,I,E,\\nITE00100554,18001219,TMIN,29,,I,E,\\nGM000010962,18001219,PRCP,0,,,E,\\nEZE00100082,18001219,TMAX,-14,,,E,\\nEZE00100082,18001219,TMIN,-56,,,E,\\nITE00100554,18001220,TMAX,13,,I,E,\\nITE00100554,18001220,TMIN,10,,,E,\\nGM000010962,18001220,PRCP,0,,,E,\\nEZE00100082,18001220,TMAX,-14,,,E,\\nEZE00100082,18001220,TMIN,-64,,,E,\\nITE00100554,18001221,TMAX,10,,,E,\\nITE00100554,18001221,TMIN,-13,,,E,\\nGM000010962,18001221,PRCP,0,,,E,\\nEZE00100082,18001221,TMAX,4,,,E,\\nEZE00100082,18001221,TMIN,-83,,,E,\\nITE00100554,18001222,TMAX,16,,,E,\\nITE00100554,18001222,TMIN,-13,,,E,\\nGM000010962,18001222,PRCP,13,,,E,\\nEZE00100082,18001222,TMAX,54,,,E,\\nEZE00100082,18001222,TMIN,4,,,E,\\nITE00100554,18001223,TMAX,23,,,E,\\nITE00100554,18001223,TMIN,-16,,,E,\\nGM000010962,18001223,PRCP,0,,,E,\\nEZE00100082,18001223,TMAX,52,,,E,\\nEZE00100082,18001223,TMIN,30,,,E,\\nITE00100554,18001224,TMAX,16,,,E,\\nITE00100554,18001224,TMIN,4,,,E,\\nGM000010962,18001224,PRCP,0,,,E,\\nEZE00100082,18001224,TMAX,30,,,E,\\nEZE00100082,18001224,TMIN,6,,,E,\\nITE00100554,18001225,TMAX,25,,,E,\\nITE00100554,18001225,TMIN,13,,,E,\\nGM000010962,18001225,PRCP,0,,,E,\\nEZE00100082,18001225,TMAX,21,,,E,\\nEZE00100082,18001225,TMIN,11,,,E,\\nITE00100554,18001226,TMAX,38,,,E,\\nITE00100554,18001226,TMIN,25,,,E,\\nGM000010962,18001226,PRCP,0,,,E,\\nEZE00100082,18001226,TMAX,36,,,E,\\nEZE00100082,18001226,TMIN,8,,,E,\\nITE00100554,18001227,TMAX,10,,I,E,\\nITE00100554,18001227,TMIN,9,,,E,\\nGM000010962,18001227,PRCP,0,,,E,\\nEZE00100082,18001227,TMAX,47,,,E,\\nEZE00100082,18001227,TMIN,20,,,E,\\nITE00100554,18001228,TMAX,35,,,E,\\nITE00100554,18001228,TMIN,25,,,E,\\nGM000010962,18001228,PRCP,7,,,E,\\nEZE00100082,18001228,TMAX,43,,,E,\\nEZE00100082,18001228,TMIN,7,,,E,\\nITE00100554,18001229,TMAX,50,,,E,\\nITE00100554,18001229,TMIN,16,,,E,\\nGM000010962,18001229,PRCP,9,,,E,\\nEZE00100082,18001229,TMAX,45,,,E,\\nEZE00100082,18001229,TMIN,-3,,,E,\\nITE00100554,18001230,TMAX,50,,,E,\\nITE00100554,18001230,TMIN,31,,,E,\\nGM000010962,18001230,PRCP,13,,,E,\\nEZE00100082,18001230,TMAX,96,,,E,\\nEZE00100082,18001230,TMIN,14,,,E,\\nITE00100554,18001231,TMAX,50,,,E,\\nITE00100554,18001231,TMIN,25,,,E,\\nGM000010962,18001231,PRCP,16,,,E,\\nEZE00100082,18001231,TMAX,14,,,E,\\nEZE00100082,18001231,TMIN,-4,,,E,\\n',\n",
       "  29: [],\n",
       "  42: {' ', 'a', 'f', 'k', 'l', 'p', 'r', 'u', 'v'},\n",
       "  49: [' ', 'a', 'f', 'k', 'l', 'p', 'r', 'u', 'v'],\n",
       "  52: [(1, 2), (3, 4), (5, 6)],\n",
       "  57: [1, 2, 3, 4, 5, 6, 7, 8, 9],\n",
       "  65: [1, 4, 7, 10, 13, 16, 19],\n",
       "  84: [0,\n",
       "   2,\n",
       "   4,\n",
       "   6,\n",
       "   8,\n",
       "   10,\n",
       "   12,\n",
       "   14,\n",
       "   16,\n",
       "   18,\n",
       "   20,\n",
       "   22,\n",
       "   24,\n",
       "   26,\n",
       "   28,\n",
       "   30,\n",
       "   32,\n",
       "   34,\n",
       "   36,\n",
       "   38,\n",
       "   40,\n",
       "   42,\n",
       "   44,\n",
       "   46,\n",
       "   48,\n",
       "   50],\n",
       "  89: ['p', 'o', 'w', 't', 's', 'w', 's', 'i', 't', 's']},\n",
       " '_sh': <module 'IPython.core.shadowns' from '/Users/kavap/anaconda/lib/python2.7/site-packages/IPython/core/shadowns.pyc'>,\n",
       " 'a': 10,\n",
       " 'b': 6,\n",
       " 'd': {'k1': 'v1', 'k2': 'v2'},\n",
       " 'element': 42,\n",
       " 'exit': <IPython.core.autocall.ZMQExitAutocall at 0x1041d8210>,\n",
       " 'file': <open file '1800.csv', mode 'r' at 0x10416ce40>,\n",
       " 'get_ipython': <bound method ZMQInteractiveShell.get_ipython of <ipykernel.zmqshell.ZMQInteractiveShell object at 0x10418a4d0>>,\n",
       " 'item': 'v',\n",
       " 'k': 'k1',\n",
       " 'l': [0,\n",
       "  2,\n",
       "  4,\n",
       "  6,\n",
       "  8,\n",
       "  10,\n",
       "  12,\n",
       "  14,\n",
       "  16,\n",
       "  18,\n",
       "  20,\n",
       "  22,\n",
       "  24,\n",
       "  26,\n",
       "  28,\n",
       "  30,\n",
       "  32,\n",
       "  34,\n",
       "  36,\n",
       "  38,\n",
       "  40,\n",
       "  42,\n",
       "  44,\n",
       "  46,\n",
       "  48,\n",
       "  50],\n",
       " 'l_even': [2, 4, 8, 2, 12, 66, 42],\n",
       " 'list_1': ['a',\n",
       "  'a',\n",
       "  'a',\n",
       "  'b',\n",
       "  'b',\n",
       "  'c',\n",
       "  'c',\n",
       "  'd',\n",
       "  'd',\n",
       "  ['1', '2'],\n",
       "  ['1', '2']],\n",
       " 'list_2': ['1', '2'],\n",
       " 'list_3': None,\n",
       " 'my_dict': {'k1': 1, 'k2': 'test', 'k3': True},\n",
       " 'number': 50,\n",
       " 'quit': <IPython.core.autocall.ZMQExitAutocall at 0x1041d8210>,\n",
       " 'set_even': {2, 4, 8, 12, 42, 66},\n",
       " 'st': ' print only words that start with s in this sentence',\n",
       " 'string_set': {' ', 'a', 'f', 'k', 'l', 'p', 'r', 'u', 'v'},\n",
       " 'sum': 280,\n",
       " 'tuple_list': [(1, 2), (3, 4), (5, 6)],\n",
       " 'unique_char_l': [' ', 'a', 'f', 'k', 'l', 'p', 'r', 'u', 'v'],\n",
       " 'v': 'v1',\n",
       " 'word': 'sentence',\n",
       " 'x': [1, 4, 7, 10, 13, 16, 19],\n",
       " 'y': 19}"
      ]
     },
     "execution_count": 91,
     "metadata": {},
     "output_type": "execute_result"
    }
   ],
   "source": [
    "globals()\n",
    "locals()"
   ]
  },
  {
   "cell_type": "code",
   "execution_count": 96,
   "metadata": {
    "collapsed": false
   },
   "outputs": [
    {
     "name": "stdout",
     "output_type": "stream",
     "text": [
      "The String has 5 Uppercase and 29 Lowercase letters\n"
     ]
    }
   ],
   "source": [
    "str = \"Hello Mr Praful It's a fine Sunday\"\n",
    "upperCount = 0\n",
    "lowerCount = 0\n",
    "for a in str:\n",
    "    if a == a.lower():\n",
    "        lowerCount+=1\n",
    "    else:\n",
    "        upperCount+=1\n",
    "print \"The String has %d Uppercase and %d Lowercase letters\" %(upperCount,lowerCount)"
   ]
  },
  {
   "cell_type": "code",
   "execution_count": 97,
   "metadata": {
    "collapsed": false
   },
   "outputs": [
    {
     "name": "stdout",
     "output_type": "stream",
     "text": [
      "[1, 2, 3, 4, 5]\n"
     ]
    }
   ],
   "source": [
    "l = [1,2,3,2,3,4,1,4,5,2,1]\n",
    "\n",
    "def uniqList(l):\n",
    "    return list(set(l))\n",
    "\n",
    "print uniqList(l)"
   ]
  },
  {
   "cell_type": "code",
   "execution_count": 103,
   "metadata": {
    "collapsed": false
   },
   "outputs": [
    {
     "data": {
      "text/plain": [
       "['Self-Employment:',\n",
       " 'Building',\n",
       " 'an',\n",
       " 'Internet',\n",
       " 'Business',\n",
       " 'of',\n",
       " 'One\\r\\n',\n",
       " 'Achieving',\n",
       " 'Financial',\n",
       " 'and',\n",
       " 'Personal',\n",
       " 'Freedom',\n",
       " 'through',\n",
       " 'a',\n",
       " 'Lifestyle',\n",
       " 'Technology',\n",
       " 'Business\\r\\n',\n",
       " 'By',\n",
       " 'Frank',\n",
       " 'Kane\\r\\n',\n",
       " '\\r\\n',\n",
       " '\\r\\n',\n",
       " '\\r\\n',\n",
       " 'Copyright',\n",
       " '\\xa9',\n",
       " '2015',\n",
       " 'Frank',\n",
       " 'Kane.',\n",
       " '\\r\\n',\n",
       " 'All',\n",
       " 'rights',\n",
       " 'reserved',\n",
       " 'worldwide.\\r\\n',\n",
       " '\\r\\n',\n",
       " '\\r\\n',\n",
       " 'CONTENTS\\r\\n',\n",
       " 'Disclaimer\\r\\n',\n",
       " 'Preface\\r\\n',\n",
       " 'Part',\n",
       " 'I:',\n",
       " 'Making',\n",
       " 'the',\n",
       " 'Big',\n",
       " 'Decision\\r\\n',\n",
       " 'Overcoming',\n",
       " 'Inertia\\r\\n',\n",
       " 'Fear',\n",
       " 'of',\n",
       " 'Failure\\r\\n',\n",
       " 'Career',\n",
       " 'Indoctrination\\r\\n',\n",
       " 'The',\n",
       " 'Carrot',\n",
       " 'on',\n",
       " 'a',\n",
       " 'Stick\\r\\n',\n",
       " 'Ego',\n",
       " 'Protection\\r\\n',\n",
       " 'Your',\n",
       " 'Employer',\n",
       " 'as',\n",
       " 'a',\n",
       " 'Security',\n",
       " 'Blanket\\r\\n',\n",
       " 'Why',\n",
       " 'it\\x92s',\n",
       " 'Worth',\n",
       " 'it\\r\\n',\n",
       " 'Unlimited',\n",
       " 'Growth',\n",
       " 'Potential\\r\\n',\n",
       " 'Investing',\n",
       " 'in',\n",
       " 'Yourself,',\n",
       " 'Not',\n",
       " 'Someone',\n",
       " 'Else\\r\\n',\n",
       " 'No',\n",
       " 'Dependencies\\r\\n',\n",
       " 'No',\n",
       " 'Commute\\r\\n',\n",
       " 'Freedom',\n",
       " 'to',\n",
       " 'Live',\n",
       " 'Where',\n",
       " 'You',\n",
       " 'Want\\r\\n',\n",
       " 'Freedom',\n",
       " 'to',\n",
       " 'Work',\n",
       " 'When',\n",
       " 'You',\n",
       " 'Want\\r\\n',\n",
       " 'Freedom',\n",
       " 'to',\n",
       " 'Work',\n",
       " 'How',\n",
       " 'You',\n",
       " 'Want\\r\\n',\n",
       " 'Is',\n",
       " 'Self-Employment',\n",
       " 'for',\n",
       " 'You?',\n",
       " '\\r\\n',\n",
       " 'Flowchart:',\n",
       " 'Should',\n",
       " 'I',\n",
       " 'Even',\n",
       " 'Consider',\n",
       " 'Self-Employment?',\n",
       " '\\r\\n',\n",
       " 'Having',\n",
       " 'a',\n",
       " 'Financial',\n",
       " 'Safety',\n",
       " 'Net\\r\\n',\n",
       " 'Planning',\n",
       " 'for',\n",
       " 'Health',\n",
       " 'Care\\r\\n',\n",
       " 'Self-Assessment',\n",
       " 'Quiz\\r\\n',\n",
       " 'PART',\n",
       " 'II:',\n",
       " 'Making',\n",
       " 'it',\n",
       " 'Happen\\r\\n',\n",
       " 'Designing',\n",
       " 'a',\n",
       " 'Business',\n",
       " 'for',\n",
       " 'Your',\n",
       " 'Lifestyle\\r\\n',\n",
       " 'The',\n",
       " 'Fallacy',\n",
       " 'of',\n",
       " 'the',\n",
       " 'Growth',\n",
       " 'Business\\r\\n',\n",
       " 'Introducing',\n",
       " 'the',\n",
       " 'Lifestyle',\n",
       " 'Business\\r\\n',\n",
       " 'Planning',\n",
       " 'the',\n",
       " 'Ideal',\n",
       " 'Lifestyle',\n",
       " 'Business\\r\\n',\n",
       " 'Case',\n",
       " 'Study:',\n",
       " 'Sundog',\n",
       " 'Software\\r\\n',\n",
       " 'Other',\n",
       " 'Lifestyle',\n",
       " 'Business',\n",
       " 'Ideas\\r\\n',\n",
       " 'Key',\n",
       " 'Points',\n",
       " 'When',\n",
       " 'Evaluating',\n",
       " 'Your',\n",
       " 'Business',\n",
       " 'Idea\\r\\n',\n",
       " 'Writing',\n",
       " 'Your',\n",
       " 'Business',\n",
       " 'Plan\\r\\n',\n",
       " 'Business',\n",
       " 'Description',\n",
       " 'and',\n",
       " 'Vision\\r\\n',\n",
       " 'Definition',\n",
       " 'of',\n",
       " 'the',\n",
       " 'Market\\r\\n',\n",
       " 'Description',\n",
       " 'of',\n",
       " 'the',\n",
       " 'Product\\r\\n',\n",
       " 'Organization',\n",
       " 'and',\n",
       " 'Management\\r\\n',\n",
       " 'Marketing',\n",
       " 'and',\n",
       " 'Sales',\n",
       " 'Strategy\\r\\n',\n",
       " 'Financial',\n",
       " 'Management\\r\\n',\n",
       " 'Making',\n",
       " 'your',\n",
       " 'Plan',\n",
       " 'a',\n",
       " 'Reality\\r\\n',\n",
       " 'Check',\n",
       " 'your',\n",
       " 'Employment',\n",
       " 'Agreement\\r\\n',\n",
       " 'Developing',\n",
       " 'your',\n",
       " 'Business',\n",
       " 'on',\n",
       " 'the',\n",
       " 'Side\\r\\n',\n",
       " 'Naming',\n",
       " 'your',\n",
       " 'Business\\r\\n',\n",
       " 'Obtaining',\n",
       " 'Licenses',\n",
       " 'and',\n",
       " 'Tax',\n",
       " 'Planning\\r\\n',\n",
       " 'Launching',\n",
       " 'your',\n",
       " 'Product,',\n",
       " 'and',\n",
       " 'Measuring',\n",
       " 'the',\n",
       " 'Results\\r\\n',\n",
       " 'Your',\n",
       " 'Personal',\n",
       " 'Risk',\n",
       " 'Mitigation',\n",
       " 'Plan\\r\\n',\n",
       " 'You',\n",
       " \"Don't\",\n",
       " 'Have',\n",
       " 'to',\n",
       " 'Go',\n",
       " 'It',\n",
       " 'Alone\\r\\n',\n",
       " 'Pulling',\n",
       " 'the',\n",
       " 'Trigger\\r\\n',\n",
       " 'Your',\n",
       " 'Final',\n",
       " 'Checklist\\r\\n',\n",
       " 'Telling',\n",
       " 'your',\n",
       " 'Boss\\r\\n',\n",
       " 'PART',\n",
       " 'III:',\n",
       " 'Making',\n",
       " 'It',\n",
       " 'Last\\r\\n',\n",
       " 'Fueling',\n",
       " 'the',\n",
       " 'Fire\\r\\n',\n",
       " 'Building',\n",
       " 'your',\n",
       " 'Website\\r\\n',\n",
       " 'Basics',\n",
       " 'of',\n",
       " 'Public',\n",
       " 'Relations\\r\\n',\n",
       " 'Basics',\n",
       " 'of',\n",
       " 'Online',\n",
       " 'Advertising\\r\\n',\n",
       " 'Basics',\n",
       " 'of',\n",
       " 'Offline',\n",
       " 'Marketing\\r\\n',\n",
       " 'Basics',\n",
       " 'of',\n",
       " 'Search',\n",
       " 'Engine',\n",
       " 'Optimization\\r\\n',\n",
       " 'Basics',\n",
       " 'of',\n",
       " 'Landing',\n",
       " 'Page',\n",
       " 'Optimization\\r\\n',\n",
       " 'The',\n",
       " 'Importance',\n",
       " 'of',\n",
       " 'Email',\n",
       " 'Campaigns\\r\\n',\n",
       " 'Using',\n",
       " 'Social',\n",
       " 'Networks\\r\\n',\n",
       " 'Measure',\n",
       " 'and',\n",
       " 'Act\\r\\n',\n",
       " 'Interpreting',\n",
       " 'your',\n",
       " 'Metrics\\r\\n',\n",
       " 'Tracking',\n",
       " 'and',\n",
       " 'Closing',\n",
       " 'Sales\\r\\n',\n",
       " 'Avoiding',\n",
       " 'Pitfalls\\r\\n',\n",
       " 'Beware',\n",
       " 'of',\n",
       " 'Leeches\\r\\n',\n",
       " 'Beware',\n",
       " 'of',\n",
       " 'Well-Meaning',\n",
       " 'Advice\\r\\n',\n",
       " 'Beware',\n",
       " 'of',\n",
       " 'Hiring',\n",
       " 'Salespeople\\r\\n',\n",
       " 'Beware',\n",
       " 'of',\n",
       " 'Pressure',\n",
       " 'to',\n",
       " 'Hire\\r\\n',\n",
       " 'Beware',\n",
       " 'of',\n",
       " 'Misleading',\n",
       " 'Statistics\\r\\n',\n",
       " 'Building',\n",
       " 'a',\n",
       " 'Growth',\n",
       " 'Engine\\r\\n',\n",
       " 'Finding',\n",
       " 'the',\n",
       " 'Time\\r\\n',\n",
       " 'Finding',\n",
       " 'the',\n",
       " 'People\\r\\n',\n",
       " 'Finding',\n",
       " 'the',\n",
       " 'Ideas\\r\\n',\n",
       " 'The',\n",
       " 'Compounding',\n",
       " 'Effect\\r\\n',\n",
       " 'Adapting',\n",
       " 'to',\n",
       " 'Your',\n",
       " 'New',\n",
       " 'Life\\r\\n',\n",
       " \"Survivor's\",\n",
       " 'Guilt\\r\\n',\n",
       " 'Letting',\n",
       " 'Go',\n",
       " 'of',\n",
       " 'Fixed',\n",
       " 'Schedules\\r\\n',\n",
       " 'Live',\n",
       " 'a',\n",
       " 'Little\\r\\n',\n",
       " 'Recommended',\n",
       " 'Reading\\r\\n',\n",
       " 'Acknowledgments\\r\\n',\n",
       " 'About',\n",
       " 'the',\n",
       " 'Author\\r\\n',\n",
       " '\\r\\n',\n",
       " '\\r\\n',\n",
       " '\\r\\n',\n",
       " '\\r\\n',\n",
       " 'DISCLAIMER\\r\\n',\n",
       " 'What',\n",
       " 'you',\n",
       " 'do',\n",
       " 'with',\n",
       " 'your',\n",
       " 'career',\n",
       " 'is',\n",
       " 'your',\n",
       " 'own',\n",
       " 'decision.\\r\\n',\n",
       " 'This',\n",
       " 'book',\n",
       " 'tells',\n",
       " 'you',\n",
       " 'how',\n",
       " 'I',\n",
       " 'improved',\n",
       " 'my',\n",
       " 'life',\n",
       " 'by',\n",
       " 'quitting',\n",
       " 'my',\n",
       " 'job,',\n",
       " 'and',\n",
       " 'creating',\n",
       " 'a',\n",
       " 'sustainable',\n",
       " 'and',\n",
       " 'growing',\n",
       " 'income',\n",
       " 'through',\n",
       " 'self-employment.',\n",
       " 'What',\n",
       " 'I',\n",
       " 'learned',\n",
       " 'along',\n",
       " 'the',\n",
       " 'way',\n",
       " 'could',\n",
       " 'help',\n",
       " 'you',\n",
       " 'do',\n",
       " 'the',\n",
       " 'same.\\r\\n',\n",
       " 'But',\n",
       " 'no',\n",
       " 'matter',\n",
       " 'how',\n",
       " 'much',\n",
       " 'advice',\n",
       " 'or',\n",
       " 'how',\n",
       " 'many',\n",
       " 'stories',\n",
       " 'I',\n",
       " 'give',\n",
       " 'you,',\n",
       " 'in',\n",
       " 'the',\n",
       " 'end',\n",
       " 'success',\n",
       " 'relies',\n",
       " 'on',\n",
       " 'your',\n",
       " 'own',\n",
       " 'preparation,',\n",
       " 'planning,',\n",
       " 'skillset,',\n",
       " 'talents,',\n",
       " 'determination,',\n",
       " 'and',\n",
       " 'a',\n",
       " 'little',\n",
       " 'bit',\n",
       " 'of',\n",
       " 'luck.',\n",
       " 'I',\n",
       " \"can't\",\n",
       " 'give',\n",
       " 'all',\n",
       " 'of',\n",
       " 'that',\n",
       " 'to',\n",
       " 'you.\\r\\n',\n",
       " 'If',\n",
       " 'this',\n",
       " 'book',\n",
       " 'gives',\n",
       " 'you',\n",
       " 'the',\n",
       " 'confidence',\n",
       " 'to',\n",
       " 'strike',\n",
       " 'out',\n",
       " 'on',\n",
       " 'your',\n",
       " 'own',\n",
       " '\\x96',\n",
       " 'that\\x92s',\n",
       " 'great.',\n",
       " 'But',\n",
       " 'do',\n",
       " 'it',\n",
       " 'responsibly,',\n",
       " 'and',\n",
       " 'realize',\n",
       " 'that',\n",
       " 'failure',\n",
       " 'is',\n",
       " 'a',\n",
       " 'very',\n",
       " 'real',\n",
       " 'possibility',\n",
       " 'that',\n",
       " 'you',\n",
       " 'must',\n",
       " 'plan',\n",
       " 'for.\\r\\n',\n",
       " \"Don't\",\n",
       " 'blame',\n",
       " 'me',\n",
       " 'for',\n",
       " 'the',\n",
       " 'decisions',\n",
       " 'you',\n",
       " 'make;',\n",
       " 'they',\n",
       " 'are',\n",
       " 'ultimately',\n",
       " 'your',\n",
       " 'own.\\r\\n',\n",
       " 'Now,',\n",
       " 'on',\n",
       " 'with',\n",
       " 'the',\n",
       " 'adventure.\\r\\n',\n",
       " '\\r\\n',\n",
       " '\\r\\n',\n",
       " 'PREFACE\\r\\n',\n",
       " 'Three',\n",
       " 'years',\n",
       " 'ago,',\n",
       " 'I',\n",
       " 'worked',\n",
       " 'for',\n",
       " 'a',\n",
       " 'big',\n",
       " 'company.\\r\\n',\n",
       " 'I',\n",
       " 'did',\n",
       " 'everything',\n",
       " 'a',\n",
       " 'good',\n",
       " 'American',\n",
       " 'employee',\n",
       " 'is',\n",
       " 'supposed',\n",
       " 'to',\n",
       " 'do.',\n",
       " 'I',\n",
       " 'worked',\n",
       " 'hard.',\n",
       " 'I',\n",
       " 'devoted',\n",
       " 'all',\n",
       " 'of',\n",
       " 'my',\n",
       " 'thoughts',\n",
       " 'to',\n",
       " 'making',\n",
       " 'this',\n",
       " 'big',\n",
       " 'company',\n",
       " 'even',\n",
       " 'more',\n",
       " 'successful.',\n",
       " 'I',\n",
       " 'commuted',\n",
       " 'an',\n",
       " 'hour',\n",
       " 'each',\n",
       " 'way,',\n",
       " 'without',\n",
       " 'complaint.',\n",
       " 'I',\n",
       " 'worked',\n",
       " '50',\n",
       " 'hours',\n",
       " 'every',\n",
       " 'week',\n",
       " 'at',\n",
       " 'a',\n",
       " 'minimum.',\n",
       " 'And',\n",
       " 'when',\n",
       " 'I',\n",
       " 'got',\n",
       " 'home,',\n",
       " 'I',\n",
       " 'let',\n",
       " 'them',\n",
       " 'page',\n",
       " 'me',\n",
       " 'at',\n",
       " '2',\n",
       " 'AM',\n",
       " 'if',\n",
       " 'something',\n",
       " 'needed',\n",
       " 'my',\n",
       " 'attention',\n",
       " '\\x96',\n",
       " 'which',\n",
       " 'happened',\n",
       " 'pretty',\n",
       " 'often.\\r\\n',\n",
       " 'Over',\n",
       " 'the',\n",
       " 'years,',\n",
       " 'I',\n",
       " 'was',\n",
       " 'rewarded',\n",
       " 'with',\n",
       " 'more',\n",
       " 'responsibility,',\n",
       " 'and',\n",
       " 'more',\n",
       " 'money',\n",
       " '\\x96',\n",
       " 'although',\n",
       " 'it',\n",
       " 'never',\n",
       " 'seemed',\n",
       " 'to',\n",
       " 'be',\n",
       " 'quite',\n",
       " 'enough.',\n",
       " 'I',\n",
       " 'was',\n",
       " 'considered',\n",
       " 'a',\n",
       " 'role-model',\n",
       " 'software',\n",
       " 'development',\n",
       " 'manager,',\n",
       " 'and',\n",
       " 'I',\n",
       " 'felt',\n",
       " 'successful.',\n",
       " '\\r\\n',\n",
       " 'At',\n",
       " 'home',\n",
       " 'however,',\n",
       " 'my',\n",
       " 'marriage',\n",
       " 'was',\n",
       " 'under',\n",
       " 'stress,',\n",
       " 'my',\n",
       " 'kids',\n",
       " 'hardly',\n",
       " 'knew',\n",
       " 'me,',\n",
       " 'and',\n",
       " 'I',\n",
       " 'was',\n",
       " 'on',\n",
       " 'prescription',\n",
       " 'sleep',\n",
       " 'aids',\n",
       " 'in',\n",
       " 'order',\n",
       " 'to',\n",
       " 'combat',\n",
       " 'the',\n",
       " 'extreme',\n",
       " 'stress',\n",
       " 'I',\n",
       " 'was',\n",
       " 'under.',\n",
       " 'My',\n",
       " 'family',\n",
       " \"wasn't\",\n",
       " 'happy',\n",
       " 'living',\n",
       " 'in',\n",
       " 'the',\n",
       " 'part',\n",
       " 'of',\n",
       " 'the',\n",
       " 'country',\n",
       " 'we',\n",
       " 'lived',\n",
       " 'in,',\n",
       " 'and',\n",
       " 'they',\n",
       " \"weren't\",\n",
       " 'happy',\n",
       " 'with',\n",
       " 'me.',\n",
       " 'But,',\n",
       " 'all',\n",
       " 'that',\n",
       " 'felt',\n",
       " 'secondary',\n",
       " 'to',\n",
       " 'my',\n",
       " 'duty',\n",
       " 'to',\n",
       " 'my',\n",
       " 'employer,',\n",
       " 'and',\n",
       " 'my',\n",
       " 'duty',\n",
       " 'as',\n",
       " 'a',\n",
       " 'provider',\n",
       " 'for',\n",
       " 'my',\n",
       " 'family.',\n",
       " 'I',\n",
       " 'was',\n",
       " 'doing',\n",
       " 'what',\n",
       " 'I',\n",
       " 'thought',\n",
       " 'I',\n",
       " 'had',\n",
       " 'to',\n",
       " 'do.\\r\\n',\n",
       " 'Three',\n",
       " 'years',\n",
       " 'ago,',\n",
       " 'I',\n",
       " 'was',\n",
       " 'faced',\n",
       " 'with',\n",
       " 'an',\n",
       " 'ultimatum',\n",
       " 'from',\n",
       " 'my',\n",
       " 'family',\n",
       " '\\x96',\n",
       " 'it',\n",
       " 'was',\n",
       " 'my',\n",
       " 'job,',\n",
       " 'or',\n",
       " 'them.\\r\\n',\n",
       " 'A',\n",
       " 'few',\n",
       " 'weeks',\n",
       " 'later,',\n",
       " 'I',\n",
       " 'quit',\n",
       " 'my',\n",
       " 'job.',\n",
       " 'I',\n",
       " 'walked',\n",
       " 'away',\n",
       " 'from',\n",
       " 'about',\n",
       " 'a',\n",
       " 'million',\n",
       " 'dollars\\x92',\n",
       " 'worth',\n",
       " 'of',\n",
       " 'stock',\n",
       " 'grants',\n",
       " 'in',\n",
       " 'doing',\n",
       " 'so,',\n",
       " 'and',\n",
       " 'I',\n",
       " \"wasn't\",\n",
       " 'happy',\n",
       " 'about',\n",
       " 'it.',\n",
       " '\\r\\n',\n",
       " 'But,',\n",
       " 'I',\n",
       " 'made',\n",
       " 'the',\n",
       " 'decision',\n",
       " 'to',\n",
       " 'try',\n",
       " 'working',\n",
       " 'for',\n",
       " 'myself',\n",
       " 'before',\n",
       " 'seeking',\n",
       " 'another',\n",
       " 'traditional',\n",
       " 'job.\\r\\n',\n",
       " 'Today,',\n",
       " 'I',\n",
       " 'run',\n",
       " 'my',\n",
       " 'own',\n",
       " 'software',\n",
       " 'company',\n",
       " 'out',\n",
       " 'of',\n",
       " 'my',\n",
       " 'home.',\n",
       " 'I',\n",
       " 'have',\n",
       " 'no',\n",
       " 'employees',\n",
       " 'to',\n",
       " 'worry',\n",
       " 'about,',\n",
       " 'and',\n",
       " 'a',\n",
       " 'revenue',\n",
       " 'stream',\n",
       " 'that',\n",
       " 'matches',\n",
       " 'anything',\n",
       " 'I',\n",
       " 'ever',\n",
       " 'made',\n",
       " 'as',\n",
       " 'a',\n",
       " 'successful',\n",
       " 'senior',\n",
       " 'manager',\n",
       " 'at',\n",
       " 'a',\n",
       " 'big',\n",
       " 'tech',\n",
       " 'company.',\n",
       " 'I',\n",
       " 'now',\n",
       " 'live',\n",
       " 'someplace',\n",
       " 'with',\n",
       " 'a',\n",
       " 'lower',\n",
       " 'cost',\n",
       " 'of',\n",
       " 'living,',\n",
       " 'I',\n",
       " \"don't\",\n",
       " 'eat',\n",
       " 'out',\n",
       " 'as',\n",
       " 'much,',\n",
       " 'and',\n",
       " 'I',\n",
       " 'have',\n",
       " 'no',\n",
       " 'commuting',\n",
       " 'costs',\n",
       " 'to',\n",
       " 'deal',\n",
       " 'with\\x96',\n",
       " '',\n",
       " 'so',\n",
       " 'I',\n",
       " 'get',\n",
       " 'to',\n",
       " 'keep',\n",
       " 'much',\n",
       " 'more',\n",
       " 'of',\n",
       " 'that',\n",
       " 'money.',\n",
       " '',\n",
       " 'My',\n",
       " 'entire',\n",
       " 'family',\n",
       " 'is',\n",
       " 'happy,',\n",
       " 'and',\n",
       " \"we're\",\n",
       " 'closer',\n",
       " 'than',\n",
       " \"we've\",\n",
       " 'ever',\n",
       " 'been.\\r\\n',\n",
       " 'I',\n",
       " \"don't\",\n",
       " 'worry',\n",
       " 'about',\n",
       " 'money',\n",
       " 'anymore.',\n",
       " 'I',\n",
       " \"don't\",\n",
       " 'worry',\n",
       " 'about',\n",
       " 'my',\n",
       " 'career',\n",
       " 'growth,',\n",
       " 'or',\n",
       " 'about',\n",
       " 'saying',\n",
       " 'the',\n",
       " 'wrong',\n",
       " 'thing',\n",
       " 'to',\n",
       " 'some',\n",
       " 'executive.',\n",
       " 'I',\n",
       " 'have',\n",
       " 'no',\n",
       " 'commute',\n",
       " 'and',\n",
       " 'no',\n",
       " 'meetings.',\n",
       " 'I',\n",
       " \"don't\",\n",
       " 'have',\n",
       " 'to',\n",
       " 'be',\n",
       " 'in',\n",
       " 'the',\n",
       " 'office',\n",
       " 'at',\n",
       " '9',\n",
       " 'AM,',\n",
       " 'nor',\n",
       " 'have',\n",
       " 'any',\n",
       " 'artificial',\n",
       " 'requirement',\n",
       " 'to',\n",
       " 'work',\n",
       " 'a',\n",
       " 'set',\n",
       " 'number',\n",
       " 'of',\n",
       " 'hours',\n",
       " 'each',\n",
       " 'day,',\n",
       " 'or',\n",
       " 'each',\n",
       " 'week.',\n",
       " 'I',\n",
       " \"don't\",\n",
       " 'write',\n",
       " 'or',\n",
       " 'receive',\n",
       " 'performance',\n",
       " 'reviews.',\n",
       " 'I',\n",
       " 'never',\n",
       " 'have',\n",
       " 'to',\n",
       " 'fire',\n",
       " 'anyone.',\n",
       " 'Nobody',\n",
       " 'can',\n",
       " 'fire',\n",
       " 'me,',\n",
       " 'and',\n",
       " 'nobody',\n",
       " 'can',\n",
       " 'lay',\n",
       " 'me',\n",
       " 'off.\\r\\n',\n",
       " 'I',\n",
       " \"don't\",\n",
       " 'take',\n",
       " 'sleep',\n",
       " 'aids',\n",
       " 'any',\n",
       " 'longer,',\n",
       " 'because',\n",
       " 'my',\n",
       " 'stress',\n",
       " 'level',\n",
       " 'is',\n",
       " 'basically',\n",
       " 'zero.',\n",
       " \"I'm\",\n",
       " '43',\n",
       " 'years',\n",
       " 'old,',\n",
       " 'and',\n",
       " \"I'm\",\n",
       " 'pretty',\n",
       " 'sure',\n",
       " 'this',\n",
       " 'is',\n",
       " 'what',\n",
       " 'retirement',\n",
       " 'is',\n",
       " 'supposed',\n",
       " 'to',\n",
       " 'feel',\n",
       " 'like',\n",
       " '\\x96',\n",
       " '',\n",
       " 'except',\n",
       " \"I'm\",\n",
       " 'not',\n",
       " 'too',\n",
       " 'old',\n",
       " 'to',\n",
       " 'enjoy',\n",
       " 'it,',\n",
       " 'and',\n",
       " \"I'm\",\n",
       " 'not',\n",
       " 'broke.\\r\\n',\n",
       " \"I'm\",\n",
       " 'not',\n",
       " 'telling',\n",
       " 'you',\n",
       " 'this',\n",
       " 'to',\n",
       " 'gloat.',\n",
       " \"I'm\",\n",
       " 'telling',\n",
       " 'you',\n",
       " 'this',\n",
       " 'because',\n",
       " 'maybe',\n",
       " \"you're\",\n",
       " 'like',\n",
       " 'I',\n",
       " 'was',\n",
       " 'three',\n",
       " 'years',\n",
       " 'ago.',\n",
       " 'Maybe',\n",
       " 'some',\n",
       " 'part',\n",
       " 'of',\n",
       " 'you',\n",
       " 'knows',\n",
       " 'that',\n",
       " 'your',\n",
       " 'only',\n",
       " 'reward',\n",
       " 'for',\n",
       " 'your',\n",
       " 'hard',\n",
       " 'work',\n",
       " 'is',\n",
       " 'going',\n",
       " 'to',\n",
       " 'be',\n",
       " 'a',\n",
       " 'heart',\n",
       " ...]"
      ]
     },
     "execution_count": 103,
     "metadata": {},
     "output_type": "execute_result"
    }
   ],
   "source": [
    "fl = open(\"Book.txt\")\n",
    "\n",
    "words = []\n",
    "\n",
    "for line in fl:\n",
    "    lineWords = line.split(' ')\n",
    "    for word in lineWords:\n",
    "        words.append(word)\n",
    "\n",
    "words"
   ]
  },
  {
   "cell_type": "code",
   "execution_count": 109,
   "metadata": {
    "collapsed": false
   },
   "outputs": [
    {
     "data": {
      "text/plain": [
       "['Self-Employment:',\n",
       " 'Building',\n",
       " 'an',\n",
       " 'Internet',\n",
       " 'Business',\n",
       " 'of',\n",
       " 'One\\r\\n',\n",
       " 'Achieving',\n",
       " 'Financial',\n",
       " 'and',\n",
       " 'Personal',\n",
       " 'Freedom',\n",
       " 'through',\n",
       " 'a',\n",
       " 'Lifestyle',\n",
       " 'Technology',\n",
       " 'Business\\r\\n',\n",
       " 'By',\n",
       " 'Frank',\n",
       " 'Kane\\r\\n',\n",
       " '\\r\\n',\n",
       " '\\r\\n',\n",
       " '\\r\\n',\n",
       " 'Copyright',\n",
       " '\\xa9',\n",
       " '2015',\n",
       " 'Frank',\n",
       " 'Kane.',\n",
       " '\\r\\n',\n",
       " 'All',\n",
       " 'rights',\n",
       " 'reserved',\n",
       " 'worldwide.\\r\\n',\n",
       " '\\r\\n',\n",
       " '\\r\\n',\n",
       " 'CONTENTS\\r\\n',\n",
       " 'Disclaimer\\r\\n',\n",
       " 'Preface\\r\\n',\n",
       " 'Part',\n",
       " 'I:',\n",
       " 'Making',\n",
       " 'the',\n",
       " 'Big',\n",
       " 'Decision\\r\\n',\n",
       " 'Overcoming',\n",
       " 'Inertia\\r\\n',\n",
       " 'Fear',\n",
       " 'of',\n",
       " 'Failure\\r\\n',\n",
       " 'Career',\n",
       " 'Indoctrination\\r\\n',\n",
       " 'The',\n",
       " 'Carrot',\n",
       " 'on',\n",
       " 'a',\n",
       " 'Stick\\r\\n',\n",
       " 'Ego',\n",
       " 'Protection\\r\\n',\n",
       " 'Your',\n",
       " 'Employer',\n",
       " 'as',\n",
       " 'a',\n",
       " 'Security',\n",
       " 'Blanket\\r\\n',\n",
       " 'Why',\n",
       " 'it\\x92s',\n",
       " 'Worth',\n",
       " 'it\\r\\n',\n",
       " 'Unlimited',\n",
       " 'Growth',\n",
       " 'Potential\\r\\n',\n",
       " 'Investing',\n",
       " 'in',\n",
       " 'Yourself,',\n",
       " 'Not',\n",
       " 'Someone',\n",
       " 'Else\\r\\n',\n",
       " 'No',\n",
       " 'Dependencies\\r\\n',\n",
       " 'No',\n",
       " 'Commute\\r\\n',\n",
       " 'Freedom',\n",
       " 'to',\n",
       " 'Live',\n",
       " 'Where',\n",
       " 'You',\n",
       " 'Want\\r\\n',\n",
       " 'Freedom',\n",
       " 'to',\n",
       " 'Work',\n",
       " 'When',\n",
       " 'You',\n",
       " 'Want\\r\\n',\n",
       " 'Freedom',\n",
       " 'to',\n",
       " 'Work',\n",
       " 'How',\n",
       " 'You',\n",
       " 'Want\\r\\n',\n",
       " 'Is',\n",
       " 'Self-Employment',\n",
       " 'for',\n",
       " 'You?',\n",
       " '\\r\\n',\n",
       " 'Flowchart:',\n",
       " 'Should',\n",
       " 'I',\n",
       " 'Even',\n",
       " 'Consider',\n",
       " 'Self-Employment?',\n",
       " '\\r\\n',\n",
       " 'Having',\n",
       " 'a',\n",
       " 'Financial',\n",
       " 'Safety',\n",
       " 'Net\\r\\n',\n",
       " 'Planning',\n",
       " 'for',\n",
       " 'Health',\n",
       " 'Care\\r\\n',\n",
       " 'Self-Assessment',\n",
       " 'Quiz\\r\\n',\n",
       " 'PART',\n",
       " 'II:',\n",
       " 'Making',\n",
       " 'it',\n",
       " 'Happen\\r\\n',\n",
       " 'Designing',\n",
       " 'a',\n",
       " 'Business',\n",
       " 'for',\n",
       " 'Your',\n",
       " 'Lifestyle\\r\\n',\n",
       " 'The',\n",
       " 'Fallacy',\n",
       " 'of',\n",
       " 'the',\n",
       " 'Growth',\n",
       " 'Business\\r\\n',\n",
       " 'Introducing',\n",
       " 'the',\n",
       " 'Lifestyle',\n",
       " 'Business\\r\\n',\n",
       " 'Planning',\n",
       " 'the',\n",
       " 'Ideal',\n",
       " 'Lifestyle',\n",
       " 'Business\\r\\n',\n",
       " 'Case',\n",
       " 'Study:',\n",
       " 'Sundog',\n",
       " 'Software\\r\\n',\n",
       " 'Other',\n",
       " 'Lifestyle',\n",
       " 'Business',\n",
       " 'Ideas\\r\\n',\n",
       " 'Key',\n",
       " 'Points',\n",
       " 'When',\n",
       " 'Evaluating',\n",
       " 'Your',\n",
       " 'Business',\n",
       " 'Idea\\r\\n',\n",
       " 'Writing',\n",
       " 'Your',\n",
       " 'Business',\n",
       " 'Plan\\r\\n',\n",
       " 'Business',\n",
       " 'Description',\n",
       " 'and',\n",
       " 'Vision\\r\\n',\n",
       " 'Definition',\n",
       " 'of',\n",
       " 'the',\n",
       " 'Market\\r\\n',\n",
       " 'Description',\n",
       " 'of',\n",
       " 'the',\n",
       " 'Product\\r\\n',\n",
       " 'Organization',\n",
       " 'and',\n",
       " 'Management\\r\\n',\n",
       " 'Marketing',\n",
       " 'and',\n",
       " 'Sales',\n",
       " 'Strategy\\r\\n',\n",
       " 'Financial',\n",
       " 'Management\\r\\n',\n",
       " 'Making',\n",
       " 'your',\n",
       " 'Plan',\n",
       " 'a',\n",
       " 'Reality\\r\\n',\n",
       " 'Check',\n",
       " 'your',\n",
       " 'Employment',\n",
       " 'Agreement\\r\\n',\n",
       " 'Developing',\n",
       " 'your',\n",
       " 'Business',\n",
       " 'on',\n",
       " 'the',\n",
       " 'Side\\r\\n',\n",
       " 'Naming',\n",
       " 'your',\n",
       " 'Business\\r\\n',\n",
       " 'Obtaining',\n",
       " 'Licenses',\n",
       " 'and',\n",
       " 'Tax',\n",
       " 'Planning\\r\\n',\n",
       " 'Launching',\n",
       " 'your',\n",
       " 'Product,',\n",
       " 'and',\n",
       " 'Measuring',\n",
       " 'the',\n",
       " 'Results\\r\\n',\n",
       " 'Your',\n",
       " 'Personal',\n",
       " 'Risk',\n",
       " 'Mitigation',\n",
       " 'Plan\\r\\n',\n",
       " 'You',\n",
       " \"Don't\",\n",
       " 'Have',\n",
       " 'to',\n",
       " 'Go',\n",
       " 'It',\n",
       " 'Alone\\r\\n',\n",
       " 'Pulling',\n",
       " 'the',\n",
       " 'Trigger\\r\\n',\n",
       " 'Your',\n",
       " 'Final',\n",
       " 'Checklist\\r\\n',\n",
       " 'Telling',\n",
       " 'your',\n",
       " 'Boss\\r\\n',\n",
       " 'PART',\n",
       " 'III:',\n",
       " 'Making',\n",
       " 'It',\n",
       " 'Last\\r\\n',\n",
       " 'Fueling',\n",
       " 'the',\n",
       " 'Fire\\r\\n',\n",
       " 'Building',\n",
       " 'your',\n",
       " 'Website\\r\\n',\n",
       " 'Basics',\n",
       " 'of',\n",
       " 'Public',\n",
       " 'Relations\\r\\n',\n",
       " 'Basics',\n",
       " 'of',\n",
       " 'Online',\n",
       " 'Advertising\\r\\n',\n",
       " 'Basics',\n",
       " 'of',\n",
       " 'Offline',\n",
       " 'Marketing\\r\\n',\n",
       " 'Basics',\n",
       " 'of',\n",
       " 'Search',\n",
       " 'Engine',\n",
       " 'Optimization\\r\\n',\n",
       " 'Basics',\n",
       " 'of',\n",
       " 'Landing',\n",
       " 'Page',\n",
       " 'Optimization\\r\\n',\n",
       " 'The',\n",
       " 'Importance',\n",
       " 'of',\n",
       " 'Email',\n",
       " 'Campaigns\\r\\n',\n",
       " 'Using',\n",
       " 'Social',\n",
       " 'Networks\\r\\n',\n",
       " 'Measure',\n",
       " 'and',\n",
       " 'Act\\r\\n',\n",
       " 'Interpreting',\n",
       " 'your',\n",
       " 'Metrics\\r\\n',\n",
       " 'Tracking',\n",
       " 'and',\n",
       " 'Closing',\n",
       " 'Sales\\r\\n',\n",
       " 'Avoiding',\n",
       " 'Pitfalls\\r\\n',\n",
       " 'Beware',\n",
       " 'of',\n",
       " 'Leeches\\r\\n',\n",
       " 'Beware',\n",
       " 'of',\n",
       " 'Well-Meaning',\n",
       " 'Advice\\r\\n',\n",
       " 'Beware',\n",
       " 'of',\n",
       " 'Hiring',\n",
       " 'Salespeople\\r\\n',\n",
       " 'Beware',\n",
       " 'of',\n",
       " 'Pressure',\n",
       " 'to',\n",
       " 'Hire\\r\\n',\n",
       " 'Beware',\n",
       " 'of',\n",
       " 'Misleading',\n",
       " 'Statistics\\r\\n',\n",
       " 'Building',\n",
       " 'a',\n",
       " 'Growth',\n",
       " 'Engine\\r\\n',\n",
       " 'Finding',\n",
       " 'the',\n",
       " 'Time\\r\\n',\n",
       " 'Finding',\n",
       " 'the',\n",
       " 'People\\r\\n',\n",
       " 'Finding',\n",
       " 'the',\n",
       " 'Ideas\\r\\n',\n",
       " 'The',\n",
       " 'Compounding',\n",
       " 'Effect\\r\\n',\n",
       " 'Adapting',\n",
       " 'to',\n",
       " 'Your',\n",
       " 'New',\n",
       " 'Life\\r\\n',\n",
       " \"Survivor's\",\n",
       " 'Guilt\\r\\n',\n",
       " 'Letting',\n",
       " 'Go',\n",
       " 'of',\n",
       " 'Fixed',\n",
       " 'Schedules\\r\\n',\n",
       " 'Live',\n",
       " 'a',\n",
       " 'Little\\r\\n',\n",
       " 'Recommended',\n",
       " 'Reading\\r\\n',\n",
       " 'Acknowledgments\\r\\n',\n",
       " 'About',\n",
       " 'the',\n",
       " 'Author\\r\\n',\n",
       " '\\r\\n',\n",
       " '\\r\\n',\n",
       " '\\r\\n',\n",
       " '\\r\\n',\n",
       " 'DISCLAIMER\\r\\n',\n",
       " 'What',\n",
       " 'you',\n",
       " 'do',\n",
       " 'with',\n",
       " 'your',\n",
       " 'career',\n",
       " 'is',\n",
       " 'your',\n",
       " 'own',\n",
       " 'decision.\\r\\n',\n",
       " 'This',\n",
       " 'book',\n",
       " 'tells',\n",
       " 'you',\n",
       " 'how',\n",
       " 'I',\n",
       " 'improved',\n",
       " 'my',\n",
       " 'life',\n",
       " 'by',\n",
       " 'quitting',\n",
       " 'my',\n",
       " 'job,',\n",
       " 'and',\n",
       " 'creating',\n",
       " 'a',\n",
       " 'sustainable',\n",
       " 'and',\n",
       " 'growing',\n",
       " 'income',\n",
       " 'through',\n",
       " 'self-employment.',\n",
       " 'What',\n",
       " 'I',\n",
       " 'learned',\n",
       " 'along',\n",
       " 'the',\n",
       " 'way',\n",
       " 'could',\n",
       " 'help',\n",
       " 'you',\n",
       " 'do',\n",
       " 'the',\n",
       " 'same.\\r\\n',\n",
       " 'But',\n",
       " 'no',\n",
       " 'matter',\n",
       " 'how',\n",
       " 'much',\n",
       " 'advice',\n",
       " 'or',\n",
       " 'how',\n",
       " 'many',\n",
       " 'stories',\n",
       " 'I',\n",
       " 'give',\n",
       " 'you,',\n",
       " 'in',\n",
       " 'the',\n",
       " 'end',\n",
       " 'success',\n",
       " 'relies',\n",
       " 'on',\n",
       " 'your',\n",
       " 'own',\n",
       " 'preparation,',\n",
       " 'planning,',\n",
       " 'skillset,',\n",
       " 'talents,',\n",
       " 'determination,',\n",
       " 'and',\n",
       " 'a',\n",
       " 'little',\n",
       " 'bit',\n",
       " 'of',\n",
       " 'luck.',\n",
       " 'I',\n",
       " \"can't\",\n",
       " 'give',\n",
       " 'all',\n",
       " 'of',\n",
       " 'that',\n",
       " 'to',\n",
       " 'you.\\r\\n',\n",
       " 'If',\n",
       " 'this',\n",
       " 'book',\n",
       " 'gives',\n",
       " 'you',\n",
       " 'the',\n",
       " 'confidence',\n",
       " 'to',\n",
       " 'strike',\n",
       " 'out',\n",
       " 'on',\n",
       " 'your',\n",
       " 'own',\n",
       " '\\x96',\n",
       " 'that\\x92s',\n",
       " 'great.',\n",
       " 'But',\n",
       " 'do',\n",
       " 'it',\n",
       " 'responsibly,',\n",
       " 'and',\n",
       " 'realize',\n",
       " 'that',\n",
       " 'failure',\n",
       " 'is',\n",
       " 'a',\n",
       " 'very',\n",
       " 'real',\n",
       " 'possibility',\n",
       " 'that',\n",
       " 'you',\n",
       " 'must',\n",
       " 'plan',\n",
       " 'for.\\r\\n',\n",
       " \"Don't\",\n",
       " 'blame',\n",
       " 'me',\n",
       " 'for',\n",
       " 'the',\n",
       " 'decisions',\n",
       " 'you',\n",
       " 'make;',\n",
       " 'they',\n",
       " 'are',\n",
       " 'ultimately',\n",
       " 'your',\n",
       " 'own.\\r\\n',\n",
       " 'Now,',\n",
       " 'on',\n",
       " 'with',\n",
       " 'the',\n",
       " 'adventure.\\r\\n',\n",
       " '\\r\\n',\n",
       " '\\r\\n',\n",
       " 'PREFACE\\r\\n',\n",
       " 'Three',\n",
       " 'years',\n",
       " 'ago,',\n",
       " 'I',\n",
       " 'worked',\n",
       " 'for',\n",
       " 'a',\n",
       " 'big',\n",
       " 'company.\\r\\n',\n",
       " 'I',\n",
       " 'did',\n",
       " 'everything',\n",
       " 'a',\n",
       " 'good',\n",
       " 'American',\n",
       " 'employee',\n",
       " 'is',\n",
       " 'supposed',\n",
       " 'to',\n",
       " 'do.',\n",
       " 'I',\n",
       " 'worked',\n",
       " 'hard.',\n",
       " 'I',\n",
       " 'devoted',\n",
       " 'all',\n",
       " 'of',\n",
       " 'my',\n",
       " 'thoughts',\n",
       " 'to',\n",
       " 'making',\n",
       " 'this',\n",
       " 'big',\n",
       " 'company',\n",
       " 'even',\n",
       " 'more',\n",
       " 'successful.',\n",
       " 'I',\n",
       " 'commuted',\n",
       " 'an',\n",
       " 'hour',\n",
       " 'each',\n",
       " 'way,',\n",
       " 'without',\n",
       " 'complaint.',\n",
       " 'I',\n",
       " 'worked',\n",
       " '50',\n",
       " 'hours',\n",
       " 'every',\n",
       " 'week',\n",
       " 'at',\n",
       " 'a',\n",
       " 'minimum.',\n",
       " 'And',\n",
       " 'when',\n",
       " 'I',\n",
       " 'got',\n",
       " 'home,',\n",
       " 'I',\n",
       " 'let',\n",
       " 'them',\n",
       " 'page',\n",
       " 'me',\n",
       " 'at',\n",
       " '2',\n",
       " 'AM',\n",
       " 'if',\n",
       " 'something',\n",
       " 'needed',\n",
       " 'my',\n",
       " 'attention',\n",
       " '\\x96',\n",
       " 'which',\n",
       " 'happened',\n",
       " 'pretty',\n",
       " 'often.\\r\\n',\n",
       " 'Over',\n",
       " 'the',\n",
       " 'years,',\n",
       " 'I',\n",
       " 'was',\n",
       " 'rewarded',\n",
       " 'with',\n",
       " 'more',\n",
       " 'responsibility,',\n",
       " 'and',\n",
       " 'more',\n",
       " 'money',\n",
       " '\\x96',\n",
       " 'although',\n",
       " 'it',\n",
       " 'never',\n",
       " 'seemed',\n",
       " 'to',\n",
       " 'be',\n",
       " 'quite',\n",
       " 'enough.',\n",
       " 'I',\n",
       " 'was',\n",
       " 'considered',\n",
       " 'a',\n",
       " 'role-model',\n",
       " 'software',\n",
       " 'development',\n",
       " 'manager,',\n",
       " 'and',\n",
       " 'I',\n",
       " 'felt',\n",
       " 'successful.',\n",
       " '\\r\\n',\n",
       " 'At',\n",
       " 'home',\n",
       " 'however,',\n",
       " 'my',\n",
       " 'marriage',\n",
       " 'was',\n",
       " 'under',\n",
       " 'stress,',\n",
       " 'my',\n",
       " 'kids',\n",
       " 'hardly',\n",
       " 'knew',\n",
       " 'me,',\n",
       " 'and',\n",
       " 'I',\n",
       " 'was',\n",
       " 'on',\n",
       " 'prescription',\n",
       " 'sleep',\n",
       " 'aids',\n",
       " 'in',\n",
       " 'order',\n",
       " 'to',\n",
       " 'combat',\n",
       " 'the',\n",
       " 'extreme',\n",
       " 'stress',\n",
       " 'I',\n",
       " 'was',\n",
       " 'under.',\n",
       " 'My',\n",
       " 'family',\n",
       " \"wasn't\",\n",
       " 'happy',\n",
       " 'living',\n",
       " 'in',\n",
       " 'the',\n",
       " 'part',\n",
       " 'of',\n",
       " 'the',\n",
       " 'country',\n",
       " 'we',\n",
       " 'lived',\n",
       " 'in,',\n",
       " 'and',\n",
       " 'they',\n",
       " \"weren't\",\n",
       " 'happy',\n",
       " 'with',\n",
       " 'me.',\n",
       " 'But,',\n",
       " 'all',\n",
       " 'that',\n",
       " 'felt',\n",
       " 'secondary',\n",
       " 'to',\n",
       " 'my',\n",
       " 'duty',\n",
       " 'to',\n",
       " 'my',\n",
       " 'employer,',\n",
       " 'and',\n",
       " 'my',\n",
       " 'duty',\n",
       " 'as',\n",
       " 'a',\n",
       " 'provider',\n",
       " 'for',\n",
       " 'my',\n",
       " 'family.',\n",
       " 'I',\n",
       " 'was',\n",
       " 'doing',\n",
       " 'what',\n",
       " 'I',\n",
       " 'thought',\n",
       " 'I',\n",
       " 'had',\n",
       " 'to',\n",
       " 'do.\\r\\n',\n",
       " 'Three',\n",
       " 'years',\n",
       " 'ago,',\n",
       " 'I',\n",
       " 'was',\n",
       " 'faced',\n",
       " 'with',\n",
       " 'an',\n",
       " 'ultimatum',\n",
       " 'from',\n",
       " 'my',\n",
       " 'family',\n",
       " '\\x96',\n",
       " 'it',\n",
       " 'was',\n",
       " 'my',\n",
       " 'job,',\n",
       " 'or',\n",
       " 'them.\\r\\n',\n",
       " 'A',\n",
       " 'few',\n",
       " 'weeks',\n",
       " 'later,',\n",
       " 'I',\n",
       " 'quit',\n",
       " 'my',\n",
       " 'job.',\n",
       " 'I',\n",
       " 'walked',\n",
       " 'away',\n",
       " 'from',\n",
       " 'about',\n",
       " 'a',\n",
       " 'million',\n",
       " 'dollars\\x92',\n",
       " 'worth',\n",
       " 'of',\n",
       " 'stock',\n",
       " 'grants',\n",
       " 'in',\n",
       " 'doing',\n",
       " 'so,',\n",
       " 'and',\n",
       " 'I',\n",
       " \"wasn't\",\n",
       " 'happy',\n",
       " 'about',\n",
       " 'it.',\n",
       " '\\r\\n',\n",
       " 'But,',\n",
       " 'I',\n",
       " 'made',\n",
       " 'the',\n",
       " 'decision',\n",
       " 'to',\n",
       " 'try',\n",
       " 'working',\n",
       " 'for',\n",
       " 'myself',\n",
       " 'before',\n",
       " 'seeking',\n",
       " 'another',\n",
       " 'traditional',\n",
       " 'job.\\r\\n',\n",
       " 'Today,',\n",
       " 'I',\n",
       " 'run',\n",
       " 'my',\n",
       " 'own',\n",
       " 'software',\n",
       " 'company',\n",
       " 'out',\n",
       " 'of',\n",
       " 'my',\n",
       " 'home.',\n",
       " 'I',\n",
       " 'have',\n",
       " 'no',\n",
       " 'employees',\n",
       " 'to',\n",
       " 'worry',\n",
       " 'about,',\n",
       " 'and',\n",
       " 'a',\n",
       " 'revenue',\n",
       " 'stream',\n",
       " 'that',\n",
       " 'matches',\n",
       " 'anything',\n",
       " 'I',\n",
       " 'ever',\n",
       " 'made',\n",
       " 'as',\n",
       " 'a',\n",
       " 'successful',\n",
       " 'senior',\n",
       " 'manager',\n",
       " 'at',\n",
       " 'a',\n",
       " 'big',\n",
       " 'tech',\n",
       " 'company.',\n",
       " 'I',\n",
       " 'now',\n",
       " 'live',\n",
       " 'someplace',\n",
       " 'with',\n",
       " 'a',\n",
       " 'lower',\n",
       " 'cost',\n",
       " 'of',\n",
       " 'living,',\n",
       " 'I',\n",
       " \"don't\",\n",
       " 'eat',\n",
       " 'out',\n",
       " 'as',\n",
       " 'much,',\n",
       " 'and',\n",
       " 'I',\n",
       " 'have',\n",
       " 'no',\n",
       " 'commuting',\n",
       " 'costs',\n",
       " 'to',\n",
       " 'deal',\n",
       " 'with\\x96',\n",
       " '',\n",
       " 'so',\n",
       " 'I',\n",
       " 'get',\n",
       " 'to',\n",
       " 'keep',\n",
       " 'much',\n",
       " 'more',\n",
       " 'of',\n",
       " 'that',\n",
       " 'money.',\n",
       " '',\n",
       " 'My',\n",
       " 'entire',\n",
       " 'family',\n",
       " 'is',\n",
       " 'happy,',\n",
       " 'and',\n",
       " \"we're\",\n",
       " 'closer',\n",
       " 'than',\n",
       " \"we've\",\n",
       " 'ever',\n",
       " 'been.\\r\\n',\n",
       " 'I',\n",
       " \"don't\",\n",
       " 'worry',\n",
       " 'about',\n",
       " 'money',\n",
       " 'anymore.',\n",
       " 'I',\n",
       " \"don't\",\n",
       " 'worry',\n",
       " 'about',\n",
       " 'my',\n",
       " 'career',\n",
       " 'growth,',\n",
       " 'or',\n",
       " 'about',\n",
       " 'saying',\n",
       " 'the',\n",
       " 'wrong',\n",
       " 'thing',\n",
       " 'to',\n",
       " 'some',\n",
       " 'executive.',\n",
       " 'I',\n",
       " 'have',\n",
       " 'no',\n",
       " 'commute',\n",
       " 'and',\n",
       " 'no',\n",
       " 'meetings.',\n",
       " 'I',\n",
       " \"don't\",\n",
       " 'have',\n",
       " 'to',\n",
       " 'be',\n",
       " 'in',\n",
       " 'the',\n",
       " 'office',\n",
       " 'at',\n",
       " '9',\n",
       " 'AM,',\n",
       " 'nor',\n",
       " 'have',\n",
       " 'any',\n",
       " 'artificial',\n",
       " 'requirement',\n",
       " 'to',\n",
       " 'work',\n",
       " 'a',\n",
       " 'set',\n",
       " 'number',\n",
       " 'of',\n",
       " 'hours',\n",
       " 'each',\n",
       " 'day,',\n",
       " 'or',\n",
       " 'each',\n",
       " 'week.',\n",
       " 'I',\n",
       " \"don't\",\n",
       " 'write',\n",
       " 'or',\n",
       " 'receive',\n",
       " 'performance',\n",
       " 'reviews.',\n",
       " 'I',\n",
       " 'never',\n",
       " 'have',\n",
       " 'to',\n",
       " 'fire',\n",
       " 'anyone.',\n",
       " 'Nobody',\n",
       " 'can',\n",
       " 'fire',\n",
       " 'me,',\n",
       " 'and',\n",
       " 'nobody',\n",
       " 'can',\n",
       " 'lay',\n",
       " 'me',\n",
       " 'off.\\r\\n',\n",
       " 'I',\n",
       " \"don't\",\n",
       " 'take',\n",
       " 'sleep',\n",
       " 'aids',\n",
       " 'any',\n",
       " 'longer,',\n",
       " 'because',\n",
       " 'my',\n",
       " 'stress',\n",
       " 'level',\n",
       " 'is',\n",
       " 'basically',\n",
       " 'zero.',\n",
       " \"I'm\",\n",
       " '43',\n",
       " 'years',\n",
       " 'old,',\n",
       " 'and',\n",
       " \"I'm\",\n",
       " 'pretty',\n",
       " 'sure',\n",
       " 'this',\n",
       " 'is',\n",
       " 'what',\n",
       " 'retirement',\n",
       " 'is',\n",
       " 'supposed',\n",
       " 'to',\n",
       " 'feel',\n",
       " 'like',\n",
       " '\\x96',\n",
       " '',\n",
       " 'except',\n",
       " \"I'm\",\n",
       " 'not',\n",
       " 'too',\n",
       " 'old',\n",
       " 'to',\n",
       " 'enjoy',\n",
       " 'it,',\n",
       " 'and',\n",
       " \"I'm\",\n",
       " 'not',\n",
       " 'broke.\\r\\n',\n",
       " \"I'm\",\n",
       " 'not',\n",
       " 'telling',\n",
       " 'you',\n",
       " 'this',\n",
       " 'to',\n",
       " 'gloat.',\n",
       " \"I'm\",\n",
       " 'telling',\n",
       " 'you',\n",
       " 'this',\n",
       " 'because',\n",
       " 'maybe',\n",
       " \"you're\",\n",
       " 'like',\n",
       " 'I',\n",
       " 'was',\n",
       " 'three',\n",
       " 'years',\n",
       " 'ago.',\n",
       " 'Maybe',\n",
       " 'some',\n",
       " 'part',\n",
       " 'of',\n",
       " 'you',\n",
       " 'knows',\n",
       " 'that',\n",
       " 'your',\n",
       " 'only',\n",
       " 'reward',\n",
       " 'for',\n",
       " 'your',\n",
       " 'hard',\n",
       " 'work',\n",
       " 'is',\n",
       " 'going',\n",
       " 'to',\n",
       " 'be',\n",
       " 'a',\n",
       " 'heart',\n",
       " ...]"
      ]
     },
     "execution_count": 109,
     "metadata": {},
     "output_type": "execute_result"
    }
   ],
   "source": [
    "import re\n",
    "\n",
    "f1 = open(\"Book.txt\")\n",
    "\n",
    "for line in f1:\n",
    "    splitExpr = \"\\b[^\\s\\r\\n]+\\b\"\n",
    "    lineWords = re.split(splitExpr,line)\n",
    "    for word in lineWords:\n",
    "        words.append(word)\n",
    "\n",
    "words    \n",
    "    "
   ]
  },
  {
   "cell_type": "code",
   "execution_count": 35,
   "metadata": {
    "collapsed": false
   },
   "outputs": [
    {
     "name": "stdout",
     "output_type": "stream",
     "text": [
      "helleh\n",
      "True\n",
      "lufarP\n",
      "False\n"
     ]
    }
   ],
   "source": [
    "str1 = \"helleh\"\n",
    "str2 = \"Praful\"\n",
    "\n",
    "def isPelindrome(str):\n",
    "    strRev = str[::-1]\n",
    "    print strRev\n",
    "    if strRev == str:\n",
    "        return True\n",
    "    else:\n",
    "        return False\n",
    "\n",
    "print isPelindrome(str1)\n",
    "print isPelindrome(str2)"
   ]
  },
  {
   "cell_type": "code",
   "execution_count": 46,
   "metadata": {
    "collapsed": false
   },
   "outputs": [
    {
     "name": "stdout",
     "output_type": "stream",
     "text": [
      "helleh\n",
      "lufarP\n",
      "helleh\n",
      "True\n",
      "lufarP\n",
      "False\n"
     ]
    }
   ],
   "source": [
    "str1 = \"helleh\"\n",
    "str2 = \"Praful\"\n",
    "\n",
    "print str1\n",
    "print ''.join(reversed(str2))\n",
    "\n",
    "def isPelindrome(str):\n",
    "    strRev = ''.join(reversed(str))\n",
    "    print strRev\n",
    "    if strRev == str:\n",
    "        return True\n",
    "    else:\n",
    "        return False\n",
    "\n",
    "print isPelindrome(str1)\n",
    "print isPelindrome(str2)\n"
   ]
  },
  {
   "cell_type": "code",
   "execution_count": 136,
   "metadata": {
    "collapsed": false
   },
   "outputs": [
    {
     "name": "stdout",
     "output_type": "stream",
     "text": [
      "[' ', 'a', 'b', 'c', 'd', 'e', 'f', 'g', 'h', 'i', 'j', 'k', 'l', 'm', 'n', 'o', 'p', 'q', 'r', 's', 't', 'u', 'v', 'w', 'x', 'y', 'z']\n",
      "True\n"
     ]
    }
   ],
   "source": [
    "import string \n",
    "\n",
    "def isPangram(str):\n",
    "    alphabate = list(string.ascii_lowercase)\n",
    "    strList = list(set([l.lower() for l in str]))\n",
    "    strList.sort()\n",
    "    isPanGram = True\n",
    "    for letter in alphabate:\n",
    "        try:\n",
    "            if strList.index(letter) >= 0: continue\n",
    "        except ValueError:            \n",
    "            isPanGram = False\n",
    "            break\n",
    "    print strList\n",
    "    return isPanGram\n",
    "\n",
    "str = \"quick brown fox jumps over the lazy dog\"\n",
    "\n",
    "print isPangram(str)\n"
   ]
  },
  {
   "cell_type": "code",
   "execution_count": 138,
   "metadata": {
    "collapsed": false
   },
   "outputs": [
    {
     "name": "stdout",
     "output_type": "stream",
     "text": [
      "<type 'function'>\n",
      "<type 'str'>\n",
      "<type 'int'>\n"
     ]
    }
   ],
   "source": [
    "print type(isPangram)\n",
    "print type(str)\n",
    "number1 = 10\n",
    "print type(number1)"
   ]
  },
  {
   "cell_type": "code",
   "execution_count": 149,
   "metadata": {
    "collapsed": false
   },
   "outputs": [
    {
     "name": "stdout",
     "output_type": "stream",
     "text": [
      "True\n"
     ]
    }
   ],
   "source": [
    "class Dog(object):\n",
    "    mammel = True\n",
    "    def __init__(self,breed,name,fur=True):\n",
    "        self.breed = breed\n",
    "        self.fur = fur\n",
    "        self.name = name\n",
    "        \n",
    "sam = Dog(breed='puppy',name='Sammy')\n",
    "\n",
    "print sam.mammel"
   ]
  },
  {
   "cell_type": "code",
   "execution_count": 47,
   "metadata": {
    "collapsed": false
   },
   "outputs": [
    {
     "name": "stdout",
     "output_type": "stream",
     "text": [
      "314.0\n",
      "1256.0\n",
      "62.8\n",
      "125.6\n",
      "706.5\n",
      "15\n",
      "20\n"
     ]
    }
   ],
   "source": [
    "class Circle(object):\n",
    "    PI = 3.14\n",
    "    def __init__(self,radius):\n",
    "        self.radius = radius\n",
    "    def area(self):\n",
    "        return Circle.PI*self.radius**2\n",
    "    def circumferance(self):\n",
    "        return 2*Circle.PI*self.radius\n",
    "    def set_radius(self,radius):\n",
    "        self.radius = radius\n",
    "    def get_radius(self):\n",
    "        return self.radius\n",
    "\n",
    "c1 = Circle(radius=10)\n",
    "c2 = Circle(radius=20)\n",
    "\n",
    "print c1.area()\n",
    "print c2.area()\n",
    "print c1.circumferance()\n",
    "print c2.circumferance()\n",
    "c1.set_radius(15)\n",
    "print c1.area()\n",
    "print c1.radius\n",
    "print c2.radius"
   ]
  },
  {
   "cell_type": "code",
   "execution_count": 155,
   "metadata": {
    "collapsed": true
   },
   "outputs": [],
   "source": [
    "GLOBAL_VARIABLES_IN_ALL_CAPS = \"test\""
   ]
  },
  {
   "cell_type": "code",
   "execution_count": 157,
   "metadata": {
    "collapsed": false
   },
   "outputs": [
    {
     "name": "stdout",
     "output_type": "stream",
     "text": [
      "5\n",
      "4\n",
      "3\n",
      "2\n",
      "1\n"
     ]
    }
   ],
   "source": [
    "l = [1,2,3,4,5]\n",
    "\n",
    "for l1 in reversed(l):\n",
    "    print l1"
   ]
  },
  {
   "cell_type": "code",
   "execution_count": 158,
   "metadata": {
    "collapsed": false
   },
   "outputs": [
    {
     "name": "stdout",
     "output_type": "stream",
     "text": [
      "0 1\n",
      "1 2\n",
      "2 3\n",
      "3 4\n",
      "4 5\n"
     ]
    }
   ],
   "source": [
    "for i,item in enumerate(l):\n",
    "    print i,item"
   ]
  },
  {
   "cell_type": "code",
   "execution_count": 161,
   "metadata": {
    "collapsed": false
   },
   "outputs": [
    {
     "name": "stdout",
     "output_type": "stream",
     "text": [
      "1\n",
      "2\n",
      "2\n",
      "3\n",
      "5\n",
      "7\n",
      "150\n",
      "200\n",
      "200\n",
      "150\n",
      "7\n",
      "5\n",
      "3\n",
      "2\n",
      "2\n",
      "1\n"
     ]
    }
   ],
   "source": [
    "l = [1,2,5,3,2,7,200,150]\n",
    "\n",
    "for l1 in sorted(l):\n",
    "    print l1\n",
    "    \n",
    "for l1 in sorted(l,reverse=True):\n",
    "    print l1"
   ]
  },
  {
   "cell_type": "code",
   "execution_count": 166,
   "metadata": {
    "collapsed": false
   },
   "outputs": [
    {
     "name": "stdout",
     "output_type": "stream",
     "text": [
      "Animal Created\n",
      "Dog Created\n",
      "I am Dog\n",
      "eating\n",
      "Woof\n"
     ]
    }
   ],
   "source": [
    "class Animal(object):\n",
    "    def __init__(self):\n",
    "        print \"Animal Created\"\n",
    "    def whoAmI(self):\n",
    "            print \"I am an Animal\"\n",
    "    def eat(self):\n",
    "        print \"eating\"\n",
    "        \n",
    "class Dog(Animal):\n",
    "    def __init__(self):\n",
    "        Animal.__init__(self)\n",
    "        print \"Dog Created\"\n",
    "    def whoAmI(self):\n",
    "        print \"I am Dog\"\n",
    "    def bark(self):\n",
    "        print \"Woof\"\n",
    "        \n",
    "d = Dog()\n",
    "d.whoAmI()\n",
    "d.eat()\n",
    "d.bark()\n",
    "\n",
    "\n",
    "    \n",
    "        \n",
    "        "
   ]
  },
  {
   "cell_type": "markdown",
   "metadata": {},
   "source": [
    "Special Methods ...cant invoke directly...python invokes based on special syntext such as len(object) print(obj)"
   ]
  },
  {
   "cell_type": "code",
   "execution_count": 173,
   "metadata": {
    "collapsed": false
   },
   "outputs": [
    {
     "name": "stdout",
     "output_type": "stream",
     "text": [
      "Book deleted\n",
      "name:Book1 author:Author1 pages:100\n",
      "Book Length:  100\n"
     ]
    }
   ],
   "source": [
    "class Book(object):\n",
    "\n",
    "    def __init__(self,name,author,pages):\n",
    "        self.name = name\n",
    "        self.author = author\n",
    "        self.pages = pages\n",
    "        \n",
    "    def __len__(self):\n",
    "        return self.pages\n",
    "            \n",
    "    def __str__(self):\n",
    "        return \"name:%s author:%s pages:%s\" %(self.name,self.author,self.pages)\n",
    "    \n",
    "    def __del__(self):\n",
    "        print \"Book deleted\"\n",
    "        \n",
    "        \n",
    "b1 = Book(name=\"Book1\",author=\"Author1\", pages=100)\n",
    "print b1\n",
    "print \"Book Length: \", len(b1)"
   ]
  },
  {
   "cell_type": "markdown",
   "metadata": {},
   "source": [
    "Exception handling"
   ]
  },
  {
   "cell_type": "code",
   "execution_count": 174,
   "metadata": {
    "collapsed": false
   },
   "outputs": [
    {
     "name": "stdout",
     "output_type": "stream",
     "text": [
      "some error occured\n",
      "finally block\n"
     ]
    }
   ],
   "source": [
    "try:\n",
    "    2 + 's'\n",
    "except:\n",
    "    print 'some error occured'\n",
    "else:\n",
    "    print 'No exception occured'\n",
    "finally:\n",
    "    print 'finally block'\n",
    "    "
   ]
  },
  {
   "cell_type": "code",
   "execution_count": 175,
   "metadata": {
    "collapsed": false
   },
   "outputs": [
    {
     "name": "stdout",
     "output_type": "stream",
     "text": [
      "No exception occured\n",
      "finally block\n"
     ]
    }
   ],
   "source": [
    "try:\n",
    "    2 + 2\n",
    "except:\n",
    "    print 'some error occured'\n",
    "else:\n",
    "    print 'No exception occured'\n",
    "finally:\n",
    "    print 'finally block'\n"
   ]
  },
  {
   "cell_type": "code",
   "execution_count": 176,
   "metadata": {
    "collapsed": false
   },
   "outputs": [
    {
     "name": "stdout",
     "output_type": "stream",
     "text": [
      "Book deleted\n"
     ]
    },
    {
     "ename": "TypeError",
     "evalue": "unsupported operand type(s) for +: 'int' and 'str'",
     "output_type": "error",
     "traceback": [
      "\u001b[0;31m---------------------------------------------------------------------------\u001b[0m",
      "\u001b[0;31mTypeError\u001b[0m                                 Traceback (most recent call last)",
      "\u001b[0;32m<ipython-input-176-842879d18793>\u001b[0m in \u001b[0;36m<module>\u001b[0;34m()\u001b[0m\n\u001b[0;32m----> 1\u001b[0;31m \u001b[0;36m2\u001b[0m \u001b[0;34m+\u001b[0m \u001b[0;34m's'\u001b[0m\u001b[0;34m\u001b[0m\u001b[0m\n\u001b[0m",
      "\u001b[0;31mTypeError\u001b[0m: unsupported operand type(s) for +: 'int' and 'str'"
     ]
    }
   ],
   "source": [
    "2 + 's'"
   ]
  },
  {
   "cell_type": "code",
   "execution_count": 71,
   "metadata": {
    "collapsed": false
   },
   "outputs": [
    {
     "name": "stdout",
     "output_type": "stream",
     "text": [
      "Please enter Integer: 1\n",
      "You entered : 1\n",
      "Finally ..\n"
     ]
    }
   ],
   "source": [
    "def askInt():\n",
    "    while True:\n",
    "        try:\n",
    "            val = int(raw_input(\"Please enter Integer: \"))\n",
    "        except:\n",
    "            print 'Looks like you didnt enter integer.'\n",
    "#            val = int(raw_input(\"Try Again. Please enter Integer: \"))\n",
    "        else:\n",
    "            print 'You entered : %d' %(val)\n",
    "            break\n",
    "        finally:\n",
    "            print 'Finally ..'\n",
    "\n",
    "askInt()"
   ]
  },
  {
   "cell_type": "code",
   "execution_count": 74,
   "metadata": {
    "collapsed": true
   },
   "outputs": [],
   "source": [
    "#todo\n",
    "# list of common exceptions "
   ]
  },
  {
   "cell_type": "code",
   "execution_count": 73,
   "metadata": {
    "collapsed": true
   },
   "outputs": [],
   "source": [
    "#todo\n",
    "# Getting access to Exception message involves defining your own exception class"
   ]
  },
  {
   "cell_type": "code",
   "execution_count": null,
   "metadata": {
    "collapsed": true
   },
   "outputs": [],
   "source": [
    "#todo\n",
    "# defining custom exception class and handling"
   ]
  },
  {
   "cell_type": "code",
   "execution_count": null,
   "metadata": {
    "collapsed": true
   },
   "outputs": [],
   "source": [
    "#todo\n",
    "# loggin in python"
   ]
  },
  {
   "cell_type": "code",
   "execution_count": null,
   "metadata": {
    "collapsed": true
   },
   "outputs": [],
   "source": []
  },
  {
   "cell_type": "code",
   "execution_count": 2,
   "metadata": {
    "collapsed": false
   },
   "outputs": [
    {
     "name": "stdout",
     "output_type": "stream",
     "text": [
      "2.0\n"
     ]
    }
   ],
   "source": [
    "import math\n",
    "\n",
    "print math.sqrt(4)\n",
    "\n"
   ]
  },
  {
   "cell_type": "code",
   "execution_count": 3,
   "metadata": {
    "collapsed": false
   },
   "outputs": [
    {
     "name": "stdout",
     "output_type": "stream",
     "text": [
      "2.0\n"
     ]
    }
   ],
   "source": [
    "from math import sqrt\n",
    "\n",
    "print sqrt(4)"
   ]
  },
  {
   "cell_type": "markdown",
   "metadata": {},
   "source": [
    "Python multiple assignments"
   ]
  },
  {
   "cell_type": "code",
   "execution_count": 4,
   "metadata": {
    "collapsed": false
   },
   "outputs": [
    {
     "name": "stdout",
     "output_type": "stream",
     "text": [
      "1 2 3\n"
     ]
    }
   ],
   "source": [
    "a,b,c = 1,2,3\n",
    "print a, b, c"
   ]
  },
  {
   "cell_type": "code",
   "execution_count": 5,
   "metadata": {
    "collapsed": true
   },
   "outputs": [],
   "source": [
    "import sys\n",
    "sys.path.append('/Users/kavap/Documents/learn/spark/SparkCourse')"
   ]
  },
  {
   "cell_type": "code",
   "execution_count": 6,
   "metadata": {
    "collapsed": false
   },
   "outputs": [
    {
     "name": "stdout",
     "output_type": "stream",
     "text": [
      "['', '/Users/kavap/anaconda/lib/python27.zip', '/Users/kavap/anaconda/lib/python2.7', '/Users/kavap/anaconda/lib/python2.7/plat-darwin', '/Users/kavap/anaconda/lib/python2.7/plat-mac', '/Users/kavap/anaconda/lib/python2.7/plat-mac/lib-scriptpackages', '/Users/kavap/anaconda/lib/python2.7/lib-tk', '/Users/kavap/anaconda/lib/python2.7/lib-old', '/Users/kavap/anaconda/lib/python2.7/lib-dynload', '/Users/kavap/anaconda/lib/python2.7/site-packages', '/Users/kavap/anaconda/lib/python2.7/site-packages/Sphinx-1.4.6-py2.7.egg', '/Users/kavap/anaconda/lib/python2.7/site-packages/aeosa', '/Users/kavap/anaconda/lib/python2.7/site-packages/setuptools-27.2.0-py2.7.egg', '/Users/kavap/anaconda/lib/python2.7/site-packages/IPython/extensions', '/Users/kavap/.ipython', '/Users/kavap/Documents/learn/spark/SparkCourse']\n"
     ]
    }
   ],
   "source": [
    "print sys.path"
   ]
  },
  {
   "cell_type": "code",
   "execution_count": 12,
   "metadata": {
    "collapsed": false
   },
   "outputs": [
    {
     "name": "stdout",
     "output_type": "stream",
     "text": [
      " /Users/kavap/anaconda/lib/python2.7/site-packages/ipykernel/__main__.py -f /Users/kavap/Library/Jupyter/runtime/kernel-e8b65350-a220-458b-b05c-1919ffe5cde5.json\n"
     ]
    }
   ],
   "source": [
    "print sys.argv[0],sys.argv[1],sys.argv[2]"
   ]
  },
  {
   "cell_type": "code",
   "execution_count": 13,
   "metadata": {
    "collapsed": false
   },
   "outputs": [
    {
     "data": {
      "text/plain": [
       "'__main__'"
      ]
     },
     "execution_count": 13,
     "metadata": {},
     "output_type": "execute_result"
    }
   ],
   "source": [
    "__name__"
   ]
  },
  {
   "cell_type": "code",
   "execution_count": null,
   "metadata": {
    "collapsed": false
   },
   "outputs": [],
   "source": [
    "print sys.__name__"
   ]
  },
  {
   "cell_type": "code",
   "execution_count": null,
   "metadata": {
    "collapsed": false
   },
   "outputs": [],
   "source": [
    "from math import sqrt\n",
    "\n",
    "math.__name__\n",
    "\n",
    "import math\n",
    "\n",
    "print math.sqrt(4)  # If from x import y not used, have to say x.y else can say y"
   ]
  },
  {
   "cell_type": "markdown",
   "metadata": {
    "collapsed": false
   },
   "source": [
    "Creating Modules and Packages :\n",
    " Create folder and put .py module files. The folder should have __init__.py empty file \n",
    " Put folder in python's path\n",
    " For import a.b.c to work, folder a contains folder b contains folder c and each contains __init_.py file\n"
   ]
  },
  {
   "cell_type": "code",
   "execution_count": 20,
   "metadata": {
    "collapsed": false
   },
   "outputs": [
    {
     "ename": "ImportError",
     "evalue": "No module named testpackage",
     "output_type": "error",
     "traceback": [
      "\u001b[0;31m---------------------------------------------------------------------------\u001b[0m",
      "\u001b[0;31mImportError\u001b[0m                               Traceback (most recent call last)",
      "\u001b[0;32m<ipython-input-20-9ca453c7b914>\u001b[0m in \u001b[0;36m<module>\u001b[0;34m()\u001b[0m\n\u001b[0;32m----> 1\u001b[0;31m \u001b[0;32mfrom\u001b[0m \u001b[0mtestpackage\u001b[0m \u001b[0;32mimport\u001b[0m \u001b[0mmodule1\u001b[0m\u001b[0;34m\u001b[0m\u001b[0m\n\u001b[0m",
      "\u001b[0;31mImportError\u001b[0m: No module named testpackage"
     ]
    }
   ],
   "source": [
    "from testpackage import module1"
   ]
  },
  {
   "cell_type": "code",
   "execution_count": 21,
   "metadata": {
    "collapsed": false
   },
   "outputs": [
    {
     "name": "stdout",
     "output_type": "stream",
     "text": [
      "[12, 15, 18]\n"
     ]
    }
   ],
   "source": [
    "a = [1,2,3]\n",
    "b = [4,5,6]\n",
    "c = [7,8,9]\n",
    "\n",
    "d = map(lambda x,y,z : x+y+z,a,b,c)\n",
    "\n",
    "print d"
   ]
  },
  {
   "cell_type": "code",
   "execution_count": 22,
   "metadata": {
    "collapsed": false
   },
   "outputs": [
    {
     "name": "stdout",
     "output_type": "stream",
     "text": [
      "45\n"
     ]
    }
   ],
   "source": [
    "l = [2,3,1,10,4,11,22,32,22,45,1,2]\n",
    "\n",
    "print reduce(lambda x,y : x if x>y else y,l)"
   ]
  },
  {
   "cell_type": "code",
   "execution_count": 23,
   "metadata": {
    "collapsed": false
   },
   "outputs": [
    {
     "name": "stdout",
     "output_type": "stream",
     "text": [
      "[2, 10, 4, 22, 32, 22, 2]\n"
     ]
    }
   ],
   "source": [
    "l = [2,3,1,10,4,11,22,32,22,45,1,2]\n",
    "\n",
    "print filter(lambda x : x%2 == 0,l)"
   ]
  },
  {
   "cell_type": "code",
   "execution_count": 24,
   "metadata": {
    "collapsed": false
   },
   "outputs": [
    {
     "name": "stdout",
     "output_type": "stream",
     "text": [
      "[2, 10, 4, 22, 32, 22, 2]\n"
     ]
    }
   ],
   "source": [
    "def even(x):\n",
    "    if x%2 == 0:\n",
    "        return True\n",
    "    else:\n",
    "        return False\n",
    "\n",
    "print filter(even,l)"
   ]
  },
  {
   "cell_type": "code",
   "execution_count": 27,
   "metadata": {
    "collapsed": false
   },
   "outputs": [
    {
     "name": "stdout",
     "output_type": "stream",
     "text": [
      "[(1, 'a'), (2, 'b'), (3, 'c')]\n"
     ]
    }
   ],
   "source": [
    "a = [1,2,3]\n",
    "b = ['a','b','c']\n",
    "\n",
    "print zip(a,b)"
   ]
  },
  {
   "cell_type": "code",
   "execution_count": 33,
   "metadata": {
    "collapsed": false
   },
   "outputs": [
    {
     "name": "stdout",
     "output_type": "stream",
     "text": [
      "[2, 5, 11]\n"
     ]
    }
   ],
   "source": [
    "a = [1,5,9]\n",
    "b = [2,3,11]\n",
    "\n",
    "          \n",
    "print map(lambda pair: max(pair), zip(a,b))          "
   ]
  },
  {
   "cell_type": "markdown",
   "metadata": {},
   "source": [
    "### Zip uses smallest list as base"
   ]
  },
  {
   "cell_type": "code",
   "execution_count": 32,
   "metadata": {
    "collapsed": false
   },
   "outputs": [
    {
     "name": "stdout",
     "output_type": "stream",
     "text": [
      "[(1, 4), (2, 5), (3, 6)]\n"
     ]
    }
   ],
   "source": [
    "a = [1,2,3]\n",
    "b = [4,5,6,7,8]\n",
    "\n",
    "print zip(a,b)"
   ]
  },
  {
   "cell_type": "code",
   "execution_count": 35,
   "metadata": {
    "collapsed": false
   },
   "outputs": [
    {
     "name": "stdout",
     "output_type": "stream",
     "text": [
      "[('k2', 'k3'), ('k1', 'k4')]\n",
      "[('k2', 'v3'), ('k1', 'v4')]\n"
     ]
    }
   ],
   "source": [
    "d1 = {'k1':'v1', 'k2':'v2'}\n",
    "d2 = {'k3':'v3', 'k4':'v4'}\n",
    "\n",
    "print zip(d1,d2)\n",
    "\n",
    "print zip(d1,d2.itervalues())"
   ]
  },
  {
   "cell_type": "code",
   "execution_count": 37,
   "metadata": {
    "collapsed": false
   },
   "outputs": [
    {
     "name": "stdout",
     "output_type": "stream",
     "text": [
      "0 a\n",
      "1 b\n",
      "2 c\n",
      "3 d\n",
      "4 e\n",
      "a\n",
      "b\n",
      "c\n",
      "reached 3\n"
     ]
    }
   ],
   "source": [
    "l = ['a','b','c','d','e']\n",
    "for i,item in enumerate(l):\n",
    "    print i, item\n",
    "    \n",
    "for i,item in enumerate(l):\n",
    "    if i < 3:\n",
    "        print item\n",
    "    else :\n",
    "        print 'reached 3'\n",
    "        break"
   ]
  },
  {
   "cell_type": "code",
   "execution_count": 38,
   "metadata": {
    "collapsed": false
   },
   "outputs": [
    {
     "name": "stdout",
     "output_type": "stream",
     "text": [
      "False\n",
      "True\n",
      "True\n",
      "True\n"
     ]
    }
   ],
   "source": [
    "l = [True,False,False]\n",
    "l1 = [True,True,True]\n",
    "\n",
    "print all(l)\n",
    "print any(l)\n",
    "print all(l1)\n",
    "print any(l1)"
   ]
  },
  {
   "cell_type": "code",
   "execution_count": 39,
   "metadata": {
    "collapsed": false
   },
   "outputs": [
    {
     "name": "stdout",
     "output_type": "stream",
     "text": [
      "[3, 4, 3, 3, 5, 2, 4, 6]\n"
     ]
    }
   ],
   "source": [
    "str = \"How long are the words in this phrase\"\n",
    "\n",
    "print map(lambda x: len(x),str.split(\" \"))"
   ]
  },
  {
   "cell_type": "code",
   "execution_count": 47,
   "metadata": {
    "collapsed": false
   },
   "outputs": [
    {
     "name": "stdout",
     "output_type": "stream",
     "text": [
      "34321\n"
     ]
    }
   ],
   "source": [
    "l = [3,4,3,2,1]\n",
    "\n",
    "print reduce(lambda x,y:x*10+y,l)\n"
   ]
  },
  {
   "cell_type": "code",
   "execution_count": 49,
   "metadata": {
    "collapsed": false
   },
   "outputs": [
    {
     "name": "stdout",
     "output_type": "stream",
     "text": [
      "['hello', 'hi', 'ham']\n"
     ]
    }
   ],
   "source": [
    "l = ['hello','are','cat','hi','dog','ham']\n",
    "\n",
    "def filter_x(target,l):\n",
    "    return filter(lambda x: x[0] == target ,l)\n",
    "\n",
    "print filter_x('h',l)"
   ]
  },
  {
   "cell_type": "code",
   "execution_count": 50,
   "metadata": {
    "collapsed": false
   },
   "outputs": [
    {
     "name": "stdout",
     "output_type": "stream",
     "text": [
      "['a-x', 'b-y', 'c-z']\n"
     ]
    }
   ],
   "source": [
    "l1 = ['a','b','c']\n",
    "l2 = ['x','y','z']\n",
    "connector = '-'\n",
    "\n",
    "def connectConcat(l1,l2,connector):\n",
    "    return [pair[0] + connector + pair[1] for pair in zip(l1,l2)]\n",
    "\n",
    "print connectConcat(l1,l2,connector)"
   ]
  },
  {
   "cell_type": "code",
   "execution_count": 64,
   "metadata": {
    "collapsed": false
   },
   "outputs": [
    {
     "name": "stdout",
     "output_type": "stream",
     "text": [
      "{'a': 0, 'c': 2, 'b': 1}\n"
     ]
    }
   ],
   "source": [
    "l = ['a','b','c']\n",
    "\n",
    "def listToDict(l):\n",
    "    return {key:val for val,key in enumerate(l)}\n",
    "\n",
    "print listToDict(l)"
   ]
  },
  {
   "cell_type": "code",
   "execution_count": 52,
   "metadata": {
    "collapsed": false
   },
   "outputs": [
    {
     "name": "stdout",
     "output_type": "stream",
     "text": [
      "[{'a': 0}, {'b': 1}, {'c': 2}]\n"
     ]
    }
   ],
   "source": [
    "print dict1"
   ]
  },
  {
   "cell_type": "code",
   "execution_count": 58,
   "metadata": {
    "collapsed": false
   },
   "outputs": [
    {
     "name": "stdout",
     "output_type": "stream",
     "text": [
      "[0, 2, 5, 6]\n"
     ]
    }
   ],
   "source": [
    "l = [0,2,2,1,5,5,6,10]\n",
    "\n",
    "print [item for i,item in enumerate(l) if i==item ]"
   ]
  },
  {
   "cell_type": "markdown",
   "metadata": {
    "collapsed": true
   },
   "source": [
    "Variables scopr\n",
    "Note how globals() and locals() can be used to debug which scope variables are referenced\n",
    "Note the outputs of locals() and globals() are dictionaries\n",
    "Also Note and remember some common global variables available"
   ]
  },
  {
   "cell_type": "code",
   "execution_count": 5,
   "metadata": {
    "collapsed": false
   },
   "outputs": [
    {
     "name": "stdout",
     "output_type": "stream",
     "text": [
      "{}\n",
      "[]\n",
      "{'_dh': [u'/Users/kavap/Documents/learn/python/jupyter notebooks'], '__': '', 'fun1': <function fun1 at 0x1052d4488>, '__builtin__': <module '__builtin__' (built-in)>, '_i2': u's = \"Global String\"\\n\\nprint s\\n\\ndef fun1():\\n    print locals()\\n    print locals().keys()\\n    print globals()\\n    print globals().keys()', 'quit': <IPython.core.autocall.ZMQExitAutocall object at 0x1041cfc10>, '_i5': u's = \"Global String\"\\n\\n\\ndef fun1():\\n    print locals()\\n    print locals().keys()\\n    print globals()\\n    print globals().keys()\\n    print globals()[\\'s\\']\\n    \\nfun1()    ', '_i4': u's = \"Global String\"\\n\\n\\ndef fun1():\\n    print locals()\\n    print locals().keys()\\n    print globals()\\n    print globals().keys()\\n    print globals()[\\'s\\']', '_i3': u's = \"Global String\"\\n\\nprint s\\n\\ndef fun1():\\n    print locals()\\n    print locals().keys()\\n    print globals()\\n    print globals().keys()\\n    print globals()[\\'s\\']', '_iii': u's = \"Global String\"\\n\\nprint s\\n\\ndef fun1():\\n    print locals()\\n    print locals().keys()\\n    print globals()\\n    print globals().keys()', '_i1': u's = \"Global String\"\\n\\nprint s\\n\\ndef fun1():\\n    print locals()\\n    print globals()', 'exit': <IPython.core.autocall.ZMQExitAutocall object at 0x1041cfc10>, 'get_ipython': <bound method ZMQInteractiveShell.get_ipython of <ipykernel.zmqshell.ZMQInteractiveShell object at 0x104192210>>, '_i': u's = \"Global String\"\\n\\n\\ndef fun1():\\n    print locals()\\n    print locals().keys()\\n    print globals()\\n    print globals().keys()\\n    print globals()[\\'s\\']', '__doc__': 'Automatically created module for IPython interactive environment', '__builtins__': <module '__builtin__' (built-in)>, '_ih': ['', u's = \"Global String\"\\n\\nprint s\\n\\ndef fun1():\\n    print locals()\\n    print globals()', u's = \"Global String\"\\n\\nprint s\\n\\ndef fun1():\\n    print locals()\\n    print locals().keys()\\n    print globals()\\n    print globals().keys()', u's = \"Global String\"\\n\\nprint s\\n\\ndef fun1():\\n    print locals()\\n    print locals().keys()\\n    print globals()\\n    print globals().keys()\\n    print globals()[\\'s\\']', u's = \"Global String\"\\n\\n\\ndef fun1():\\n    print locals()\\n    print locals().keys()\\n    print globals()\\n    print globals().keys()\\n    print globals()[\\'s\\']', u's = \"Global String\"\\n\\n\\ndef fun1():\\n    print locals()\\n    print locals().keys()\\n    print globals()\\n    print globals().keys()\\n    print globals()[\\'s\\']\\n    \\nfun1()    '], '__name__': '__main__', '___': '', '_': '', '_sh': <module 'IPython.core.shadowns' from '/Users/kavap/anaconda/lib/python2.7/site-packages/IPython/core/shadowns.pyc'>, 's': 'Global String', '_ii': u's = \"Global String\"\\n\\nprint s\\n\\ndef fun1():\\n    print locals()\\n    print locals().keys()\\n    print globals()\\n    print globals().keys()\\n    print globals()[\\'s\\']', 'In': ['', u's = \"Global String\"\\n\\nprint s\\n\\ndef fun1():\\n    print locals()\\n    print globals()', u's = \"Global String\"\\n\\nprint s\\n\\ndef fun1():\\n    print locals()\\n    print locals().keys()\\n    print globals()\\n    print globals().keys()', u's = \"Global String\"\\n\\nprint s\\n\\ndef fun1():\\n    print locals()\\n    print locals().keys()\\n    print globals()\\n    print globals().keys()\\n    print globals()[\\'s\\']', u's = \"Global String\"\\n\\n\\ndef fun1():\\n    print locals()\\n    print locals().keys()\\n    print globals()\\n    print globals().keys()\\n    print globals()[\\'s\\']', u's = \"Global String\"\\n\\n\\ndef fun1():\\n    print locals()\\n    print locals().keys()\\n    print globals()\\n    print globals().keys()\\n    print globals()[\\'s\\']\\n    \\nfun1()    '], '_oh': {}, 'Out': {}}\n",
      "['_dh', '__', 'fun1', '__builtin__', '_i2', 'quit', '_i5', '_i4', '_i3', '_iii', '_i1', 'exit', 'get_ipython', '_i', '__doc__', '__builtins__', '_ih', '__name__', '___', '_', '_sh', 's', '_ii', 'In', '_oh', 'Out']\n",
      "Global String\n"
     ]
    }
   ],
   "source": [
    "s = \"Global String\"\n",
    "\n",
    "\n",
    "def fun1():\n",
    "    print locals()\n",
    "    print locals().keys()\n",
    "    print globals()\n",
    "    print globals().keys()\n",
    "    print globals()['s']\n",
    "    \n",
    "fun1()   \n",
    "\n"
   ]
  },
  {
   "cell_type": "markdown",
   "metadata": {},
   "source": [
    "## Python Decorators"
   ]
  },
  {
   "cell_type": "markdown",
   "metadata": {},
   "source": [
    "Remember that Everything in Python is object. Even functions are Objects and they can be passed to other functions\n",
    "Note in following example....when hello function is assigned to greet, it's by value not by reference ..so new greet function object is created from hello function object"
   ]
  },
  {
   "cell_type": "code",
   "execution_count": 63,
   "metadata": {
    "collapsed": false
   },
   "outputs": [
    {
     "name": "stdout",
     "output_type": "stream",
     "text": [
      "Hello\n",
      "Hello\n"
     ]
    }
   ],
   "source": [
    "def hello(name=\"Hello\"):\n",
    "    print name\n",
    "    \n",
    "greet = hello\n",
    "\n",
    "greet()\n",
    "\n",
    "del(hello)\n",
    "\n",
    "greet()\n",
    "\n"
   ]
  },
  {
   "cell_type": "markdown",
   "metadata": {},
   "source": [
    "### Returning functions\n",
    "Note in following example : When you reference a function with (), it gets executed but when you reference it without (), it's being referenced. So a= hello() will execute it but a = hello assigns the function object to a.\n",
    "In following example, since hello() returns another function object, a = hello() will assign, returned function object to a and make returned function code available to scope of a (which previously was unavailable)"
   ]
  },
  {
   "cell_type": "code",
   "execution_count": 17,
   "metadata": {
    "collapsed": false
   },
   "outputs": [
    {
     "name": "stdout",
     "output_type": "stream",
     "text": [
      "In hello()\n",
      "In hello()\n",
      "In hello()\n",
      "Greetings pk\n",
      "In hello()\n",
      "Welcome back home pk\n",
      "In hello()\n",
      "Greetings VK\n",
      "In hello()\n",
      "Welcome back home VK\n"
     ]
    }
   ],
   "source": [
    "def hello(name=\"pk\",backHome=False):\n",
    "    print \"In hello()\"\n",
    "    \n",
    "    def greet():\n",
    "        print \"Greetings %s\" %(name)\n",
    "    \n",
    "    def welcome():\n",
    "        print \"Welcome back home %s\" %(name)\n",
    "        \n",
    "    if backHome :\n",
    "        return welcome\n",
    "    else :\n",
    "        return greet\n",
    "\n",
    "hello()\n",
    "\n",
    "a = hello\n",
    "\n",
    "a()\n",
    "\n",
    "a = hello()\n",
    "\n",
    "a()\n",
    "\n",
    "a = hello(backHome=True)\n",
    "\n",
    "a()\n",
    "\n",
    "a = hello(name=\"VK\")\n",
    "\n",
    "a()\n",
    "\n",
    "a = hello(name=\"VK\",backHome=True)\n",
    "\n",
    "a()"
   ]
  },
  {
   "cell_type": "markdown",
   "metadata": {},
   "source": [
    "### Functions as arguments\n",
    "\n",
    "In following example note :\n",
    "I am not passing hello() but hello since hello() willl pass return value of executing hello which is a string. Please read all comments\n"
   ]
  },
  {
   "cell_type": "code",
   "execution_count": 33,
   "metadata": {
    "collapsed": false
   },
   "outputs": [
    {
     "ename": "TypeError",
     "evalue": "other() takes exactly 1 argument (0 given)",
     "output_type": "error",
     "traceback": [
      "\u001b[0;31m---------------------------------------------------------------------------\u001b[0m",
      "\u001b[0;31mTypeError\u001b[0m                                 Traceback (most recent call last)",
      "\u001b[0;32m<ipython-input-33-70397bbc4b84>\u001b[0m in \u001b[0;36m<module>\u001b[0;34m()\u001b[0m\n\u001b[1;32m      6\u001b[0m     \u001b[0;32mprint\u001b[0m \u001b[0mfunc\u001b[0m\u001b[0;34m(\u001b[0m\u001b[0;34m)\u001b[0m\u001b[0;34m\u001b[0m\u001b[0m\n\u001b[1;32m      7\u001b[0m \u001b[0;34m\u001b[0m\u001b[0m\n\u001b[0;32m----> 8\u001b[0;31m \u001b[0mother\u001b[0m\u001b[0;34m(\u001b[0m\u001b[0;34m)\u001b[0m \u001b[0;31m#will return TypeError since it expects an argument of type function\u001b[0m\u001b[0;34m\u001b[0m\u001b[0m\n\u001b[0m\u001b[1;32m      9\u001b[0m \u001b[0;34m\u001b[0m\u001b[0m\n\u001b[1;32m     10\u001b[0m \u001b[0;34m\u001b[0m\u001b[0m\n",
      "\u001b[0;31mTypeError\u001b[0m: other() takes exactly 1 argument (0 given)"
     ]
    }
   ],
   "source": [
    "def hello():\n",
    "    return \"hello string\"\n",
    "\n",
    "def other(func):\n",
    "    print \"other function\"\n",
    "    print func()\n",
    "\n",
    "other() #will return TypeError since it expects an argument of type function\n",
    "\n",
    "\n"
   ]
  },
  {
   "cell_type": "code",
   "execution_count": 34,
   "metadata": {
    "collapsed": false
   },
   "outputs": [
    {
     "name": "stdout",
     "output_type": "stream",
     "text": [
      "other function\n"
     ]
    },
    {
     "ename": "TypeError",
     "evalue": "'str' object is not callable",
     "output_type": "error",
     "traceback": [
      "\u001b[0;31m---------------------------------------------------------------------------\u001b[0m",
      "\u001b[0;31mTypeError\u001b[0m                                 Traceback (most recent call last)",
      "\u001b[0;32m<ipython-input-34-595128565e52>\u001b[0m in \u001b[0;36m<module>\u001b[0;34m()\u001b[0m\n\u001b[0;32m----> 1\u001b[0;31m \u001b[0mother\u001b[0m\u001b[0;34m(\u001b[0m\u001b[0mhello\u001b[0m\u001b[0;34m(\u001b[0m\u001b[0;34m)\u001b[0m\u001b[0;34m)\u001b[0m\u001b[0;34m\u001b[0m\u001b[0m\n\u001b[0m",
      "\u001b[0;32m<ipython-input-33-70397bbc4b84>\u001b[0m in \u001b[0;36mother\u001b[0;34m(func)\u001b[0m\n\u001b[1;32m      4\u001b[0m \u001b[0;32mdef\u001b[0m \u001b[0mother\u001b[0m\u001b[0;34m(\u001b[0m\u001b[0mfunc\u001b[0m\u001b[0;34m)\u001b[0m\u001b[0;34m:\u001b[0m\u001b[0;34m\u001b[0m\u001b[0m\n\u001b[1;32m      5\u001b[0m     \u001b[0;32mprint\u001b[0m \u001b[0;34m\"other function\"\u001b[0m\u001b[0;34m\u001b[0m\u001b[0m\n\u001b[0;32m----> 6\u001b[0;31m     \u001b[0;32mprint\u001b[0m \u001b[0mfunc\u001b[0m\u001b[0;34m(\u001b[0m\u001b[0;34m)\u001b[0m\u001b[0;34m\u001b[0m\u001b[0m\n\u001b[0m\u001b[1;32m      7\u001b[0m \u001b[0;34m\u001b[0m\u001b[0m\n\u001b[1;32m      8\u001b[0m \u001b[0mother\u001b[0m\u001b[0;34m(\u001b[0m\u001b[0;34m)\u001b[0m \u001b[0;31m#will return TypeError since it expects an argument of type function\u001b[0m\u001b[0;34m\u001b[0m\u001b[0m\n",
      "\u001b[0;31mTypeError\u001b[0m: 'str' object is not callable"
     ]
    }
   ],
   "source": [
    "# Note that this will generate TypeError since other is expecting a function object \n",
    "# not return of executing hello() which is string\n",
    "\n",
    "other(hello())"
   ]
  },
  {
   "cell_type": "code",
   "execution_count": 35,
   "metadata": {
    "collapsed": false
   },
   "outputs": [
    {
     "name": "stdout",
     "output_type": "stream",
     "text": [
      "other function\n",
      "hello string\n"
     ]
    }
   ],
   "source": [
    "other(hello) "
   ]
  },
  {
   "cell_type": "code",
   "execution_count": 36,
   "metadata": {
    "collapsed": false
   },
   "outputs": [
    {
     "name": "stdout",
     "output_type": "stream",
     "text": [
      "other function\n",
      "hello string\n"
     ]
    }
   ],
   "source": [
    "h = hello \n",
    "other(h)"
   ]
  },
  {
   "cell_type": "markdown",
   "metadata": {},
   "source": [
    "### Now the Real decorator functionality \n",
    "In following code snippet, Note :\n",
    "* decorator_func needs to define a wrapper function and  execute decoratee_func passed to it as argument"
   ]
  },
  {
   "cell_type": "code",
   "execution_count": 60,
   "metadata": {
    "collapsed": false
   },
   "outputs": [
    {
     "name": "stdout",
     "output_type": "stream",
     "text": [
      "decorator code before executing decoratee code\n",
      "I am decoratee and am being decorated and here's my code\n",
      "decorator code after executing decoratee code\n"
     ]
    }
   ],
   "source": [
    "def decorator_function(func):\n",
    "    def wrapper_func():\n",
    "        print \"decorator code before executing decoratee code\"\n",
    "        func()\n",
    "        print \"decorator code after executing decoratee code\"\n",
    "    return wrapper_func\n",
    "    \n",
    "def decoratee_function():\n",
    "    print \"I am decoratee and am being decorated and here's my code\"\n",
    "    \n",
    "decoratee_function =  decorator_function(decoratee_function)  \n",
    "\n",
    "decoratee_function()\n"
   ]
  },
  {
   "cell_type": "markdown",
   "metadata": {},
   "source": [
    "### @ notation for decorator"
   ]
  },
  {
   "cell_type": "code",
   "execution_count": 61,
   "metadata": {
    "collapsed": false
   },
   "outputs": [],
   "source": [
    "# Code above is better represented by Python Decorator Symbol @ as below\n",
    "\n",
    "@decorator_function\n",
    "def decoratee_function():\n",
    "    print \"I need a decorator\""
   ]
  },
  {
   "cell_type": "code",
   "execution_count": 55,
   "metadata": {
    "collapsed": false
   },
   "outputs": [
    {
     "name": "stdout",
     "output_type": "stream",
     "text": [
      "code before decoratee\n",
      "I need a decorator\n",
      "code after decoratee\n"
     ]
    }
   ],
   "source": [
    "decoratee_function()"
   ]
  },
  {
   "cell_type": "code",
   "execution_count": 69,
   "metadata": {
    "collapsed": true
   },
   "outputs": [],
   "source": [
    "# Following is a practical uscase examples of decorators\n",
    "\n"
   ]
  },
  {
   "cell_type": "code",
   "execution_count": 73,
   "metadata": {
    "collapsed": false
   },
   "outputs": [
    {
     "name": "stdout",
     "output_type": "stream",
     "text": [
      "1\n",
      "1\n",
      "2\n",
      "4\n",
      "8\n",
      "16\n",
      "32\n",
      "64\n",
      "128\n",
      "256\n"
     ]
    }
   ],
   "source": [
    "# Trick Fibbonaci Series Q\n",
    "\n",
    "# Wrong implementation as b is calculated as b = b + b due to a=b assignment before\n",
    "\n",
    "\n",
    "def fib(n):\n",
    "    a = 1\n",
    "    b = 1\n",
    "    for i in range(n):\n",
    "        print a\n",
    "        a = b\n",
    "        b = a+b\n",
    "        \n",
    "fib(10)\n",
    "\n"
   ]
  },
  {
   "cell_type": "code",
   "execution_count": 74,
   "metadata": {
    "collapsed": false
   },
   "outputs": [
    {
     "name": "stdout",
     "output_type": "stream",
     "text": [
      "1\n",
      "1\n",
      "2\n",
      "3\n",
      "5\n",
      "8\n",
      "13\n",
      "21\n",
      "34\n",
      "55\n"
     ]
    }
   ],
   "source": [
    "# Trick Fibbonaci Series Q\n",
    "\n",
    "# Correct implementation\n",
    "\n",
    "def fib(n):\n",
    "    a = 1\n",
    "    b = 1\n",
    "    for i in range(n):\n",
    "        print a\n",
    "        tmp = a\n",
    "        a = b\n",
    "        b = tmp+b\n",
    "        \n",
    "fib(10)\n",
    "\n"
   ]
  },
  {
   "cell_type": "code",
   "execution_count": 75,
   "metadata": {
    "collapsed": false
   },
   "outputs": [
    {
     "name": "stdout",
     "output_type": "stream",
     "text": [
      "1\n",
      "1\n",
      "2\n",
      "3\n",
      "5\n",
      "8\n",
      "13\n",
      "21\n",
      "34\n",
      "55\n"
     ]
    }
   ],
   "source": [
    "# Trick Fibbonaci Series Q\n",
    "\n",
    "# More Pythonic implementation using multiple assignments\n",
    "\n",
    "def fib(n):\n",
    "    a = 1\n",
    "    b = 1\n",
    "    for i in range(n):\n",
    "        print a\n",
    "        a,b = b,a+b\n",
    "        \n",
    "fib(10)"
   ]
  },
  {
   "cell_type": "markdown",
   "metadata": {},
   "source": [
    "### Generator functions\n",
    "\n",
    "yield returns a generator(basically and iterator object) to caller and suspends till next() is called on returned object again"
   ]
  },
  {
   "cell_type": "code",
   "execution_count": 81,
   "metadata": {
    "collapsed": false
   },
   "outputs": [
    {
     "name": "stdout",
     "output_type": "stream",
     "text": [
      "1\n",
      "1\n",
      "2\n"
     ]
    },
    {
     "ename": "StopIteration",
     "evalue": "",
     "output_type": "error",
     "traceback": [
      "\u001b[0;31m---------------------------------------------------------------------------\u001b[0m",
      "\u001b[0;31mStopIteration\u001b[0m                             Traceback (most recent call last)",
      "\u001b[0;32m<ipython-input-81-f9468534d39a>\u001b[0m in \u001b[0;36m<module>\u001b[0;34m()\u001b[0m\n\u001b[1;32m     11\u001b[0m \u001b[0;32mprint\u001b[0m \u001b[0mg\u001b[0m\u001b[0;34m.\u001b[0m\u001b[0mnext\u001b[0m\u001b[0;34m(\u001b[0m\u001b[0;34m)\u001b[0m\u001b[0;34m\u001b[0m\u001b[0m\n\u001b[1;32m     12\u001b[0m \u001b[0;32mprint\u001b[0m \u001b[0mg\u001b[0m\u001b[0;34m.\u001b[0m\u001b[0mnext\u001b[0m\u001b[0;34m(\u001b[0m\u001b[0;34m)\u001b[0m\u001b[0;34m\u001b[0m\u001b[0m\n\u001b[0;32m---> 13\u001b[0;31m \u001b[0;32mprint\u001b[0m \u001b[0mg\u001b[0m\u001b[0;34m.\u001b[0m\u001b[0mnext\u001b[0m\u001b[0;34m(\u001b[0m\u001b[0;34m)\u001b[0m\u001b[0;34m\u001b[0m\u001b[0m\n\u001b[0m",
      "\u001b[0;31mStopIteration\u001b[0m: "
     ]
    }
   ],
   "source": [
    "def fib(n):\n",
    "    a = 1\n",
    "    b = 1\n",
    "    for i in range(n):\n",
    "        yield a\n",
    "        a,b = b,a+b\n",
    "               \n",
    "g = fib(3)\n",
    "\n",
    "print g.next()\n",
    "print g.next()\n",
    "print g.next()\n",
    "#print g.next() # This returns StopIteration exception since all iterations are done"
   ]
  },
  {
   "cell_type": "code",
   "execution_count": 82,
   "metadata": {
    "collapsed": false
   },
   "outputs": [
    {
     "name": "stdout",
     "output_type": "stream",
     "text": [
      "1\n",
      "1\n",
      "2\n",
      "All iterations done\n"
     ]
    }
   ],
   "source": [
    "# Same as above but better exception handling\n",
    "\n",
    "def fib(n):\n",
    "    a = 1\n",
    "    b = 1\n",
    "    for i in range(n):\n",
    "        yield a\n",
    "        a,b = b,a+b\n",
    "\n",
    "        \n",
    "g = fib(3) # g is basically an iterator object\n",
    "\n",
    "\n",
    "try:\n",
    "    print g.next()\n",
    "    print g.next()\n",
    "    print g.next()\n",
    "    print g.next() # This returns StopIteration exception since all iterations are done\n",
    "except : \n",
    "    print \"All iterations done\"\n",
    "    # could also simply have pass statement"
   ]
  },
  {
   "cell_type": "markdown",
   "metadata": {},
   "source": [
    "### Call to next() is implicit in for loop and for loops have builtin exception handling (I think it uses pass in except statement)     \n",
    "\n",
    "def fib(n):\n",
    "    a = 1\n",
    "    b = 1\n",
    "    for i in range(n):\n",
    "        yield a\n",
    "        a,b = b,a+b\n",
    "        \n",
    "for i in fib(10):\n",
    "    print i"
   ]
  },
  {
   "cell_type": "markdown",
   "metadata": {},
   "source": [
    "Generators are good way to : \n",
    "* Avoid save memory by avoiding pregenerating large lists and iterating over them. On the fly as needed sequences\n",
    "* Dealing with infinite loops. For e.g. have generator that can generate next fibbonaci term till infinity BUT on demand so only one at a time "
   ]
  },
  {
   "cell_type": "code",
   "execution_count": 90,
   "metadata": {
    "collapsed": false
   },
   "outputs": [
    {
     "name": "stdout",
     "output_type": "stream",
     "text": [
      "1\n",
      "1\n",
      "2\n",
      "3\n",
      "5\n",
      "8\n",
      "13\n",
      "21\n",
      "34\n",
      "55\n",
      "89\n",
      "144\n",
      "233\n",
      "377\n",
      "610\n",
      "987\n",
      "1597\n",
      "2584\n",
      "4181\n",
      "6765\n"
     ]
    }
   ],
   "source": [
    "# This function will generate Fiboonaci series for ever ..but only one at a time ...on demand\n",
    "def fib():\n",
    "    a = 1\n",
    "    b = 1\n",
    "    while True:\n",
    "        yield a\n",
    "        a,b = b,a+b\n",
    " \n",
    "fibterm = fib()\n",
    "\n",
    "for n in xrange(10):    # note xrange() this is another builtin generator...so we are efficient\n",
    "    # print fib() is incorrect way to call and will yield wrong result\n",
    "    print fibterm.next()\n",
    "    \n",
    "# fib() is still alive\n",
    "\n",
    "for n in xrange(10):\n",
    "    print fibterm.next()"
   ]
  },
  {
   "cell_type": "markdown",
   "metadata": {},
   "source": [
    "There's a differance between IterABLE and IterATOR:\n",
    "\n",
    "a String object is iterable but not an iterator. So you can't do s.next() but you can iterate over them using for loop. \n",
    "If you need an iterator for a string, you need to pass string to an iterator function object and use that iterator object to get next() behavior"
   ]
  },
  {
   "cell_type": "code",
   "execution_count": 91,
   "metadata": {
    "collapsed": false
   },
   "outputs": [
    {
     "name": "stdout",
     "output_type": "stream",
     "text": [
      "h\n",
      "e\n",
      "l\n",
      "l\n",
      "o\n"
     ]
    }
   ],
   "source": [
    "s = \"hello\"\n",
    "\n",
    "# Can iterate over string\n",
    "for l in s:\n",
    "    print l"
   ]
  },
  {
   "cell_type": "code",
   "execution_count": 92,
   "metadata": {
    "collapsed": false
   },
   "outputs": [
    {
     "ename": "AttributeError",
     "evalue": "'str' object has no attribute 'next'",
     "output_type": "error",
     "traceback": [
      "\u001b[0;31m---------------------------------------------------------------------------\u001b[0m",
      "\u001b[0;31mAttributeError\u001b[0m                            Traceback (most recent call last)",
      "\u001b[0;32m<ipython-input-92-72d717a5c88b>\u001b[0m in \u001b[0;36m<module>\u001b[0;34m()\u001b[0m\n\u001b[1;32m      1\u001b[0m \u001b[0;31m# But String itself is not iterator\u001b[0m\u001b[0;34m\u001b[0m\u001b[0;34m\u001b[0m\u001b[0m\n\u001b[1;32m      2\u001b[0m \u001b[0;34m\u001b[0m\u001b[0m\n\u001b[0;32m----> 3\u001b[0;31m \u001b[0ms\u001b[0m\u001b[0;34m.\u001b[0m\u001b[0mnext\u001b[0m\u001b[0;34m(\u001b[0m\u001b[0;34m)\u001b[0m\u001b[0;34m\u001b[0m\u001b[0m\n\u001b[0m",
      "\u001b[0;31mAttributeError\u001b[0m: 'str' object has no attribute 'next'"
     ]
    }
   ],
   "source": [
    "# But String itself is not iterator\n",
    "\n",
    "s.next()"
   ]
  },
  {
   "cell_type": "code",
   "execution_count": 97,
   "metadata": {
    "collapsed": false
   },
   "outputs": [
    {
     "name": "stdout",
     "output_type": "stream",
     "text": [
      "h\n",
      "e\n",
      "l\n",
      "l\n",
      "o\n"
     ]
    }
   ],
   "source": [
    "# you can get an iterator if you need next() behavior\n",
    "s_iterator = iter(s)\n",
    "\n",
    "print s_iterator.next()\n",
    "print s_iterator.next()\n",
    "print s_iterator.next()\n",
    "print s_iterator.next()\n",
    "print s_iterator.next()\n"
   ]
  },
  {
   "cell_type": "code",
   "execution_count": 99,
   "metadata": {
    "collapsed": false
   },
   "outputs": [
    {
     "name": "stdout",
     "output_type": "stream",
     "text": [
      "234\n",
      "746\n",
      "492\n",
      "324\n",
      "405\n",
      "93\n",
      "821\n",
      "555\n",
      "580\n",
      "604\n"
     ]
    }
   ],
   "source": [
    "# Random number generator\n",
    "\n",
    "import random\n",
    "\n",
    "def rand_gen(n,m):\n",
    "   yield random.randint(n,m)\n",
    "\n",
    "random_number = rand_gen\n",
    "\n",
    "for i in xrange(10):\n",
    "    print random_number(1,1000).next()\n",
    "    "
   ]
  },
  {
   "cell_type": "markdown",
   "metadata": {},
   "source": [
    "### List Comprehension style generator function. Can be used in place of list comprehension\n",
    "\n",
    "    doing list comprehension in () instead of [] returns generator function"
   ]
  },
  {
   "cell_type": "code",
   "execution_count": 102,
   "metadata": {
    "collapsed": false
   },
   "outputs": [
    {
     "name": "stdout",
     "output_type": "stream",
     "text": [
      "0\n",
      "1\n",
      "2\n",
      "3\n",
      "4\n",
      "5\n",
      "6\n",
      "7\n",
      "8\n",
      "9\n",
      "10\n",
      "11\n",
      "12\n",
      "13\n",
      "14\n",
      "15\n",
      "16\n",
      "17\n",
      "18\n",
      "19\n"
     ]
    }
   ],
   "source": [
    "# doing list comprehension in () instead of [] returns generator function\n",
    "\n",
    "gen_seq = (i for item in xrange(1000) if item%2 == 0 )\n",
    "\n",
    "for i in xrange(20):\n",
    "    print gen_seq.next()"
   ]
  },
  {
   "cell_type": "markdown",
   "metadata": {},
   "source": [
    "### Collections module..."
   ]
  },
  {
   "cell_type": "code",
   "execution_count": 124,
   "metadata": {
    "collapsed": false
   },
   "outputs": [
    {
     "name": "stdout",
     "output_type": "stream",
     "text": [
      "Counter({1: 7, 3: 7, 2: 5, 4: 4, 6: 2, 5: 1, 42: 1, 22: 1, 31: 1})\n",
      "{1: 7, 2: 5, 3: 7, 4: 4, 5: 1, 6: 2, 42: 1, 22: 1, 31: 1}\n",
      "Counter({' ': 27, 'e': 11, 'o': 11, 'n': 10, 'r': 10, 's': 9, 't': 9, 'a': 7, 'c': 6, 'w': 6, 'i': 5, 'l': 5, 'f': 4, 'u': 4, 'h': 3, 'y': 3, 'd': 2, 'g': 2, 'v': 2, 'T': 1, 'b': 1, 'm': 1, 'p': 1})\n",
      "{'T': 1, 'a': 7, ' ': 27, 'c': 6, 'b': 1, 'e': 11, 'd': 2, 'g': 2, 'f': 4, 'i': 5, 'h': 3, 'm': 1, 'l': 5, 'o': 11, 'n': 10, 'p': 1, 's': 9, 'r': 10, 'u': 4, 't': 9, 'w': 6, 'v': 2, 'y': 3}\n",
      "Counter({'for': 2, 'count': 2, 'we': 2, 'of': 2, 'very': 2, 'and': 1, 'letters': 1, 'is': 1, 'number': 1, 'see': 1, 'want': 1, 'any': 1, 'also': 1, 'long': 1, 'to': 1, 'which': 1, 'string': 1, 'This': 1, 'words': 1, 'a': 1, 'occurances': 1, 'will': 1, 'patterns': 1})\n",
      "[('for', 2), ('count', 2)]\n",
      "[('and', 1), ('letters', 1), ('is', 1), ('number', 1), ('see', 1), ('want', 1), ('any', 1), ('for', 2), ('also', 1), ('long', 1), ('to', 1), ('which', 1), ('count', 2), ('we', 2), ('string', 1), ('This', 1), ('words', 1), ('a', 1), ('of', 2), ('occurances', 1), ('will', 1), ('patterns', 1), ('very', 2)]\n",
      "28\n",
      "['and', 'letters', 'is', 'number', 'see', 'want', 'any', 'for', 'also', 'long', 'to', 'which', 'count', 'we', 'string', 'This', 'words', 'a', 'of', 'occurances', 'will', 'patterns', 'very']\n"
     ]
    }
   ],
   "source": [
    "from collections import Counter\n",
    "\n",
    "l = [1,2,2,3,1,3,2,42,4,2,4,2,1,3,1,31,3,1,3,1,3,4,4,5,6,6,1,3,22]\n",
    "\n",
    "# Count for each unique element in list\n",
    "print Counter(l) # Returns Counter object\n",
    "\n",
    "# Can convert return value to dictionary\n",
    "print dict(Counter(l))\n",
    "\n",
    "\n",
    "s = \"This is a very very long string which we want to count occurances of letters for we will also count number of words for and see any patterns\"\n",
    "\n",
    "# Returns Counter object\n",
    "print Counter(s)\n",
    "\n",
    "# Can convert return value to dictionary\n",
    "print dict(Counter(s))\n",
    "\n",
    "# We can also count number of words\n",
    "\n",
    "\n",
    "print Counter(s.split()) # Returns Counter object\n",
    "\n",
    "# Counter has some intersting functions too\n",
    "\n",
    "ctr = Counter(s.split())\n",
    "\n",
    "# Returns list of tuples\n",
    "print ctr.most_common(2)\n",
    "\n",
    "# Returns list of tuples\n",
    "print ctr.items()\n",
    "\n",
    "# Total count\n",
    "print sum(ctr.values())\n",
    "\n",
    "# List of elements\n",
    "print list(ctr)\n",
    "\n",
    "\n",
    "\n"
   ]
  },
  {
   "cell_type": "markdown",
   "metadata": {},
   "source": [
    "### Datetime"
   ]
  },
  {
   "cell_type": "code",
   "execution_count": 148,
   "metadata": {
    "collapsed": false
   },
   "outputs": [
    {
     "name": "stdout",
     "output_type": "stream",
     "text": [
      "2017-01-27\n",
      "01:02:03.000001\n",
      "2016-12-31\n",
      "2017-01-27\n",
      "27 days, 0:00:00\n",
      "0:00:00.000001\n",
      "1 day, 0:00:00\n",
      "04:20:01.000520\n",
      "hour  : 4\n",
      "minute: 20\n",
      "second: 1\n",
      "microsecond: 520\n",
      "tzinfo: None\n",
      "2017-01-27\n",
      "ctime: Fri Jan 27 00:00:00 2017\n",
      "tuple: time.struct_time(tm_year=2017, tm_mon=1, tm_mday=27, tm_hour=0, tm_min=0, tm_sec=0, tm_wday=4, tm_yday=27, tm_isdst=-1)\n",
      "ordinal: 736356\n",
      "Year: 2017\n",
      "Mon : 1\n",
      "Day : 27\n",
      "Earliest  : 00:00:00\n",
      "Latest    : 23:59:59.999999\n",
      "Resolution: 0:00:00.000001\n",
      "Earliest  : 0001-01-01\n",
      "Latest    : 9999-12-31\n",
      "Resolution: 1 day, 0:00:00\n",
      "d1: 2015-03-11\n",
      "d2: 1990-03-11\n"
     ]
    }
   ],
   "source": [
    "import datetime\n",
    "\n",
    "print datetime.date.today()\n",
    "\n",
    "#Create a time object\n",
    "t1 = datetime.time(1,2,3,00001)\n",
    "print t1\n",
    "\n",
    "d1 = datetime.date(2016,12,31)\n",
    "print d1\n",
    "\n",
    "d2 = datetime.date.today()\n",
    "print d2\n",
    "\n",
    "print d2-d1\n",
    "\n",
    "print datetime.time.resolution\n",
    "\n",
    "print datetime.date.resolution\n",
    "\n",
    "t = datetime.time(4, 20, 1, 001010)\n",
    "\n",
    "# Lets show the different components\n",
    "\n",
    "print t\n",
    "print 'hour  :', t.hour\n",
    "print 'minute:', t.minute\n",
    "print 'second:', t.second\n",
    "print 'microsecond:', t.microsecond\n",
    "print 'tzinfo:', t.tzinfo\n",
    "\n",
    "today = datetime.date.today()\n",
    "print today\n",
    "print 'ctime:', today.ctime()\n",
    "print 'tuple:', today.timetuple()\n",
    "print 'ordinal:', today.toordinal()\n",
    "print 'Year:', today.year\n",
    "print 'Mon :', today.month\n",
    "print 'Day :', today.day\n",
    "\n",
    "\n",
    "print 'Earliest  :', datetime.time.min\n",
    "print 'Latest    :', datetime.time.max\n",
    "print 'Resolution:', datetime.time.resolution\n",
    "\n",
    "print 'Earliest  :', datetime.date.min\n",
    "print 'Latest    :', datetime.date.max\n",
    "print 'Resolution:', datetime.date.resolution\n",
    "\n",
    "\n",
    "# Can change just part of day and clone\n",
    "d1 = datetime.date(2015, 3, 11)\n",
    "print 'd1:', d1\n",
    "\n",
    "d2 = d1.replace(year=1990)\n",
    "print 'd2:', d2"
   ]
  },
  {
   "cell_type": "markdown",
   "metadata": {},
   "source": [
    "### Python debugger\n",
    "\n",
    "* When you see an error at line n, goto a line before that and say pdb.set_trace()\n",
    "* On interactive console, inquire about various variable values\n",
    "* Can also perform variable expressions such as x+y and see errors thrown and then inquire things such as if variables types mismatch, etc\n",
    "* Type quit to get out of debugger\n",
    "* Good debuggin advice : https://docs.python.org/2/library/pdb.html"
   ]
  },
  {
   "cell_type": "code",
   "execution_count": 149,
   "metadata": {
    "collapsed": false
   },
   "outputs": [
    {
     "name": "stdout",
     "output_type": "stream",
     "text": [
      "5\n"
     ]
    },
    {
     "ename": "TypeError",
     "evalue": "can only concatenate list (not \"int\") to list",
     "output_type": "error",
     "traceback": [
      "\u001b[0;31m---------------------------------------------------------------------------\u001b[0m",
      "\u001b[0;31mTypeError\u001b[0m                                 Traceback (most recent call last)",
      "\u001b[0;32m<ipython-input-149-b9234c9341fa>\u001b[0m in \u001b[0;36m<module>\u001b[0;34m()\u001b[0m\n\u001b[1;32m      7\u001b[0m \u001b[0;32mprint\u001b[0m \u001b[0my\u001b[0m\u001b[0;34m+\u001b[0m\u001b[0mz\u001b[0m\u001b[0;34m\u001b[0m\u001b[0m\n\u001b[1;32m      8\u001b[0m \u001b[0;34m\u001b[0m\u001b[0m\n\u001b[0;32m----> 9\u001b[0;31m \u001b[0;32mprint\u001b[0m \u001b[0mx\u001b[0m\u001b[0;34m+\u001b[0m\u001b[0my\u001b[0m\u001b[0;34m\u001b[0m\u001b[0m\n\u001b[0m",
      "\u001b[0;31mTypeError\u001b[0m: can only concatenate list (not \"int\") to list"
     ]
    }
   ],
   "source": [
    "import pdb\n",
    "\n",
    "x = [1,2,3]\n",
    "y = 2\n",
    "z = 3\n",
    "\n",
    "print y+z\n",
    "\n",
    "# Error will say error at line 9 etc \n",
    "print x+y\n"
   ]
  },
  {
   "cell_type": "code",
   "execution_count": 151,
   "metadata": {
    "collapsed": false
   },
   "outputs": [
    {
     "name": "stdout",
     "output_type": "stream",
     "text": [
      "5\n",
      "--Return--\n",
      "> <ipython-input-151-d87ad2b2c262>(9)<module>()->None\n",
      "-> pdb.set_trace()\n",
      "(Pdb) x\n",
      "[1, 2, 3]\n",
      "(Pdb) y\n",
      "2\n",
      "(Pdb) z\n",
      "3\n",
      "(Pdb) y+z\n",
      "5\n",
      "(Pdb) x+y\n",
      "*** TypeError: can only concatenate list (not \"int\") to list\n",
      "(Pdb) quit\n"
     ]
    },
    {
     "ename": "BdbQuit",
     "evalue": "",
     "output_type": "error",
     "traceback": [
      "\u001b[0;31m---------------------------------------------------------------------------\u001b[0m",
      "\u001b[0;31mBdbQuit\u001b[0m                                   Traceback (most recent call last)",
      "\u001b[0;32m<ipython-input-151-d87ad2b2c262>\u001b[0m in \u001b[0;36m<module>\u001b[0;34m()\u001b[0m\n\u001b[1;32m      7\u001b[0m \u001b[0;32mprint\u001b[0m \u001b[0my\u001b[0m\u001b[0;34m+\u001b[0m\u001b[0mz\u001b[0m\u001b[0;34m\u001b[0m\u001b[0m\n\u001b[1;32m      8\u001b[0m \u001b[0;34m\u001b[0m\u001b[0m\n\u001b[0;32m----> 9\u001b[0;31m \u001b[0mpdb\u001b[0m\u001b[0;34m.\u001b[0m\u001b[0mset_trace\u001b[0m\u001b[0;34m(\u001b[0m\u001b[0;34m)\u001b[0m\u001b[0;34m\u001b[0m\u001b[0m\n\u001b[0m\u001b[1;32m     10\u001b[0m \u001b[0;31m# Error will say error at line 9 etc\u001b[0m\u001b[0;34m\u001b[0m\u001b[0;34m\u001b[0m\u001b[0m\n\u001b[1;32m     11\u001b[0m \u001b[0;32mprint\u001b[0m \u001b[0mx\u001b[0m\u001b[0;34m+\u001b[0m\u001b[0my\u001b[0m\u001b[0;34m\u001b[0m\u001b[0m\n",
      "\u001b[0;32m/Users/kavap/anaconda/lib/python2.7/bdb.pyc\u001b[0m in \u001b[0;36mtrace_dispatch\u001b[0;34m(self, frame, event, arg)\u001b[0m\n\u001b[1;32m     51\u001b[0m             \u001b[0;32mreturn\u001b[0m \u001b[0mself\u001b[0m\u001b[0;34m.\u001b[0m\u001b[0mdispatch_call\u001b[0m\u001b[0;34m(\u001b[0m\u001b[0mframe\u001b[0m\u001b[0;34m,\u001b[0m \u001b[0marg\u001b[0m\u001b[0;34m)\u001b[0m\u001b[0;34m\u001b[0m\u001b[0m\n\u001b[1;32m     52\u001b[0m         \u001b[0;32mif\u001b[0m \u001b[0mevent\u001b[0m \u001b[0;34m==\u001b[0m \u001b[0;34m'return'\u001b[0m\u001b[0;34m:\u001b[0m\u001b[0;34m\u001b[0m\u001b[0m\n\u001b[0;32m---> 53\u001b[0;31m             \u001b[0;32mreturn\u001b[0m \u001b[0mself\u001b[0m\u001b[0;34m.\u001b[0m\u001b[0mdispatch_return\u001b[0m\u001b[0;34m(\u001b[0m\u001b[0mframe\u001b[0m\u001b[0;34m,\u001b[0m \u001b[0marg\u001b[0m\u001b[0;34m)\u001b[0m\u001b[0;34m\u001b[0m\u001b[0m\n\u001b[0m\u001b[1;32m     54\u001b[0m         \u001b[0;32mif\u001b[0m \u001b[0mevent\u001b[0m \u001b[0;34m==\u001b[0m \u001b[0;34m'exception'\u001b[0m\u001b[0;34m:\u001b[0m\u001b[0;34m\u001b[0m\u001b[0m\n\u001b[1;32m     55\u001b[0m             \u001b[0;32mreturn\u001b[0m \u001b[0mself\u001b[0m\u001b[0;34m.\u001b[0m\u001b[0mdispatch_exception\u001b[0m\u001b[0;34m(\u001b[0m\u001b[0mframe\u001b[0m\u001b[0;34m,\u001b[0m \u001b[0marg\u001b[0m\u001b[0;34m)\u001b[0m\u001b[0;34m\u001b[0m\u001b[0m\n",
      "\u001b[0;32m/Users/kavap/anaconda/lib/python2.7/bdb.pyc\u001b[0m in \u001b[0;36mdispatch_return\u001b[0;34m(self, frame, arg)\u001b[0m\n\u001b[1;32m     89\u001b[0m             \u001b[0;32mfinally\u001b[0m\u001b[0;34m:\u001b[0m\u001b[0;34m\u001b[0m\u001b[0m\n\u001b[1;32m     90\u001b[0m                 \u001b[0mself\u001b[0m\u001b[0;34m.\u001b[0m\u001b[0mframe_returning\u001b[0m \u001b[0;34m=\u001b[0m \u001b[0mNone\u001b[0m\u001b[0;34m\u001b[0m\u001b[0m\n\u001b[0;32m---> 91\u001b[0;31m             \u001b[0;32mif\u001b[0m \u001b[0mself\u001b[0m\u001b[0;34m.\u001b[0m\u001b[0mquitting\u001b[0m\u001b[0;34m:\u001b[0m \u001b[0;32mraise\u001b[0m \u001b[0mBdbQuit\u001b[0m\u001b[0;34m\u001b[0m\u001b[0m\n\u001b[0m\u001b[1;32m     92\u001b[0m         \u001b[0;32mreturn\u001b[0m \u001b[0mself\u001b[0m\u001b[0;34m.\u001b[0m\u001b[0mtrace_dispatch\u001b[0m\u001b[0;34m\u001b[0m\u001b[0m\n\u001b[1;32m     93\u001b[0m \u001b[0;34m\u001b[0m\u001b[0m\n",
      "\u001b[0;31mBdbQuit\u001b[0m: "
     ]
    }
   ],
   "source": [
    "import pdb\n",
    "\n",
    "x = [1,2,3]\n",
    "y = 2\n",
    "z = 3\n",
    "\n",
    "print y+z\n",
    "\n",
    "pdb.set_trace()\n",
    "# Error will say error at line 9 etc \n",
    "print x+y\n"
   ]
  },
  {
   "cell_type": "markdown",
   "metadata": {},
   "source": [
    "#### Time estimates for run time can be done two ways :\n",
    "* Python's timeit library\n",
    "* Jupyter's magic %timeit "
   ]
  },
  {
   "cell_type": "code",
   "execution_count": 155,
   "metadata": {
    "collapsed": false
   },
   "outputs": [
    {
     "data": {
      "text/plain": [
       "0.8997578620910645"
      ]
     },
     "execution_count": 155,
     "metadata": {},
     "output_type": "execute_result"
    }
   ],
   "source": [
    "import timeit\n",
    "\n",
    "# For loop\n",
    "timeit.timeit('\"-\".join(str(n) for n in range(100))', number=10000)"
   ]
  },
  {
   "cell_type": "code",
   "execution_count": 156,
   "metadata": {
    "collapsed": false
   },
   "outputs": [
    {
     "data": {
      "text/plain": [
       "0.5597290992736816"
      ]
     },
     "execution_count": 156,
     "metadata": {},
     "output_type": "execute_result"
    }
   ],
   "source": [
    "# List comprehension\n",
    "timeit.timeit('\"-\".join([str(n) for n in range(100)])',number=10000)"
   ]
  },
  {
   "cell_type": "code",
   "execution_count": 161,
   "metadata": {
    "collapsed": false
   },
   "outputs": [
    {
     "data": {
      "text/plain": [
       "0.21224594116210938"
      ]
     },
     "execution_count": 161,
     "metadata": {},
     "output_type": "execute_result"
    }
   ],
   "source": [
    "# Map()\n",
    "timeit.timeit('\"-\".join(map(str,range(100)))',number=10000)"
   ]
  },
  {
   "cell_type": "markdown",
   "metadata": {},
   "source": [
    "#### We can also use Jupyter magic function %timeit\n",
    "     Note : No need to embed expression in '' and specify # of loops ...Jupyter determines and manages it"
   ]
  },
  {
   "cell_type": "code",
   "execution_count": 162,
   "metadata": {
    "collapsed": false
   },
   "outputs": [
    {
     "name": "stdout",
     "output_type": "stream",
     "text": [
      "10000 loops, best of 3: 38.3 µs per loop\n"
     ]
    }
   ],
   "source": [
    "%timeit \"-\".join(str(n) for n in range(100))"
   ]
  },
  {
   "cell_type": "markdown",
   "metadata": {},
   "source": [
    "### Regular expressions\n",
    "\n",
    "#### Repeatations :\n",
    "\n",
    "'sd*',     # s followed by zero or more d's\n",
    "\n",
    "'sd+',     # s followed by one or more d's\n",
    "\n",
    "'sd?',     # s followed by zero or one d's\n",
    "\n",
    "'sd{3}',   # s followed by three d's\n",
    "\n",
    "'sd{2,3}', # s followed by two to three d's\n",
    "\n",
    "'[sd]',    # either s or d\n",
    "\n",
    "'s[sd]+']  # s followed by one or more s or d\n",
    "\n",
    "'[a-z]+',  # sequences of lower case letters\n",
    "\n",
    "'[A-Z]+',   # sequences of upper case letters\n",
    "\n",
    "'[a-zA-Z]+', # sequences of lower or upper case letters\n",
    "\n",
    "'[A-Z][a-z]+']  # one upper case letter followed by lower case letters\n",
    "\n",
    "#### Negative patterns\n",
    "\n",
    "'s[^aeiou]' # s NOT followed by a/e/i/o/u\n",
    "\n",
    "#### Escape characters\n",
    "\n",
    "\\d\ta digit\n",
    "\n",
    "\\D\ta non-digit\n",
    "\n",
    "\\s\twhitespace (tab, space, newline, etc.)\n",
    "\n",
    "\\S\tnon-whitespace\n",
    "\n",
    "\\w\talphanumeric\n",
    "\n",
    "\\W\tnon-alphanumeric\n",
    "\n",
    "\n",
    "##### Note r in front of patterns. This is to avoid conflict with python's internal patterns\n",
    "\n",
    "test_patterns=[ r'\\d+', # sequence of digits\n",
    "                r'\\D+', # sequence of non-digits\n",
    "                r'\\s+', # sequence of whitespace\n",
    "                r'\\S+', # sequence of non-whitespace\n",
    "                r'\\w+', # alphanumeric characters\n",
    "                r'\\W+', # non-alphanumeric\n",
    "                ]\n",
    "                \n",
    "                \n",
    "\n",
    "\n",
    "\n"
   ]
  },
  {
   "cell_type": "code",
   "execution_count": 31,
   "metadata": {
    "collapsed": false
   },
   "outputs": [
    {
     "name": "stdout",
     "output_type": "stream",
     "text": [
      "<type '_sre.SRE_Match'>\n",
      "19 26\n",
      "['9/23/12', '09/15/1979']\n",
      "['kavap', 'hotmail.com']\n"
     ]
    },
    {
     "data": {
      "text/plain": [
       "['This',\n",
       " 'is',\n",
       " 'a',\n",
       " 'string',\n",
       " 'But',\n",
       " 'it',\n",
       " 'has',\n",
       " 'punctuation',\n",
       " 'How',\n",
       " 'can',\n",
       " 'we',\n",
       " 'remove',\n",
       " 'it']"
      ]
     },
     "execution_count": 31,
     "metadata": {},
     "output_type": "execute_result"
    }
   ],
   "source": [
    "import re\n",
    "\n",
    "pattern = \"\\d+/\\d+/\\d+\"\n",
    "\n",
    "text = \"vihaan was born on 9/23/12 where as vijal was born on 09/15/1979\"\n",
    "\n",
    "match = re.search(pattern,text)\n",
    "\n",
    "print type(match)\n",
    "\n",
    "print match.start(),match.end()\n",
    "\n",
    "print re.findall(pattern,text) #Returns a list\n",
    "\n",
    "# If asked to find domain name in emails\n",
    "\n",
    "email = \"kavap@hotmail.com\"  # Returns a list\n",
    "\n",
    "print re.split('@',email)\n",
    "\n",
    "#Split based on space or punctuations\n",
    "test_phrase = 'This is a string! But it has punctuation. How can we remove it?'\n",
    "\n",
    "re.findall('[^!.? ]+',test_phrase)\n",
    "\n"
   ]
  },
  {
   "cell_type": "markdown",
   "metadata": {},
   "source": [
    "### Advanced sets"
   ]
  },
  {
   "cell_type": "code",
   "execution_count": 32,
   "metadata": {
    "collapsed": true
   },
   "outputs": [],
   "source": [
    "s = set()"
   ]
  },
  {
   "cell_type": "code",
   "execution_count": 49,
   "metadata": {
    "collapsed": false
   },
   "outputs": [
    {
     "name": "stdout",
     "output_type": "stream",
     "text": [
      "True\n",
      "False\n",
      "True\n",
      "True\n"
     ]
    },
    {
     "data": {
      "text/plain": [
       "{1, 2, 4}"
      ]
     },
     "execution_count": 49,
     "metadata": {},
     "output_type": "execute_result"
    }
   ],
   "source": [
    "s.add(1)\n",
    "s.add(2)\n",
    "s.add(3)\n",
    "\n",
    "s\n",
    "\n",
    "s.add(555)\n",
    "\n",
    "s\n",
    "\n",
    "s.discard(555)\n",
    "s\n",
    "\n",
    "s.clear()\n",
    "\n",
    "s\n",
    "\n",
    "s.add(1)\n",
    "s.add(2)\n",
    "s.add(3)\n",
    "\n",
    "s\n",
    "\n",
    "sc = s.copy()\n",
    "\n",
    "sc\n",
    "\n",
    "s.add(4)\n",
    "\n",
    "s\n",
    "\n",
    "s.difference(sc)\n",
    "\n",
    "s1 = {1,2,3,4}\n",
    "\n",
    "s2 = {1,2,3}\n",
    "\n",
    "s1.intersection(s2)\n",
    "\n",
    "s1 = {1,2}\n",
    "s2 = {1,2,4}\n",
    "s3 = {5}\n",
    "\n",
    "print s1.isdisjoint(s3)\n",
    "print s1.isdisjoint(s2)\n",
    "\n",
    "print s1.issubset(s2)\n",
    "\n",
    "print s2.issuperset(s1)\n",
    "\n",
    "s1.symmetric_difference(s2)\n",
    "\n",
    "s1.union(s2) #Unioned set has all unique elements from both sets\n",
    "\n"
   ]
  },
  {
   "cell_type": "markdown",
   "metadata": {
    "collapsed": true
   },
   "source": [
    "### Testing Code\n"
   ]
  },
  {
   "cell_type": "code",
   "execution_count": 67,
   "metadata": {
    "collapsed": false
   },
   "outputs": [],
   "source": [
    "# todo"
   ]
  },
  {
   "cell_type": "markdown",
   "metadata": {},
   "source": [
    "### Common functions"
   ]
  },
  {
   "cell_type": "markdown",
   "metadata": {},
   "source": [
    "### Case for  using functions\n",
    "\n",
    "* When possible use Python built in functions. Why ? They are all written using C..so they are inherently faster"
   ]
  },
  {
   "cell_type": "code",
   "execution_count": 70,
   "metadata": {
    "collapsed": false
   },
   "outputs": [
    {
     "name": "stdout",
     "output_type": "stream",
     "text": [
      "mixed case string\n",
      "MIXED CASE STRING\n"
     ]
    }
   ],
   "source": [
    "s = \"Mixed Case String\"\n",
    "\n",
    "print s.lower()\n",
    "print s.upper()\n",
    "\n"
   ]
  },
  {
   "cell_type": "markdown",
   "metadata": {
    "collapsed": true
   },
   "source": [
    "## NumPy, Pandas, Scikit-learn, Beautifulsoup"
   ]
  },
  {
   "cell_type": "markdown",
   "metadata": {},
   "source": [
    "#### numpy\n",
    "* Linear Algebra Lib\n",
    "* Many other libraries (pandas, scikit-learn, etc) built on top of numpy\n",
    "* Very fast as many of the functions in numpy are bound to compiled C code based functions  \n",
    "* Try using Ananconda distribution to get numpy and other dependencies \n",
    "    * conda instal numpy\n",
    "* numpy arrays \n",
    "    * Each element must be of same data type\n",
    "    * vectors - 1d\n",
    "    * matrices - 2d\n",
    "    * Terminology\n",
    "        * Dimensions of an array is called shape of an array\n",
    "        * numpy has functions to \"reshape\" array\n",
    "#### Prefer Universal functions where available as they are space and time efficient"
   ]
  },
  {
   "cell_type": "code",
   "execution_count": 6,
   "metadata": {
    "collapsed": false
   },
   "outputs": [
    {
     "name": "stdout",
     "output_type": "stream",
     "text": [
      "[1 2 3]\n",
      "[[1 2 3]\n",
      " [4 5 6]\n",
      " [7 8 9]]\n"
     ]
    },
    {
     "data": {
      "text/plain": [
       "array([1, 2, 3])"
      ]
     },
     "execution_count": 6,
     "metadata": {},
     "output_type": "execute_result"
    }
   ],
   "source": [
    "# Convert list of list of lists into numpy array tp be able to use numpy functions\n",
    "\n",
    "import numpy as np\n",
    "\n",
    "l1 = [1,2,3]\n",
    "l2 = [[1,2,3],[4,5,6],[7,8,9]]\n",
    "\n",
    "a1 = np.array(l1)\n",
    "a2 = np.array(l2)\n",
    "\n",
    "print a1\n",
    "print a2\n",
    "\n",
    "a1"
   ]
  },
  {
   "cell_type": "code",
   "execution_count": 12,
   "metadata": {
    "collapsed": false
   },
   "outputs": [
    {
     "name": "stdout",
     "output_type": "stream",
     "text": [
      "[ 0  2  4  6  8 10]\n",
      "[ 0.  0.  0.  0.  0.  0.  0.  0.  0.  0.]\n",
      "[[ 0.  0.  0.]\n",
      " [ 0.  0.  0.]\n",
      " [ 0.  0.  0.]]\n",
      "[ 1.  1.  1.]\n"
     ]
    }
   ],
   "source": [
    "# numpy has its own range function called arange\n",
    "\n",
    "import numpy as np\n",
    "\n",
    "a1 = np.arange(0,11,2)\n",
    "\n",
    "print a1\n",
    "\n",
    "a2 = np.zeros(10)\n",
    "\n",
    "print a2\n",
    "\n",
    "# Notice two sets of braces..shape is passed as Tuple here\n",
    "a3 = np.zeros((3,3))\n",
    "\n",
    "print a3\n",
    "\n",
    "print np.ones(3)\n",
    "\n",
    "\n"
   ]
  },
  {
   "cell_type": "code",
   "execution_count": 13,
   "metadata": {
    "collapsed": false
   },
   "outputs": [
    {
     "name": "stdout",
     "output_type": "stream",
     "text": [
      "[ 0.          0.11111111  0.22222222  0.33333333  0.44444444  0.55555556\n",
      "  0.66666667  0.77777778  0.88888889  1.        ]\n"
     ]
    }
   ],
   "source": [
    "# 10 evenly spaced points\n",
    "\n",
    "import numpy as np\n",
    "\n",
    "# 1d vector\n",
    "a1 = np.linspace(0,1,10)\n",
    "\n",
    "print a1\n",
    "\n",
    "# 2d vector\n",
    "a2 = np.linspace(0,1,)"
   ]
  },
  {
   "cell_type": "code",
   "execution_count": 14,
   "metadata": {
    "collapsed": false
   },
   "outputs": [
    {
     "name": "stdout",
     "output_type": "stream",
     "text": [
      "[[ 1.  0.  0.  0.]\n",
      " [ 0.  1.  0.  0.]\n",
      " [ 0.  0.  1.  0.]\n",
      " [ 0.  0.  0.  1.]]\n"
     ]
    }
   ],
   "source": [
    "# Identity matrix - Symmetric metrix with 1s in major diagonal and rest 0s\n",
    "\n",
    "import numpy as np\n",
    "\n",
    "e1 = np.eye(4)\n",
    "\n",
    "print e1\n"
   ]
  },
  {
   "cell_type": "code",
   "execution_count": 20,
   "metadata": {
    "collapsed": false
   },
   "outputs": [
    {
     "name": "stdout",
     "output_type": "stream",
     "text": [
      "[ 0.76134686  0.87043463  0.46874441  0.85980458  0.22896912]\n",
      "[[ 0.76844177  0.37085856  0.03877433]\n",
      " [ 0.90359111  0.99843017  0.11785292]\n",
      " [ 0.87181681  0.49210023  0.67019924]]\n",
      "[ 0.49975756  0.49152562  0.2653217  -0.56896784 -0.62760012]\n",
      "[[ 0.77074184  0.14738216]\n",
      " [-0.62765198  1.12119275]]\n",
      "39\n",
      "[41 21 38 45 80]\n"
     ]
    }
   ],
   "source": [
    "# Generating vectors and metrices of Random numbrs from different distributions\n",
    "\n",
    "# Checkout all different random functions available by np.random.<Tab>\n",
    "\n",
    "import numpy as np\n",
    "\n",
    "r1 = np.random.rand(5)  # random numbers from standard uniform distribution. No -ve numbers\n",
    "\n",
    "r2 = np.random.rand(3,3)  # Note here we are not passing Tuple..directly two parameters\n",
    "\n",
    "print r1\n",
    "print r2\n",
    "\n",
    "r1 = np.random.randn(5) # random numbers from Gaussian distribution. Standard dist. centered \n",
    "print r1                # around zero. Can have -ve numbers\n",
    "\n",
    "print np.random.randn(2,2)\n",
    "\n",
    "r3 = np.random.randint(1,100)  # 100 not included. So 0 probability of included. Returns single\n",
    "print r3                       # integer\n",
    "\n",
    "r4 = np.random.randint(1,100,5) # Array of 5 integers. 100 not inclusive\n",
    "print r4"
   ]
  },
  {
   "cell_type": "code",
   "execution_count": 51,
   "metadata": {
    "collapsed": false
   },
   "outputs": [
    {
     "name": "stdout",
     "output_type": "stream",
     "text": [
      "[21 18  9  8 13 36 30 47  5 36]\n",
      "[[21 18]\n",
      " [ 9  8]\n",
      " [13 36]\n",
      " [30 47]\n",
      " [ 5 36]]\n",
      "[21 18  9  8 13 36 30 47  5 36]\n",
      "(10,)\n",
      "(5, 2)\n",
      "[[ 0  1  2  3  4  5  6  7  8  9]\n",
      " [10 11 12 13 14 15 16 17 18 19]\n",
      " [20 21 22 23 24 25 26 27 28 29]\n",
      " [30 31 32 33 34 35 36 37 38 39]\n",
      " [40 41 42 43 44 45 46 47 48 49]]\n"
     ]
    }
   ],
   "source": [
    "# Array Reshaping\n",
    "# Reshaped array must contain same number of elements as original\n",
    "# Reshape can be used to serialize and deserialize\n",
    "\n",
    "import numpy as np\n",
    "\n",
    "a1 = np.random.randint(1,50,10)\n",
    "\n",
    "print a1\n",
    "\n",
    "a2 = a1.reshape(5,2) #Note Reshaped Array must contain same number of elements\n",
    "\n",
    "print a2 \n",
    "\n",
    "a3 = a2.reshape(10)\n",
    "\n",
    "print a3\n",
    "\n",
    "# Find shape of given array. Note shape is not a method, it's a variable\n",
    "# Note the returned value is always Tuple\n",
    "\n",
    "print a1.shape\n",
    "print a2.shape\n",
    "\n",
    "# Another example of reshape\n",
    "\n",
    "a1 = np.arange(50).reshape(5,10)\n",
    "\n",
    "print a1\n"
   ]
  },
  {
   "cell_type": "code",
   "execution_count": 23,
   "metadata": {
    "collapsed": false
   },
   "outputs": [
    {
     "name": "stdout",
     "output_type": "stream",
     "text": [
      "[23 42 16 21 22 16  3 12 42 27 24 11 30 37 44 15 18 17  9 49]\n",
      "49 3 19 6\n"
     ]
    }
   ],
   "source": [
    "# max, min and index\n",
    "\n",
    "import numpy as np\n",
    "\n",
    "a1 = np.random.randint(1,50,20)\n",
    "\n",
    "print a1\n",
    "\n",
    "print a1.max(), a1.min(), a1.argmax(),a1.argmin()"
   ]
  },
  {
   "cell_type": "code",
   "execution_count": null,
   "metadata": {
    "collapsed": true
   },
   "outputs": [],
   "source": [
    "# Array Indexing and Slicing"
   ]
  },
  {
   "cell_type": "code",
   "execution_count": 43,
   "metadata": {
    "collapsed": false
   },
   "outputs": [
    {
     "name": "stdout",
     "output_type": "stream",
     "text": [
      "[26 34  1 36 46 17 31 48 16 33 19  4  2 36 28  7 24 40  6 49]\n",
      "46\n",
      "[26 34  1 36 46]\n",
      "[26 34  1 36 46]\n",
      "[17 31 48 16 33 19  4  2 36 28  7 24 40  6 49]\n",
      "[26 34  1 36 46 17 31 48 16 33 19  4  2 36 28  7 24 40  6 49]\n",
      "[26 34  1 36 46 17 31 48 16 33 19  4  2 36 28  7 24 40  6 49]\n",
      "[26 34  1 36 46]\n",
      "[100 100 100 100 100 100 100 100 100 100 100 100 100 100 100 100 100 100\n",
      " 100 100]\n",
      "[26 34  1 36 46 17 31 48 16 33 19  4  2 36 28  7 24 40  6 49]\n",
      "[100 100 100 100 100]\n",
      "[100 100 100 100 100  17  31  48  16  33  19   4   2  36  28   7  24  40\n",
      "   6  49]\n",
      "100\n"
     ]
    }
   ],
   "source": [
    "import numpy as np\n",
    "\n",
    "a1 = np.random.randint(1,50,20)\n",
    "\n",
    "print a1\n",
    "\n",
    "print a1[4]\n",
    "\n",
    "print a1[0:5]  # Grab 0 upto index 5 but not 5. Note that 5 is not included in returned slice\n",
    "\n",
    "print a1[:5] # Grab 0 upto index 5 but not 5. Note that 5 is not included in returned slice\n",
    "\n",
    "print a1[5:] # Grab from index 5 including 5. Note that index 5 is included in returned slice\n",
    "\n",
    "print a1[:] # Grab everything\n",
    "\n",
    "\n",
    "# Note slicing returns views on Arrays and not a  new Array\n",
    "\n",
    "a2 = a1[0:5]\n",
    "\n",
    "print a1\n",
    "print a2\n",
    "\n",
    "# If we need a copy of array and not reference\n",
    "\n",
    "a3 = a1.copy()\n",
    "\n",
    "a3[:] = 100\n",
    "\n",
    "print a3\n",
    "print a1\n",
    "\n",
    "a2[:] = 100 # Note it's a2[:] = 100 and not a2 = 100\n",
    "\n",
    "print a2\n",
    "print a1\n",
    "\n",
    "\n",
    "# Note it's a2[:] = 100 and not a2 = 100\n",
    "a2 = 100\n",
    "\n",
    "print a2\n",
    "\n",
    "\n",
    "\n",
    "\n",
    "\n"
   ]
  },
  {
   "cell_type": "code",
   "execution_count": 46,
   "metadata": {
    "collapsed": false
   },
   "outputs": [
    {
     "name": "stdout",
     "output_type": "stream",
     "text": [
      "[[1 2 3]\n",
      " [4 5 6]\n",
      " [7 8 9]]\n",
      "5\n",
      "5\n",
      "[[2 3]\n",
      " [5 6]]\n"
     ]
    }
   ],
   "source": [
    "# Indexing and Grabing slices of matrices\n",
    "\n",
    "import numpy as np\n",
    "\n",
    "a1 = np.array([[1,2,3],[4,5,6],[7,8,9]])\n",
    "\n",
    "\n",
    "print a1\n",
    "print a1[1,1]  # This and following notation are same\n",
    "print a1[1][1]\n",
    "print a1[:2,1:] # Grab upto row at index 2 but not 2 and from column at index 1 including 1\n",
    "\n"
   ]
  },
  {
   "cell_type": "code",
   "execution_count": 41,
   "metadata": {
    "collapsed": false
   },
   "outputs": [
    {
     "name": "stdout",
     "output_type": "stream",
     "text": [
      "[1, 2, 3]\n",
      "[0 1 2]\n",
      "[5 6 7]\n",
      "[25 30 35]\n",
      "[1, 2, 3, 1, 2, 3, 1, 2, 3, 1, 2, 3, 1, 2, 3]\n"
     ]
    },
    {
     "ename": "TypeError",
     "evalue": "can only concatenate list (not \"int\") to list",
     "output_type": "error",
     "traceback": [
      "\u001b[0;31m---------------------------------------------------------------------------\u001b[0m",
      "\u001b[0;31mTypeError\u001b[0m                                 Traceback (most recent call last)",
      "\u001b[0;32m<ipython-input-41-b26c04a3677b>\u001b[0m in \u001b[0;36m<module>\u001b[0;34m()\u001b[0m\n\u001b[1;32m     23\u001b[0m \u001b[0;34m\u001b[0m\u001b[0m\n\u001b[1;32m     24\u001b[0m \u001b[0;31m# Can't do following. Results in TypeError exception\u001b[0m\u001b[0;34m\u001b[0m\u001b[0;34m\u001b[0m\u001b[0m\n\u001b[0;32m---> 25\u001b[0;31m \u001b[0ml1\u001b[0m \u001b[0;34m=\u001b[0m \u001b[0ml1\u001b[0m \u001b[0;34m+\u001b[0m \u001b[0;36m5\u001b[0m\u001b[0;34m\u001b[0m\u001b[0m\n\u001b[0m\u001b[1;32m     26\u001b[0m \u001b[0;32mprint\u001b[0m \u001b[0ml1\u001b[0m\u001b[0;34m\u001b[0m\u001b[0m\n\u001b[1;32m     27\u001b[0m \u001b[0;34m\u001b[0m\u001b[0m\n",
      "\u001b[0;31mTypeError\u001b[0m: can only concatenate list (not \"int\") to list"
     ]
    }
   ],
   "source": [
    "# Arrays have Broadcast capabilities, Lists don't\n",
    "\n",
    "import numpy as np\n",
    "\n",
    "l1 = [1,2,3]\n",
    "\n",
    "a1 = np.arange(3)\n",
    "\n",
    "print l1\n",
    "print a1\n",
    "\n",
    "\n",
    "# Following broadcasts operation to each numpy Array element\n",
    "a1 += 5\n",
    "\n",
    "print a1\n",
    "\n",
    "print a1*5\n",
    "\n",
    "\n",
    "\n",
    "# Following operation on list is different from Array...following expands list by making 5 copies of elements  \n",
    "l1 = l1 * 5\n",
    "print l1\n",
    "\n",
    "# Can't do following. Results in TypeError exception\n",
    "l1 = l1 + 5\n",
    "print l1\n",
    "\n",
    "\n",
    "\n"
   ]
  },
  {
   "cell_type": "code",
   "execution_count": 50,
   "metadata": {
    "collapsed": false
   },
   "outputs": [
    {
     "name": "stdout",
     "output_type": "stream",
     "text": [
      "[49 44 48 40 41 27  6 23 22 49 11 28  4 27 14 21  1 30 18 46]\n",
      "[ True  True  True  True  True  True  True  True  True  True  True  True\n",
      " False  True  True  True False  True  True  True]\n",
      "[49 44 48 40 41 27  6 23 22 49 11 28 27 14 21 30 18 46]\n",
      "[49 44 48 40 41 27  6 23 22 49 11 28 27 14 21 30 18 46]\n"
     ]
    }
   ],
   "source": [
    "# Conditional selection in Array\n",
    "\n",
    "import numpy as np\n",
    "\n",
    "a1 = np.random.randint(1,50,20)\n",
    "\n",
    "print a1\n",
    "\n",
    "a1_boolean = a1 > 5\n",
    "\n",
    "print a1_boolean\n",
    "\n",
    "a2 = a1[a1_boolean]\n",
    "\n",
    "print a2\n",
    "\n",
    "# Above two steps are same as \n",
    "\n",
    "a2 = a1[a1>5]  # [expression that returns boolean]\n",
    "\n",
    "print a2"
   ]
  },
  {
   "cell_type": "markdown",
   "metadata": {},
   "source": [
    "#### Array Operations\n",
    "     - Array and Scalars (aka Matrix and Scalars)\n",
    "     - Arrays and Arrays \n",
    "     - Universal Array functions\n",
    "#### Prefer Universal functions where available as they are space and time efficient     "
   ]
  },
  {
   "cell_type": "code",
   "execution_count": 69,
   "metadata": {
    "collapsed": false
   },
   "outputs": [
    {
     "name": "stdout",
     "output_type": "stream",
     "text": [
      "Array Ops with other Array\n",
      "[0 1 2 3 4 5 6 7 8 9]\n",
      "[ 0  2  4  6  8 10 12 14 16 18]\n",
      "[ 0  1  4  9 16 25 36 49 64 81]\n",
      "Array Ops with Scalar\n",
      "[ 5  6  7  8  9 10 11 12 13 14]\n",
      "[ 0  5 10 15 20 25 30 35 40 45]\n",
      "[ 0  1  4  9 16 25 36 49 64 81]\n",
      "Exception and Warnings\n",
      "[0 1 1 1 1 1 1 1 1 1]\n",
      "[0 0 0 0 0 0 0 0 0 0]\n",
      "Universal functions applies to each array element\n",
      "[ 0.          1.          1.41421356  1.73205081  2.          2.23606798\n",
      "  2.44948974  2.64575131  2.82842712  3.        ]\n",
      "[ 0  1  4  9 16 25 36 49 64 81]\n",
      "[-9223372036854775808                    1                    0\n",
      "                    0                    0                    0\n",
      "                    0                    0                    0\n",
      "                    0]\n",
      "[  1.00000000e+00   2.71828183e+00   7.38905610e+00   2.00855369e+01\n",
      "   5.45981500e+01   1.48413159e+02   4.03428793e+02   1.09663316e+03\n",
      "   2.98095799e+03   8.10308393e+03]\n",
      "[   1.    2.    4.    8.   16.   32.   64.  128.  256.  512.]\n",
      "[  0.00000000e+00   1.71828183e+00   6.38905610e+00   1.90855369e+01\n",
      "   5.35981500e+01   1.47413159e+02   4.02428793e+02   1.09563316e+03\n",
      "   2.97995799e+03   8.10208393e+03]\n",
      "[       -inf  0.          0.69314718  1.09861229  1.38629436  1.60943791\n",
      "  1.79175947  1.94591015  2.07944154  2.19722458]\n",
      "[       -inf  0.          1.          1.5849625   2.          2.32192809\n",
      "  2.5849625   2.80735492  3.          3.169925  ]\n",
      "[       -inf  0.          0.30103     0.47712125  0.60205999  0.69897\n",
      "  0.77815125  0.84509804  0.90308999  0.95424251]\n",
      "[ 0.          0.69314718  1.09861229  1.38629436  1.60943791  1.79175947\n",
      "  1.94591015  2.07944154  2.19722458  2.30258509]\n",
      "0 9\n",
      "[ 0 -1 -2 -3 -4 -5 -6 -7 -8 -9]\n",
      "[0 1 2 3 4 5 6 7 8 9]\n",
      "[ 0.          0.84147098  0.90929743  0.14112001 -0.7568025  -0.95892427\n",
      " -0.2794155   0.6569866   0.98935825  0.41211849]\n",
      "[       -inf  0.          0.69314718  1.09861229  1.38629436  1.60943791\n",
      "  1.79175947  1.94591015  2.07944154  2.19722458]\n",
      "[ 0  2  4  6  8 10 12 14 16 18]\n"
     ]
    },
    {
     "name": "stderr",
     "output_type": "stream",
     "text": [
      "/Users/kavap/Library/Enthought/Canopy_64bit/User/lib/python2.7/site-packages/ipykernel/__main__.py:34: RuntimeWarning: divide by zero encountered in divide\n",
      "/Users/kavap/Library/Enthought/Canopy_64bit/User/lib/python2.7/site-packages/ipykernel/__main__.py:38: RuntimeWarning: divide by zero encountered in divide\n",
      "/Users/kavap/Library/Enthought/Canopy_64bit/User/lib/python2.7/site-packages/ipykernel/__main__.py:52: RuntimeWarning: divide by zero encountered in reciprocal\n",
      "/Users/kavap/Library/Enthought/Canopy_64bit/User/lib/python2.7/site-packages/ipykernel/__main__.py:52: RuntimeWarning: invalid value encountered in reciprocal\n",
      "/Users/kavap/Library/Enthought/Canopy_64bit/User/lib/python2.7/site-packages/ipykernel/__main__.py:58: RuntimeWarning: divide by zero encountered in log\n",
      "/Users/kavap/Library/Enthought/Canopy_64bit/User/lib/python2.7/site-packages/ipykernel/__main__.py:59: RuntimeWarning: divide by zero encountered in log2\n",
      "/Users/kavap/Library/Enthought/Canopy_64bit/User/lib/python2.7/site-packages/ipykernel/__main__.py:60: RuntimeWarning: divide by zero encountered in log10\n",
      "/Users/kavap/Library/Enthought/Canopy_64bit/User/lib/python2.7/site-packages/ipykernel/__main__.py:68: RuntimeWarning: divide by zero encountered in log\n"
     ]
    }
   ],
   "source": [
    "import numpy as np\n",
    "\n",
    "# Array Ops with other Array\n",
    "\n",
    "print \"Array Ops with other Array\"\n",
    "\n",
    "a1 = np.arange(10)\n",
    "print a1\n",
    "\n",
    "a2 = a1 + a1\n",
    "print a2\n",
    "\n",
    "a2 = a1*a1\n",
    "print a2\n",
    "\n",
    "# Array Ops with Scalar\n",
    "\n",
    "print \"Array Ops with Scalar\"\n",
    "\n",
    "a2 = a1+5\n",
    "print a2\n",
    "\n",
    "a2 = a1*5\n",
    "print a2\n",
    "\n",
    "a2 = a1 ** 2 # Exponents\n",
    "print a2\n",
    "\n",
    "\n",
    "# Note that numpy Array Ops return nan in result and  a Warning in cases such as 0/0 or \n",
    "# return inf in n/0 where n!=0. numpy array doesn't return exception as non numpy objects do\n",
    "\n",
    "print \"Exception and Warnings\"\n",
    "a2 = a1/a1\n",
    "\n",
    "print a2\n",
    "\n",
    "a2 = a1/0\n",
    "\n",
    "print a2\n",
    "\n",
    "# print 1/0 # This results in exception\n",
    "\n",
    "\n",
    "# Universal functions applies to each array element\n",
    "# do np.<tab> to see what functions are available\n",
    "\n",
    "print \"Universal functions applies to each array element\"\n",
    "\n",
    "print np.sqrt(a1)\n",
    "print np.cbrt(a1) # Cube root\n",
    "print np.square(a1)\n",
    "print np.reciprocal(a1) # 1/x where x is each element\n",
    "\n",
    "print np.exp(a1) # base e\n",
    "print np.exp2(a1) # base 2\n",
    "print np.expm1(a1) # Calculate exp(x) - 1 for all elements in the array.\n",
    "\n",
    "print np.log(a1) # log base e\n",
    "print np.log2(a1) # log base 2\n",
    "print np.log10(a1) # log base 10\n",
    "print np.log1p(a1) # Return the natural logarithm of one plus the input array, element-wise.\n",
    "\n",
    "\n",
    "print np.min(a1), np.max(a1)\n",
    "print np.negative(a1)\n",
    "print np.absolute(a1)\n",
    "print np.sin(a1)\n",
    "print np.log(a1)  # log(0) = inf\n",
    "print np.add(a1,a1)  #suntract/multiply/divide/true_divide/floor_divide/power/remainder/mod/\n",
    "                     # \n",
    "\n",
    "# Before building any Array ops function, check if one is available at :\n",
    "# https://docs.scipy.org/doc/numpy/reference/ufuncs.html\n",
    "\n",
    "\n"
   ]
  },
  {
   "cell_type": "markdown",
   "metadata": {},
   "source": [
    "## pandas\n",
    "* pandas is built on numpy (so eventually on functions implemented in C) and is fast\n",
    "* Data ingestion, cleaning, preparation, transformation and visualization"
   ]
  },
  {
   "cell_type": "markdown",
   "metadata": {},
   "source": [
    "#### Series"
   ]
  },
  {
   "cell_type": "code",
   "execution_count": 82,
   "metadata": {
    "collapsed": false
   },
   "outputs": [
    {
     "name": "stdout",
     "output_type": "stream",
     "text": [
      "0    1\n",
      "1    2\n",
      "2    3\n",
      "dtype: int64\n",
      "a    1\n",
      "b    2\n",
      "c    3\n",
      "dtype: int64\n",
      "a    1\n",
      "b    2\n",
      "c    3\n",
      "dtype: int64\n",
      "a    0\n",
      "b    1\n",
      "c    2\n",
      "dtype: int64\n",
      "a    1\n",
      "b    2\n",
      "c    3\n",
      "dtype: int64\n",
      "USA         1\n",
      "Germany     2\n",
      "Japan       3\n",
      "Italy      11\n",
      "dtype: int64\n",
      "USA          4\n",
      "India        5\n",
      "Germany      6\n",
      "Australia    7\n",
      "Japan        8\n",
      "dtype: int64\n",
      "Australia     NaN\n",
      "Germany       8.0\n",
      "India         NaN\n",
      "Italy         NaN\n",
      "Japan        11.0\n",
      "USA           5.0\n",
      "dtype: float64\n"
     ]
    }
   ],
   "source": [
    "import numpy as np\n",
    "import pandas as pd\n",
    "\n",
    "my_data = [1,2,3]\n",
    "my_labels = ['a','b','c']\n",
    "numpy_array = np.arange(3)\n",
    "d_dict = {'a':1,'b':2,'c':3}\n",
    "\n",
    "# Different ways to construct pandas series\n",
    "\n",
    "s1 = pd.Series(data=my_data) # Default labels are index values\n",
    "print s1\n",
    "\n",
    "s1 = pd.Series(data=my_data,index=my_labels) #note S is uppercase in Series\n",
    "print s1\n",
    "\n",
    "s1 = pd.Series(my_data,my_labels) # as long as data and index are passed in that order\n",
    "print s1\n",
    "\n",
    "s1 = pd.Series(numpy_array,my_labels)\n",
    "print s1\n",
    "\n",
    "s1 = pd.Series(d_dict)  # If object type of first parameter is dictionary, the lables are taken\n",
    "                        # from dictionary indexes\n",
    "print s1\n",
    "\n",
    "# Series operations\n",
    "\n",
    "s1 = pd.Series([1,2,3,11],['USA','Germany','Japan','Italy'])\n",
    "print s1\n",
    "\n",
    "s2 = pd.Series([4,5,6,7,8],['USA','India','Germany','Australia','Japan'])\n",
    "print s2\n",
    "\n",
    "print s1+s2 # Perform operation on Series elements where labels match. Where lables dont match,\n",
    "            # output contains label with value NaN\n",
    "\n",
    "\n"
   ]
  },
  {
   "cell_type": "markdown",
   "metadata": {},
   "source": [
    "#### Dataframes\n",
    "* Dataframe is a number of series put together so that they share index\n",
    "* Dataframe is basically a  numpy 2d matrix with labels for both dimensions\n",
    "* "
   ]
  },
  {
   "cell_type": "code",
   "execution_count": 106,
   "metadata": {
    "collapsed": false
   },
   "outputs": [
    {
     "name": "stdout",
     "output_type": "stream",
     "text": [
      "[[ 2.70684984  0.62813271  0.90796945  0.50382575]\n",
      " [ 0.65111795 -0.31931804 -0.84807698  0.60596535]\n",
      " [-2.01816824  0.74012206  0.52881349 -0.58900053]\n",
      " [ 0.18869531 -0.75887206 -0.93323722  0.95505651]\n",
      " [ 0.19079432  1.97875732  2.60596728  0.68350889]]\n",
      "          X         Y         Z         W\n",
      "A  2.706850  0.628133  0.907969  0.503826\n",
      "B  0.651118 -0.319318 -0.848077  0.605965\n",
      "C -2.018168  0.740122  0.528813 -0.589001\n",
      "D  0.188695 -0.758872 -0.933237  0.955057\n",
      "E  0.190794  1.978757  2.605967  0.683509\n",
      "<class 'pandas.core.frame.DataFrame'>\n",
      "A    0.503826\n",
      "B    0.605965\n",
      "C   -0.589001\n",
      "D    0.955057\n",
      "E    0.683509\n",
      "Name: W, dtype: float64\n",
      "<class 'pandas.core.series.Series'>\n",
      "          W         X\n",
      "A  0.503826  2.706850\n",
      "B  0.605965  0.651118\n",
      "C -0.589001 -2.018168\n",
      "D  0.955057  0.188695\n",
      "E  0.683509  0.190794\n",
      "<class 'pandas.core.frame.DataFrame'>\n",
      "          X         Y         Z         W       new\n",
      "A  2.706850  0.628133  0.907969  0.503826  3.210676\n",
      "B  0.651118 -0.319318 -0.848077  0.605965  1.257083\n",
      "C -2.018168  0.740122  0.528813 -0.589001 -2.607169\n",
      "D  0.188695 -0.758872 -0.933237  0.955057  1.143752\n",
      "E  0.190794  1.978757  2.605967  0.683509  0.874303\n",
      "          X         Y         Z       new\n",
      "A  2.706850  0.628133  0.907969  3.210676\n",
      "B  0.651118 -0.319318 -0.848077  1.257083\n",
      "C -2.018168  0.740122  0.528813 -2.607169\n",
      "D  0.188695 -0.758872 -0.933237  1.143752\n",
      "E  0.190794  1.978757  2.605967  0.874303\n",
      "          X         Y         Z         W       new\n",
      "A  2.706850  0.628133  0.907969  0.503826  3.210676\n",
      "B  0.651118 -0.319318 -0.848077  0.605965  1.257083\n",
      "C -2.018168  0.740122  0.528813 -0.589001 -2.607169\n",
      "D  0.188695 -0.758872 -0.933237  0.955057  1.143752\n",
      "E  0.190794  1.978757  2.605967  0.683509  0.874303\n",
      "          X         Y         Z       new\n",
      "A  2.706850  0.628133  0.907969  3.210676\n",
      "B  0.651118 -0.319318 -0.848077  1.257083\n",
      "C -2.018168  0.740122  0.528813 -2.607169\n",
      "D  0.188695 -0.758872 -0.933237  1.143752\n",
      "E  0.190794  1.978757  2.605967  0.874303\n",
      "          X         Y         Z       new\n",
      "B  0.651118 -0.319318 -0.848077  1.257083\n",
      "C -2.018168  0.740122  0.528813 -2.607169\n",
      "D  0.188695 -0.758872 -0.933237  1.143752\n",
      "E  0.190794  1.978757  2.605967  0.874303\n",
      "A    0.503826\n",
      "B    0.605965\n",
      "C   -0.589001\n",
      "D    0.955057\n",
      "E    0.683509\n",
      "Name: W, dtype: float64\n",
      "          W         Z\n",
      "A  0.503826  0.907969\n",
      "B  0.605965 -0.848077\n",
      "C -0.589001  0.528813\n",
      "D  0.955057 -0.933237\n",
      "E  0.683509  2.605967\n",
      "X    2.706850\n",
      "Y    0.628133\n",
      "Z    0.907969\n",
      "W    0.503826\n",
      "Name: A, dtype: float64\n",
      "<class 'pandas.core.series.Series'>\n",
      "          X         Y         Z         W\n",
      "A  2.706850  0.628133  0.907969  0.503826\n",
      "C -2.018168  0.740122  0.528813 -0.589001\n",
      "<class 'pandas.core.frame.DataFrame'>\n",
      "X    0.651118\n",
      "Y   -0.319318\n",
      "Z   -0.848077\n",
      "W    0.605965\n",
      "Name: B, dtype: float64\n",
      "0.651117947943\n",
      "          X         Y\n",
      "A  2.706850  0.628133\n",
      "B  0.651118 -0.319318\n",
      "          X         Z\n",
      "A  2.706850  0.907969\n",
      "C -2.018168  0.528813\n"
     ]
    }
   ],
   "source": [
    "import numpy as np\n",
    "import pandas as pd\n",
    "from numpy.random import randn \n",
    "\n",
    "np.random.seed(101) #Seeds random number generator to generate psudo random # seeded by 101\n",
    "\n",
    "data_matrix = randn(5,4)\n",
    "print data_matrix\n",
    "\n",
    "df1 = pd.DataFrame(data=data_matrix,index='A B C D E'.split(),columns='X Y Z W'.split())\n",
    "\n",
    "print df1\n",
    "print type(df1) # Note df1 is object of type DataFrame\n",
    "\n",
    "print df1['W']\n",
    "print type(df1['W']) # Note a column is dataframe is basically a series\n",
    "\n",
    "print df1[['W','X']]\n",
    "print type(df1[['W','X']]) #Selecting multiple columns from a dataframe creates  a dataframe\n",
    "\n",
    "\n",
    "# Creating new columns using dataframe operations\n",
    "\n",
    "df1['new'] = df1['W'] + df1['X']\n",
    "\n",
    "print df1\n",
    "\n",
    "# Creating new Dataframe with 1 less column\n",
    "\n",
    "df2 = df1.drop('W',axis=1)   # Note that column axis needs to be specified \n",
    "print df2\n",
    "print df1 # Note that original dataframe still has 'W'\n",
    "\n",
    "df1.drop('W',axis=1,inplace=True)  #To remove a column from a Dataframe, inplace has to set to True\n",
    "print df1\n",
    "\n",
    "# Both row and columns can be dropped\n",
    "df2.drop('A',inplace=True) # Note Axis not specified as default axis is 0 (row)\n",
    "print df2 \n",
    "\n",
    "\n",
    "# Selecting a column or set of columns\n",
    "df1 = pd.DataFrame(data=data_matrix,index='A B C D E'.split(),columns='X Y Z W'.split())\n",
    "\n",
    "print df1['W']\n",
    "print df1[['W','Z']] #Note double [[]] we need to provide list of columns in []\n",
    "\n",
    "\n",
    "# Selecting row(s) needs special functions\n",
    "\n",
    "print df1.loc['A']   #note wierd function bracket here [] instead of ()\n",
    "print type(df1.loc['A'])  #Note that even a single row is a series \n",
    "\n",
    "print df1.loc[['A','C']]\n",
    "print type(df1.loc[['A','C']]) #Multiple rows on other hand is a dataframe\n",
    "\n",
    "print df1.iloc[1] #in looping scenarios, we can use index of row as well\n",
    "\n",
    "\n",
    "# Selecting subset of rows and columns\n",
    "print df1.loc['B','X'] #Note here, the row and column labels are not given in list. If it was list it would be treated as list of rows\n",
    "\n",
    "print df1.loc[['A','B'],['X','Y']]  #The elements can be from contiguous rows and columns or \n",
    "print df1.loc[['A','C'],['X','Z']] # from non contiguous rows and non contiguous columns\n",
    "\n",
    "\n",
    "\n"
   ]
  },
  {
   "cell_type": "code",
   "execution_count": 117,
   "metadata": {
    "collapsed": false
   },
   "outputs": [
    {
     "name": "stdout",
     "output_type": "stream",
     "text": [
      "[[ 2.70684984  0.62813271  0.90796945  0.50382575]\n",
      " [ 0.65111795 -0.31931804 -0.84807698  0.60596535]\n",
      " [-2.01816824  0.74012206  0.52881349 -0.58900053]\n",
      " [ 0.18869531 -0.75887206 -0.93323722  0.95505651]\n",
      " [ 0.19079432  1.97875732  2.60596728  0.68350889]]\n",
      "       X      Y      Z      W\n",
      "A   True   True   True   True\n",
      "B   True  False  False   True\n",
      "C  False   True   True  False\n",
      "D   True  False  False   True\n",
      "E   True   True   True   True\n",
      "          X         Y         Z         W\n",
      "A  2.706850  0.628133  0.907969  0.503826\n",
      "B  0.651118       NaN       NaN  0.605965\n",
      "C       NaN  0.740122  0.528813       NaN\n",
      "D  0.188695       NaN       NaN  0.955057\n",
      "E  0.190794  1.978757  2.605967  0.683509\n",
      "          X         Y         Z         W\n",
      "A  2.706850  0.628133  0.907969  0.503826\n",
      "B  0.651118       NaN       NaN  0.605965\n",
      "C       NaN  0.740122  0.528813       NaN\n",
      "D  0.188695       NaN       NaN  0.955057\n",
      "E  0.190794  1.978757  2.605967  0.683509\n",
      "          X         Y         Z         W\n",
      "A  2.706850  0.628133  0.907969  0.503826\n",
      "B  0.651118 -0.319318 -0.848077  0.605965\n",
      "D  0.188695 -0.758872 -0.933237  0.955057\n",
      "E  0.190794  1.978757  2.605967  0.683509\n",
      "          Y         X\n",
      "A  0.628133  2.706850\n",
      "B -0.319318  0.651118\n",
      "D -0.758872  0.188695\n",
      "E  1.978757  0.190794\n",
      "          X         Y         Z         W\n",
      "E  0.190794  1.978757  2.605967  0.683509\n",
      "          X         Y         Z         W\n",
      "A  2.706850  0.628133  0.907969  0.503826\n",
      "B  0.651118 -0.319318 -0.848077  0.605965\n",
      "D  0.188695 -0.758872 -0.933237  0.955057\n",
      "E  0.190794  1.978757  2.605967  0.683509\n"
     ]
    }
   ],
   "source": [
    "# Conditional selection\n",
    "\n",
    "import numpy as np\n",
    "import pandas as pd\n",
    "from numpy.random import randn \n",
    "\n",
    "np.random.seed(101) #Seeds random number generator to generate psudo random # seeded by 101\n",
    "\n",
    "data_matrix = randn(5,4)\n",
    "print data_matrix\n",
    "\n",
    "df1 = pd.DataFrame(data=data_matrix,index='A B C D E'.split(),columns='X Y Z W'.split())\n",
    "\n",
    "# Conditional selection\n",
    "\n",
    "bool_df1 = df1 > 0\n",
    "print bool_df1\n",
    "\n",
    "print df1[bool_df1] #Rarely used op. But note it applies the condition on each element. \n",
    "                    # output here contains result of applying condition to each element\n",
    "                    # Note NaN in places where condition is false\n",
    "\n",
    "# Above can be written in one line\n",
    "print df1[df1>0]\n",
    "\n",
    "# More common usage though is like filtering based on column or row values \n",
    "# In those cases, unlike above, only matching rows/columns are returned in output DataFrame\n",
    "# Similar to excel custom filters\n",
    "\n",
    "print df1[df1['W'] > 0] #Return only those rows  where column W value > 0. All columns are returned\n",
    "\n",
    "# We can trim down which columns are included in result\n",
    "\n",
    "print df1[df1['W'] > 0 ] [['Y','X']] # Note since returned value is DataFrame, we can perform\n",
    "                                   # DataFrame specific operation. Note [[]] to supply list of columns\n",
    "\n",
    "# We can provide multple conditions\n",
    "# Note we use & as well as | as opposed to Python's normal and / or  operators\n",
    "# Also note that each term in expression is in ()\n",
    "\n",
    "print df1[(df1['W'] > 0) & (df1['Y'] > 1)]\n",
    "\n",
    "print df1[(df1['W'] > 0) | (df1['Y'] > 1)]\n",
    "\n"
   ]
  },
  {
   "cell_type": "code",
   "execution_count": 124,
   "metadata": {
    "collapsed": false
   },
   "outputs": [
    {
     "name": "stdout",
     "output_type": "stream",
     "text": [
      "  index         X         Y         Z         W States\n",
      "0     A  2.706850  0.628133  0.907969  0.503826     NY\n",
      "1     B  0.651118 -0.319318 -0.848077  0.605965     CA\n",
      "2     C -2.018168  0.740122  0.528813 -0.589001     MA\n",
      "3     D  0.188695 -0.758872 -0.933237  0.955057     NV\n",
      "4     E  0.190794  1.978757  2.605967  0.683509     NJ\n",
      "['NY', 'CA', 'MA', 'NV', 'NJ']\n",
      "          X         Y         Z         W States\n",
      "A  2.706850  0.628133  0.907969  0.503826     NY\n",
      "B  0.651118 -0.319318 -0.848077  0.605965     CA\n",
      "C -2.018168  0.740122  0.528813 -0.589001     MA\n",
      "D  0.188695 -0.758872 -0.933237  0.955057     NV\n",
      "E  0.190794  1.978757  2.605967  0.683509     NJ\n",
      "               X         Y         Z         W\n",
      "States                                        \n",
      "NY      2.706850  0.628133  0.907969  0.503826\n",
      "CA      0.651118 -0.319318 -0.848077  0.605965\n",
      "MA     -2.018168  0.740122  0.528813 -0.589001\n",
      "NV      0.188695 -0.758872 -0.933237  0.955057\n",
      "NJ      0.190794  1.978757  2.605967  0.683509\n",
      "          X         Y         Z         W States\n",
      "A  2.706850  0.628133  0.907969  0.503826     NY\n",
      "B  0.651118 -0.319318 -0.848077  0.605965     CA\n",
      "C -2.018168  0.740122  0.528813 -0.589001     MA\n",
      "D  0.188695 -0.758872 -0.933237  0.955057     NV\n",
      "E  0.190794  1.978757  2.605967  0.683509     NJ\n"
     ]
    }
   ],
   "source": [
    "# Resetting and Changing Index\n",
    "\n",
    "# Reset index makes orginal index as a column and sets numerical index as index\n",
    "print df1.reset_index() #Note to permantently reset index, reset_index(inplace=True)\n",
    "\n",
    "\n",
    "\n",
    "states = \"NY CA MA NV NJ\".split()\n",
    "print states\n",
    "df1['States'] = states\n",
    "print df1\n",
    "\n",
    "# To set index to values in any column\n",
    "\n",
    "print df1.set_index('States') # This overwrites existing index and we loose original index\n",
    "print df1                     # Note to do perm index set, inplace=True needed\n",
    "\n"
   ]
  },
  {
   "cell_type": "code",
   "execution_count": 138,
   "metadata": {
    "collapsed": false
   },
   "outputs": [
    {
     "name": "stdout",
     "output_type": "stream",
     "text": [
      "[('G1', 1), ('G1', 2), ('G1', 3), ('G2', 1), ('G2', 2), ('G2', 3)]\n",
      "MultiIndex(levels=[[u'G1', u'G2'], [1, 2, 3]],\n",
      "           labels=[[0, 0, 0, 1, 1, 1], [0, 1, 2, 0, 1, 2]])\n",
      "             A         B\n",
      "G1 1  0.975720 -0.388239\n",
      "   2  0.783316 -0.708954\n",
      "   3  0.586847 -1.621348\n",
      "G2 1  0.677535  0.026105\n",
      "   2 -1.678284  0.333973\n",
      "   3 -0.532471  2.117727\n",
      "          A         B\n",
      "1  0.975720 -0.388239\n",
      "2  0.783316 -0.708954\n",
      "3  0.586847 -1.621348\n",
      "A    0.975720\n",
      "B   -0.388239\n",
      "Name: 1, dtype: float64\n",
      "0.975719680344\n",
      "[None, None]\n",
      "[u'Group', u'Num']\n",
      "                  A         B\n",
      "Group Num                    \n",
      "G1    1    0.975720 -0.388239\n",
      "      2    0.783316 -0.708954\n",
      "      3    0.586847 -1.621348\n",
      "G2    1    0.677535  0.026105\n",
      "      2   -1.678284  0.333973\n",
      "      3   -0.532471  2.117727\n",
      "            A         B\n",
      "Num                    \n",
      "1    0.975720 -0.388239\n",
      "2    0.783316 -0.708954\n",
      "3    0.586847 -1.621348\n",
      "A    0.975720\n",
      "B   -0.388239\n",
      "Name: (G1, 1), dtype: float64\n",
      "              A         B\n",
      "Group                    \n",
      "G1     0.975720 -0.388239\n",
      "G2     0.677535  0.026105\n"
     ]
    }
   ],
   "source": [
    "# Multi level index\n",
    "\n",
    "import numpy as np\n",
    "import pandas as pd\n",
    "from numpy.random import randn\n",
    "\n",
    "outside = ['G1','G1','G1','G2','G2','G2']\n",
    "inside = [1,2,3,1,2,3]\n",
    "\n",
    "hier_index_tuples = list(zip(outside,inside))\n",
    "print hier_index_tuples\n",
    "\n",
    "hier_index = pd.MultiIndex.from_tuples(hier_index_tuples)\n",
    "print hier_index  # We are creating multi-level row labeling scheme\n",
    "\n",
    "df1 = pd.DataFrame(randn(6,2),index=hier_index,columns=['A','B']) \n",
    "\n",
    "print df1  \n",
    "\n",
    "#Notice except for deepest level of hierarchy, each level is composed of sub dataframes\n",
    "# Indexing based access\n",
    "\n",
    "print df1.loc['G1']\n",
    "\n",
    "print df1.loc['G1'].loc[1]\n",
    "\n",
    "print df1.loc['G1'].loc[1]['A']\n",
    "\n",
    "# Each level can be assigned a name\n",
    "print df1.index.names # By default the name of each level is None\n",
    "\n",
    "df1.index.names = [\"Group\",\"Num\"]  # Number of elements in list = Number of levels\n",
    "\n",
    "print df1.index.names\n",
    "\n",
    "print df1\n",
    "\n",
    "# Now we can use Cross section function to nagigate and do advanced selection of rows \n",
    "\n",
    "print df1.xs('G1') # All rows in G1\n",
    "print df1.xs(['G1',1]) # All rows in G1.1\n",
    "\n",
    "# Advanced selection using cross section function\n",
    "\n",
    "print df1.xs(1,level=\"Num\")  # All rows where index = 1 in \"Num\" level of index hierarchy\n"
   ]
  },
  {
   "cell_type": "code",
   "execution_count": 8,
   "metadata": {
    "collapsed": false
   },
   "outputs": [
    {
     "name": "stdout",
     "output_type": "stream",
     "text": [
      "     A    B  C\n",
      "0  1.0  5.0  1\n",
      "1  2.0  NaN  2\n",
      "2  NaN  NaN  3\n",
      "     A    B  C\n",
      "0  1.0  5.0  1\n",
      "   C\n",
      "0  1\n",
      "1  2\n",
      "2  3\n",
      "     A    B  C\n",
      "0  1.0  5.0  1\n",
      "1  2.0  NaN  2\n",
      "2  NaN  NaN  3\n",
      "     A    B  C\n",
      "0  1.0  5.0  1\n",
      "1  2.0  NaN  2\n",
      "0    1.0\n",
      "1    2.0\n",
      "2    1.5\n",
      "Name: A, dtype: float64\n"
     ]
    }
   ],
   "source": [
    "# How to deal with missing values\n",
    "\n",
    "import numpy as np\n",
    "import pandas as pd\n",
    "\n",
    "df = pd.DataFrame({'A':[1,2,np.nan],\n",
    "                  'B':[5,np.nan,np.nan],\n",
    "                  'C':[1,2,3]})\n",
    "\n",
    "print df\n",
    "\n",
    "## Dropping rows/columns with missing values\n",
    "\n",
    "# Drop all rows with even 1 missing value. Note we are not performing inplace operation\n",
    "\n",
    "print df.dropna()  # By default axis = 0\n",
    "\n",
    "# Drop all columns with even 1 missing value. Note we are not performing inplace operation\n",
    "\n",
    "print df.dropna(axis=1)\n",
    "\n",
    "print df\n",
    "\n",
    "# Drop rows with fewer than 'thresh' valid values.Note we are not performing inplace operation\n",
    "print df.dropna(thresh=2)\n",
    "\n",
    "## Flling in values where missing\n",
    "# Several fill functions can be used. Choose ones appropriate for situation and dataset\n",
    "# For e.g. filling with column average maintains the average across dataset\n",
    "\n",
    "print df['A'].fillna(value=df['A'].mean())\n"
   ]
  },
  {
   "cell_type": "code",
   "execution_count": 16,
   "metadata": {
    "collapsed": false
   },
   "outputs": [
    {
     "name": "stdout",
     "output_type": "stream",
     "text": [
      "  Company   Person  Profits  Sales\n",
      "0    GOOG      Sam      100    200\n",
      "1    GOOG  Charlie       60    120\n",
      "2    MSFT      Amy      170    340\n",
      "3    MSFT  Vanessa       62    124\n",
      "4      FB     Carl      121    243\n",
      "5      FB    Sarah      175    350\n",
      "         Person  Profits  Sales\n",
      "Company                        \n",
      "FB            2        2      2\n",
      "GOOG          2        2      2\n",
      "MSFT          2        2      2\n",
      "          Person  Profits  Sales\n",
      "Company                         \n",
      "FB          Carl      121    243\n",
      "GOOG     Charlie       60    120\n",
      "MSFT         Amy       62    124\n",
      "          Person  Profits  Sales\n",
      "Company                         \n",
      "FB         Sarah      175    350\n",
      "GOOG         Sam      100    200\n",
      "MSFT     Vanessa      170    340\n",
      "         Profits  Sales\n",
      "Company                \n",
      "FB         148.0  296.5\n",
      "GOOG        80.0  160.0\n",
      "MSFT       116.0  232.0\n",
      "                  Profits       Sales\n",
      "Company                              \n",
      "FB      count    2.000000    2.000000\n",
      "        mean   148.000000  296.500000\n",
      "        std     38.183766   75.660426\n",
      "        min    121.000000  243.000000\n",
      "        25%    134.500000  269.750000\n",
      "        50%    148.000000  296.500000\n",
      "        75%    161.500000  323.250000\n",
      "        max    175.000000  350.000000\n",
      "GOOG    count    2.000000    2.000000\n",
      "        mean    80.000000  160.000000\n",
      "        std     28.284271   56.568542\n",
      "        min     60.000000  120.000000\n",
      "        25%     70.000000  140.000000\n",
      "        50%     80.000000  160.000000\n",
      "        75%     90.000000  180.000000\n",
      "        max    100.000000  200.000000\n",
      "MSFT    count    2.000000    2.000000\n",
      "        mean   116.000000  232.000000\n",
      "        std     76.367532  152.735065\n",
      "        min     62.000000  124.000000\n",
      "        25%     89.000000  178.000000\n",
      "        50%    116.000000  232.000000\n",
      "        75%    143.000000  286.000000\n",
      "        max    170.000000  340.000000\n",
      "Company    FB                                                         GOOG  \\\n",
      "        count   mean        std    min     25%    50%     75%    max count   \n",
      "Profits   2.0  148.0  38.183766  121.0  134.50  148.0  161.50  175.0   2.0   \n",
      "Sales     2.0  296.5  75.660426  243.0  269.75  296.5  323.25  350.0   2.0   \n",
      "\n",
      "Company         ...                  MSFT                                   \\\n",
      "          mean  ...      75%    max count   mean         std    min    25%   \n",
      "Profits   80.0  ...     90.0  100.0   2.0  116.0   76.367532   62.0   89.0   \n",
      "Sales    160.0  ...    180.0  200.0   2.0  232.0  152.735065  124.0  178.0   \n",
      "\n",
      "Company                       \n",
      "           50%    75%    max  \n",
      "Profits  116.0  143.0  170.0  \n",
      "Sales    232.0  286.0  340.0  \n",
      "\n",
      "[2 rows x 24 columns]\n",
      "         count   mean        std    min    25%    50%    75%    max\n",
      "Profits    2.0   80.0  28.284271   60.0   70.0   80.0   90.0  100.0\n",
      "Sales      2.0  160.0  56.568542  120.0  140.0  160.0  180.0  200.0\n"
     ]
    }
   ],
   "source": [
    "#groupby\n",
    "\n",
    "import numpy as np\n",
    "import pandas as pd\n",
    "\n",
    "data = {'Company':['GOOG','GOOG','MSFT','MSFT','FB','FB'],\n",
    "       'Person':['Sam','Charlie','Amy','Vanessa','Carl','Sarah'],\n",
    "       'Sales':[200,120,340,124,243,350],'Profits':[100,60,170,62,121,175]}\n",
    "\n",
    "df = pd.DataFrame(data)\n",
    "\n",
    "print df\n",
    "\n",
    "df.groupby('Company')  # Creates an object of type DataFrameGroupBy which has various aggregation\n",
    "                       # methods\n",
    "    \n",
    "print df.groupby('Company').count() #Group by company and show count of each company\n",
    "\n",
    "\n",
    "print df.groupby('Company').min()  # Note the min() function applies to all numeric columns and \n",
    "print df.groupby('Company').max()  # Doesnt apply to any String column\n",
    "print df.groupby('Company').mean()\n",
    "print df.groupby('Company').describe() #Provides common statistical aggregations for each grouping key\n",
    "print df.groupby('Company').describe().transpose() # Statistics in horizontal format\n",
    "print df.groupby('Company').describe().transpose()['GOOG']\n",
    "\n",
    "\n"
   ]
  },
  {
   "cell_type": "code",
   "execution_count": 34,
   "metadata": {
    "collapsed": false
   },
   "outputs": [
    {
     "name": "stdout",
     "output_type": "stream",
     "text": [
      "df1 \n",
      "    A   B   C   D\n",
      "0  A0  B0  C0  D0\n",
      "1  A1  B1  C1  D1\n",
      "2  A2  B2  C2  D2\n",
      "3  A3  B3  C3  D3\n",
      "df2 \n",
      "    A   B   C   D\n",
      "4  A4  B4  C4  D4\n",
      "5  A5  B5  C5  D5\n",
      "6  A6  B6  C6  D6\n",
      "7  A7  B7  C7  D7\n",
      "df3 \n",
      "      A    B    C    D\n",
      "8    A8   B8   C8   D8\n",
      "9    A9   B9   C9   D9\n",
      "10  A10  B10  C10  D10\n",
      "11  A11  B11  C11  D11\n",
      "Concatenating\n",
      "      A    B    C    D\n",
      "0    A0   B0   C0   D0\n",
      "1    A1   B1   C1   D1\n",
      "2    A2   B2   C2   D2\n",
      "3    A3   B3   C3   D3\n",
      "4    A4   B4   C4   D4\n",
      "5    A5   B5   C5   D5\n",
      "6    A6   B6   C6   D6\n",
      "7    A7   B7   C7   D7\n",
      "8    A8   B8   C8   D8\n",
      "9    A9   B9   C9   D9\n",
      "10  A10  B10  C10  D10\n",
      "11  A11  B11  C11  D11\n",
      "      A    B    C    D    A    B    C    D    A    B    C    D\n",
      "0    A0   B0   C0   D0  NaN  NaN  NaN  NaN  NaN  NaN  NaN  NaN\n",
      "1    A1   B1   C1   D1  NaN  NaN  NaN  NaN  NaN  NaN  NaN  NaN\n",
      "2    A2   B2   C2   D2  NaN  NaN  NaN  NaN  NaN  NaN  NaN  NaN\n",
      "3    A3   B3   C3   D3  NaN  NaN  NaN  NaN  NaN  NaN  NaN  NaN\n",
      "4   NaN  NaN  NaN  NaN   A4   B4   C4   D4  NaN  NaN  NaN  NaN\n",
      "5   NaN  NaN  NaN  NaN   A5   B5   C5   D5  NaN  NaN  NaN  NaN\n",
      "6   NaN  NaN  NaN  NaN   A6   B6   C6   D6  NaN  NaN  NaN  NaN\n",
      "7   NaN  NaN  NaN  NaN   A7   B7   C7   D7  NaN  NaN  NaN  NaN\n",
      "8   NaN  NaN  NaN  NaN  NaN  NaN  NaN  NaN   A8   B8   C8   D8\n",
      "9   NaN  NaN  NaN  NaN  NaN  NaN  NaN  NaN   A9   B9   C9   D9\n",
      "10  NaN  NaN  NaN  NaN  NaN  NaN  NaN  NaN  A10  B10  C10  D10\n",
      "11  NaN  NaN  NaN  NaN  NaN  NaN  NaN  NaN  A11  B11  C11  D11\n",
      "Merging\n",
      "left \n",
      "    A   B key\n",
      "0  A0  B0  K0\n",
      "1  A1  B1  K1\n",
      "2  A2  B2  K2\n",
      "3  A3  B3  K3\n",
      "right \n",
      "    C   D key\n",
      "0  C0  D0  K0\n",
      "1  C1  D1  K1\n",
      "2  C2  D2  K2\n",
      "3  C3  D3  K3\n",
      "    A   B key   C   D\n",
      "0  A0  B0  K0  C0  D0\n",
      "1  A1  B1  K1  C1  D1\n",
      "2  A2  B2  K2  C2  D2\n",
      "3  A3  B3  K3  C3  D3\n",
      "left \n",
      "    A   B key1 key2\n",
      "0  A0  B0   K0   K0\n",
      "1  A1  B1   K0   K1\n",
      "2  A2  B2   K1   K0\n",
      "3  A3  B3   K2   K1\n",
      "right \n",
      "    C   D key1 key2\n",
      "0  C0  D0   K0   K0\n",
      "1  C1  D1   K1   K0\n",
      "2  C2  D2   K1   K0\n",
      "3  C3  D3   K2   K0\n",
      "    A   B key1 key2   C   D\n",
      "0  A0  B0   K0   K0  C0  D0\n",
      "1  A2  B2   K1   K0  C1  D1\n",
      "2  A2  B2   K1   K0  C2  D2\n",
      "Outer composite key\n",
      "     A    B key1 key2    C    D\n",
      "0   A0   B0   K0   K0   C0   D0\n",
      "1   A1   B1   K0   K1  NaN  NaN\n",
      "2   A2   B2   K1   K0   C1   D1\n",
      "3   A2   B2   K1   K0   C2   D2\n",
      "4   A3   B3   K2   K1  NaN  NaN\n",
      "5  NaN  NaN   K2   K0   C3   D3\n",
      "Left composite key\n",
      "    A   B key1 key2    C    D\n",
      "0  A0  B0   K0   K0   C0   D0\n",
      "1  A1  B1   K0   K1  NaN  NaN\n",
      "2  A2  B2   K1   K0   C1   D1\n",
      "3  A2  B2   K1   K0   C2   D2\n",
      "4  A3  B3   K2   K1  NaN  NaN\n",
      "Right composite key\n",
      "     A    B key1 key2   C   D\n",
      "0   A0   B0   K0   K0  C0  D0\n",
      "1   A2   B2   K1   K0  C1  D1\n",
      "2   A2   B2   K1   K0  C2  D2\n",
      "3  NaN  NaN   K2   K0  C3  D3\n",
      "\n",
      "\n",
      " Joining \n",
      "\n",
      "\n",
      "\n",
      " left \n",
      "\n",
      "     A   B\n",
      "K0  A0  B0\n",
      "K1  A1  B1\n",
      "K2  A2  B2\n",
      "\n",
      " right \n",
      "\n",
      "     C   D\n",
      "K0  C0  D0\n",
      "K2  C2  D2\n",
      "K3  C3  D3\n",
      "\n",
      "\n",
      " Inner Join \n",
      "\n",
      "\n",
      "     A   B    C    D\n",
      "K0  A0  B0   C0   D0\n",
      "K1  A1  B1  NaN  NaN\n",
      "K2  A2  B2   C2   D2\n",
      "\n",
      "\n",
      " Outer Join  \n",
      "\n",
      "\n",
      "      A    B    C    D\n",
      "K0   A0   B0   C0   D0\n",
      "K1   A1   B1  NaN  NaN\n",
      "K2   A2   B2   C2   D2\n",
      "K3  NaN  NaN   C3   D3\n"
     ]
    }
   ],
   "source": [
    "# Concatenation, Merge, Joins\n",
    "# Note that result is a dataframe\n",
    "\n",
    "import pandas as pd\n",
    "\n",
    "df1 = pd.DataFrame({'A': ['A0', 'A1', 'A2', 'A3'],\n",
    "                        'B': ['B0', 'B1', 'B2', 'B3'],\n",
    "                        'C': ['C0', 'C1', 'C2', 'C3'],\n",
    "                        'D': ['D0', 'D1', 'D2', 'D3']},\n",
    "                        index=[0, 1, 2, 3])\n",
    "\n",
    "df2 = pd.DataFrame({'A': ['A4', 'A5', 'A6', 'A7'],\n",
    "                        'B': ['B4', 'B5', 'B6', 'B7'],\n",
    "                        'C': ['C4', 'C5', 'C6', 'C7'],\n",
    "                        'D': ['D4', 'D5', 'D6', 'D7']},\n",
    "                         index=[4, 5, 6, 7]) \n",
    "\n",
    "df3 = pd.DataFrame({'A': ['A8', 'A9', 'A10', 'A11'],\n",
    "                        'B': ['B8', 'B9', 'B10', 'B11'],\n",
    "                        'C': ['C8', 'C9', 'C10', 'C11'],\n",
    "                        'D': ['D8', 'D9', 'D10', 'D11']},\n",
    "                        index=[8, 9, 10, 11])\n",
    "\n",
    "print \"df1 \\n\",df1\n",
    "print \"df2 \\n\",df2\n",
    "print \"df3 \\n\",df3\n",
    "\n",
    "# When Concatenating, concatenate along the Axis where dimensions match\n",
    "# Note concat is a universal function\n",
    "\n",
    "print \"Concatenating\"\n",
    "print pd.concat([df1,df2,df3]) #Concat along default axis 0..rows\n",
    "                                # Note concat accepts a List of dataframes in []\n",
    "print pd.concat([df1,df2,df3],axis=1) #Notice missing values in results as dimensions dont match along axis 1\n",
    "\n",
    "\n",
    "# Merging - Combine based on matching column keys\n",
    "# Note Merge, Concat and Join are pandas universal functions. So pd.merge\n",
    "# Remember diff between merge and join\n",
    "#    - merge is based on matching key columns. join is based on matching index values (rows)\n",
    "#    - merge is universal function (pd.merge). join is method of dataframe object (df.join) \n",
    "#    - Both merge and join results have all columns from both left and right dataframes\n",
    "\n",
    "# Notice 'key' column. merging and joining is done based on keys\n",
    "left = pd.DataFrame({'key': ['K0', 'K1', 'K2', 'K3'],\n",
    "                     'A': ['A0', 'A1', 'A2', 'A3'],\n",
    "                     'B': ['B0', 'B1', 'B2', 'B3']})\n",
    "   \n",
    "right = pd.DataFrame({'key': ['K0', 'K1', 'K2', 'K3'],\n",
    "                          'C': ['C0', 'C1', 'C2', 'C3'],\n",
    "                          'D': ['D0', 'D1', 'D2', 'D3']}) \n",
    "\n",
    "print \"Merging\"\n",
    "print \"left \\n\",left\n",
    "print \"right \\n\",right\n",
    "\n",
    "print pd.merge(left,right,how='inner',on='key') #Join columns from both sides and keep \n",
    "                                                # rows only where keys match\n",
    "    \n",
    "\n",
    "left = pd.DataFrame({'key1': ['K0', 'K0', 'K1', 'K2'],\n",
    "                     'key2': ['K0', 'K1', 'K0', 'K1'],\n",
    "                        'A': ['A0', 'A1', 'A2', 'A3'],\n",
    "                        'B': ['B0', 'B1', 'B2', 'B3']})\n",
    "    \n",
    "right = pd.DataFrame({'key1': ['K0', 'K1', 'K1', 'K2'],\n",
    "                               'key2': ['K0', 'K0', 'K0', 'K0'],\n",
    "                                  'C': ['C0', 'C1', 'C2', 'C3'],\n",
    "                                  'D': ['D0', 'D1', 'D2', 'D3']})\n",
    "\n",
    "print \"left \\n\", left\n",
    "print \"right \\n\", right\n",
    "# Note that by default how='inner'\n",
    "print pd.merge(left,right,on=['key1','key2']) #Note keys in []. Also, this represents composite\n",
    "                                              # key merge\n",
    "\n",
    "\n",
    "# how = 'outer' -- matching rows + non matching from left + non matching from right. All col from left and right\n",
    "print \"Outer composite key\"\n",
    "print pd.merge(left,right,how='outer',on=['key1','key2'])\n",
    "\n",
    "# how = 'left' -- matching rows + non matching from left . All col from left and right\n",
    "print \"Left composite key\"\n",
    "print pd.merge(left,right,how='left',on=['key1','key2'])\n",
    "\n",
    "# how = 'right' -- matching rows + non matching from right. All col from left and right\n",
    "print \"Right composite key\"\n",
    "print pd.merge(left,right,how='right',on=['key1','key2'])\n",
    "    \n",
    "\n",
    "# Joining\n",
    "# Remember diff between merge and join\n",
    "#    - merge is based on matching key columns. join is based on matching index values (rows)\n",
    "#    - merge is universal function (pd.merge). join is method of dataframe object (df.join) \n",
    "#    - Both merge and join results have all columns from both left and right dataframes\n",
    "\n",
    "\n",
    "left = pd.DataFrame({'A': ['A0', 'A1', 'A2'],\n",
    "                     'B': ['B0', 'B1', 'B2']},\n",
    "                      index=['K0', 'K1', 'K2']) \n",
    "\n",
    "right = pd.DataFrame({'C': ['C0', 'C2', 'C3'],\n",
    "                    'D': ['D0', 'D2', 'D3']},\n",
    "                      index=['K0', 'K2', 'K3'])\n",
    "\n",
    "print \"\\n\\n Joining \\n\\n\"\n",
    "print \"\\n left \\n\\n\",left\n",
    "print \"\\n right \\n\\n\",right\n",
    "\n",
    "print \"\\n\\n Inner Join \\n\\n\"\n",
    "print left.join(right)  # Keep rows where indexes match + rows from left where indexes don't match. \n",
    "                        # combine columns from left and right\n",
    "\n",
    "# keep rows where indexes match + rows from left and right where indexes don't match\n",
    "print \"\\n\\n Outer Join  \\n\\n\"\n",
    "print left.join(right,how='outer')  \n",
    "\n",
    "    \n",
    "\n"
   ]
  },
  {
   "cell_type": "code",
   "execution_count": 54,
   "metadata": {
    "collapsed": false
   },
   "outputs": [
    {
     "name": "stdout",
     "output_type": "stream",
     "text": [
      "   col1  col2 col3\n",
      "0     1   444  abc\n",
      "1     2   555  def\n",
      "2     3   666  ghi\n",
      "3     4   444  xyz\n",
      "   col1  col2 col3\n",
      "0     1   444  abc\n",
      "1     2   555  def\n",
      "[444 555 666]\n",
      "3\n",
      "444    2\n",
      "555    1\n",
      "666    1\n",
      "Name: col2, dtype: int64\n",
      "   col1  col2 col3\n",
      "3     4   444  xyz\n",
      "0    2\n",
      "1    4\n",
      "2    6\n",
      "3    8\n",
      "Name: col1, dtype: int64\n",
      "<class 'pandas.core.series.Series'>\n",
      "0    3\n",
      "1    3\n",
      "2    3\n",
      "3    3\n",
      "Name: col3, dtype: int64\n",
      "10\n",
      "   col2 col3\n",
      "0   444  abc\n",
      "1   555  def\n",
      "2   666  ghi\n",
      "3   444  xyz\n",
      "Index([u'col1', u'col2', u'col3'], dtype='object')\n",
      "RangeIndex(start=0, stop=4, step=1)\n",
      "   col1  col2 col3\n",
      "0     1   444  abc\n",
      "3     4   444  xyz\n",
      "1     2   555  def\n",
      "2     3   666  ghi\n",
      "    col1   col2   col3\n",
      "0  False  False  False\n",
      "1  False  False  False\n",
      "2  False  False  False\n",
      "3  False  False  False\n",
      " \n",
      " Pivot table : \n",
      "\n",
      "\n",
      " DataFrame : \n",
      "     A    B  C  D\n",
      "0  foo  one  x  1\n",
      "1  foo  one  y  3\n",
      "2  foo  two  x  2\n",
      "3  bar  two  y  5\n",
      "4  bar  one  x  4\n",
      "5  bar  one  y  1\n",
      " \n",
      " Pivot table : \n",
      "\n"
     ]
    },
    {
     "data": {
      "text/html": [
       "<div>\n",
       "<table border=\"1\" class=\"dataframe\">\n",
       "  <thead>\n",
       "    <tr style=\"text-align: right;\">\n",
       "      <th></th>\n",
       "      <th>C</th>\n",
       "      <th>x</th>\n",
       "      <th>y</th>\n",
       "    </tr>\n",
       "    <tr>\n",
       "      <th>A</th>\n",
       "      <th>B</th>\n",
       "      <th></th>\n",
       "      <th></th>\n",
       "    </tr>\n",
       "  </thead>\n",
       "  <tbody>\n",
       "    <tr>\n",
       "      <th rowspan=\"2\" valign=\"top\">bar</th>\n",
       "      <th>one</th>\n",
       "      <td>4.0</td>\n",
       "      <td>1.0</td>\n",
       "    </tr>\n",
       "    <tr>\n",
       "      <th>two</th>\n",
       "      <td>NaN</td>\n",
       "      <td>5.0</td>\n",
       "    </tr>\n",
       "    <tr>\n",
       "      <th rowspan=\"2\" valign=\"top\">foo</th>\n",
       "      <th>one</th>\n",
       "      <td>1.0</td>\n",
       "      <td>3.0</td>\n",
       "    </tr>\n",
       "    <tr>\n",
       "      <th>two</th>\n",
       "      <td>2.0</td>\n",
       "      <td>NaN</td>\n",
       "    </tr>\n",
       "  </tbody>\n",
       "</table>\n",
       "</div>"
      ],
      "text/plain": [
       "C          x    y\n",
       "A   B            \n",
       "bar one  4.0  1.0\n",
       "    two  NaN  5.0\n",
       "foo one  1.0  3.0\n",
       "    two  2.0  NaN"
      ]
     },
     "execution_count": 54,
     "metadata": {},
     "output_type": "execute_result"
    }
   ],
   "source": [
    "# DataFrame Operations\n",
    "\n",
    "import pandas as pd\n",
    "df = pd.DataFrame({'col1':[1,2,3,4],'col2':[444,555,666,444],'col3':['abc','def','ghi','xyz']})\n",
    "\n",
    "# first few rows\n",
    "print df.head()\n",
    "print df.head(2)\n",
    "\n",
    "print df['col2'].unique()\n",
    "\n",
    "print df['col2'].nunique() #distinct count\n",
    "\n",
    "print df['col2'].value_counts() # Count by each unique value\n",
    "\n",
    "# selecting data\n",
    "\n",
    "print df[(df['col1'] > 2) & (df['col2'] == 444 )]\n",
    "\n",
    "# Applying a function to a column\n",
    "\n",
    "def times2(x):\n",
    "    return x*2\n",
    "\n",
    "print df['col1'].apply(times2)        # Note the returned object is a series corresponding to \n",
    "print type(df['col1'].apply(times2))  # resulting column\n",
    "\n",
    "print df['col3'].apply(len) # apply can take standard or library function as well as custom\n",
    "\n",
    "print df['col1'].sum() #Note the method is called on Series object and returns a scalar\n",
    "\n",
    "\n",
    "# Remove column\n",
    "\n",
    "del df['col1']\n",
    "\n",
    "print df\n",
    "\n",
    "df = pd.DataFrame({'col1':[1,2,3,4],'col2':[444,555,666,444],'col3':['abc','def','ghi','xyz']})\n",
    "\n",
    "print df.columns\n",
    "print df.index\n",
    "\n",
    "print df.sort_values(by='col2') #inplace=False by default\n",
    "\n",
    "print df.isnull() #returns boolean DataFrame with True/False for each element\n",
    "\n",
    "\n",
    "# Pivot table\n",
    "\n",
    "data = {'A':['foo','foo','foo','bar','bar','bar'],\n",
    "     'B':['one','one','two','two','one','one'],\n",
    "       'C':['x','y','x','y','x','y'],\n",
    "       'D':[1,3,2,5,4,1]}\n",
    "\n",
    "df = pd.DataFrame(data)\n",
    "\n",
    "print \" \\n Pivot table : \\n\"\n",
    "print \"\\n DataFrame : \\n\",df\n",
    "\n",
    "\n",
    "## Note : index specifies rows hierarchy. Each value in 'columns' column becomes a new column\n",
    "## Notice NaN values in cells where there are no rows in DataFrame for rows and column intersections\n",
    "print \" \\n Pivot table : \\n\"\n",
    "df.pivot_table(values='D',index=['A', 'B'],columns=['C'])\n",
    "\n",
    "\n"
   ]
  },
  {
   "cell_type": "code",
   "execution_count": 9,
   "metadata": {
    "collapsed": false
   },
   "outputs": [
    {
     "name": "stdout",
     "output_type": "stream",
     "text": [
      "    a   b   c   d\n",
      "0   0   1   2   3\n",
      "1   4   5   6   7\n",
      "2   8   9  10  11\n",
      "3  12  13  14  15\n",
      "    a   b   c   d\n",
      "0   0   1   2   3\n",
      "1   4   5   6   7\n",
      "2   8   9  10  11\n",
      "3  12  13  14  15\n",
      "    a   b   c   d\n",
      "0   0   1   2   3\n",
      "1   4   5   6   7\n",
      "2   8   9  10  11\n",
      "3  12  13  14  15\n",
      "<class 'pandas.core.frame.DataFrame'>\n",
      "RangeIndex: 550 entries, 0 to 549\n",
      "Data columns (total 7 columns):\n",
      "Bank Name                550 non-null object\n",
      "City                     550 non-null object\n",
      "ST                       550 non-null object\n",
      "CERT                     550 non-null int64\n",
      "Acquiring Institution    550 non-null object\n",
      "Closing Date             550 non-null object\n",
      "Updated Date             550 non-null object\n",
      "dtypes: int64(1), object(6)\n",
      "memory usage: 30.1+ KB\n",
      "None\n",
      "                       Bank Name                City  ST   CERT  \\\n",
      "0                  Proficio Bank  Cottonwood Heights  UT  35495   \n",
      "1  Seaway Bank and Trust Company             Chicago  IL  19328   \n",
      "2         Harvest Community Bank          Pennsville  NJ  34951   \n",
      "3                    Allied Bank            Mulberry  AR     91   \n",
      "4   The Woodbury Banking Company            Woodbury  GA  11297   \n",
      "5         First CornerStone Bank     King of Prussia  PA  35312   \n",
      "6             Trust Company Bank             Memphis  TN   9956   \n",
      "7     North Milwaukee State Bank           Milwaukee  WI  20364   \n",
      "8         Hometown National Bank            Longview  WA  35156   \n",
      "9            The Bank of Georgia      Peachtree City  GA  35259   \n",
      "\n",
      "                 Acquiring Institution        Closing Date       Updated Date  \n",
      "0                    Cache Valley Bank       March 3, 2017      March 8, 2017  \n",
      "1                  State Bank of Texas    January 27, 2017  February 17, 2017  \n",
      "2  First-Citizens Bank & Trust Company    January 13, 2017  February 17, 2017  \n",
      "3                         Today's Bank  September 23, 2016  November 17, 2016  \n",
      "4                          United Bank     August 19, 2016  November 17, 2016  \n",
      "5  First-Citizens Bank & Trust Company         May 6, 2016  September 6, 2016  \n",
      "6           The Bank of Fayette County      April 29, 2016  September 6, 2016  \n",
      "7  First-Citizens Bank & Trust Company      March 11, 2016      June 16, 2016  \n",
      "8                       Twin City Bank     October 2, 2015     April 13, 2016  \n",
      "9                        Fidelity Bank     October 2, 2015   October 24, 2016  \n"
     ]
    },
    {
     "ename": "ImportError",
     "evalue": "No module named openpyxl",
     "output_type": "error",
     "traceback": [
      "\u001b[0;31m---------------------------------------------------------------------------\u001b[0m",
      "\u001b[0;31mImportError\u001b[0m                               Traceback (most recent call last)",
      "\u001b[0;32m<ipython-input-9-f881d394d4ed>\u001b[0m in \u001b[0;36m<module>\u001b[0;34m()\u001b[0m\n\u001b[1;32m     39\u001b[0m \u001b[0;34m\u001b[0m\u001b[0m\n\u001b[1;32m     40\u001b[0m \u001b[0;31m# Notice while writing it's sheet_name and while reading it's sheetname\u001b[0m\u001b[0;34m\u001b[0m\u001b[0;34m\u001b[0m\u001b[0m\n\u001b[0;32m---> 41\u001b[0;31m \u001b[0mdf\u001b[0m\u001b[0;34m.\u001b[0m\u001b[0mto_excel\u001b[0m\u001b[0;34m(\u001b[0m\u001b[0;34m'/Users/kavap/Downloads/Excel_Sample-test-pk.xlsx'\u001b[0m\u001b[0;34m,\u001b[0m\u001b[0msheet_name\u001b[0m\u001b[0;34m=\u001b[0m\u001b[0;34m'Sheet1'\u001b[0m\u001b[0;34m)\u001b[0m\u001b[0;34m\u001b[0m\u001b[0m\n\u001b[0m\u001b[1;32m     42\u001b[0m \u001b[0;34m\u001b[0m\u001b[0m\n\u001b[1;32m     43\u001b[0m \u001b[0mdf1\u001b[0m \u001b[0;34m=\u001b[0m \u001b[0mpd\u001b[0m\u001b[0;34m.\u001b[0m\u001b[0mread_excel\u001b[0m\u001b[0;34m(\u001b[0m\u001b[0;34m'/Users/kavap/Downloads/Excel_Sample-test-pk.xlsx'\u001b[0m\u001b[0;34m,\u001b[0m\u001b[0msheetname\u001b[0m\u001b[0;34m=\u001b[0m\u001b[0;34m'Sheet1'\u001b[0m\u001b[0;34m)\u001b[0m\u001b[0;34m\u001b[0m\u001b[0m\n",
      "\u001b[0;32m/Users/kavap/Library/Enthought/Canopy_64bit/User/lib/python2.7/site-packages/pandas/core/frame.pyc\u001b[0m in \u001b[0;36mto_excel\u001b[0;34m(self, excel_writer, sheet_name, na_rep, float_format, columns, header, index, index_label, startrow, startcol, engine, merge_cells, encoding, inf_rep, verbose)\u001b[0m\n\u001b[1;32m   1451\u001b[0m \u001b[0;34m\u001b[0m\u001b[0m\n\u001b[1;32m   1452\u001b[0m         \u001b[0;32mif\u001b[0m \u001b[0misinstance\u001b[0m\u001b[0;34m(\u001b[0m\u001b[0mexcel_writer\u001b[0m\u001b[0;34m,\u001b[0m \u001b[0mcompat\u001b[0m\u001b[0;34m.\u001b[0m\u001b[0mstring_types\u001b[0m\u001b[0;34m)\u001b[0m\u001b[0;34m:\u001b[0m\u001b[0;34m\u001b[0m\u001b[0m\n\u001b[0;32m-> 1453\u001b[0;31m             \u001b[0mexcel_writer\u001b[0m \u001b[0;34m=\u001b[0m \u001b[0mExcelWriter\u001b[0m\u001b[0;34m(\u001b[0m\u001b[0mexcel_writer\u001b[0m\u001b[0;34m,\u001b[0m \u001b[0mengine\u001b[0m\u001b[0;34m=\u001b[0m\u001b[0mengine\u001b[0m\u001b[0;34m)\u001b[0m\u001b[0;34m\u001b[0m\u001b[0m\n\u001b[0m\u001b[1;32m   1454\u001b[0m             \u001b[0mneed_save\u001b[0m \u001b[0;34m=\u001b[0m \u001b[0mTrue\u001b[0m\u001b[0;34m\u001b[0m\u001b[0m\n\u001b[1;32m   1455\u001b[0m \u001b[0;34m\u001b[0m\u001b[0m\n",
      "\u001b[0;32m/Users/kavap/Library/Enthought/Canopy_64bit/User/lib/python2.7/site-packages/pandas/io/excel.pyc\u001b[0m in \u001b[0;36m__init__\u001b[0;34m(self, path, engine, **engine_kwargs)\u001b[0m\n\u001b[1;32m    769\u001b[0m \u001b[0;34m\u001b[0m\u001b[0m\n\u001b[1;32m    770\u001b[0m     \u001b[0;32mdef\u001b[0m \u001b[0m__init__\u001b[0m\u001b[0;34m(\u001b[0m\u001b[0mself\u001b[0m\u001b[0;34m,\u001b[0m \u001b[0mpath\u001b[0m\u001b[0;34m,\u001b[0m \u001b[0mengine\u001b[0m\u001b[0;34m=\u001b[0m\u001b[0mNone\u001b[0m\u001b[0;34m,\u001b[0m \u001b[0;34m**\u001b[0m\u001b[0mengine_kwargs\u001b[0m\u001b[0;34m)\u001b[0m\u001b[0;34m:\u001b[0m\u001b[0;34m\u001b[0m\u001b[0m\n\u001b[0;32m--> 771\u001b[0;31m         \u001b[0;32mif\u001b[0m \u001b[0;32mnot\u001b[0m \u001b[0mopenpyxl_compat\u001b[0m\u001b[0;34m.\u001b[0m\u001b[0mis_compat\u001b[0m\u001b[0;34m(\u001b[0m\u001b[0mmajor_ver\u001b[0m\u001b[0;34m=\u001b[0m\u001b[0mself\u001b[0m\u001b[0;34m.\u001b[0m\u001b[0mopenpyxl_majorver\u001b[0m\u001b[0;34m)\u001b[0m\u001b[0;34m:\u001b[0m\u001b[0;34m\u001b[0m\u001b[0m\n\u001b[0m\u001b[1;32m    772\u001b[0m             raise ValueError('Installed openpyxl is not supported at this '\n\u001b[1;32m    773\u001b[0m                              \u001b[0;34m'time. Use {0}.x.y.'\u001b[0m\u001b[0;34m\u001b[0m\u001b[0m\n",
      "\u001b[0;32m/Users/kavap/Library/Enthought/Canopy_64bit/User/lib/python2.7/site-packages/pandas/compat/openpyxl_compat.pyc\u001b[0m in \u001b[0;36mis_compat\u001b[0;34m(major_ver)\u001b[0m\n\u001b[1;32m     25\u001b[0m         \u001b[0;34m`\u001b[0m\u001b[0;34m`\u001b[0m\u001b[0mFalse\u001b[0m\u001b[0;34m`\u001b[0m\u001b[0;34m`\u001b[0m \u001b[0motherwise\u001b[0m\u001b[0;34m.\u001b[0m\u001b[0;34m\u001b[0m\u001b[0m\n\u001b[1;32m     26\u001b[0m     \"\"\"\n\u001b[0;32m---> 27\u001b[0;31m     \u001b[0;32mimport\u001b[0m \u001b[0mopenpyxl\u001b[0m\u001b[0;34m\u001b[0m\u001b[0m\n\u001b[0m\u001b[1;32m     28\u001b[0m     \u001b[0mver\u001b[0m \u001b[0;34m=\u001b[0m \u001b[0mLooseVersion\u001b[0m\u001b[0;34m(\u001b[0m\u001b[0mopenpyxl\u001b[0m\u001b[0;34m.\u001b[0m\u001b[0m__version__\u001b[0m\u001b[0;34m)\u001b[0m\u001b[0;34m\u001b[0m\u001b[0m\n\u001b[1;32m     29\u001b[0m     \u001b[0;32mif\u001b[0m \u001b[0mmajor_ver\u001b[0m \u001b[0;34m==\u001b[0m \u001b[0;36m1\u001b[0m\u001b[0;34m:\u001b[0m\u001b[0;34m\u001b[0m\u001b[0m\n",
      "\u001b[0;31mImportError\u001b[0m: No module named openpyxl"
     ]
    }
   ],
   "source": [
    "# pandas input and output\n",
    "\n",
    "import pandas as pd\n",
    "\n",
    "# csv\n",
    "df = pd.read_csv(\"/Users/kavap/Documents/learn/python/jupyter notebooks/Python-Data-Science-and-Machine-Learning-Bootcamp/Python-for-Data-Analysis/Pandas/example\")\n",
    "print df\n",
    "\n",
    "# write to csv\n",
    "df.to_csv(\"/Users/kavap/Downloads/example-test-pk\",index=False) #index --header\n",
    "\n",
    "df1 = pd.read_csv(\"/Users/kavap/Downloads/example-test-pk\")\n",
    "\n",
    "print df1\n",
    "\n",
    "\n",
    "# excel\n",
    "# keep in mind, this only imports data. Not formulas or images, \n",
    "# having images or macros may cause this read_excel method to crash.\n",
    "# Requires \"openpyxl\" dependency installed \n",
    "\n",
    "# Each sheet is a DataFrame. Use one statement for each sheet\n",
    "df = pd.read_excel('/Users/kavap/Downloads/Excel_Sample.xlsx',sheetname='Sheet1') \n",
    "\n",
    "print df\n",
    "\n",
    "\n",
    "# html\n",
    "# Needs dependencies : lxml, html5lib, BeautifulSoup4\n",
    "# From target html, extracts each table and creates a list of DataFrames\n",
    "# Note that Beautifulsoup4 can provide very advanced webscrapping capabilities\n",
    "\n",
    "df_list = pd.read_html(\"http://www.fdic.gov/bank/individual/failed/banklist.html\")\n",
    "\n",
    "print df_list[0].info() # prints info about DataFrame.columns..indexes..count..etc\n",
    "print df_list[0].head(10)\n",
    "\n",
    "\n",
    "\n",
    "# Notice while writing it's sheet_name and while reading it's sheetname\n",
    "df.to_excel('/Users/kavap/Downloads/Excel_Sample-test-pk.xlsx',sheet_name='Sheet1')\n",
    "\n",
    "df1 = pd.read_excel('/Users/kavap/Downloads/Excel_Sample-test-pk.xlsx',sheetname='Sheet1')\n"
   ]
  },
  {
   "cell_type": "markdown",
   "metadata": {},
   "source": [
    "#### SQL input and output from pandas \n",
    "\n",
    "* The pandas.io.sql module provides a collection of query wrappers to both facilitate data retrieval and to reduce dependency on DB-specific API. \n",
    "* Database abstraction is provided by SQLAlchemy if installed. \n",
    "* In addition you will need a driver library for your database. Examples of such drivers are psycopg2 for PostgreSQL or pymysql for MySQL. \n",
    "* For SQLite this is included in Python’s standard library by default. You can find an overview of supported drivers for each SQL dialect in the SQLAlchemy docs.\n",
    "* If SQLAlchemy is not installed, a fallback is only provided for sqlite (and for mysql for backwards compatibility, but this is deprecated and will be removed in a future version). This mode requires a Python database adapter which respect the Python DB-API.\n",
    "\n",
    "See also some cookbook examples for some advanced strategies.\n",
    "\n",
    "The key functions are:\n",
    "\n",
    "* read_sql_table(table_name, con[, schema, ...])\t\n",
    "    * Read SQL database table into a DataFrame.\n",
    "* read_sql_query(sql, con[, index_col, ...])\t\n",
    "    * Read SQL query into a DataFrame.\n",
    "* read_sql(sql, con[, index_col, ...])\t\n",
    "    * Read SQL query or database table into a DataFrame.\n",
    "* DataFrame.to_sql(name, con[, flavor, ...])\t\n",
    "    * Write records stored in a DataFrame to a SQL database."
   ]
  },
  {
   "cell_type": "code",
   "execution_count": null,
   "metadata": {
    "collapsed": true
   },
   "outputs": [],
   "source": [
    "# pandas input and output - SQL\n",
    "# todo\n"
   ]
  },
  {
   "cell_type": "markdown",
   "metadata": {},
   "source": [
    "## Data Visualization \n",
    "\n",
    "### Matplotlib\n",
    "* Matplotlib allows two methods to plot 1) Universal functions 2) Figure objects\n",
    "    * Preffered way is Object oriented method\n",
    "\n"
   ]
  },
  {
   "cell_type": "code",
   "execution_count": 3,
   "metadata": {
    "collapsed": false
   },
   "outputs": [
    {
     "data": {
      "image/png": "[encoded data removed]",
      "text/plain": [
       "<matplotlib.figure.Figure at 0x11589a5d0>"
      ]
     },
     "metadata": {},
     "output_type": "display_data"
    }
   ],
   "source": [
    "from matplotlib import pyplot as plt\n",
    "import numpy as np\n",
    "\n",
    "x = np.linspace(0,5,11)\n",
    "y = x**2\n",
    "\n",
    "\n",
    "# Following statement shows plots inline to Jupyter notebook. It also doesnt require plt.show()\n",
    "%matplotlib inline\n",
    "\n",
    "# Functional method\n",
    "\n",
    "plt.plot(x,y,'r')\n",
    "plt.xlabel(\"X\")\n",
    "plt.ylabel(\"Y\")\n",
    "plt.title(\"Title\")\n",
    "plt.show()  # Always do plt.show() to display plots ..shows in seperate window\n",
    "\n",
    "\n",
    "\n"
   ]
  },
  {
   "cell_type": "code",
   "execution_count": 5,
   "metadata": {
    "collapsed": false
   },
   "outputs": [
    {
     "data": {
      "text/plain": [
       "[<matplotlib.lines.Line2D at 0x1158ef510>]"
      ]
     },
     "execution_count": 5,
     "metadata": {},
     "output_type": "execute_result"
    },
    {
     "data": {
      "image/png": "[encoded data removed]",
      "text/plain": [
       "<matplotlib.figure.Figure at 0x1158a9c10>"
      ]
     },
     "metadata": {},
     "output_type": "display_data"
    }
   ],
   "source": [
    "# plt.subplot(nrows, ncols, plot_number)\n",
    "\n",
    "from matplotlib import pyplot as plt\n",
    "import numpy as np\n",
    "\n",
    "x = np.linspace(0,5,11)\n",
    "y = x**2\n",
    "\n",
    "# Multiple plots in canvas\n",
    "plt.subplot(1,2,1) #Set plotter to first plot\n",
    "plt.plot(x,y,'r')\n",
    "plt.subplot(1,2,2)\n",
    "plt.plot(y,x,'g*--')\n",
    "\n"
   ]
  },
  {
   "cell_type": "code",
   "execution_count": 23,
   "metadata": {
    "collapsed": false
   },
   "outputs": [
    {
     "data": {
      "text/plain": [
       "[<matplotlib.lines.Line2D at 0x12480af50>]"
      ]
     },
     "execution_count": 23,
     "metadata": {},
     "output_type": "execute_result"
    },
    {
     "data": {
      "image/png": "[encoded data removed]",
      "text/plain": [
       "<matplotlib.figure.Figure at 0x1227517d0>"
      ]
     },
     "metadata": {},
     "output_type": "display_data"
    }
   ],
   "source": [
    "# Object Oriented method to plot\n",
    "# Figure object is canvas. Axes are plots\n",
    "\n",
    "from matplotlib import pyplot as plt\n",
    "import numpy as np\n",
    "\n",
    "x = np.linspace(0,6,15)\n",
    "y = x**2\n",
    "\n",
    "fig = plt.figure()  # Create Figure. Figure can contain multiple plots (Axes)\n",
    "\n",
    "# An Axes object is container of a plot. Note its axes object not an axis\n",
    "#  - Input to add_axes is left,bottom,width,height on figure canvas\n",
    "#      - each value between 0%(0) and 100%(1)\n",
    "# Note [] when passing x and y values\n",
    "axes_1 = fig.add_axes([0,0,1,1])   # Means plot on entire Figure area\n",
    "\n",
    "# Create an \"inset\" plot\n",
    "axes_2 = fig.add_axes([0.1,0.1,0.8,0.8]) #Means cover first 80% horizontally and vertically\n",
    "\n",
    "# Note the sequence above - plt -> fig -> axes -> plot\n",
    "\n",
    "axes_1.plot(x,y,'r')\n",
    "axes_1.set_xlabel(\"X1\")\n",
    "axes_1.set_ylabel(\"Y1\")\n",
    "axes_1.set_title(\"Title1\")\n",
    "\n",
    "axes_2.plot(y,x,'g*-')"
   ]
  },
  {
   "cell_type": "code",
   "execution_count": 22,
   "metadata": {
    "collapsed": false
   },
   "outputs": [
    {
     "data": {
      "text/plain": [
       "[<matplotlib.lines.Line2D at 0x124350850>]"
      ]
     },
     "execution_count": 22,
     "metadata": {},
     "output_type": "execute_result"
    },
    {
     "data": {
      "image/png": "[encoded data removed]",
      "text/plain": [
       "<matplotlib.figure.Figure at 0x122293e10>"
      ]
     },
     "metadata": {},
     "output_type": "display_data"
    }
   ],
   "source": [
    "# Plot above can be placed in correct area so as not to overlap\n",
    "\n",
    "from matplotlib import pyplot as plt\n",
    "import numpy as np\n",
    "\n",
    "x = np.linspace(0,6,15)\n",
    "y = x**2\n",
    "\n",
    "fig = plt.figure()   \n",
    "\n",
    "axes_1 = fig.add_axes([0,0,1,1])    \n",
    "axes_1.plot(x,y,'r')\n",
    "axes_1.set_xlabel(\"X1\")\n",
    "axes_1.set_ylabel(\"Y1\")\n",
    "axes_1.set_title(\"Title1\")\n",
    "\n",
    "axes_2 = fig.add_axes([0.1,0.6,0.3,0.3])\n",
    "axes_2.plot(y,x,'g*-')"
   ]
  },
  {
   "cell_type": "code",
   "execution_count": null,
   "metadata": {
    "collapsed": true
   },
   "outputs": [],
   "source": []
  }
 ],
 "metadata": {
  "anaconda-cloud": {},
  "kernelspec": {
   "display_name": "Python 2",
   "language": "python",
   "name": "python2"
  },
  "language_info": {
   "codemirror_mode": {
    "name": "ipython",
    "version": 2
   },
   "file_extension": ".py",
   "mimetype": "text/x-python",
   "name": "python",
   "nbconvert_exporter": "python",
   "pygments_lexer": "ipython2",
   "version": "2.7.11"
  }
 },
 "nbformat": 4,
 "nbformat_minor": 1
}
